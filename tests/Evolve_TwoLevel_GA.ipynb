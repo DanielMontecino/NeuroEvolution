{
 "cells": [
  {
   "cell_type": "code",
   "execution_count": 1,
   "metadata": {},
   "outputs": [
    {
     "name": "stderr",
     "output_type": "stream",
     "text": [
      "Using TensorFlow backend.\n"
     ]
    }
   ],
   "source": [
    "import os\n",
    "from time import time\n",
    "import numpy as np\n",
    "import sys\n",
    "sys.path.append('../')\n",
    "\n",
    "from utils.codification_cnn import CNNLayer, NNLayer, ChromosomeCNN, FitnessCNN, FitnessCNNParallel\n",
    "from utils.datamanager import DataManager\n",
    "from utils.codification_skipc import ChromosomeSkip, Connections\n",
    "from GA.parentSelector.parentSelector import RandomParentSelector, TournamentSelection, LinealOrder, WheelSelection\n",
    "from GA.geneticAlgorithm import GenerationalGA, TwoLevelGA\n"
   ]
  },
  {
   "cell_type": "code",
   "execution_count": 9,
   "metadata": {},
   "outputs": [],
   "source": [
    "# Chromosome parameters\n",
    "mutation_rate = 0.05\n",
    "mutation_rate_1 = mutation_rate * 2\n",
    "ChromosomeSkip.grow_prob = mutation_rate_1\n",
    "ChromosomeSkip.decrease_prob = mutation_rate_1\n",
    "\n",
    "CNNLayer.k_prob = mutation_rate\n",
    "CNNLayer.filter_prob = mutation_rate_1\n",
    "CNNLayer.act_prob = mutation_rate\n",
    "CNNLayer.drop_prob = mutation_rate_1\n",
    "CNNLayer.maxpool_prob = mutation_rate\n",
    "\n",
    "NNLayer.units_prob = mutation_rate_1\n",
    "NNLayer.act_prob = mutation_rate\n",
    "NNLayer.drop_prob = mutation_rate_1\n",
    "\n",
    "CNNLayer.filters_lim = 128\n",
    "\n",
    "'''\n",
    "data_folder = '../../datasets'\n",
    "command = 'python3 ./train_gen.py'\n",
    "verbose = 0\n",
    "experiments_folder = '../../exps'\n",
    "gpus = 2\n",
    "skip = True\n",
    "\n",
    "'''\n",
    "data_folder = '/home/daniel/datasets/MNIST_variations'\n",
    "command = 'python ./../train_gen.py'\n",
    "verbose = 1\n",
    "experiments_folder = '../exps_testing'\n",
    "gpus = 1\n",
    "skip = 1"
   ]
  },
  {
   "cell_type": "code",
   "execution_count": 13,
   "metadata": {},
   "outputs": [],
   "source": [
    "experiments_folder = experiments_folder\n",
    "os.makedirs(experiments_folder, exist_ok=True)\n",
    "\n",
    "fitness_cnn = FitnessCNN()\n",
    "\n",
    "l = CNNLayer(32, (3,3), 'relu', 0, False)\n",
    "l2 = CNNLayer(64, (3,3), 'relu', 0.25, True)\n",
    "l3 = NNLayer(128, 'relu', 0.5)\n",
    "c = ChromosomeCNN([l, l2], [l3])\n",
    "if skip:\n",
    "    c = ChromosomeSkip(c.cnn_layers, c.nn_layers, Connections.random_connections(len(c.cnn_layers)))\n",
    "    "
   ]
  },
  {
   "cell_type": "code",
   "execution_count": 18,
   "metadata": {},
   "outputs": [],
   "source": [
    "d = c.random_individual()"
   ]
  },
  {
   "cell_type": "code",
   "execution_count": 19,
   "metadata": {},
   "outputs": [
    {
     "name": "stdout",
     "output_type": "stream",
     "text": [
      "CNN|F:124|K:(1,7)|A:leakyreLu|D:0.429|M:1\n",
      "CNN|F:73|K:(1,1)|A:relu|D:0.272|M:1\n",
      "CNN|F:73|K:(3,1)|A:prelu|D:0.956|M:0\n",
      "CNN|F:95|K:(1,1)|A:tanh|D:0.131|M:1\n",
      "NN|U:945|A:leakyreLu|D:0.810\n",
      "1\n",
      "11\n",
      "001\n",
      "\n"
     ]
    }
   ],
   "source": [
    "print(d)"
   ]
  },
  {
   "cell_type": "code",
   "execution_count": 20,
   "metadata": {},
   "outputs": [],
   "source": [
    "# dataset params:\n",
    "data_folder = data_folder\n",
    "classes = []\n",
    "\n",
    "# genetic algorithm params:\n",
    "generations=3\n",
    "population_first_level=4\n",
    "population_second_level=2\n",
    "training_hours=1\n",
    "save_progress=False\n",
    "maximize_fitness=False\n",
    "statistical_validation=True\n",
    "frequency_second_level=2\n",
    "start_level2 = 2\n",
    "\n",
    "\n",
    "# Fitness params\n",
    "epochs = 4\n",
    "batch_size = 256\n",
    "verbose = verbose\n",
    "redu_plat = False\n",
    "early_stop = 15\n",
    "warm_up_epochs= 0\n",
    "base_lr = 0.02\n",
    "smooth = 0.1\n",
    "cosine_dec = False\n",
    "lr_find = False\n",
    "precise_eps = 8\n",
    "\n",
    "datasets = ['MB', 'MBI', 'MRB', 'MRD', 'MRDBI']\n",
    "datasets = ['mnist']"
   ]
  },
  {
   "cell_type": "code",
   "execution_count": 21,
   "metadata": {},
   "outputs": [
    {
     "name": "stdout",
     "output_type": "stream",
     "text": [
      "\n",
      "EVOLVING IN DATASET mnist ...\n",
      "\n",
      "(6400, 28, 28, 1) train samples\n",
      "(1600, 28, 28, 1) validation samples\n",
      "(10000, 28, 28, 1) test samples\n",
      "Population size level one: 4\n",
      "Population size level two: 2\n",
      "Number of parents level one: 1\n",
      "Number of parents level two: 1\n",
      "Offspring size level one: 3\n",
      "Offspring size level two: 1\n",
      "Number of individuals eliminated by age: 0\n",
      "Genetic algorithm params\n",
      "Number of generations: 3\n",
      "Population size: 4\n",
      "num parents: 1\n",
      "offspring size: 3\n",
      "\n",
      "Creating Initial population\n",
      "\n",
      "Start evolution process...\n",
      "\n",
      "\n",
      "0) Ranking level 1... Models to train: 4 ...OK (in 1.33 minutes)\n",
      "Statistical validation in 1.74 minutes\n",
      "\n",
      "1) Ranking level 1... Models to train: 3 ...OK (in 0.79 minutes)\n",
      "Statistical validation in 0.00 minutes\n",
      "\n",
      "2) Ranking level 1... Models to train: 3 ...OK (in 0.98 minutes)\n",
      "Statistical validation in 0.00 minutes\n",
      "\n",
      "2) Ranking level 2... Models to train: 2 ...OK (in 1.51 minutes)\n",
      "\n",
      "3) Ranking level 1... Models to train: 3 ...OK (in 1.59 minutes)\n",
      "Statistical validation in 0.00 minutes\n",
      "\n",
      "3) Ranking level 2... Models to train: 0 ...OK (in 0.00 minutes)\n",
      "\n",
      "Generation (3) in 7.94 minutes.\n",
      "Best first level fitness: 0.16625\n",
      "Best second level fitness: 0.06187\n",
      "\n",
      "Making statistical validation\n",
      "Best Gen -> \n",
      "CNN|F:53|K:(5,3)|A:leakyreLu|D:0.802|M:1\n",
      "CNN|F:14|K:(7,1)|A:leakyreLu|D:0.545|M:0\n",
      "CNN|F:89|K:(5,3)|A:prelu|D:0.600|M:0\n",
      "CNN|F:68|K:(5,5)|A:tanh|D:0.550|M:0\n",
      "1\n",
      "01\n",
      "001\n",
      "\n",
      "With Fitness (val): 0.0619 and (test): 0.0704\n"
     ]
    },
    {
     "data": {
      "image/png": "[encoded data removed]",
      "text/plain": [
       "<Figure size 720x360 with 1 Axes>"
      ]
     },
     "metadata": {
      "needs_background": "light"
     },
     "output_type": "display_data"
    },
    {
     "data": {
      "image/png": "[encoded data removed]",
      "text/plain": [
       "<Figure size 720x360 with 1 Axes>"
      ]
     },
     "metadata": {
      "needs_background": "light"
     },
     "output_type": "display_data"
    },
    {
     "name": "stdout",
     "output_type": "stream",
     "text": [
      "Total elapsed time: 570.436\n"
     ]
    }
   ],
   "source": [
    "for dataset in datasets:\n",
    "    print(\"\\nEVOLVING IN DATASET %s ...\\n\" % dataset)\n",
    "    exp_folder = os.path.join(experiments_folder, dataset)\n",
    "    folder = os.path.join(exp_folder, 'genetic')\n",
    "    fitness_folder = exp_folder\n",
    "    fitness_file = os.path.join(fitness_folder, 'fitness_example')   \n",
    "    os.makedirs(folder, exist_ok=True)\n",
    "\n",
    "    # Load data\n",
    "    dm = DataManager(dataset, clases=classes, folder_var_mnist=data_folder, max_examples=8000)\n",
    "    data = dm.load_data()\n",
    "    fitness_cnn.set_params(data=data, verbose=verbose, batch_size=batch_size, reduce_plateau=redu_plat,\n",
    "                   epochs=epochs, cosine_decay=cosine_dec, early_stop=early_stop, \n",
    "                   warm_epochs=warm_up_epochs, base_lr=base_lr, smooth_label=smooth, find_lr=lr_find,\n",
    "                   precise_epochs=precise_eps)\n",
    "\n",
    "    fitness_cnn.save(fitness_file)\n",
    "\n",
    "    del dm, data\n",
    "    \n",
    "    fitness = FitnessCNNParallel()\n",
    "    fitness.set_params(chrom_files_folder=fitness_folder, fitness_file=fitness_file, max_gpus=gpus,\n",
    "                   fp=32, main_line=command)\n",
    "    generational = TwoLevelGA(chromosome=c,\n",
    "                              fitness=fitness,\n",
    "                              generations=generations,\n",
    "                              population_first_level=population_first_level,\n",
    "                              population_second_level=population_second_level,\n",
    "                              training_hours=training_hours,\n",
    "                              save_progress=save_progress,\n",
    "                              maximize_fitness=maximize_fitness,\n",
    "                              statistical_validation=statistical_validation,\n",
    "                              folder=folder,\n",
    "                              start_level2=start_level2,\n",
    "                              frequency_second_level=frequency_second_level)\n",
    "        \n",
    "    ti_all = time()\n",
    "    winner, best_fit, ranking = generational.evolve()\n",
    "    print(\"Total elapsed time: %0.3f\" % (time() - ti_all))"
   ]
  },
  {
   "cell_type": "code",
   "execution_count": null,
   "metadata": {},
   "outputs": [],
   "source": [
    "ranking1 = generational.evaluate_population(level=1)\n",
    "ranking2 = generational.evaluate_population(level=2)"
   ]
  },
  {
   "cell_type": "code",
   "execution_count": null,
   "metadata": {},
   "outputs": [],
   "source": [
    "ranking1"
   ]
  },
  {
   "cell_type": "code",
   "execution_count": null,
   "metadata": {},
   "outputs": [],
   "source": [
    "ranking2"
   ]
  },
  {
   "cell_type": "code",
   "execution_count": null,
   "metadata": {},
   "outputs": [],
   "source": [
    "w = generational.best_individual['winner']"
   ]
  },
  {
   "cell_type": "code",
   "execution_count": null,
   "metadata": {},
   "outputs": [],
   "source": [
    "print(generational.history_fitness[w.__repr__()])\n",
    "print(generational.history_precision_fitness[w.__repr__()])"
   ]
  },
  {
   "cell_type": "code",
   "execution_count": null,
   "metadata": {},
   "outputs": [],
   "source": [
    "generational.best_individual"
   ]
  },
  {
   "cell_type": "code",
   "execution_count": null,
   "metadata": {},
   "outputs": [],
   "source": [
    "for k,f in generational.history_precision_fitness.items():\n",
    "    print(k,f, end=\"\\n\"*2)"
   ]
  },
  {
   "cell_type": "code",
   "execution_count": null,
   "metadata": {},
   "outputs": [],
   "source": []
  }
 ],
 "metadata": {
  "kernelspec": {
   "display_name": "Python 3",
   "language": "python",
   "name": "python3"
  },
  "language_info": {
   "codemirror_mode": {
    "name": "ipython",
    "version": 3
   },
   "file_extension": ".py",
   "mimetype": "text/x-python",
   "name": "python",
   "nbconvert_exporter": "python",
   "pygments_lexer": "ipython3",
   "version": "3.7.3"
  }
 },
 "nbformat": 4,
 "nbformat_minor": 2
}
