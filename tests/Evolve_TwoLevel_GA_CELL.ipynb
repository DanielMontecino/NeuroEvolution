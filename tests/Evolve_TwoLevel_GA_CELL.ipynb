{
 "cells": [
  {
   "cell_type": "code",
   "execution_count": 1,
   "metadata": {},
   "outputs": [
    {
     "name": "stderr",
     "output_type": "stream",
     "text": [
      "Using TensorFlow backend.\n"
     ]
    }
   ],
   "source": [
    "import os\n",
    "from time import time\n",
    "import numpy as np\n",
    "import sys\n",
    "sys.path.append('../')\n",
    "\n",
    "from utils.codification_cnn import FitnessCNN, FitnessCNNParallel, NNLayer\n",
    "from utils.codification_cell import CNNLayer_WOMP, ChromosomeFilterGrow\n",
    "from utils.datamanager import DataManager\n",
    "from utils.codification_skipc import Connections\n",
    "from GA.parentSelector.parentSelector import RandomParentSelector, TournamentSelection, LinealOrder, WheelSelection\n",
    "from GA.geneticAlgorithm import GenerationalGA, TwoLevelGA"
   ]
  },
  {
   "cell_type": "code",
   "execution_count": 1,
   "metadata": {},
   "outputs": [
    {
     "ename": "NameError",
     "evalue": "name 'ChromosomeFilterGrow' is not defined",
     "output_type": "error",
     "traceback": [
      "\u001b[0;31m---------------------------------------------------------------------------\u001b[0m",
      "\u001b[0;31mNameError\u001b[0m                                 Traceback (most recent call last)",
      "\u001b[0;32m<ipython-input-1-7b09fe180aab>\u001b[0m in \u001b[0;36m<module>\u001b[0;34m\u001b[0m\n\u001b[1;32m      2\u001b[0m \u001b[0mmutation_rate\u001b[0m \u001b[0;34m=\u001b[0m \u001b[0;36m0.05\u001b[0m\u001b[0;34m\u001b[0m\u001b[0;34m\u001b[0m\u001b[0m\n\u001b[1;32m      3\u001b[0m \u001b[0mmutation_rate_1\u001b[0m \u001b[0;34m=\u001b[0m \u001b[0mmutation_rate\u001b[0m \u001b[0;34m*\u001b[0m \u001b[0;36m2\u001b[0m\u001b[0;34m\u001b[0m\u001b[0;34m\u001b[0m\u001b[0m\n\u001b[0;32m----> 4\u001b[0;31m \u001b[0mChromosomeFilterGrow\u001b[0m\u001b[0;34m.\u001b[0m\u001b[0mgrow_prob\u001b[0m \u001b[0;34m=\u001b[0m \u001b[0mmutation_rate_1\u001b[0m\u001b[0;34m\u001b[0m\u001b[0;34m\u001b[0m\u001b[0m\n\u001b[0m\u001b[1;32m      5\u001b[0m \u001b[0mChromosomeFilterGrow\u001b[0m\u001b[0;34m.\u001b[0m\u001b[0mdecrease_prob\u001b[0m \u001b[0;34m=\u001b[0m \u001b[0mmutation_rate_1\u001b[0m\u001b[0;34m\u001b[0m\u001b[0;34m\u001b[0m\u001b[0m\n\u001b[1;32m      6\u001b[0m \u001b[0;34m\u001b[0m\u001b[0m\n",
      "\u001b[0;31mNameError\u001b[0m: name 'ChromosomeFilterGrow' is not defined"
     ]
    }
   ],
   "source": [
    "# Chromosome parameters\n",
    "mutation_rate = 0.05\n",
    "mutation_rate_1 = mutation_rate * 2\n",
    "ChromosomeFilterGrow.grow_prob = mutation_rate_1\n",
    "ChromosomeFilterGrow.decrease_prob = mutation_rate_1\n",
    "\n",
    "CNNLayer_WOMP.k_prob = mutation_rate\n",
    "CNNLayer_WOMP.filter_prob = mutation_rate_1\n",
    "CNNLayer_WOMP.act_prob = mutation_rate\n",
    "\n",
    "NNLayer.units_prob = mutation_rate_1\n",
    "NNLayer.act_prob = mutation_rate\n",
    "NNLayer.drop_prob = mutation_rate_1\n",
    "\n",
    "ChromosomeFilterGrow.num_blocks = 3\n",
    "ChromosomeFilterGrow.initial_filters = 32\n",
    "\n",
    "\n",
    "'''\n",
    "data_folder = '../../datasets'\n",
    "command = 'python3 ./train_gen.py'\n",
    "verbose = 0\n",
    "experiments_folder = '../../exps'\n",
    "gpus = 2\n",
    "skip = True\n",
    "\n",
    "'''\n",
    "data_folder = '/home/daniel/datasets/MNIST_variations'\n",
    "command = 'python ./../train_gen.py'\n",
    "verbose = 1\n",
    "experiments_folder = '../exps'\n",
    "gpus = 1\n"
   ]
  },
  {
   "cell_type": "code",
   "execution_count": 3,
   "metadata": {},
   "outputs": [],
   "source": [
    "experiments_folder = experiments_folder\n",
    "os.makedirs(experiments_folder, exist_ok=True)\n",
    "\n",
    "fitness_cnn = FitnessCNN()"
   ]
  },
  {
   "cell_type": "code",
   "execution_count": 4,
   "metadata": {},
   "outputs": [],
   "source": [
    "l = CNNLayer_WOMP(1.0, 3, 'relu')\n",
    "l2 = CNNLayer_WOMP(1.2, 3, 'relu')\n",
    "l3 = NNLayer(128, 'relu', 0.5)\n",
    "cnn_layers = [l, l2]\n",
    "c = ChromosomeFilterGrow(cnn_layers, [l3], Connections.random_connections(len(cnn_layers)))\n",
    "d = c.random_individual()"
   ]
  },
  {
   "cell_type": "code",
   "execution_count": 5,
   "metadata": {},
   "outputs": [
    {
     "name": "stdout",
     "output_type": "stream",
     "text": [
      "CNN|F:0.8|K:5|A:sigmoid\n",
      "CNN|F:1.4|K:5|A:elu\n",
      "CNN|F:1.1|K:5|A:relu\n",
      "CNN|F:1.0|K:7|A:prelu\n",
      "1\n",
      "11\n",
      "101\n",
      "\n"
     ]
    }
   ],
   "source": [
    "print(d)"
   ]
  },
  {
   "cell_type": "code",
   "execution_count": 6,
   "metadata": {},
   "outputs": [],
   "source": [
    "# m = d.decode(input_shape=(28,28,1), num_classes=10, verb=True)"
   ]
  },
  {
   "cell_type": "code",
   "execution_count": 7,
   "metadata": {},
   "outputs": [],
   "source": [
    "# dataset params:\n",
    "data_folder = data_folder\n",
    "classes = []\n",
    "\n",
    "# genetic algorithm params:\n",
    "generations=3\n",
    "population_first_level=4\n",
    "population_second_level=2\n",
    "training_hours=1\n",
    "save_progress=False\n",
    "maximize_fitness=False\n",
    "statistical_validation=True\n",
    "frequency_second_level=2\n",
    "start_level2 = 1\n",
    "\n",
    "\n",
    "# Fitness params\n",
    "epochs = 4\n",
    "batch_size = 256\n",
    "verbose = verbose\n",
    "redu_plat = False\n",
    "early_stop = 0\n",
    "warm_up_epochs= 0\n",
    "base_lr = 0.02\n",
    "smooth = 0.1\n",
    "cosine_dec = False\n",
    "lr_find = False\n",
    "precise_eps = 8\n",
    "\n",
    "datasets = ['MB', 'MBI', 'MRB', 'MRD', 'MRDBI']\n",
    "datasets = ['mnist']"
   ]
  },
  {
   "cell_type": "code",
   "execution_count": 8,
   "metadata": {},
   "outputs": [
    {
     "name": "stdout",
     "output_type": "stream",
     "text": [
      "\n",
      "EVOLVING IN DATASET mnist ...\n",
      "\n",
      "(6400, 28, 28, 1) train samples\n",
      "(1600, 28, 28, 1) validation samples\n",
      "(10000, 28, 28, 1) test samples\n",
      "Population size level one: 4\n",
      "Population size level two: 2\n",
      "Number of parents level one: 1\n",
      "Number of parents level two: 1\n",
      "Offspring size level one: 3\n",
      "Offspring size level two: 1\n",
      "Number of individuals eliminated by age: 0\n",
      "Genetic algorithm params\n",
      "Number of generations: 3\n",
      "Population size: 4\n",
      "num parents: 1\n",
      "offspring size: 3\n",
      "\n",
      "Creating Initial population\n",
      "\n",
      "Start evolution process...\n",
      "\n",
      "\n",
      "0) Ranking level 1... Models to train: 4 ...OK (in 1.59 minutes)\n",
      "Statistical validation in 0.93 minutes\n",
      "\n",
      "1) Ranking level 1... Models to train: 3 ...OK (in 0.97 minutes)\n",
      "Statistical validation in 1.17 minutes\n",
      "\n",
      "1) Ranking level 2... Models to train: 2 ...OK (in 1.79 minutes)\n",
      "\n",
      "2) Ranking level 1... Models to train: 2 ...OK (in 0.36 minutes)\n",
      "Statistical validation in 0.00 minutes\n",
      "\n",
      "2) Ranking level 2... Models to train: 0 ...OK (in 0.00 minutes)\n",
      "\n",
      "Generation (2) in 6.80 minutes.\n",
      "Best first level fitness: 0.07354\n",
      "Best second level fitness: 0.03188\n",
      "\n",
      "3) Ranking level 1... Models to train: 2 ...OK (in 1.17 minutes)\n",
      "Statistical validation in 1.08 minutes\n",
      "\n",
      "3) Ranking level 2... Models to train: 0 ...OK (in 0.00 minutes)\n",
      "\n",
      "Generation (3) in 9.04 minutes.\n",
      "Best first level fitness: 0.07354\n",
      "Best second level fitness: 0.03188\n",
      "\n",
      "Making statistical validation\n",
      "Best Gen -> \n",
      "CNN|F:1.1|K:1|A:sigmoid\n",
      "CNN|F:0.7|K:1|A:relu\n",
      "CNN|F:0.9|K:3|A:elu\n",
      "CNN|F:1.0|K:3|A:elu\n",
      "1\n",
      "11\n",
      "001\n",
      "\n",
      "With Fitness (val): 0.0319 and (test): 0.0244\n"
     ]
    },
    {
     "data": {
      "image/png": "[encoded data removed]",
      "text/plain": [
       "<Figure size 720x360 with 1 Axes>"
      ]
     },
     "metadata": {
      "needs_background": "light"
     },
     "output_type": "display_data"
    },
    {
     "data": {
      "image/png": "[encoded data removed]",
      "text/plain": [
       "<Figure size 720x360 with 1 Axes>"
      ]
     },
     "metadata": {
      "needs_background": "light"
     },
     "output_type": "display_data"
    },
    {
     "name": "stdout",
     "output_type": "stream",
     "text": [
      "Total elapsed time: 752.969\n"
     ]
    }
   ],
   "source": [
    "for dataset in datasets:\n",
    "    print(\"\\nEVOLVING IN DATASET %s ...\\n\" % dataset)\n",
    "    exp_folder = os.path.join(experiments_folder, dataset)\n",
    "    folder = os.path.join(exp_folder, 'genetic')\n",
    "    fitness_folder = exp_folder\n",
    "    fitness_file = os.path.join(fitness_folder, 'fitness_example')   \n",
    "    os.makedirs(folder, exist_ok=True)\n",
    "\n",
    "    # Load data\n",
    "    dm = DataManager(dataset, clases=classes, folder_var_mnist=data_folder, max_examples=8000)\n",
    "    data = dm.load_data()\n",
    "    fitness_cnn.set_params(data=data, verbose=verbose, batch_size=batch_size, reduce_plateau=redu_plat,\n",
    "                   epochs=epochs, cosine_decay=cosine_dec, early_stop=early_stop, \n",
    "                   warm_epochs=warm_up_epochs, base_lr=base_lr, smooth_label=smooth, find_lr=lr_find,\n",
    "                   precise_epochs=precise_eps)\n",
    "\n",
    "    fitness_cnn.save(fitness_file)\n",
    "\n",
    "    del dm, data\n",
    "    \n",
    "    fitness = FitnessCNNParallel()\n",
    "    fitness.set_params(chrom_files_folder=fitness_folder, fitness_file=fitness_file, max_gpus=gpus,\n",
    "                   fp=32, main_line=command)\n",
    "    generational = TwoLevelGA(chromosome=c,\n",
    "                              fitness=fitness,\n",
    "                              generations=generations,\n",
    "                              population_first_level=population_first_level,\n",
    "                              population_second_level=population_second_level,\n",
    "                              training_hours=training_hours,\n",
    "                              save_progress=save_progress,\n",
    "                              maximize_fitness=maximize_fitness,\n",
    "                              statistical_validation=statistical_validation,\n",
    "                              folder=folder,\n",
    "                              start_level2=start_level2,\n",
    "                              frequency_second_level=frequency_second_level)\n",
    "        \n",
    "    ti_all = time()\n",
    "    winner, best_fit, ranking = generational.evolve()\n",
    "    print(\"Total elapsed time: %0.3f\" % (time() - ti_all))"
   ]
  },
  {
   "cell_type": "code",
   "execution_count": null,
   "metadata": {},
   "outputs": [],
   "source": [
    "ranking1 = generational.evaluate_population(level=1)\n",
    "ranking2 = generational.evaluate_population(level=2)"
   ]
  },
  {
   "cell_type": "code",
   "execution_count": null,
   "metadata": {},
   "outputs": [],
   "source": [
    "ranking1"
   ]
  },
  {
   "cell_type": "code",
   "execution_count": null,
   "metadata": {},
   "outputs": [],
   "source": [
    "ranking2"
   ]
  },
  {
   "cell_type": "code",
   "execution_count": null,
   "metadata": {},
   "outputs": [],
   "source": [
    "w = generational.best_individual['winner']"
   ]
  },
  {
   "cell_type": "code",
   "execution_count": null,
   "metadata": {},
   "outputs": [],
   "source": [
    "print(generational.history_fitness[w.__repr__()])\n",
    "print(generational.history_precision_fitness[w.__repr__()])"
   ]
  },
  {
   "cell_type": "code",
   "execution_count": null,
   "metadata": {},
   "outputs": [],
   "source": [
    "generational.best_individual"
   ]
  },
  {
   "cell_type": "code",
   "execution_count": null,
   "metadata": {},
   "outputs": [],
   "source": [
    "for k,f in generational.history_precision_fitness.items():\n",
    "    print(k,f, end=\"\\n\"*2)"
   ]
  },
  {
   "cell_type": "code",
   "execution_count": null,
   "metadata": {},
   "outputs": [],
   "source": []
  }
 ],
 "metadata": {
  "kernelspec": {
   "display_name": "Python 3",
   "language": "python",
   "name": "python3"
  },
  "language_info": {
   "codemirror_mode": {
    "name": "ipython",
    "version": 3
   },
   "file_extension": ".py",
   "mimetype": "text/x-python",
   "name": "python",
   "nbconvert_exporter": "python",
   "pygments_lexer": "ipython3",
   "version": "3.7.3"
  }
 },
 "nbformat": 4,
 "nbformat_minor": 2
}
