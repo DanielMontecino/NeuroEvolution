{
 "cells": [
  {
   "cell_type": "code",
   "execution_count": 1,
   "metadata": {},
   "outputs": [
    {
     "name": "stderr",
     "output_type": "stream",
     "text": [
      "Using TensorFlow backend.\n"
     ]
    }
   ],
   "source": [
    "import os\n",
    "from time import time\n",
    "import numpy as np\n",
    "import sys\n",
    "sys.path.append('../')\n",
    "\n",
    "from utils.codification_cnn import FitnessCNN, FitnessCNNParallel, NNLayer\n",
    "from utils.codification_cell import CNNLayer_WOMP, ChromosomeFilterGrow\n",
    "from utils.datamanager import DataManager\n",
    "from utils.codification_skipc import Connections\n",
    "from GA.parentSelector.parentSelector import RandomParentSelector, TournamentSelection, LinealOrder, WheelSelection\n",
    "from GA.geneticAlgorithm import GenerationalGA, TwoLevelGA"
   ]
  },
  {
   "cell_type": "code",
   "execution_count": 2,
   "metadata": {},
   "outputs": [
    {
     "data": {
      "text/plain": [
       "\"\\ndata_folder = '/home/daniel/datasets/MNIST_variations'\\ncommand = 'python ./../train_gen.py'\\nverbose = 1\\nexperiments_folder = '../../exps'\\ngpus = 1\\n\""
      ]
     },
     "execution_count": 2,
     "metadata": {},
     "output_type": "execute_result"
    }
   ],
   "source": [
    "# Chromosome parameters\n",
    "mutation_rate = 0.1\n",
    "mutation_rate_1 = mutation_rate * 2\n",
    "ChromosomeFilterGrow.grow_prob = mutation_rate_1\n",
    "ChromosomeFilterGrow.decrease_prob = mutation_rate_1\n",
    "ChromosomeFilterGrow.skip_prob = 0.1\n",
    "\n",
    "CNNLayer_WOMP.k_prob = mutation_rate\n",
    "CNNLayer_WOMP.filter_prob = mutation_rate_1\n",
    "CNNLayer_WOMP.act_prob = mutation_rate\n",
    "\n",
    "NNLayer.units_prob = mutation_rate_1\n",
    "NNLayer.act_prob = mutation_rate\n",
    "NNLayer.drop_prob = mutation_rate_1\n",
    "\n",
    "ChromosomeFilterGrow.num_blocks = 3\n",
    "ChromosomeFilterGrow.initial_filters = 32\n",
    "\n",
    "\n",
    "data_folder = '../../datasets'\n",
    "command = 'python3 ./../train_gen.py'\n",
    "verbose = 0\n",
    "experiments_folder = '../../exps'\n",
    "gpus = 2\n",
    "'''\n",
    "data_folder = '/home/daniel/datasets/MNIST_variations'\n",
    "command = 'python ./../train_gen.py'\n",
    "verbose = 1\n",
    "experiments_folder = '../../exps'\n",
    "gpus = 1\n",
    "'''"
   ]
  },
  {
   "cell_type": "code",
   "execution_count": 3,
   "metadata": {},
   "outputs": [],
   "source": [
    "experiments_folder = experiments_folder\n",
    "os.makedirs(experiments_folder, exist_ok=True)\n",
    "\n",
    "fitness_cnn = FitnessCNN()"
   ]
  },
  {
   "cell_type": "code",
   "execution_count": 4,
   "metadata": {},
   "outputs": [],
   "source": [
    "l = CNNLayer_WOMP(1.0, 3, 'relu')\n",
    "l2 = CNNLayer_WOMP(1.2, 3, 'relu')\n",
    "l3 = NNLayer(128, 'relu', 0.5)\n",
    "cnn_layers = [l, l2]\n",
    "c = ChromosomeFilterGrow(cnn_layers, [l3], Connections.random_connections(len(cnn_layers)))\n",
    "d = c.random_individual()"
   ]
  },
  {
   "cell_type": "code",
   "execution_count": 5,
   "metadata": {},
   "outputs": [
    {
     "name": "stdout",
     "output_type": "stream",
     "text": [
      "CNN|F:0.5|K:5|A:sigmoid\n",
      "CNN|F:1.0|K:7|A:leakyreLu\n",
      "CNN|F:1.2|K:3|A:elu\n",
      "CNN|F:1.4|K:1|A:prelu\n",
      "NN|U:284|A:sigmoid|D:0.594\n",
      "1\n",
      "11\n",
      "001\n",
      "\n"
     ]
    }
   ],
   "source": [
    "print(d)"
   ]
  },
  {
   "cell_type": "code",
   "execution_count": 6,
   "metadata": {},
   "outputs": [],
   "source": [
    "# m = d.decode(input_shape=(28,28,1), num_classes=10, verb=True)"
   ]
  },
  {
   "cell_type": "code",
   "execution_count": 7,
   "metadata": {},
   "outputs": [],
   "source": [
    "# dataset params:\n",
    "data_folder = data_folder\n",
    "classes = []\n",
    "\n",
    "# genetic algorithm params:\n",
    "N = 30\n",
    "generations = N \n",
    "population_first_level = N\n",
    "population_second_level = int(0.6 * N)\n",
    "training_hours = 120\n",
    "save_progress = True\n",
    "maximize_fitness = False\n",
    "statistical_validation = False\n",
    "frequency_second_level = 1\n",
    "start_level2 = 1\n",
    "\n",
    "\n",
    "# Fitness params\n",
    "epochs = 20\n",
    "batch_size = 128\n",
    "verbose = verbose\n",
    "redu_plat = False\n",
    "early_stop = 0\n",
    "warm_up_epochs= 0\n",
    "base_lr = 0.01\n",
    "smooth = 0.1\n",
    "cosine_dec = False\n",
    "lr_find = False\n",
    "precise_eps = 75\n",
    "\n",
    "datasets = ['MB', 'MBI', 'MRB', 'MRD', 'MRDBI']\n",
    "datasets = ['cifar10']"
   ]
  },
  {
   "cell_type": "code",
   "execution_count": 8,
   "metadata": {},
   "outputs": [
    {
     "name": "stdout",
     "output_type": "stream",
     "text": [
      "\n",
      "EVOLVING IN DATASET cifar10 ...\n",
      "\n",
      "(40000, 32, 32, 3) train samples\n",
      "(10000, 32, 32, 3) validation samples\n",
      "(10000, 32, 32, 3) test samples\n",
      "Number of individuals eliminated by age: 0\n",
      "Genetic algorithm params\n",
      "Number of generations: 50\n",
      "Population size: 50\n",
      "Folder to save: ../../exps/cifar10/genetic/0_2019-10-30-19:36/GA_experiment\n",
      "num parents: 12\n",
      "offspring size: 38\n",
      "\n",
      "Population size level one: 50\n",
      "Population size level two: 30\n",
      "Number of parents level one: 12\n",
      "Number of parents level two: 15\n",
      "Offspring size level one: 38\n",
      "Offspring size level two: 15\n",
      "Creating Initial population\n",
      "\n",
      "Start evolution process...\n",
      "\n",
      "\n",
      "0) Ranking level 1... Models to train: 50 ...OK (in 108.49 minutes)\n",
      "Statistical validation in 0.00 minutes\n",
      "Saving... Elapsed saved time: 0.001\n",
      "\n",
      "1) Ranking level 1... Models to train: 34 ...OK (in 103.63 minutes)\n",
      "Statistical validation in 0.00 minutes\n",
      "Saving... Elapsed saved time: 0.001\n",
      "\n",
      "1) Ranking level 2... Models to train: 30 ...OK (in 433.22 minutes)\n",
      "Saving... Elapsed saved time: 0.001\n",
      "\n",
      "2) Ranking level 1... Models to train: 37 ...OK (in 126.46 minutes)\n",
      "Statistical validation in 0.00 minutes\n",
      "Saving... Elapsed saved time: 0.001\n",
      "\n",
      "2) Ranking level 2... Models to train: 0 ...OK (in 0.00 minutes)\n",
      "Saving... Elapsed saved time: 0.001\n",
      "\n",
      "Generation (2) in 771.81 minutes.\n",
      "Best first level fitness: 0.14910\n",
      "Best second level fitness: 0.13200\n",
      "\n",
      "3) Ranking level 1... Models to train: 38 ...OK (in 156.41 minutes)\n",
      "Statistical validation in 0.00 minutes\n",
      "Saving... Elapsed saved time: 0.001\n",
      "\n",
      "3) Ranking level 2... Models to train: 15 ...OK (in 253.01 minutes)\n",
      "Saving... Elapsed saved time: 0.001\n",
      "\n",
      "Generation (3) in 1181.23 minutes.\n",
      "Best first level fitness: 0.14910\n",
      "Best second level fitness: 0.12790\n",
      "\n",
      "4) Ranking level 1... Models to train: 36 ...OK (in 170.43 minutes)\n",
      "Statistical validation in 0.00 minutes\n",
      "Saving... Elapsed saved time: 0.001\n",
      "\n",
      "4) Ranking level 2... Models to train: 13 ...OK (in 255.81 minutes)\n",
      "Saving... Elapsed saved time: 0.001\n",
      "\n",
      "Generation (4) in 1607.47 minutes.\n",
      "Best first level fitness: 0.14180\n",
      "Best second level fitness: 0.12790\n",
      "\n",
      "5) Ranking level 1... Models to train: 38 ...OK (in 197.93 minutes)\n",
      "Statistical validation in 0.00 minutes\n",
      "Saving... Elapsed saved time: 0.001\n",
      "\n",
      "5) Ranking level 2... Models to train: 15 ...OK (in 380.86 minutes)\n",
      "Saving... Elapsed saved time: 0.001\n",
      "\n",
      "Generation (5) in 2186.26 minutes.\n",
      "Best first level fitness: 0.13600\n",
      "Best second level fitness: 0.12280\n",
      "\n",
      "6) Ranking level 1... Models to train: 38 ...OK (in 202.67 minutes)\n",
      "Statistical validation in 0.00 minutes\n",
      "Saving... Elapsed saved time: 0.002\n",
      "\n",
      "6) Ranking level 2... Models to train: 14 ...OK (in 304.80 minutes)\n",
      "Saving... Elapsed saved time: 0.002\n",
      "\n",
      "Generation (6) in 2693.73 minutes.\n",
      "Best first level fitness: 0.13600\n",
      "Best second level fitness: 0.12030\n",
      "\n",
      "7) Ranking level 1... Models to train: 38 ...OK (in 190.70 minutes)\n",
      "Statistical validation in 0.00 minutes\n",
      "Saving... Elapsed saved time: 0.002\n",
      "\n",
      "7) Ranking level 2... Models to train: 12 ...OK (in 355.64 minutes)\n",
      "Saving... Elapsed saved time: 0.001\n",
      "\n",
      "Generation (7) in 3240.07 minutes.\n",
      "Best first level fitness: 0.13600\n",
      "Best second level fitness: 0.12030\n",
      "\n",
      "8) Ranking level 1... Models to train: 38 ...OK (in 183.76 minutes)\n",
      "Statistical validation in 0.00 minutes\n",
      "Saving... Elapsed saved time: 0.002\n",
      "\n",
      "8) Ranking level 2... Models to train: 12 ...OK (in 308.91 minutes)\n",
      "Saving... Elapsed saved time: 0.002\n",
      "\n",
      "Generation (8) in 3732.74 minutes.\n",
      "Best first level fitness: 0.13570\n",
      "Best second level fitness: 0.11150\n",
      "\n",
      "9) Ranking level 1... Models to train: 38 ...OK (in 176.63 minutes)\n",
      "Statistical validation in 0.00 minutes\n",
      "Saving... Elapsed saved time: 0.001\n",
      "\n",
      "9) Ranking level 2... Models to train: 15 ...OK (in 361.16 minutes)\n",
      "Saving... Elapsed saved time: 0.002\n",
      "\n",
      "Generation (9) in 4270.54 minutes.\n",
      "Best first level fitness: 0.13570\n",
      "Best second level fitness: 0.11150\n",
      "\n",
      "10) Ranking level 1... Models to train: 38 ...OK (in 173.64 minutes)\n",
      "Statistical validation in 0.00 minutes\n",
      "Saving... Elapsed saved time: 0.002\n",
      "\n",
      "10) Ranking level 2... Models to train: 11 ...OK (in 259.70 minutes)\n",
      "Saving... Elapsed saved time: 0.002\n",
      "\n",
      "Generation (10) in 4703.88 minutes.\n",
      "Best first level fitness: 0.13570\n",
      "Best second level fitness: 0.10490\n",
      "\n",
      "11) Ranking level 1... Models to train: 38 ...OK (in 224.16 minutes)\n",
      "Statistical validation in 0.00 minutes\n",
      "Saving... Elapsed saved time: 0.002\n",
      "\n",
      "11) Ranking level 2... Models to train: 14 ...OK (in 297.77 minutes)\n",
      "Saving... Elapsed saved time: 0.002\n",
      "\n",
      "Generation (11) in 5225.81 minutes.\n",
      "Best first level fitness: 0.13010\n",
      "Best second level fitness: 0.10490\n",
      "\n",
      "12) Ranking level 1... Models to train: 38 ...OK (in 180.46 minutes)\n",
      "Statistical validation in 0.00 minutes\n",
      "Saving... Elapsed saved time: 0.002\n",
      "\n",
      "12) Ranking level 2... Models to train: 13 ...OK (in 342.32 minutes)\n",
      "Saving... Elapsed saved time: 0.002\n",
      "\n",
      "Generation (12) in 5748.59 minutes.\n",
      "Best first level fitness: 0.12640\n",
      "Best second level fitness: 0.10490\n",
      "\n",
      "13) Ranking level 1... Models to train: 38 ...OK (in 190.84 minutes)\n",
      "Statistical validation in 0.00 minutes\n",
      "Saving... Elapsed saved time: 0.002\n",
      "\n",
      "13) Ranking level 2... Models to train: 15 ...OK (in 239.26 minutes)\n",
      "Saving... Elapsed saved time: 0.002\n",
      "\n",
      "Generation (13) in 6178.70 minutes.\n",
      "Best first level fitness: 0.12640\n",
      "Best second level fitness: 0.10490\n",
      "\n",
      "14) Ranking level 1... Models to train: 37 ...OK (in 246.35 minutes)\n",
      "Statistical validation in 0.00 minutes\n",
      "Saving... Elapsed saved time: 0.002\n",
      "\n",
      "14) Ranking level 2... Models to train: 11 ...OK (in 283.54 minutes)\n",
      "Saving... Elapsed saved time: 0.002\n",
      "\n",
      "Generation (14) in 6708.58 minutes.\n",
      "Best first level fitness: 0.12640\n",
      "Best second level fitness: 0.10370\n",
      "\n",
      "15) Ranking level 1... Models to train: 37 ...OK (in 181.60 minutes)\n",
      "Statistical validation in 0.00 minutes\n",
      "Saving... Elapsed saved time: 0.002\n",
      "\n",
      "15) Ranking level 2... Models to train: 11 ...OK (in 318.44 minutes)\n",
      "Saving... Elapsed saved time: 0.002\n",
      "\n",
      "Generation (15) in 7208.62 minutes.\n",
      "Best first level fitness: 0.12640\n",
      "Best second level fitness: 0.10370\n",
      "Saving... Elapsed saved time: 0.001\n",
      "Best fit 'til generation 15 : 0.1037\n",
      "CNN|F:1.3|K:3|A:leakyreLu\n",
      "CNN|F:1.2|K:7|A:leakyreLu\n",
      "CNN|F:1.2|K:3|A:leakyreLu\n",
      "CNN|F:1.1|K:1|A:relu\n",
      "CNN|F:0.8|K:3|A:relu\n",
      "1\n",
      "01\n",
      "001\n",
      "1001\n",
      "\n",
      "\n",
      "16) Ranking level 1... Models to train: 38 ..."
     ]
    },
    {
     "ename": "KeyboardInterrupt",
     "evalue": "",
     "output_type": "error",
     "traceback": [
      "\u001b[0;31m---------------------------------------------------------------------------\u001b[0m",
      "\u001b[0;31mKeyboardInterrupt\u001b[0m                         Traceback (most recent call last)",
      "\u001b[0;32m<ipython-input-8-0fabefcc7a76>\u001b[0m in \u001b[0;36m<module>\u001b[0;34m\u001b[0m\n\u001b[1;32m     36\u001b[0m \u001b[0;34m\u001b[0m\u001b[0m\n\u001b[1;32m     37\u001b[0m     \u001b[0mti_all\u001b[0m \u001b[0;34m=\u001b[0m \u001b[0mtime\u001b[0m\u001b[0;34m(\u001b[0m\u001b[0;34m)\u001b[0m\u001b[0;34m\u001b[0m\u001b[0;34m\u001b[0m\u001b[0m\n\u001b[0;32m---> 38\u001b[0;31m     \u001b[0mwinner\u001b[0m\u001b[0;34m,\u001b[0m \u001b[0mbest_fit\u001b[0m\u001b[0;34m,\u001b[0m \u001b[0mranking\u001b[0m \u001b[0;34m=\u001b[0m \u001b[0mgenerational\u001b[0m\u001b[0;34m.\u001b[0m\u001b[0mevolve\u001b[0m\u001b[0;34m(\u001b[0m\u001b[0;34m)\u001b[0m\u001b[0;34m\u001b[0m\u001b[0;34m\u001b[0m\u001b[0m\n\u001b[0m\u001b[1;32m     39\u001b[0m     \u001b[0mprint\u001b[0m\u001b[0;34m(\u001b[0m\u001b[0;34m\"Total elapsed time: %0.3f\"\u001b[0m \u001b[0;34m%\u001b[0m \u001b[0;34m(\u001b[0m\u001b[0mtime\u001b[0m\u001b[0;34m(\u001b[0m\u001b[0;34m)\u001b[0m \u001b[0;34m-\u001b[0m \u001b[0mti_all\u001b[0m\u001b[0;34m)\u001b[0m\u001b[0;34m)\u001b[0m\u001b[0;34m\u001b[0m\u001b[0;34m\u001b[0m\u001b[0m\n",
      "\u001b[0;32m~/Daniel/NeuroEvolution/GA/geneticAlgorithm.py\u001b[0m in \u001b[0;36mevolve\u001b[0;34m(self, show)\u001b[0m\n\u001b[1;32m    595\u001b[0m \u001b[0;34m\u001b[0m\u001b[0m\n\u001b[1;32m    596\u001b[0m         \u001b[0mself\u001b[0m\u001b[0;34m.\u001b[0m\u001b[0mgeneration\u001b[0m \u001b[0;34m+=\u001b[0m \u001b[0;36m1\u001b[0m\u001b[0;34m\u001b[0m\u001b[0;34m\u001b[0m\u001b[0m\n\u001b[0;32m--> 597\u001b[0;31m         \u001b[0mranking1\u001b[0m \u001b[0;34m=\u001b[0m \u001b[0mself\u001b[0m\u001b[0;34m.\u001b[0m\u001b[0mevaluate_population\u001b[0m\u001b[0;34m(\u001b[0m\u001b[0mlevel\u001b[0m\u001b[0;34m=\u001b[0m\u001b[0;36m1\u001b[0m\u001b[0;34m)\u001b[0m\u001b[0;34m\u001b[0m\u001b[0;34m\u001b[0m\u001b[0m\n\u001b[0m\u001b[1;32m    598\u001b[0m         \u001b[0mranking2\u001b[0m \u001b[0;34m=\u001b[0m \u001b[0mself\u001b[0m\u001b[0;34m.\u001b[0m\u001b[0mevaluate_population\u001b[0m\u001b[0;34m(\u001b[0m\u001b[0mlevel\u001b[0m\u001b[0;34m=\u001b[0m\u001b[0;36m2\u001b[0m\u001b[0;34m)\u001b[0m\u001b[0;34m\u001b[0m\u001b[0;34m\u001b[0m\u001b[0m\n\u001b[1;32m    599\u001b[0m \u001b[0;34m\u001b[0m\u001b[0m\n",
      "\u001b[0;32m~/Daniel/NeuroEvolution/GA/geneticAlgorithm.py\u001b[0m in \u001b[0;36mevaluate_population\u001b[0;34m(self, level)\u001b[0m\n\u001b[1;32m    631\u001b[0m         \u001b[0;32mif\u001b[0m \u001b[0mlevel\u001b[0m \u001b[0;34m==\u001b[0m \u001b[0;36m1\u001b[0m\u001b[0;34m:\u001b[0m\u001b[0;34m\u001b[0m\u001b[0;34m\u001b[0m\u001b[0m\n\u001b[1;32m    632\u001b[0m             \u001b[0;31m# Evaluate the models and ranking them\u001b[0m\u001b[0;34m\u001b[0m\u001b[0;34m\u001b[0m\u001b[0;34m\u001b[0m\u001b[0m\n\u001b[0;32m--> 633\u001b[0;31m             \u001b[0mranking\u001b[0m \u001b[0;34m=\u001b[0m \u001b[0mself\u001b[0m\u001b[0;34m.\u001b[0m\u001b[0mrank\u001b[0m\u001b[0;34m(\u001b[0m\u001b[0mpopulation\u001b[0m\u001b[0;34m)\u001b[0m\u001b[0;34m\u001b[0m\u001b[0;34m\u001b[0m\u001b[0m\n\u001b[0m\u001b[1;32m    634\u001b[0m             \u001b[0mself\u001b[0m\u001b[0;34m.\u001b[0m\u001b[0mprint\u001b[0m\u001b[0;34m(\u001b[0m\u001b[0;34m\"OK (in %0.2f minutes)\"\u001b[0m \u001b[0;34m%\u001b[0m \u001b[0;34m(\u001b[0m\u001b[0;34m(\u001b[0m\u001b[0mtime\u001b[0m\u001b[0;34m(\u001b[0m\u001b[0;34m)\u001b[0m \u001b[0;34m-\u001b[0m \u001b[0mlocal_ti\u001b[0m\u001b[0;34m)\u001b[0m \u001b[0;34m/\u001b[0m \u001b[0;36m60.0\u001b[0m\u001b[0;34m)\u001b[0m\u001b[0;34m)\u001b[0m\u001b[0;34m\u001b[0m\u001b[0;34m\u001b[0m\u001b[0m\n\u001b[1;32m    635\u001b[0m             \u001b[0mlocal_ti\u001b[0m \u001b[0;34m=\u001b[0m \u001b[0mtime\u001b[0m\u001b[0;34m(\u001b[0m\u001b[0;34m)\u001b[0m\u001b[0;34m\u001b[0m\u001b[0;34m\u001b[0m\u001b[0m\n",
      "\u001b[0;32m~/Daniel/NeuroEvolution/GA/geneticAlgorithm.py\u001b[0m in \u001b[0;36mrank\u001b[0;34m(self, population)\u001b[0m\n\u001b[1;32m    168\u001b[0m                 \u001b[0mfitness_result\u001b[0m\u001b[0;34m[\u001b[0m\u001b[0mi\u001b[0m\u001b[0;34m]\u001b[0m \u001b[0;34m=\u001b[0m \u001b[0mself\u001b[0m\u001b[0;34m.\u001b[0m\u001b[0mhistory_fitness\u001b[0m\u001b[0;34m[\u001b[0m\u001b[0mgen\u001b[0m\u001b[0;34m]\u001b[0m\u001b[0;34m\u001b[0m\u001b[0;34m\u001b[0m\u001b[0m\n\u001b[1;32m    169\u001b[0m         evaluated_fitness = self.fitness_evaluator.eval_list([population[id_to_eval] for\n\u001b[0;32m--> 170\u001b[0;31m                                                               id_to_eval in population_ids_to_eval])\n\u001b[0m\u001b[1;32m    171\u001b[0m         \u001b[0;32mfor\u001b[0m \u001b[0mfit\u001b[0m\u001b[0;34m,\u001b[0m \u001b[0mi\u001b[0m \u001b[0;32min\u001b[0m \u001b[0mzip\u001b[0m\u001b[0;34m(\u001b[0m\u001b[0mevaluated_fitness\u001b[0m\u001b[0;34m,\u001b[0m \u001b[0mpopulation_ids_to_eval\u001b[0m\u001b[0;34m)\u001b[0m\u001b[0;34m:\u001b[0m\u001b[0;34m\u001b[0m\u001b[0;34m\u001b[0m\u001b[0m\n\u001b[1;32m    172\u001b[0m             \u001b[0mfitness_result\u001b[0m\u001b[0;34m[\u001b[0m\u001b[0mi\u001b[0m\u001b[0;34m]\u001b[0m \u001b[0;34m=\u001b[0m \u001b[0mfit\u001b[0m\u001b[0;34m\u001b[0m\u001b[0;34m\u001b[0m\u001b[0m\n",
      "\u001b[0;32m~/Daniel/NeuroEvolution/utils/codification_cnn.py\u001b[0m in \u001b[0;36meval_list\u001b[0;34m(self, chromosome_list, test, precise_mode, **kwargs)\u001b[0m\n\u001b[1;32m    663\u001b[0m         \u001b[0msimultaneous_threads\u001b[0m \u001b[0;34m=\u001b[0m \u001b[0mself\u001b[0m\u001b[0;34m.\u001b[0m\u001b[0mmax_gpus\u001b[0m\u001b[0;34m\u001b[0m\u001b[0;34m\u001b[0m\u001b[0m\n\u001b[1;32m    664\u001b[0m \u001b[0;34m\u001b[0m\u001b[0m\n\u001b[0;32m--> 665\u001b[0;31m         \u001b[0;32mwhile\u001b[0m \u001b[0mlen\u001b[0m\u001b[0;34m(\u001b[0m\u001b[0mthreads_waiting\u001b[0m\u001b[0;34m)\u001b[0m \u001b[0;34m>\u001b[0m \u001b[0;36m0\u001b[0m \u001b[0;32mor\u001b[0m \u001b[0mlen\u001b[0m\u001b[0;34m(\u001b[0m\u001b[0mthreads_running\u001b[0m\u001b[0;34m)\u001b[0m \u001b[0;34m>\u001b[0m \u001b[0;36m0\u001b[0m\u001b[0;34m:\u001b[0m\u001b[0;34m\u001b[0m\u001b[0;34m\u001b[0m\u001b[0m\n\u001b[0m\u001b[1;32m    666\u001b[0m             \u001b[0mthreads_finished\u001b[0m \u001b[0;34m+=\u001b[0m \u001b[0;34m[\u001b[0m\u001b[0mthr\u001b[0m \u001b[0;32mfor\u001b[0m \u001b[0mthr\u001b[0m \u001b[0;32min\u001b[0m \u001b[0mthreads_running\u001b[0m \u001b[0;32mif\u001b[0m \u001b[0;32mnot\u001b[0m \u001b[0mthr\u001b[0m\u001b[0;34m.\u001b[0m\u001b[0misAlive\u001b[0m\u001b[0;34m(\u001b[0m\u001b[0;34m)\u001b[0m\u001b[0;34m]\u001b[0m\u001b[0;34m\u001b[0m\u001b[0;34m\u001b[0m\u001b[0m\n\u001b[1;32m    667\u001b[0m             \u001b[0mthreads_running\u001b[0m \u001b[0;34m=\u001b[0m \u001b[0;34m[\u001b[0m\u001b[0mthr\u001b[0m \u001b[0;32mfor\u001b[0m \u001b[0mthr\u001b[0m \u001b[0;32min\u001b[0m \u001b[0mthreads_running\u001b[0m \u001b[0;32mif\u001b[0m \u001b[0mthr\u001b[0m\u001b[0;34m.\u001b[0m\u001b[0misAlive\u001b[0m\u001b[0;34m(\u001b[0m\u001b[0;34m)\u001b[0m\u001b[0;34m]\u001b[0m\u001b[0;34m\u001b[0m\u001b[0;34m\u001b[0m\u001b[0m\n",
      "\u001b[0;31mKeyboardInterrupt\u001b[0m: "
     ]
    }
   ],
   "source": [
    "for dataset in datasets:\n",
    "    print(\"\\nEVOLVING IN DATASET %s ...\\n\" % dataset)\n",
    "    exp_folder = os.path.join(experiments_folder, dataset)\n",
    "    folder = os.path.join(exp_folder, 'genetic')\n",
    "    fitness_folder = exp_folder\n",
    "    fitness_file = os.path.join(fitness_folder, 'fitness_example')   \n",
    "    os.makedirs(folder, exist_ok=True)\n",
    "\n",
    "    # Load data\n",
    "    dm = DataManager(dataset, clases=classes, folder_var_mnist=data_folder)\n",
    "    data = dm.load_data()\n",
    "    fitness_cnn.set_params(data=data, verbose=verbose, batch_size=batch_size, reduce_plateau=redu_plat,\n",
    "                   epochs=epochs, cosine_decay=cosine_dec, early_stop=early_stop, \n",
    "                   warm_epochs=warm_up_epochs, base_lr=base_lr, smooth_label=smooth, find_lr=lr_find,\n",
    "                   precise_epochs=precise_eps)\n",
    "\n",
    "    fitness_cnn.save(fitness_file)\n",
    "\n",
    "    del dm, data\n",
    "    \n",
    "    fitness = FitnessCNNParallel()\n",
    "    fitness.set_params(chrom_files_folder=fitness_folder, fitness_file=fitness_file, max_gpus=gpus,\n",
    "                   fp=32, main_line=command)\n",
    "    generational = TwoLevelGA(chromosome=c,\n",
    "                              fitness=fitness,\n",
    "                              generations=generations,\n",
    "                              population_first_level=population_first_level,\n",
    "                              population_second_level=population_second_level,\n",
    "                              training_hours=training_hours,\n",
    "                              save_progress=save_progress,\n",
    "                              maximize_fitness=maximize_fitness,\n",
    "                              statistical_validation=statistical_validation,\n",
    "                              folder=folder,\n",
    "                              start_level2=start_level2,\n",
    "                              frequency_second_level=frequency_second_level)\n",
    "        \n",
    "    ti_all = time()\n",
    "    winner, best_fit, ranking = generational.evolve()\n",
    "    print(\"Total elapsed time: %0.3f\" % (time() - ti_all))"
   ]
  },
  {
   "cell_type": "code",
   "execution_count": null,
   "metadata": {},
   "outputs": [],
   "source": [
    "ranking1 = generational.evaluate_population(level=1)\n",
    "ranking2 = generational.evaluate_population(level=2)"
   ]
  },
  {
   "cell_type": "code",
   "execution_count": 9,
   "metadata": {},
   "outputs": [
    {
     "name": "stdout",
     "output_type": "stream",
     "text": [
      "Best Gen -> \n",
      "CNN|F:1.3|K:3|A:leakyreLu\n",
      "CNN|F:1.2|K:7|A:leakyreLu\n",
      "CNN|F:1.2|K:3|A:leakyreLu\n",
      "CNN|F:1.1|K:1|A:relu\n",
      "CNN|F:0.8|K:3|A:relu\n",
      "1\n",
      "01\n",
      "001\n",
      "1001\n",
      "\n",
      "With Fitness (val): 0.1037 and (test): 0.1142\n"
     ]
    },
    {
     "data": {
      "image/png": "[encoded data removed]",
      "text/plain": [
       "<Figure size 720x360 with 1 Axes>"
      ]
     },
     "metadata": {
      "needs_background": "light"
     },
     "output_type": "display_data"
    },
    {
     "data": {
      "image/png": "[encoded data removed]",
      "text/plain": [
       "<Figure size 720x360 with 1 Axes>"
      ]
     },
     "metadata": {
      "needs_background": "light"
     },
     "output_type": "display_data"
    }
   ],
   "source": [
    "winner, fit_test = generational.finishing_evolution(show=True)"
   ]
  },
  {
   "cell_type": "code",
   "execution_count": null,
   "metadata": {},
   "outputs": [],
   "source": [
    "ranking2"
   ]
  },
  {
   "cell_type": "code",
   "execution_count": null,
   "metadata": {},
   "outputs": [],
   "source": [
    "w = generational.best_individual['winner']"
   ]
  },
  {
   "cell_type": "code",
   "execution_count": null,
   "metadata": {},
   "outputs": [],
   "source": [
    "print(generational.history_fitness[w.__repr__()])\n",
    "print(generational.history_precision_fitness[w.__repr__()])"
   ]
  },
  {
   "cell_type": "code",
   "execution_count": null,
   "metadata": {},
   "outputs": [],
   "source": [
    "generational.best_individual"
   ]
  },
  {
   "cell_type": "code",
   "execution_count": null,
   "metadata": {},
   "outputs": [],
   "source": [
    "for k,f in generational.history_precision_fitness.items():\n",
    "    print(k,f, end=\"\\n\"*2)"
   ]
  },
  {
   "cell_type": "code",
   "execution_count": null,
   "metadata": {},
   "outputs": [],
   "source": [
    "from keras import Input, Model\n",
    "from keras.layers import Conv2D, PReLU, LeakyReLU, Dropout, MaxPooling2D, Flatten, Dense, BatchNormalization\n",
    "import numpy as np\n",
    "from keras.optimizers import Adam\n",
    "from keras.callbacks import ModelCheckpoint, EarlyStopping, ReduceLROnPlateau\n",
    "\n"
   ]
  },
  {
   "cell_type": "code",
   "execution_count": null,
   "metadata": {},
   "outputs": [],
   "source": [
    "x_train, x_val = np.random.rand(1000, 28, 28, 1), np.random.rand(200, 28, 28, 1)\n",
    "y_train, y_val = np.random.randint(0, 2, (1000, 10)), np.random.randint(0, 2, (200, 10))\n",
    "print(x_train.shape, x_val.shape)\n",
    "print(y_train.shape, y_val.shape)"
   ]
  },
  {
   "cell_type": "code",
   "execution_count": null,
   "metadata": {},
   "outputs": [],
   "source": [
    "inp = Input((28,28,1))\n",
    "x = Conv2D(32, 3, activation='relu', padding='same')(inp)\n",
    "x = MaxPooling2D()(x)\n",
    "x = Conv2D(32, 3, activation='relu', padding='same')(x)\n",
    "x = MaxPooling2D()(x)\n",
    "x = Conv2D(32, 3, activation='relu', padding='same')(x)\n",
    "x = MaxPooling2D()(x)\n",
    "x = Flatten()(x)\n",
    "x = Dense(10)(x)\n",
    "model = Model(inp, x)\n",
    "model.summary()\n",
    "model.compile(loss='categorical_crossentropy',\n",
    "                      optimizer=Adam(0.001),\n",
    "                      metrics=['accuracy'])\n",
    "\n",
    "c = ModelCheckpoint('.delete_this_model', monitor='val_accuracy', save_best_only=True)\n",
    "h = model.fit(x_train, y_train,\n",
    "            batch_size=32,\n",
    "            epochs=5,\n",
    "            verbose=1,\n",
    "            validation_data=(x_val, y_val),\n",
    "             callbacks=[c])"
   ]
  },
  {
   "cell_type": "code",
   "execution_count": null,
   "metadata": {},
   "outputs": [],
   "source": [
    "import keras\n",
    "\n",
    "print(keras.__version__)"
   ]
  },
  {
   "cell_type": "code",
   "execution_count": null,
   "metadata": {},
   "outputs": [],
   "source": [
    "val_acc = 'val_accuracy' if keras.__version__ == '2.3.1' else 'val_acc'\n",
    "print(val_acc)"
   ]
  },
  {
   "cell_type": "code",
   "execution_count": null,
   "metadata": {},
   "outputs": [],
   "source": [
    "h.model\n"
   ]
  },
  {
   "cell_type": "code",
   "execution_count": null,
   "metadata": {},
   "outputs": [],
   "source": [
    "h.on_batch_begin"
   ]
  },
  {
   "cell_type": "code",
   "execution_count": null,
   "metadata": {},
   "outputs": [],
   "source": [
    "type(h.history)"
   ]
  },
  {
   "cell_type": "code",
   "execution_count": null,
   "metadata": {},
   "outputs": [],
   "source": [
    "h.history.keys()"
   ]
  },
  {
   "cell_type": "code",
   "execution_count": null,
   "metadata": {},
   "outputs": [],
   "source": [
    "for key in h.history.keys():\n",
    "    if 'val_acc' in key:\n",
    "        print(key)"
   ]
  },
  {
   "cell_type": "code",
   "execution_count": null,
   "metadata": {},
   "outputs": [],
   "source": [
    "key_val_acc = [key for key in h.history.keys() if 'val_acc' in key][0]\n",
    "print(key_val_acc)"
   ]
  },
  {
   "cell_type": "code",
   "execution_count": null,
   "metadata": {},
   "outputs": [],
   "source": [
    "fitness_cnn.verb = 1\n",
    "fitness_cnn.calc(winner, test=True)"
   ]
  },
  {
   "cell_type": "code",
   "execution_count": null,
   "metadata": {},
   "outputs": [],
   "source": []
  }
 ],
 "metadata": {
  "kernelspec": {
   "display_name": "Python 3",
   "language": "python",
   "name": "python3"
  },
  "language_info": {
   "codemirror_mode": {
    "name": "ipython",
    "version": 3
   },
   "file_extension": ".py",
   "mimetype": "text/x-python",
   "name": "python",
   "nbconvert_exporter": "python",
   "pygments_lexer": "ipython3",
   "version": "3.6.9"
  }
 },
 "nbformat": 4,
 "nbformat_minor": 2
}
