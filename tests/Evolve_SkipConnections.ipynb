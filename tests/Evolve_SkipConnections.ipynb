{
 "cells": [
  {
   "cell_type": "code",
   "execution_count": 1,
   "metadata": {},
   "outputs": [
    {
     "name": "stderr",
     "output_type": "stream",
     "text": [
      "Using TensorFlow backend.\n"
     ]
    }
   ],
   "source": [
    "import os\n",
    "from time import time\n",
    "import numpy as np\n",
    "import sys\n",
    "sys.path.append('../')\n",
    "\n",
    "from utils.codification_cnn import CNNLayer, NNLayer, ChromosomeCNN, FitnessCNN, FitnessCNNParallel\n",
    "from utils.datamanager import DataManager\n",
    "from utils.codification_skipc import ChromosomeSkip, FitnessSkip, Connections\n",
    "from GA.parentSelector.parentSelector import RandomParentSelector, TournamentSelection, LinealOrder, WheelSelection\n",
    "from GA.geneticAlgorithm import GenerationalGA\n"
   ]
  },
  {
   "cell_type": "code",
   "execution_count": 2,
   "metadata": {},
   "outputs": [
    {
     "name": "stdout",
     "output_type": "stream",
     "text": [
      "Daniel's machine\n"
     ]
    }
   ],
   "source": [
    "# Chromosome parameters\n",
    "mutation_rate = 0.05\n",
    "mutation_rate_1 = mutation_rate * 2\n",
    "\n",
    "ChromosomeSkip.grow_prob = mutation_rate\n",
    "ChromosomeSkip.decrease_prob = mutation_rate\n",
    "\n",
    "CNNLayer.k_prob = mutation_rate\n",
    "CNNLayer.filter_prob = mutation_rate_1\n",
    "CNNLayer.act_prob = mutation_rate\n",
    "CNNLayer.drop_prob = mutation_rate_1\n",
    "CNNLayer.maxpool_prob = mutation_rate\n",
    "CNNLayer.possible_activations = ['relu', 'prelu', 'leakyreLu']\n",
    "\n",
    "NNLayer.units_prob = mutation_rate_1\n",
    "NNLayer.act_prob = mutation_rate\n",
    "NNLayer.drop_prob = mutation_rate_1\n",
    "NNLayer.possible_activations = ['relu', 'sigmoid', 'tanh']\n",
    "\n",
    "CNNLayer.filters_lim = 128\n",
    "\n",
    "if not 'fondef' in os.path.abspath(\".\"):\n",
    "    data_folder = '/home/daniel/datasets/MNIST_variations'\n",
    "    command = 'python ./../train_gen.py'\n",
    "    verbose = 1\n",
    "    experiments_folder = '../exps'\n",
    "    gpus = 1\n",
    "    epochs = 2\n",
    "    precise_eps = 5\n",
    "    num_parents = 0.25 * 2\n",
    "    generations = 2\n",
    "    population = 4\n",
    "    precision_individuals = 2\n",
    "    save = False\n",
    "    print(\"Daniel's machine\")\n",
    "else:\n",
    "    data_folder = '../../../../datasets'\n",
    "    command = 'python3 ./../train_gen.py'\n",
    "    verbose = 0\n",
    "    experiments_folder = '../../exps'\n",
    "    gpus = 2\n",
    "    epochs = 8\n",
    "    precise_eps = 25\n",
    "    num_parents = 0.25\n",
    "    generations = 30\n",
    "    population = 20\n",
    "    save = True\n",
    "    precision_individuals = 3\n",
    "    print(\"Felipe's machine\")"
   ]
  },
  {
   "cell_type": "code",
   "execution_count": 3,
   "metadata": {},
   "outputs": [],
   "source": [
    "experiments_folder = experiments_folder\n",
    "os.makedirs(experiments_folder, exist_ok=True)\n",
    "\n",
    "fitness_cnn = FitnessSkip()\n",
    "\n",
    "l = CNNLayer(32, (3,3), 'relu', 0, False)\n",
    "l2 = CNNLayer(64, (3,3), 'relu', 0.25, True)\n",
    "l3 = NNLayer(128, 'relu', 0.5)\n",
    "c = ChromosomeCNN([l, l2], [l3], fitness_cnn)\n",
    "c = ChromosomeSkip(c.cnn_layers, c.nn_layers, Connections.random_connections(len(c.cnn_layers)))\n",
    "    \n",
    "# dataset params:\n",
    "data_folder = data_folder\n",
    "classes = []\n",
    "\n",
    "# genetic algorithm params:\n",
    "parents_selector_key = 'tournament'\n",
    "num_parents = num_parents\n",
    "generations = generations\n",
    "population = population\n",
    "train_time = 10\n",
    "maximize_fit = False\n",
    "stat_val = True\n",
    "save_progress = save\n",
    "age_survivors_rate = 0.05\n",
    "precision_val = False\n",
    "precision_individuals = precision_individuals\n",
    "\n",
    "ps = {'random':RandomParentSelector(), 'lineal':LinealOrder(), 'wheel':WheelSelection(), \n",
    "      'tournament':TournamentSelection(population//4)}\n",
    "p = ps[parents_selector_key]\n",
    "\n",
    "# Fitness params\n",
    "epochs = epochs\n",
    "batch_size = 128\n",
    "verbose = verbose\n",
    "base_lr = 0.03\n",
    "smooth = 0.1\n",
    "lr_find = False\n",
    "precise_eps = precise_eps\n",
    "\n",
    "datasets = ['MB', 'MBI', 'MRB', 'MRD', 'MRDBI']\n"
   ]
  },
  {
   "cell_type": "code",
   "execution_count": 4,
   "metadata": {
    "scrolled": true
   },
   "outputs": [
    {
     "name": "stdout",
     "output_type": "stream",
     "text": [
      "\n",
      "EVOLVING IN DATASET mnist ...\n",
      "\n",
      "(9600, 28, 28, 1) train samples\n",
      "(2400, 28, 28, 1) validation samples\n",
      "(10000, 28, 28, 1) test samples\n",
      "Number of individuals eliminated by age: 0\n",
      "Genetic algorithm params\n",
      "Number of generations: 2\n",
      "Population size: 4\n",
      "num parents: 2\n",
      "offspring size: 2\n",
      "\n",
      "\n",
      "Debugging...\n",
      "Activations CNN: ['relu', 'prelu', 'leakyreLu']\n",
      "Activations NN: ['relu', 'sigmoid', 'tanh']\n",
      "Grow prob: 0.1\n",
      "Decrease prob: 0.05\n",
      "\n",
      "Debugging...\n",
      "Activations CNN: ['relu', 'prelu', 'leakyreLu']\n",
      "Activations NN: ['relu', 'sigmoid', 'tanh']\n",
      "Grow prob: 0.1\n",
      "Decrease prob: 0.05\n",
      "\n",
      "Debugging...\n",
      "Activations CNN: ['relu', 'prelu', 'leakyreLu']\n",
      "\n",
      "Debugging...\n",
      "Activations CNN: ['relu', 'prelu', 'leakyreLu']\n",
      "Activations NN: ['relu', 'sigmoid', 'tanh']\n",
      "Grow prob: 0.1\n",
      "Decrease prob: 0.05\n",
      "Creating Initial population\n",
      "\n",
      "Start evolution process...\n",
      "\n",
      "1) best fit: 0.049 in batch time: 1.93 mins\n",
      "Current winner:\n",
      "CNN|F:10|K:(5,5)|A:relu|D:0.788|M:0\n",
      "CNN|F:37|K:(5,1)|A:leakyreLu|D:0.692|M:1\n",
      "CNN|F:60|K:(3,3)|A:leakyreLu|D:0.799|M:0\n",
      "CNN|F:7|K:(3,3)|A:leakyreLu|D:0.060|M:1\n",
      "NN|U:222|A:tanh|D:0.631\n",
      "1\n",
      "01\n",
      "101\n",
      "\n",
      "\n",
      "Debugging...\n",
      "Activations CNN: ['relu', 'prelu', 'leakyreLu']\n",
      "Activations NN: ['relu', 'sigmoid', 'tanh']\n",
      "Grow prob: 0.1\n",
      "Decrease prob: 0.05\n",
      "\n",
      "Debugging...\n",
      "Activations CNN: ['relu', 'prelu', 'leakyreLu']\n",
      "Activations NN: ['relu', 'sigmoid', 'tanh']\n",
      "Grow prob: 0.1\n",
      "Decrease prob: 0.05\n",
      "2) best fit: 0.049 in batch time: 2.61 mins\n",
      "Current winner:\n",
      "CNN|F:10|K:(5,5)|A:relu|D:0.788|M:0\n",
      "CNN|F:37|K:(5,1)|A:leakyreLu|D:0.692|M:1\n",
      "CNN|F:60|K:(3,3)|A:leakyreLu|D:0.799|M:0\n",
      "CNN|F:7|K:(3,3)|A:leakyreLu|D:0.060|M:1\n",
      "NN|U:222|A:tanh|D:0.631\n",
      "1\n",
      "01\n",
      "101\n",
      "\n",
      "\n",
      "Debugging...\n",
      "Activations CNN: ['relu', 'prelu', 'leakyreLu']\n",
      "Activations NN: ['relu', 'sigmoid', 'tanh']\n",
      "Grow prob: 0.1\n",
      "Decrease prob: 0.05\n",
      "\n",
      "Debugging...\n",
      "Activations CNN: ['relu', 'prelu', 'leakyreLu']\n",
      "Activations NN: ['relu', 'sigmoid', 'tanh']\n",
      "Grow prob: 0.1\n",
      "Decrease prob: 0.05\n",
      "Making statistical validation\n",
      "Benchmark Val score: 0.0209. Winner Val score: 0.0295\n",
      "t = 2.9890, p = 0.0404\n",
      "Benchmark Test score: 0.0155. Winner Test score: 0.0242\n",
      "t = 13.7852, p = 0.0002\n",
      "Best Gen -> \n",
      "CNN|F:33|K:(5,5)|A:leakyreLu|D:0.729|M:0\n",
      "CNN|F:37|K:(5,1)|A:leakyreLu|D:0.767|M:1\n",
      "CNN|F:60|K:(3,3)|A:leakyreLu|D:0.799|M:0\n",
      "CNN|F:7|K:(3,3)|A:leakyreLu|D:0.060|M:1\n",
      "NN|U:222|A:tanh|D:0.538\n",
      "1\n",
      "01\n",
      "101\n",
      "\n",
      "With Fitness (evo val): 0.0344\n",
      "Val results: mean 0.0295, std 0.0027, best 0.0260\n",
      "Test results: mean 0.0242, std 0.0008, best 0.0231\n",
      "Total elapsed time: 6.0167\n"
     ]
    },
    {
     "data": {
      "image/png": "[encoded data removed]",
      "text/plain": [
       "<Figure size 720x360 with 1 Axes>"
      ]
     },
     "metadata": {
      "needs_background": "light"
     },
     "output_type": "display_data"
    },
    {
     "data": {
      "image/png": "[encoded data removed]",
      "text/plain": [
       "<Figure size 720x360 with 1 Axes>"
      ]
     },
     "metadata": {
      "needs_background": "light"
     },
     "output_type": "display_data"
    },
    {
     "name": "stdout",
     "output_type": "stream",
     "text": [
      "Total elapsed time: 361.872\n"
     ]
    }
   ],
   "source": [
    "for dataset in datasets:\n",
    "    print(\"\\nEVOLVING IN DATASET %s ...\\n\" % dataset)\n",
    "    exp_folder = os.path.join(experiments_folder, dataset)\n",
    "    folder = os.path.join(exp_folder, 'genetic')\n",
    "    fitness_folder = exp_folder\n",
    "    fitness_file = os.path.join(fitness_folder, 'fitness_example') \n",
    "    try:\n",
    "        generational = GenerationalGA.load_genetic_algorithm(folder=folder)\n",
    "    except FileNotFoundError:\n",
    "        os.makedirs(folder, exist_ok=True)\n",
    "\n",
    "        # Load data\n",
    "        dm = DataManager(dataset, clases=classes, folder_var_mnist=data_folder, max_examples=12000)\n",
    "        data = dm.load_data()\n",
    "        fitness_cnn.set_params(data=data, verbose=verbose, batch_size=batch_size,\n",
    "                       epochs=epochs, base_lr=base_lr, smooth_label=smooth, find_lr=lr_find,\n",
    "                       precise_epochs=precise_eps)\n",
    "\n",
    "        fitness_cnn.save(fitness_file)\n",
    "\n",
    "        del dm, data\n",
    "\n",
    "        fitness = FitnessCNNParallel()\n",
    "        fitness.set_params(chrom_files_folder=fitness_folder, fitness_file=fitness_file, max_gpus=gpus,\n",
    "                       fp=32, main_line=command)\n",
    "\n",
    "        generational = GenerationalGA(fitness=fitness, num_parents=num_parents, chromosome=c, parent_selector=p,\n",
    "                                  generations=generations, num_population=population, maximize_fitness=maximize_fit, \n",
    "                                  training_hours=train_time, folder=folder, statistical_validation=stat_val,\n",
    "                                  save_progress=save_progress, age_survivors_rate=age_survivors_rate,\n",
    "                                  precision_val=precision_val, precision_individuals=precision_individuals)\n",
    "\n",
    "    ti_all = time()\n",
    "    winner, best_fit, ranking = generational.evolve()\n",
    "    print(\"Total elapsed time: %0.3f\" % (time() - ti_all))"
   ]
  },
  {
   "cell_type": "code",
   "execution_count": 30,
   "metadata": {},
   "outputs": [],
   "source": [
    "import numpy as np\n",
    "import matplotlib.pyplot as plt\n",
    "%matplotlib inline"
   ]
  },
  {
   "cell_type": "code",
   "execution_count": 240,
   "metadata": {},
   "outputs": [
    {
     "name": "stdout",
     "output_type": "stream",
     "text": [
      "0.026967247994862508\n"
     ]
    },
    {
     "data": {
      "image/png": "[encoded data removed]",
      "text/plain": [
       "<Figure size 432x288 with 1 Axes>"
      ]
     },
     "metadata": {
      "needs_background": "light"
     },
     "output_type": "display_data"
    },
    {
     "data": {
      "image/png": "[encoded data removed]",
      "text/plain": [
       "<Figure size 432x288 with 1 Axes>"
      ]
     },
     "metadata": {
      "needs_background": "light"
     },
     "output_type": "display_data"
    },
    {
     "data": {
      "image/png": "[encoded data removed]",
      "text/plain": [
       "<Figure size 432x288 with 1 Axes>"
      ]
     },
     "metadata": {
      "needs_background": "light"
     },
     "output_type": "display_data"
    }
   ],
   "source": [
    "\n",
    "max_val = 0.1\n",
    "min_val = 0.0001\n",
    "x = np.random.rand(100000)\n",
    "\n",
    "def p_(x_):\n",
    "    return (np.exp(2 * (x_)) - 1) * ((max_val - min_val) / (np.exp(2) - 1)) + min_val\n",
    "\n",
    "def dp2_(p, dx):\n",
    "    return np.exp(2*dx) * p + p_(dx)\n",
    "\n",
    "def dp_(x_):\n",
    "    return 2 * np.exp(2 * x_)/(np.exp(2) - 1)\n",
    "\n",
    "\n",
    "p = p_(x)\n",
    "\n",
    "N=10\n",
    "X = [0]\n",
    "DP = [p_(X[0])]\n",
    "for i in range(N):\n",
    "    X.append(X[-1] + (1/N))\n",
    "    DP.append(dp2_(DP[-1], 1/N))\n",
    "P = [p_(k) for k in X]\n",
    "\n",
    "print(p_(0.5))\n",
    "plt.scatter(x,p, marker='.'); plt.show()\n",
    "plt.scatter(x,dp_(x), marker='.'); plt.show()\n",
    "plt.scatter(X,P, marker='.')\n",
    "plt.scatter(X,DP, marker='.'); plt.show()"
   ]
  },
  {
   "cell_type": "code",
   "execution_count": 112,
   "metadata": {},
   "outputs": [
    {
     "name": "stdout",
     "output_type": "stream",
     "text": [
      "0.3430433703383345 0.9999759090405599 5.555410258235787e-07\n"
     ]
    },
    {
     "data": {
      "image/png": "[encoded data removed]",
      "text/plain": [
       "<Figure size 432x288 with 1 Axes>"
      ]
     },
     "metadata": {
      "needs_background": "light"
     },
     "output_type": "display_data"
    }
   ],
   "source": [
    "print(np.mean(p), np.max(p), np.min(p))\n",
    "plt.hist(p, density=True)\n",
    "plt.show()"
   ]
  },
  {
   "cell_type": "code",
   "execution_count": 211,
   "metadata": {},
   "outputs": [],
   "source": [
    "import random\n",
    "\n",
    "def gauss_mutation(val, max_val, min_val, int_=True):\n",
    "        m = 0\n",
    "        s = (max_val - min_val) / 20\n",
    "        new_val = val + random.gauss(m, s)\n",
    "        if int_:\n",
    "            new_val = int(new_val)\n",
    "        if new_val < min_val:\n",
    "            new_val = 2 * min_val - new_val\n",
    "        elif new_val > max_val:\n",
    "            new_val = max_val - (new_val - max_val)\n",
    "        if new_val > max_val or new_val < min_val:\n",
    "            new_val = gauss_mutation(val, max_val, min_val, int_)\n",
    "        return new_val"
   ]
  },
  {
   "cell_type": "code",
   "execution_count": 214,
   "metadata": {},
   "outputs": [
    {
     "name": "stdout",
     "output_type": "stream",
     "text": [
      "0.7 0.6998664008604452 0.9184550780636797 0.4823488497493553\n"
     ]
    },
    {
     "data": {
      "image/png": "[encoded data removed]",
      "text/plain": [
       "<Figure size 432x288 with 1 Axes>"
      ]
     },
     "metadata": {
      "needs_background": "light"
     },
     "output_type": "display_data"
    },
    {
     "name": "stdout",
     "output_type": "stream",
     "text": [
      "0.4781926969393851 0.4812051335578725 0.8259612820997018 0.25418375995225023\n"
     ]
    },
    {
     "data": {
      "image/png": "[encoded data removed]",
      "text/plain": [
       "<Figure size 432x288 with 1 Axes>"
      ]
     },
     "metadata": {
      "needs_background": "light"
     },
     "output_type": "display_data"
    }
   ],
   "source": [
    "val = 0.7\n",
    "gm = [gauss_mutation(val, 1, 0, False) for xi in x]\n",
    "p_gm = p_(np.array(gm))\n",
    "print(val, np.mean(gm), np.max(gm), np.min(gm))\n",
    "\n",
    "plt.hist(gm, density=True); plt.xlim([0,1]); plt.show()\n",
    "print(p_(val), np.mean(p_gm), np.max(p_gm), np.min(p_gm))\n",
    "plt.hist(p_gm, density=True); plt.scatter(p_(val), 15, c='r'); plt.xlim([0,1]); plt.show()"
   ]
  },
  {
   "cell_type": "code",
   "execution_count": 241,
   "metadata": {},
   "outputs": [],
   "source": [
    "def cross_lr_gen(lr_gen_1, lr_gen_2):\n",
    "    b = np.random.rand()\n",
    "    return lr_gen_1 * b + (1 - b) * lr_gen_2"
   ]
  },
  {
   "cell_type": "code",
   "execution_count": 256,
   "metadata": {},
   "outputs": [
    {
     "name": "stdout",
     "output_type": "stream",
     "text": [
      "0.661192265852363\n"
     ]
    }
   ],
   "source": [
    "print(cross_lr_gen(0.5,0.8))"
   ]
  },
  {
   "cell_type": "code",
   "execution_count": null,
   "metadata": {},
   "outputs": [],
   "source": []
  },
  {
   "cell_type": "code",
   "execution_count": null,
   "metadata": {},
   "outputs": [],
   "source": []
  }
 ],
 "metadata": {
  "kernelspec": {
   "display_name": "Python 3",
   "language": "python",
   "name": "python3"
  },
  "language_info": {
   "codemirror_mode": {
    "name": "ipython",
    "version": 3
   },
   "file_extension": ".py",
   "mimetype": "text/x-python",
   "name": "python",
   "nbconvert_exporter": "python",
   "pygments_lexer": "ipython3",
   "version": "3.7.3"
  }
 },
 "nbformat": 4,
 "nbformat_minor": 2
}
