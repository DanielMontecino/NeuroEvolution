{
 "cells": [
  {
   "cell_type": "code",
   "execution_count": 1,
   "metadata": {},
   "outputs": [
    {
     "name": "stderr",
     "output_type": "stream",
     "text": [
      "Using TensorFlow backend.\n"
     ]
    }
   ],
   "source": [
    "import os\n",
    "from time import time\n",
    "import numpy as np\n",
    "import sys\n",
    "sys.path.append('../')\n",
    "\n",
    "from utils.codification_cnn import CNNLayer, NNLayer, ChromosomeCNN, FitnessCNN, FitnessCNNParallel\n",
    "from utils.datamanager import DataManager\n",
    "from utils.codification_skipc import ChromosomeSkip, FitnessSkip, Connections\n",
    "from GA.parentSelector.parentSelector import RandomParentSelector, TournamentSelection, LinealOrder, WheelSelection\n",
    "from GA.geneticAlgorithm import GenerationalGA\n"
   ]
  },
  {
   "cell_type": "code",
   "execution_count": 2,
   "metadata": {},
   "outputs": [
    {
     "data": {
      "text/plain": [
       "'posix'"
      ]
     },
     "execution_count": 2,
     "metadata": {},
     "output_type": "execute_result"
    }
   ],
   "source": [
    "os.cpu_count()\n",
    "os.name"
   ]
  },
  {
   "cell_type": "code",
   "execution_count": 3,
   "metadata": {},
   "outputs": [],
   "source": [
    "# Chromosome parameters\n",
    "mutation_rate = 0.05\n",
    "mutation_rate_1 = mutation_rate * 2\n",
    "ChromosomeSkip.grow_prob = mutation_rate\n",
    "ChromosomeSkip.decrease_prob = mutation_rate\n",
    "\n",
    "CNNLayer.k_prob = mutation_rate\n",
    "CNNLayer.filter_prob = mutation_rate_1\n",
    "CNNLayer.act_prob = mutation_rate\n",
    "CNNLayer.drop_prob = mutation_rate_1\n",
    "CNNLayer.maxpool_prob = mutation_rate\n",
    "\n",
    "NNLayer.units_prob = mutation_rate_1\n",
    "NNLayer.act_prob = mutation_rate\n",
    "NNLayer.drop_prob = mutation_rate_1\n",
    "\n",
    "CNNLayer.filters_lim = 128\n",
    "\n",
    "\n",
    "if os.cpu_count() == 8:\n",
    "    data_folder = '/home/daniel/datasets/MNIST_variations'\n",
    "    command = 'python ./../train_gen.py'\n",
    "    verbose = 1\n",
    "    experiments_folder = '../exps4'\n",
    "    gpus = 1\n",
    "    epochs = 2\n",
    "    precise_eps = 5\n",
    "    num_parents = 0.25 * 2\n",
    "    generations = 2\n",
    "    population = 4\n",
    "    precision_individuals = 1\n",
    "else:\n",
    "    data_folder = '../../datasets'\n",
    "    command = 'python3 ./train_gen.py'\n",
    "    verbose = 0\n",
    "    experiments_folder = '../../exps'\n",
    "    gpus = 2\n",
    "    epochs = 15\n",
    "    precise_eps = 75\n",
    "    num_parents = 0.25\n",
    "    generations = 30\n",
    "    population = 20\n",
    "    precision_individuals = 3\n",
    "\n",
    "skip = True"
   ]
  },
  {
   "cell_type": "code",
   "execution_count": 5,
   "metadata": {},
   "outputs": [],
   "source": [
    "experiments_folder = experiments_folder\n",
    "os.makedirs(experiments_folder, exist_ok=True)\n",
    "\n",
    "if skip:\n",
    "    fitness_cnn = FitnessSkip()\n",
    "else:\n",
    "    fitness_cnn = FitnessCNN()\n",
    "\n",
    "l = CNNLayer(32, (3,3), 'relu', 0, False)\n",
    "l2 = CNNLayer(64, (3,3), 'relu', 0.25, True)\n",
    "l3 = NNLayer(128, 'relu', 0.5)\n",
    "c = ChromosomeCNN([l, l2], [l3], fitness_cnn)\n",
    "if skip:\n",
    "    c = ChromosomeSkip(c.cnn_layers, c.nn_layers, Connections.random_connections(len(c.cnn_layers)))\n",
    "    \n",
    "# dataset params:\n",
    "data_folder = data_folder\n",
    "classes = []\n",
    "\n",
    "# genetic algorithm params:\n",
    "parents_selector_key = 'tournament'\n",
    "num_parents = num_parents\n",
    "generations = generations\n",
    "population = population\n",
    "train_time = 10\n",
    "maximize_fit = False\n",
    "stat_val = True\n",
    "save_progress = True\n",
    "age_survivors_rate = 0.05\n",
    "precision_val = True\n",
    "precision_individuals = precision_individuals\n",
    "\n",
    "ps = {'random':RandomParentSelector(), 'lineal':LinealOrder(), 'wheel':WheelSelection(), \n",
    "      'tournament':TournamentSelection(population//4)}\n",
    "p = ps[parents_selector_key]\n",
    "\n",
    "# Fitness params\n",
    "epochs = epochs\n",
    "batch_size = 128\n",
    "verbose = verbose\n",
    "redu_plat = False\n",
    "early_stop = 15\n",
    "warm_up_epochs= 0\n",
    "base_lr = 0.001\n",
    "smooth = 0.1\n",
    "cosine_dec = True\n",
    "lr_find = False\n",
    "precise_eps = precise_eps\n",
    "\n",
    "datasets = ['MB', 'MBI', 'MRB', 'MRD', 'MRDBI']\n",
    "datasets = ['MRDBI']"
   ]
  },
  {
   "cell_type": "code",
   "execution_count": null,
   "metadata": {
    "scrolled": true
   },
   "outputs": [
    {
     "name": "stdout",
     "output_type": "stream",
     "text": [
      "\n",
      "EVOLVING IN DATASET MRDBI ...\n",
      "\n",
      "(9600, 28, 28, 1) train samples\n",
      "(2400, 28, 28, 1) validation samples\n",
      "(50000, 28, 28, 1) test samples\n",
      "Number of individuals eliminated by age: 0\n",
      "Genetic algorithm params\n",
      "Number of generations: 2\n",
      "Population size: 4\n",
      "Folder to save: ../exps4/MRDBI/genetic/0_2019-06-26-17:29/GA_experiment\n",
      "num parents: 2\n",
      "offspring size: 2\n",
      "\n",
      "Creating Initial population\n",
      "\n",
      "Start evolution process...\n",
      "\n",
      "1) best fit: 0.658 in batch time: 3.69 mins\n",
      "Current winner:\n",
      "CNN|F:108|K:(1,5)|A:tanh|D:0.926|M:0\n",
      "\n",
      "Saving... Elapsed saved time: 0.168\n",
      "2) best fit: 0.614 in batch time: 11.06 mins\n",
      "Current winner:\n",
      "CNN|F:94|K:(1,5)|A:elu|D:0.322|M:0\n",
      "CNN|F:48|K:(3,1)|A:elu|D:0.743|M:0\n",
      "CNN|F:84|K:(7,3)|A:elu|D:0.623|M:0\n",
      "NN|U:747|A:leakyreLu|D:0.192\n",
      "1\n",
      "01\n",
      "\n",
      "Saving... Elapsed saved time: 0.000\n",
      "Making statistical validation\n"
     ]
    }
   ],
   "source": [
    "for dataset in datasets:\n",
    "    print(\"\\nEVOLVING IN DATASET %s ...\\n\" % dataset)\n",
    "    exp_folder = os.path.join(experiments_folder, dataset)\n",
    "    folder = os.path.join(exp_folder, 'genetic')\n",
    "    fitness_folder = exp_folder\n",
    "    fitness_file = os.path.join(fitness_folder, 'fitness_example')   \n",
    "    os.makedirs(folder, exist_ok=True)\n",
    "\n",
    "    # Load data\n",
    "    dm = DataManager(dataset, clases=classes, folder_var_mnist=data_folder)\n",
    "    data = dm.load_data()\n",
    "    fitness_cnn.set_params(data=data, verbose=verbose, batch_size=batch_size, reduce_plateau=redu_plat,\n",
    "                   epochs=epochs, cosine_decay=cosine_dec, early_stop=early_stop, \n",
    "                   warm_epochs=warm_up_epochs, base_lr=base_lr, smooth_label=smooth, find_lr=lr_find,\n",
    "                   precise_epochs=precise_eps)\n",
    "\n",
    "    fitness_cnn.save(fitness_file)\n",
    "\n",
    "    del dm, data\n",
    "    \n",
    "    fitness = FitnessCNNParallel()\n",
    "    fitness.set_params(chrom_files_folder=fitness_folder, fitness_file=fitness_file, max_gpus=gpus,\n",
    "                   fp=32, main_line=command)\n",
    "    \n",
    "    generational = GenerationalGA(fitness=fitness, num_parents=num_parents, chromosome=c, parent_selector=p,\n",
    "                              generations=generations, num_population=population, maximize_fitness=maximize_fit, \n",
    "                              training_hours=train_time, folder=folder, statistical_validation=stat_val,\n",
    "                              save_progress=save_progress, age_survivors_rate=age_survivors_rate,\n",
    "                              precision_val=precision_val, precision_individuals=precision_individuals)\n",
    "    \n",
    "    ti_all = time()\n",
    "    winner, best_fit, ranking = generational.evolve()\n",
    "    print(\"Total elapsed time: %0.3f\" % (time() - ti_all))"
   ]
  },
  {
   "cell_type": "code",
   "execution_count": null,
   "metadata": {},
   "outputs": [],
   "source": []
  }
 ],
 "metadata": {
  "kernelspec": {
   "display_name": "Python 3",
   "language": "python",
   "name": "python3"
  },
  "language_info": {
   "codemirror_mode": {
    "name": "ipython",
    "version": 3
   },
   "file_extension": ".py",
   "mimetype": "text/x-python",
   "name": "python",
   "nbconvert_exporter": "python",
   "pygments_lexer": "ipython3",
   "version": "3.6.7"
  }
 },
 "nbformat": 4,
 "nbformat_minor": 2
}
