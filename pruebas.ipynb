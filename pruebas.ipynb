{
 "cells": [
  {
   "cell_type": "code",
   "execution_count": 1,
   "metadata": {},
   "outputs": [
    {
     "name": "stderr",
     "output_type": "stream",
     "text": [
      "Using TensorFlow backend.\n"
     ]
    }
   ],
   "source": [
    "from __future__ import print_function\n",
    "\n",
    "from keras.models import  Model\n",
    "from keras.layers import Dense, Dropout, Input, Flatten, PReLU, LeakyReLU\n",
    "from keras.optimizers import RMSprop, Adam, SGD\n",
    "from keras.callbacks import EarlyStopping, ReduceLROnPlateau\n",
    "\n",
    "from time import time\n",
    "\n",
    "import random\n",
    "import numpy as np\n",
    "import matplotlib.pyplot as plt\n",
    "%matplotlib inline\n",
    "\n",
    "from GA.geneticAlgorithm import GenerationalGA\n",
    "from GA.parentSelector.parentSelector import RandomParentSelector, LinealOrder, TournamentSelection\n",
    "from GA.parentSelector.parentSelector import WheelSelection, LinealOrderII\n",
    "from utils.datamanager import DataManager\n",
    "\n",
    "\n",
    "class Layer(object):\n",
    "    def __init__(self, units=128, activation='relu', dropout=0):\n",
    "        self.units = units\n",
    "        self.posible_activations = ['relu', 'sigmoid', 'tanh', 'elu', 'prelu', 'leakyreLu']\n",
    "        assert activation in self.posible_activations\n",
    "        self.activation = activation\n",
    "        self.dropout = dropout\n",
    "        self.units_lim = 1024\n",
    "        self.units_prob = 0.2\n",
    "        self.act_prob = 0.2\n",
    "        self.drop_prob = 0.2\n",
    "\n",
    "    def cross(self, other_layer):\n",
    "        new_units = self.cross_units(other_layer.units)\n",
    "        new_activation = self.cross_activation(other_layer.activation)\n",
    "        new_dropout = self.cross_dropout(other_layer.dropout)\n",
    "        return Layer(new_units, new_activation, new_dropout)\n",
    "\n",
    "    def cross_activation(self, other_activation):\n",
    "        if np.random.rand() > 0.5:\n",
    "            return self.activation\n",
    "        return other_activation\n",
    "\n",
    "    def cross_dropout(self, other_dropout):\n",
    "        b = np.random.rand()\n",
    "        return self.dropout * (1 - b) + b * other_dropout\n",
    "\n",
    "    def cross_units(self, other_units):\n",
    "        b = np.random.rand()\n",
    "        return int(self.units * (1 - b) + other_units * b)\n",
    "\n",
    "    def mutate(self):\n",
    "        aleatory = np.random.rand(4)\n",
    "        if aleatory[0] < self.units_prob:\n",
    "            self.units = np.random.randint(0, self.units_lim)\n",
    "        if aleatory[1] < self.act_prob:\n",
    "            self.activation = random.choice(self.posible_activations)\n",
    "        if aleatory[2] < self.drop_prob:\n",
    "            self.dropout = np.random.rand()\n",
    "\n",
    "    def compare(self, other_layer):\n",
    "        if self.units != other_layer.units:\n",
    "            return False\n",
    "        if self.activation != other_layer.activation:\n",
    "            return False\n",
    "        if self.dropout != other_layer.dropout:\n",
    "            return False\n",
    "        return True\n",
    "\n",
    "    def self_copy(self):\n",
    "        return Layer(self.units, self.activation, self.dropout)\n",
    "\n",
    "    def random_layer(self):\n",
    "        units = np.random.randint(0, self.units_lim)\n",
    "        act = random.choice(self.posible_activations)\n",
    "        drop = np.random.rand()\n",
    "        return Layer(units, act, drop)\n",
    "\n",
    "    def __repr__(self):\n",
    "        return \"U:%d|A:%s|D:%0.3f\" % (self.units, self.activation, self.dropout)\n",
    "\n",
    "\n",
    "class Cromosome(object):\n",
    "\n",
    "    def __init__(self, layers=[], fit=None):\n",
    "        assert type(layers) == list\n",
    "        self.n_layers = len(layers)\n",
    "        self.layers = layers\n",
    "        self.max_layers = 10\n",
    "        self.layer_prob = 0.1\n",
    "        self.fit = None\n",
    "        self.evaluator = Fitness.get_instance()\n",
    "\n",
    "    def set_fitness(self, fit):\n",
    "        self.evaluator = fit\n",
    "\n",
    "    def random_indiv(self):\n",
    "        n_layers = np.random.randint(0, self.max_layers)\n",
    "        layers = [Layer().random_layer() for i in range(n_layers)]\n",
    "        return Cromosome(layers)\n",
    "\n",
    "    @staticmethod\n",
    "    def simple_indiv():\n",
    "        return Cromosome([Layer()])\n",
    "\n",
    "    def cross(self, other_cromosome):\n",
    "        new_layers = []\n",
    "\n",
    "        if self.n_layers == 0:\n",
    "            return other_cromosome\n",
    "\n",
    "        n_intersection = np.random.randint(0, self.n_layers)\n",
    "        for i in range(self.n_layers):\n",
    "            if i < n_intersection or i >= other_cromosome.n_layers:\n",
    "                new_layers.append(self.layers[i].self_copy())\n",
    "            else:\n",
    "                try:\n",
    "                    new_layers.append(self.layers[i].cross(other_cromosome.layers[i - n_intersection]))\n",
    "                except IndexError:\n",
    "                    print(\"Problem with index %d\" % i)\n",
    "                    print(\"Intersection point at %d\" % n_intersection)\n",
    "                    print(len(self.layers), self.layers)\n",
    "                    print(len(other_cromosome.layers), other_cromosome.layers)\n",
    "                    print(len(new_layers), new_layers)\n",
    "                    raise IndexError\n",
    "        return Cromosome(new_layers)\n",
    "\n",
    "    def mutate(self):\n",
    "        for i in range(self.n_layers):\n",
    "            self.layers[i].mutate()\n",
    "        if np.random.rand() < self.layer_prob and self.n_layers < self.max_layers:\n",
    "            self.layers.append(Layer().random_layer())\n",
    "            self.n_layers = len(self.layers)\n",
    "\n",
    "    def equals(self, other_cromosome):\n",
    "        if self.n_layers != other_cromosome.n_layers:\n",
    "            return False\n",
    "        for i in range(self.n_layers):\n",
    "            if not self.layers[i].compare(other_cromosome.layers[i]):\n",
    "                return False\n",
    "        return True\n",
    "\n",
    "    def __repr__(self):\n",
    "        rep = \"\"\n",
    "        for i in range(self.n_layers):\n",
    "            rep += \"%d - %s \\n\" % (i, self.layers[i])\n",
    "        return rep\n",
    "\n",
    "    def fitness(self):\n",
    "        if self.fit is None:\n",
    "            self.fit = self.evaluator.calc(self)\n",
    "        return self.fit\n",
    "\n",
    "\n",
    "class Fitness:\n",
    "    __instance = None\n",
    "\n",
    "    @staticmethod\n",
    "    def get_instance():\n",
    "        \"\"\" Static access method. \"\"\"\n",
    "        if Fitness.__instance == None:\n",
    "            Fitness()\n",
    "        return Fitness.__instance\n",
    "\n",
    "    def __init__(self):\n",
    "        \"\"\" Virtually private constructor. \"\"\"\n",
    "        if Fitness.__instance != None:\n",
    "            raise Exception(\"This class is a singleton!\")\n",
    "        else:\n",
    "            Fitness.__instance = self\n",
    "\n",
    "    def set_params(self, data, batch_size=128, epochs=100, early_stop=True, reduce_plateau=True, verbose=1):\n",
    "        self.batch_size = batch_size\n",
    "        self.epochs = epochs\n",
    "        self.early_stop = early_stop\n",
    "        self.reduce_plateu = reduce_plateau\n",
    "        self.verb = verbose\n",
    "        (self.x_train, self.y_train), (self.x_test, self.y_test), (self.x_val, self.y_val) = data\n",
    "        self.num_clases = self.y_train.shape[1]\n",
    "        self.callbacks = []\n",
    "        if self.early_stop:\n",
    "            self.callbacks.append(EarlyStopping(monitor='val_acc', patience=10, restore_best_weights=True))\n",
    "        if self.reduce_plateu:\n",
    "            self.callbacks.append(ReduceLROnPlateau(monitor='val_acc', factor=0.2, patience=5, verbose=self.verb))\n",
    "        return self\n",
    "\n",
    "    def calc(self, chromosome):\n",
    "        model = self.decode(chromosome)\n",
    "        h = model.fit(self.x_train, self.y_train,\n",
    "                      batch_size=self.batch_size,\n",
    "                      epochs=self.epochs,\n",
    "                      verbose=self.verb,\n",
    "                      validation_data=(self.x_val, self.y_val),\n",
    "                      callbacks=self.callbacks)\n",
    "        score = model.evaluate(self.x_val, self.y_val, verbose=0)\n",
    "        score_t = model.evaluate(self.x_test, self.y_test, verbose=0)\n",
    "        if self.verb:\n",
    "            print('Val loss: %0.4f, Test loss: %0.4f' % (score[0], score_t[0]))\n",
    "            print('Val accuracy: %0.4f, Test accuracy: %0.4f' % (score[1], score_t[1]))\n",
    "            self.show_result(h, 'acc')\n",
    "            self.show_result(h, 'loss')\n",
    "        return score[1]\n",
    "\n",
    "    def decode(self, chromosome):\n",
    "\n",
    "        inp = Input(shape=(28, 28, 1))\n",
    "        x = Flatten()(inp)\n",
    "        for i in range(chromosome.n_layers):\n",
    "            act = chromosome.layers[i].activation\n",
    "            if act in ['relu', 'sigmoid', 'tanh', 'elu']:\n",
    "                x = Dense(chromosome.layers[i].units, activation=act)(x)\n",
    "            elif act == 'prelu':\n",
    "                x = Dense(chromosome.layers[i].units)(x)\n",
    "                x = PReLU()(x)\n",
    "            else:\n",
    "                x = Dense(chromosome.layers[i].units)(x)\n",
    "                x = LeakyReLU()(x)\n",
    "            x = Dropout(chromosome.layers[i].dropout)(x)\n",
    "        x = Dense(self.num_clases, activation='softmax')(x)\n",
    "\n",
    "        model = Model(inputs=inp, outputs=x)\n",
    "        if self.verb:\n",
    "            model.summary()\n",
    "        model.compile(loss='categorical_crossentropy',\n",
    "                      optimizer=Adam(),\n",
    "                      metrics=['accuracy'])\n",
    "        return model\n",
    "\n",
    "    def show_result(self, history, metric='acc'):\n",
    "        epochs = np.linspace(0, len(history.history['acc']) - 1, len(history.history['acc']))\n",
    "        plt.plot(epochs, history.history['val_%s' % metric], label='validation')\n",
    "        plt.plot(epochs, history.history[metric], label='train')\n",
    "        plt.legend()\n",
    "        plt.xlabel('Epochs')\n",
    "        plt.ylabel(metric)\n",
    "        plt.show()\n",
    "\n",
    "    def calc_mean(self, chromosome, iters=5):\n",
    "        f = []\n",
    "        ti = time()\n",
    "        for i in range(iters):\n",
    "            f.append(self.calc(chromosome))\n",
    "        print(\"Acc: %0.3f\" % np.mean(f), np.std(f), np.max(f))\n",
    "        print(\"Time elapsed: %0.3f\" % (time() - ti))"
   ]
  },
  {
   "cell_type": "code",
   "execution_count": 2,
   "metadata": {},
   "outputs": [
    {
     "name": "stdout",
     "output_type": "stream",
     "text": [
      "(9432, 28, 28, 1) train samples\n",
      "(2359, 28, 28, 1) validation samples\n",
      "(1991, 28, 28, 1) test samples\n",
      "Acc: 0.990 0.0006887696824616896 0.9910979229497323\n",
      "Time elapsed: 105.218\n",
      "Acc: 0.974 0.0004323034772015727 0.9749894023901732\n",
      "Time elapsed: 152.095\n",
      "Generic algorith params:\n",
      "Number of generations: 40\n",
      "Population size: 2\n",
      "num parents: 1\n",
      "offspring size: 1\n",
      "1) best fit: 0.989\n"
     ]
    },
    {
     "ename": "KeyboardInterrupt",
     "evalue": "",
     "output_type": "error",
     "traceback": [
      "\u001b[0;31m---------------------------------------------------------------------------\u001b[0m",
      "\u001b[0;31mKeyboardInterrupt\u001b[0m                         Traceback (most recent call last)",
      "\u001b[0;32m<ipython-input-2-957612bf628c>\u001b[0m in \u001b[0;36m<module>\u001b[0;34m\u001b[0m\n\u001b[1;32m     18\u001b[0m generational = GenerationalGA(num_parents=0.5, chromosome=c, parent_selector=p, generations=40, num_population=2, crossover_prob=0.5,\n\u001b[1;32m     19\u001b[0m                  mutation_prob=0.7, maximize_fitness=True)\n\u001b[0;32m---> 20\u001b[0;31m \u001b[0mwinner\u001b[0m\u001b[0;34m,\u001b[0m \u001b[0mbest_fit\u001b[0m\u001b[0;34m,\u001b[0m \u001b[0mranking\u001b[0m \u001b[0;34m=\u001b[0m \u001b[0mgenerational\u001b[0m\u001b[0;34m.\u001b[0m\u001b[0mevolve\u001b[0m\u001b[0;34m(\u001b[0m\u001b[0;34m)\u001b[0m\u001b[0;34m\u001b[0m\u001b[0m\n\u001b[0m\u001b[1;32m     21\u001b[0m \u001b[0mprint\u001b[0m\u001b[0;34m(\u001b[0m\u001b[0;34m\"Total elapsed time: %0.3f\"\u001b[0m \u001b[0;34m%\u001b[0m \u001b[0;34m(\u001b[0m\u001b[0mtime\u001b[0m\u001b[0;34m(\u001b[0m\u001b[0;34m)\u001b[0m \u001b[0;34m-\u001b[0m \u001b[0mti_all\u001b[0m\u001b[0;34m)\u001b[0m\u001b[0;34m)\u001b[0m\u001b[0;34m\u001b[0m\u001b[0m\n\u001b[1;32m     22\u001b[0m \u001b[0mfitness\u001b[0m\u001b[0;34m.\u001b[0m\u001b[0mcalc_mean\u001b[0m\u001b[0;34m(\u001b[0m\u001b[0mwinner\u001b[0m\u001b[0;34m)\u001b[0m\u001b[0;34m\u001b[0m\u001b[0m\n",
      "\u001b[0;32m~/proyectos/Tesis/project/GA/NeuroEvolution/GA/geneticAlgorithm.py\u001b[0m in \u001b[0;36mevolve\u001b[0;34m(self, show)\u001b[0m\n\u001b[1;32m    118\u001b[0m             \u001b[0;32mif\u001b[0m \u001b[0mgeneration\u001b[0m \u001b[0;34m==\u001b[0m \u001b[0mself\u001b[0m\u001b[0;34m.\u001b[0m\u001b[0mnum_generations\u001b[0m\u001b[0;34m:\u001b[0m\u001b[0;34m\u001b[0m\u001b[0m\n\u001b[1;32m    119\u001b[0m                 \u001b[0;32mbreak\u001b[0m\u001b[0;34m\u001b[0m\u001b[0m\n\u001b[0;32m--> 120\u001b[0;31m             \u001b[0mnext_generation\u001b[0m\u001b[0;34m,\u001b[0m \u001b[0mall_parents\u001b[0m \u001b[0;34m=\u001b[0m \u001b[0mself\u001b[0m\u001b[0;34m.\u001b[0m\u001b[0mparent_selector\u001b[0m\u001b[0;34m.\u001b[0m\u001b[0mnext_gen\u001b[0m\u001b[0;34m(\u001b[0m\u001b[0mpopulation\u001b[0m\u001b[0;34m,\u001b[0m \u001b[0mself\u001b[0m\u001b[0;34m.\u001b[0m\u001b[0moffspring_size\u001b[0m\u001b[0;34m)\u001b[0m\u001b[0;34m\u001b[0m\u001b[0m\n\u001b[0m\u001b[1;32m    121\u001b[0m             \u001b[0mpopulation\u001b[0m \u001b[0;34m=\u001b[0m \u001b[0mself\u001b[0m\u001b[0;34m.\u001b[0m\u001b[0mreplace\u001b[0m\u001b[0;34m(\u001b[0m\u001b[0mpopulation\u001b[0m\u001b[0;34m,\u001b[0m \u001b[0mnext_generation\u001b[0m\u001b[0;34m,\u001b[0m \u001b[0mall_parents\u001b[0m\u001b[0;34m)\u001b[0m\u001b[0;34m\u001b[0m\u001b[0m\n\u001b[1;32m    122\u001b[0m \u001b[0;34m\u001b[0m\u001b[0m\n",
      "\u001b[0;32m~/proyectos/Tesis/project/GA/NeuroEvolution/GA/parentSelector/parentSelector.py\u001b[0m in \u001b[0;36mnext_gen\u001b[0;34m(self, population, num_offspring)\u001b[0m\n\u001b[1;32m     28\u001b[0m         \u001b[0mall_parents\u001b[0m \u001b[0;34m=\u001b[0m \u001b[0;34m[\u001b[0m\u001b[0;34m]\u001b[0m\u001b[0;34m\u001b[0m\u001b[0m\n\u001b[1;32m     29\u001b[0m         \u001b[0;32mfor\u001b[0m \u001b[0mn\u001b[0m \u001b[0;32min\u001b[0m \u001b[0mrange\u001b[0m\u001b[0;34m(\u001b[0m\u001b[0mnum_offspring\u001b[0m\u001b[0;34m)\u001b[0m\u001b[0;34m:\u001b[0m\u001b[0;34m\u001b[0m\u001b[0m\n\u001b[0;32m---> 30\u001b[0;31m             \u001b[0moffspring\u001b[0m\u001b[0;34m,\u001b[0m \u001b[0mparents\u001b[0m \u001b[0;34m=\u001b[0m \u001b[0mself\u001b[0m\u001b[0;34m.\u001b[0m\u001b[0mget_one_offspring\u001b[0m\u001b[0;34m(\u001b[0m\u001b[0mpopulation\u001b[0m\u001b[0;34m)\u001b[0m\u001b[0;34m\u001b[0m\u001b[0m\n\u001b[0m\u001b[1;32m     31\u001b[0m             \u001b[0mnext_generation\u001b[0m\u001b[0;34m.\u001b[0m\u001b[0mappend\u001b[0m\u001b[0;34m(\u001b[0m\u001b[0moffspring\u001b[0m\u001b[0;34m)\u001b[0m\u001b[0;34m\u001b[0m\u001b[0m\n\u001b[1;32m     32\u001b[0m             \u001b[0mall_parents\u001b[0m\u001b[0;34m.\u001b[0m\u001b[0mappend\u001b[0m\u001b[0;34m(\u001b[0m\u001b[0mparents\u001b[0m\u001b[0;34m)\u001b[0m\u001b[0;34m\u001b[0m\u001b[0m\n",
      "\u001b[0;32m~/proyectos/Tesis/project/GA/NeuroEvolution/GA/parentSelector/parentSelector.py\u001b[0m in \u001b[0;36mget_one_offspring\u001b[0;34m(self, population)\u001b[0m\n\u001b[1;32m    132\u001b[0m         \u001b[0moffspring\u001b[0m \u001b[0;34m=\u001b[0m \u001b[0mparent1\u001b[0m\u001b[0;34m.\u001b[0m\u001b[0mcross\u001b[0m\u001b[0;34m(\u001b[0m\u001b[0mparent2\u001b[0m\u001b[0;34m)\u001b[0m\u001b[0;34m\u001b[0m\u001b[0m\n\u001b[1;32m    133\u001b[0m         \u001b[0moffspring\u001b[0m\u001b[0;34m.\u001b[0m\u001b[0mmutate\u001b[0m\u001b[0;34m(\u001b[0m\u001b[0;34m)\u001b[0m\u001b[0;34m\u001b[0m\u001b[0m\n\u001b[0;32m--> 134\u001b[0;31m         \u001b[0mself\u001b[0m\u001b[0;34m.\u001b[0m\u001b[0meval_individual\u001b[0m\u001b[0;34m(\u001b[0m\u001b[0moffspring\u001b[0m\u001b[0;34m)\u001b[0m\u001b[0;34m\u001b[0m\u001b[0m\n\u001b[0m\u001b[1;32m    135\u001b[0m         \u001b[0;32mreturn\u001b[0m \u001b[0moffspring\u001b[0m\u001b[0;34m,\u001b[0m \u001b[0;34m(\u001b[0m\u001b[0mparent1\u001b[0m\u001b[0;34m,\u001b[0m \u001b[0mparent2\u001b[0m\u001b[0;34m)\u001b[0m\u001b[0;34m\u001b[0m\u001b[0m\n\u001b[1;32m    136\u001b[0m \u001b[0;34m\u001b[0m\u001b[0m\n",
      "\u001b[0;32m~/proyectos/Tesis/project/GA/NeuroEvolution/GA/parentSelector/parentSelector.py\u001b[0m in \u001b[0;36meval_individual\u001b[0;34m(self, chromosome)\u001b[0m\n\u001b[1;32m     19\u001b[0m         \u001b[0mgen\u001b[0m \u001b[0;34m=\u001b[0m \u001b[0mchromosome\u001b[0m\u001b[0;34m.\u001b[0m\u001b[0m__repr__\u001b[0m\u001b[0;34m(\u001b[0m\u001b[0;34m)\u001b[0m\u001b[0;34m\u001b[0m\u001b[0m\n\u001b[1;32m     20\u001b[0m         \u001b[0;32mif\u001b[0m \u001b[0mgen\u001b[0m \u001b[0;32mnot\u001b[0m \u001b[0;32min\u001b[0m \u001b[0mself\u001b[0m\u001b[0;34m.\u001b[0m\u001b[0mhistory_fitness\u001b[0m\u001b[0;34m.\u001b[0m\u001b[0mkeys\u001b[0m\u001b[0;34m(\u001b[0m\u001b[0;34m)\u001b[0m\u001b[0;34m:\u001b[0m\u001b[0;34m\u001b[0m\u001b[0m\n\u001b[0;32m---> 21\u001b[0;31m             \u001b[0mself\u001b[0m\u001b[0;34m.\u001b[0m\u001b[0mhistory_fitness\u001b[0m\u001b[0;34m[\u001b[0m\u001b[0mgen\u001b[0m\u001b[0;34m]\u001b[0m \u001b[0;34m=\u001b[0m \u001b[0mchromosome\u001b[0m\u001b[0;34m.\u001b[0m\u001b[0mfitness\u001b[0m\u001b[0;34m(\u001b[0m\u001b[0;34m)\u001b[0m\u001b[0;34m\u001b[0m\u001b[0m\n\u001b[0m\u001b[1;32m     22\u001b[0m         \u001b[0;32melif\u001b[0m \u001b[0mchromosome\u001b[0m\u001b[0;34m.\u001b[0m\u001b[0mfit\u001b[0m \u001b[0;32mis\u001b[0m \u001b[0;32mNone\u001b[0m\u001b[0;34m:\u001b[0m\u001b[0;34m\u001b[0m\u001b[0m\n\u001b[1;32m     23\u001b[0m             \u001b[0mchromosome\u001b[0m\u001b[0;34m.\u001b[0m\u001b[0mfit\u001b[0m \u001b[0;34m=\u001b[0m \u001b[0mself\u001b[0m\u001b[0;34m.\u001b[0m\u001b[0mhistory_fitness\u001b[0m\u001b[0;34m[\u001b[0m\u001b[0mgen\u001b[0m\u001b[0;34m]\u001b[0m\u001b[0;34m\u001b[0m\u001b[0m\n",
      "\u001b[0;32m<ipython-input-1-fd537044a60f>\u001b[0m in \u001b[0;36mfitness\u001b[0;34m(self)\u001b[0m\n\u001b[1;32m    149\u001b[0m     \u001b[0;32mdef\u001b[0m \u001b[0mfitness\u001b[0m\u001b[0;34m(\u001b[0m\u001b[0mself\u001b[0m\u001b[0;34m)\u001b[0m\u001b[0;34m:\u001b[0m\u001b[0;34m\u001b[0m\u001b[0m\n\u001b[1;32m    150\u001b[0m         \u001b[0;32mif\u001b[0m \u001b[0mself\u001b[0m\u001b[0;34m.\u001b[0m\u001b[0mfit\u001b[0m \u001b[0;32mis\u001b[0m \u001b[0;32mNone\u001b[0m\u001b[0;34m:\u001b[0m\u001b[0;34m\u001b[0m\u001b[0m\n\u001b[0;32m--> 151\u001b[0;31m             \u001b[0mself\u001b[0m\u001b[0;34m.\u001b[0m\u001b[0mfit\u001b[0m \u001b[0;34m=\u001b[0m \u001b[0mself\u001b[0m\u001b[0;34m.\u001b[0m\u001b[0mevaluator\u001b[0m\u001b[0;34m.\u001b[0m\u001b[0mcalc\u001b[0m\u001b[0;34m(\u001b[0m\u001b[0mself\u001b[0m\u001b[0;34m)\u001b[0m\u001b[0;34m\u001b[0m\u001b[0m\n\u001b[0m\u001b[1;32m    152\u001b[0m         \u001b[0;32mreturn\u001b[0m \u001b[0mself\u001b[0m\u001b[0;34m.\u001b[0m\u001b[0mfit\u001b[0m\u001b[0;34m\u001b[0m\u001b[0m\n\u001b[1;32m    153\u001b[0m \u001b[0;34m\u001b[0m\u001b[0m\n",
      "\u001b[0;32m<ipython-input-1-fd537044a60f>\u001b[0m in \u001b[0;36mcalc\u001b[0;34m(self, chromosome)\u001b[0m\n\u001b[1;32m    192\u001b[0m                       \u001b[0mverbose\u001b[0m\u001b[0;34m=\u001b[0m\u001b[0mself\u001b[0m\u001b[0;34m.\u001b[0m\u001b[0mverb\u001b[0m\u001b[0;34m,\u001b[0m\u001b[0;34m\u001b[0m\u001b[0m\n\u001b[1;32m    193\u001b[0m                       \u001b[0mvalidation_data\u001b[0m\u001b[0;34m=\u001b[0m\u001b[0;34m(\u001b[0m\u001b[0mself\u001b[0m\u001b[0;34m.\u001b[0m\u001b[0mx_val\u001b[0m\u001b[0;34m,\u001b[0m \u001b[0mself\u001b[0m\u001b[0;34m.\u001b[0m\u001b[0my_val\u001b[0m\u001b[0;34m)\u001b[0m\u001b[0;34m,\u001b[0m\u001b[0;34m\u001b[0m\u001b[0m\n\u001b[0;32m--> 194\u001b[0;31m                       callbacks=self.callbacks)\n\u001b[0m\u001b[1;32m    195\u001b[0m         \u001b[0mscore\u001b[0m \u001b[0;34m=\u001b[0m \u001b[0mmodel\u001b[0m\u001b[0;34m.\u001b[0m\u001b[0mevaluate\u001b[0m\u001b[0;34m(\u001b[0m\u001b[0mself\u001b[0m\u001b[0;34m.\u001b[0m\u001b[0mx_val\u001b[0m\u001b[0;34m,\u001b[0m \u001b[0mself\u001b[0m\u001b[0;34m.\u001b[0m\u001b[0my_val\u001b[0m\u001b[0;34m,\u001b[0m \u001b[0mverbose\u001b[0m\u001b[0;34m=\u001b[0m\u001b[0;36m0\u001b[0m\u001b[0;34m)\u001b[0m\u001b[0;34m\u001b[0m\u001b[0m\n\u001b[1;32m    196\u001b[0m         \u001b[0mscore_t\u001b[0m \u001b[0;34m=\u001b[0m \u001b[0mmodel\u001b[0m\u001b[0;34m.\u001b[0m\u001b[0mevaluate\u001b[0m\u001b[0;34m(\u001b[0m\u001b[0mself\u001b[0m\u001b[0;34m.\u001b[0m\u001b[0mx_test\u001b[0m\u001b[0;34m,\u001b[0m \u001b[0mself\u001b[0m\u001b[0;34m.\u001b[0m\u001b[0my_test\u001b[0m\u001b[0;34m,\u001b[0m \u001b[0mverbose\u001b[0m\u001b[0;34m=\u001b[0m\u001b[0;36m0\u001b[0m\u001b[0;34m)\u001b[0m\u001b[0;34m\u001b[0m\u001b[0m\n",
      "\u001b[0;32m~/anaconda3/envs/python3/lib/python3.6/site-packages/keras/engine/training.py\u001b[0m in \u001b[0;36mfit\u001b[0;34m(self, x, y, batch_size, epochs, verbose, callbacks, validation_split, validation_data, shuffle, class_weight, sample_weight, initial_epoch, steps_per_epoch, validation_steps, **kwargs)\u001b[0m\n\u001b[1;32m   1037\u001b[0m                                         \u001b[0minitial_epoch\u001b[0m\u001b[0;34m=\u001b[0m\u001b[0minitial_epoch\u001b[0m\u001b[0;34m,\u001b[0m\u001b[0;34m\u001b[0m\u001b[0m\n\u001b[1;32m   1038\u001b[0m                                         \u001b[0msteps_per_epoch\u001b[0m\u001b[0;34m=\u001b[0m\u001b[0msteps_per_epoch\u001b[0m\u001b[0;34m,\u001b[0m\u001b[0;34m\u001b[0m\u001b[0m\n\u001b[0;32m-> 1039\u001b[0;31m                                         validation_steps=validation_steps)\n\u001b[0m\u001b[1;32m   1040\u001b[0m \u001b[0;34m\u001b[0m\u001b[0m\n\u001b[1;32m   1041\u001b[0m     def evaluate(self, x=None, y=None,\n",
      "\u001b[0;32m~/anaconda3/envs/python3/lib/python3.6/site-packages/keras/engine/training_arrays.py\u001b[0m in \u001b[0;36mfit_loop\u001b[0;34m(model, f, ins, out_labels, batch_size, epochs, verbose, callbacks, val_f, val_ins, shuffle, callback_metrics, initial_epoch, steps_per_epoch, validation_steps)\u001b[0m\n\u001b[1;32m    210\u001b[0m                         val_outs = test_loop(model, val_f, val_ins,\n\u001b[1;32m    211\u001b[0m                                              \u001b[0mbatch_size\u001b[0m\u001b[0;34m=\u001b[0m\u001b[0mbatch_size\u001b[0m\u001b[0;34m,\u001b[0m\u001b[0;34m\u001b[0m\u001b[0m\n\u001b[0;32m--> 212\u001b[0;31m                                              verbose=0)\n\u001b[0m\u001b[1;32m    213\u001b[0m                         \u001b[0mval_outs\u001b[0m \u001b[0;34m=\u001b[0m \u001b[0mto_list\u001b[0m\u001b[0;34m(\u001b[0m\u001b[0mval_outs\u001b[0m\u001b[0;34m)\u001b[0m\u001b[0;34m\u001b[0m\u001b[0m\n\u001b[1;32m    214\u001b[0m                         \u001b[0;31m# Same labels assumed.\u001b[0m\u001b[0;34m\u001b[0m\u001b[0;34m\u001b[0m\u001b[0m\n",
      "\u001b[0;32m~/anaconda3/envs/python3/lib/python3.6/site-packages/keras/engine/training_arrays.py\u001b[0m in \u001b[0;36mtest_loop\u001b[0;34m(model, f, ins, batch_size, verbose, steps)\u001b[0m\n\u001b[1;32m    390\u001b[0m                 \u001b[0mins_batch\u001b[0m\u001b[0;34m[\u001b[0m\u001b[0mi\u001b[0m\u001b[0;34m]\u001b[0m \u001b[0;34m=\u001b[0m \u001b[0mins_batch\u001b[0m\u001b[0;34m[\u001b[0m\u001b[0mi\u001b[0m\u001b[0;34m]\u001b[0m\u001b[0;34m.\u001b[0m\u001b[0mtoarray\u001b[0m\u001b[0;34m(\u001b[0m\u001b[0;34m)\u001b[0m\u001b[0;34m\u001b[0m\u001b[0m\n\u001b[1;32m    391\u001b[0m \u001b[0;34m\u001b[0m\u001b[0m\n\u001b[0;32m--> 392\u001b[0;31m             \u001b[0mbatch_outs\u001b[0m \u001b[0;34m=\u001b[0m \u001b[0mf\u001b[0m\u001b[0;34m(\u001b[0m\u001b[0mins_batch\u001b[0m\u001b[0;34m)\u001b[0m\u001b[0;34m\u001b[0m\u001b[0m\n\u001b[0m\u001b[1;32m    393\u001b[0m             \u001b[0;32mif\u001b[0m \u001b[0misinstance\u001b[0m\u001b[0;34m(\u001b[0m\u001b[0mbatch_outs\u001b[0m\u001b[0;34m,\u001b[0m \u001b[0mlist\u001b[0m\u001b[0;34m)\u001b[0m\u001b[0;34m:\u001b[0m\u001b[0;34m\u001b[0m\u001b[0m\n\u001b[1;32m    394\u001b[0m                 \u001b[0;32mif\u001b[0m \u001b[0mbatch_index\u001b[0m \u001b[0;34m==\u001b[0m \u001b[0;36m0\u001b[0m\u001b[0;34m:\u001b[0m\u001b[0;34m\u001b[0m\u001b[0m\n",
      "\u001b[0;32m~/anaconda3/envs/python3/lib/python3.6/site-packages/keras/backend/tensorflow_backend.py\u001b[0m in \u001b[0;36m__call__\u001b[0;34m(self, inputs)\u001b[0m\n\u001b[1;32m   2719\u001b[0m                     \u001b[0;34m'In order to feed symbolic tensors to a Keras model '\u001b[0m\u001b[0;34m\u001b[0m\u001b[0m\n\u001b[1;32m   2720\u001b[0m                     'in TensorFlow, you need tensorflow 1.8 or higher.')\n\u001b[0;32m-> 2721\u001b[0;31m             \u001b[0;32mreturn\u001b[0m \u001b[0mself\u001b[0m\u001b[0;34m.\u001b[0m\u001b[0m_legacy_call\u001b[0m\u001b[0;34m(\u001b[0m\u001b[0minputs\u001b[0m\u001b[0;34m)\u001b[0m\u001b[0;34m\u001b[0m\u001b[0m\n\u001b[0m\u001b[1;32m   2722\u001b[0m \u001b[0;34m\u001b[0m\u001b[0m\n\u001b[1;32m   2723\u001b[0m \u001b[0;34m\u001b[0m\u001b[0m\n",
      "\u001b[0;32m~/anaconda3/envs/python3/lib/python3.6/site-packages/keras/backend/tensorflow_backend.py\u001b[0m in \u001b[0;36m_legacy_call\u001b[0;34m(self, inputs)\u001b[0m\n\u001b[1;32m   2691\u001b[0m         \u001b[0msession\u001b[0m \u001b[0;34m=\u001b[0m \u001b[0mget_session\u001b[0m\u001b[0;34m(\u001b[0m\u001b[0;34m)\u001b[0m\u001b[0;34m\u001b[0m\u001b[0m\n\u001b[1;32m   2692\u001b[0m         updated = session.run(fetches=fetches, feed_dict=feed_dict,\n\u001b[0;32m-> 2693\u001b[0;31m                               **self.session_kwargs)\n\u001b[0m\u001b[1;32m   2694\u001b[0m         \u001b[0;32mreturn\u001b[0m \u001b[0mupdated\u001b[0m\u001b[0;34m[\u001b[0m\u001b[0;34m:\u001b[0m\u001b[0mlen\u001b[0m\u001b[0;34m(\u001b[0m\u001b[0mself\u001b[0m\u001b[0;34m.\u001b[0m\u001b[0moutputs\u001b[0m\u001b[0;34m)\u001b[0m\u001b[0;34m]\u001b[0m\u001b[0;34m\u001b[0m\u001b[0m\n\u001b[1;32m   2695\u001b[0m \u001b[0;34m\u001b[0m\u001b[0m\n",
      "\u001b[0;32m~/anaconda3/envs/python3/lib/python3.6/site-packages/tensorflow/python/client/session.py\u001b[0m in \u001b[0;36mrun\u001b[0;34m(self, fetches, feed_dict, options, run_metadata)\u001b[0m\n\u001b[1;32m    903\u001b[0m     \u001b[0;32mtry\u001b[0m\u001b[0;34m:\u001b[0m\u001b[0;34m\u001b[0m\u001b[0m\n\u001b[1;32m    904\u001b[0m       result = self._run(None, fetches, feed_dict, options_ptr,\n\u001b[0;32m--> 905\u001b[0;31m                          run_metadata_ptr)\n\u001b[0m\u001b[1;32m    906\u001b[0m       \u001b[0;32mif\u001b[0m \u001b[0mrun_metadata\u001b[0m\u001b[0;34m:\u001b[0m\u001b[0;34m\u001b[0m\u001b[0m\n\u001b[1;32m    907\u001b[0m         \u001b[0mproto_data\u001b[0m \u001b[0;34m=\u001b[0m \u001b[0mtf_session\u001b[0m\u001b[0;34m.\u001b[0m\u001b[0mTF_GetBuffer\u001b[0m\u001b[0;34m(\u001b[0m\u001b[0mrun_metadata_ptr\u001b[0m\u001b[0;34m)\u001b[0m\u001b[0;34m\u001b[0m\u001b[0m\n",
      "\u001b[0;32m~/anaconda3/envs/python3/lib/python3.6/site-packages/tensorflow/python/client/session.py\u001b[0m in \u001b[0;36m_run\u001b[0;34m(self, handle, fetches, feed_dict, options, run_metadata)\u001b[0m\n\u001b[1;32m   1120\u001b[0m     \u001b[0;31m# Create a fetch handler to take care of the structure of fetches.\u001b[0m\u001b[0;34m\u001b[0m\u001b[0;34m\u001b[0m\u001b[0m\n\u001b[1;32m   1121\u001b[0m     fetch_handler = _FetchHandler(\n\u001b[0;32m-> 1122\u001b[0;31m         self._graph, fetches, feed_dict_tensor, feed_handles=feed_handles)\n\u001b[0m\u001b[1;32m   1123\u001b[0m \u001b[0;34m\u001b[0m\u001b[0m\n\u001b[1;32m   1124\u001b[0m     \u001b[0;31m# Run request and get response.\u001b[0m\u001b[0;34m\u001b[0m\u001b[0;34m\u001b[0m\u001b[0m\n",
      "\u001b[0;32m~/anaconda3/envs/python3/lib/python3.6/site-packages/tensorflow/python/client/session.py\u001b[0m in \u001b[0;36m__init__\u001b[0;34m(self, graph, fetches, feeds, feed_handles)\u001b[0m\n\u001b[1;32m    425\u001b[0m     \"\"\"\n\u001b[1;32m    426\u001b[0m     \u001b[0;32mwith\u001b[0m \u001b[0mgraph\u001b[0m\u001b[0;34m.\u001b[0m\u001b[0mas_default\u001b[0m\u001b[0;34m(\u001b[0m\u001b[0;34m)\u001b[0m\u001b[0;34m:\u001b[0m\u001b[0;34m\u001b[0m\u001b[0m\n\u001b[0;32m--> 427\u001b[0;31m       \u001b[0mself\u001b[0m\u001b[0;34m.\u001b[0m\u001b[0m_fetch_mapper\u001b[0m \u001b[0;34m=\u001b[0m \u001b[0m_FetchMapper\u001b[0m\u001b[0;34m.\u001b[0m\u001b[0mfor_fetch\u001b[0m\u001b[0;34m(\u001b[0m\u001b[0mfetches\u001b[0m\u001b[0;34m)\u001b[0m\u001b[0;34m\u001b[0m\u001b[0m\n\u001b[0m\u001b[1;32m    428\u001b[0m     \u001b[0mself\u001b[0m\u001b[0;34m.\u001b[0m\u001b[0m_fetches\u001b[0m \u001b[0;34m=\u001b[0m \u001b[0;34m[\u001b[0m\u001b[0;34m]\u001b[0m\u001b[0;34m\u001b[0m\u001b[0m\n\u001b[1;32m    429\u001b[0m     \u001b[0mself\u001b[0m\u001b[0;34m.\u001b[0m\u001b[0m_targets\u001b[0m \u001b[0;34m=\u001b[0m \u001b[0;34m[\u001b[0m\u001b[0;34m]\u001b[0m\u001b[0;34m\u001b[0m\u001b[0m\n",
      "\u001b[0;32m~/anaconda3/envs/python3/lib/python3.6/site-packages/tensorflow/python/client/session.py\u001b[0m in \u001b[0;36mfor_fetch\u001b[0;34m(fetch)\u001b[0m\n\u001b[1;32m    243\u001b[0m     \u001b[0;32melif\u001b[0m \u001b[0misinstance\u001b[0m\u001b[0;34m(\u001b[0m\u001b[0mfetch\u001b[0m\u001b[0;34m,\u001b[0m \u001b[0;34m(\u001b[0m\u001b[0mlist\u001b[0m\u001b[0;34m,\u001b[0m \u001b[0mtuple\u001b[0m\u001b[0;34m)\u001b[0m\u001b[0;34m)\u001b[0m\u001b[0;34m:\u001b[0m\u001b[0;34m\u001b[0m\u001b[0m\n\u001b[1;32m    244\u001b[0m       \u001b[0;31m# NOTE(touts): This is also the code path for namedtuples.\u001b[0m\u001b[0;34m\u001b[0m\u001b[0;34m\u001b[0m\u001b[0m\n\u001b[0;32m--> 245\u001b[0;31m       \u001b[0;32mreturn\u001b[0m \u001b[0m_ListFetchMapper\u001b[0m\u001b[0;34m(\u001b[0m\u001b[0mfetch\u001b[0m\u001b[0;34m)\u001b[0m\u001b[0;34m\u001b[0m\u001b[0m\n\u001b[0m\u001b[1;32m    246\u001b[0m     \u001b[0;32melif\u001b[0m \u001b[0misinstance\u001b[0m\u001b[0;34m(\u001b[0m\u001b[0mfetch\u001b[0m\u001b[0;34m,\u001b[0m \u001b[0mdict\u001b[0m\u001b[0;34m)\u001b[0m\u001b[0;34m:\u001b[0m\u001b[0;34m\u001b[0m\u001b[0m\n\u001b[1;32m    247\u001b[0m       \u001b[0;32mreturn\u001b[0m \u001b[0m_DictFetchMapper\u001b[0m\u001b[0;34m(\u001b[0m\u001b[0mfetch\u001b[0m\u001b[0;34m)\u001b[0m\u001b[0;34m\u001b[0m\u001b[0m\n",
      "\u001b[0;32m~/anaconda3/envs/python3/lib/python3.6/site-packages/tensorflow/python/client/session.py\u001b[0m in \u001b[0;36m__init__\u001b[0;34m(self, fetches)\u001b[0m\n\u001b[1;32m    351\u001b[0m     \u001b[0mself\u001b[0m\u001b[0;34m.\u001b[0m\u001b[0m_fetch_type\u001b[0m \u001b[0;34m=\u001b[0m \u001b[0mtype\u001b[0m\u001b[0;34m(\u001b[0m\u001b[0mfetches\u001b[0m\u001b[0;34m)\u001b[0m\u001b[0;34m\u001b[0m\u001b[0m\n\u001b[1;32m    352\u001b[0m     \u001b[0mself\u001b[0m\u001b[0;34m.\u001b[0m\u001b[0m_mappers\u001b[0m \u001b[0;34m=\u001b[0m \u001b[0;34m[\u001b[0m\u001b[0m_FetchMapper\u001b[0m\u001b[0;34m.\u001b[0m\u001b[0mfor_fetch\u001b[0m\u001b[0;34m(\u001b[0m\u001b[0mfetch\u001b[0m\u001b[0;34m)\u001b[0m \u001b[0;32mfor\u001b[0m \u001b[0mfetch\u001b[0m \u001b[0;32min\u001b[0m \u001b[0mfetches\u001b[0m\u001b[0;34m]\u001b[0m\u001b[0;34m\u001b[0m\u001b[0m\n\u001b[0;32m--> 353\u001b[0;31m     \u001b[0mself\u001b[0m\u001b[0;34m.\u001b[0m\u001b[0m_unique_fetches\u001b[0m\u001b[0;34m,\u001b[0m \u001b[0mself\u001b[0m\u001b[0;34m.\u001b[0m\u001b[0m_value_indices\u001b[0m \u001b[0;34m=\u001b[0m \u001b[0m_uniquify_fetches\u001b[0m\u001b[0;34m(\u001b[0m\u001b[0mself\u001b[0m\u001b[0;34m.\u001b[0m\u001b[0m_mappers\u001b[0m\u001b[0;34m)\u001b[0m\u001b[0;34m\u001b[0m\u001b[0m\n\u001b[0m\u001b[1;32m    354\u001b[0m \u001b[0;34m\u001b[0m\u001b[0m\n\u001b[1;32m    355\u001b[0m   \u001b[0;32mdef\u001b[0m \u001b[0munique_fetches\u001b[0m\u001b[0;34m(\u001b[0m\u001b[0mself\u001b[0m\u001b[0;34m)\u001b[0m\u001b[0;34m:\u001b[0m\u001b[0;34m\u001b[0m\u001b[0m\n",
      "\u001b[0;32m~/anaconda3/envs/python3/lib/python3.6/site-packages/tensorflow/python/client/session.py\u001b[0m in \u001b[0;36m_uniquify_fetches\u001b[0;34m(fetch_mappers)\u001b[0m\n\u001b[1;32m    330\u001b[0m     \u001b[0mm_value_indices\u001b[0m \u001b[0;34m=\u001b[0m \u001b[0;34m[\u001b[0m\u001b[0;34m]\u001b[0m\u001b[0;34m\u001b[0m\u001b[0m\n\u001b[1;32m    331\u001b[0m     \u001b[0;32mfor\u001b[0m \u001b[0mf\u001b[0m \u001b[0;32min\u001b[0m \u001b[0mm\u001b[0m\u001b[0;34m.\u001b[0m\u001b[0munique_fetches\u001b[0m\u001b[0;34m(\u001b[0m\u001b[0;34m)\u001b[0m\u001b[0;34m:\u001b[0m\u001b[0;34m\u001b[0m\u001b[0m\n\u001b[0;32m--> 332\u001b[0;31m       \u001b[0mj\u001b[0m \u001b[0;34m=\u001b[0m \u001b[0mseen_fetches\u001b[0m\u001b[0;34m.\u001b[0m\u001b[0mget\u001b[0m\u001b[0;34m(\u001b[0m\u001b[0mf\u001b[0m\u001b[0;34m)\u001b[0m\u001b[0;34m\u001b[0m\u001b[0m\n\u001b[0m\u001b[1;32m    333\u001b[0m       \u001b[0;32mif\u001b[0m \u001b[0mj\u001b[0m \u001b[0;32mis\u001b[0m \u001b[0;32mNone\u001b[0m\u001b[0;34m:\u001b[0m\u001b[0;34m\u001b[0m\u001b[0m\n\u001b[1;32m    334\u001b[0m         \u001b[0mj\u001b[0m \u001b[0;34m=\u001b[0m \u001b[0mlen\u001b[0m\u001b[0;34m(\u001b[0m\u001b[0mseen_fetches\u001b[0m\u001b[0;34m)\u001b[0m\u001b[0;34m\u001b[0m\u001b[0m\n",
      "\u001b[0;32m~/anaconda3/envs/python3/lib/python3.6/site-packages/tensorflow/python/framework/ops.py\u001b[0m in \u001b[0;36m__hash__\u001b[0;34m(self)\u001b[0m\n\u001b[1;32m    572\u001b[0m   \u001b[0;32mdef\u001b[0m \u001b[0m__hash__\u001b[0m\u001b[0;34m(\u001b[0m\u001b[0mself\u001b[0m\u001b[0;34m)\u001b[0m\u001b[0;34m:\u001b[0m\u001b[0;34m\u001b[0m\u001b[0m\n\u001b[1;32m    573\u001b[0m     \u001b[0;31m# Necessary to support Python's collection membership operators\u001b[0m\u001b[0;34m\u001b[0m\u001b[0;34m\u001b[0m\u001b[0m\n\u001b[0;32m--> 574\u001b[0;31m     \u001b[0;32mreturn\u001b[0m \u001b[0mid\u001b[0m\u001b[0;34m(\u001b[0m\u001b[0mself\u001b[0m\u001b[0;34m)\u001b[0m\u001b[0;34m\u001b[0m\u001b[0m\n\u001b[0m\u001b[1;32m    575\u001b[0m \u001b[0;34m\u001b[0m\u001b[0m\n\u001b[1;32m    576\u001b[0m   \u001b[0;32mdef\u001b[0m \u001b[0m__eq__\u001b[0m\u001b[0;34m(\u001b[0m\u001b[0mself\u001b[0m\u001b[0;34m,\u001b[0m \u001b[0mother\u001b[0m\u001b[0;34m)\u001b[0m\u001b[0;34m:\u001b[0m\u001b[0;34m\u001b[0m\u001b[0m\n",
      "\u001b[0;31mKeyboardInterrupt\u001b[0m: "
     ]
    }
   ],
   "source": [
    "l = Layer(516, 'relu', 0.2)\n",
    "l2 = Layer(516, 'relu', 0.2)\n",
    "c = Cromosome([l, l2])\n",
    "clases = [4, 9]\n",
    "dm = DataManager(clases=clases)\n",
    "data = dm.load_data()\n",
    "fitness = Fitness.get_instance()\n",
    "fitness.set_params(data, verbose=0, reduce_plateau=False)\n",
    "\n",
    "fitness.calc_mean(c)\n",
    "fitness.calc_mean(Cromosome([]))\n",
    "\n",
    "\n",
    "ps = [RandomParentSelector(), LinealOrder(), WheelSelection(), TournamentSelection(5)]\n",
    "p = ps[2]\n",
    "\n",
    "ti_all = time()\n",
    "generational = GenerationalGA(num_parents=0.5, chromosome=c, parent_selector=p, generations=40, num_population=15, crossover_prob=0.5,\n",
    "                 mutation_prob=0.7, maximize_fitness=True)\n",
    "winner, best_fit, ranking = generational.evolve()\n",
    "print(\"Total elapsed time: %0.3f\" % (time() - ti_all))\n",
    "fitness.calc_mean(winner)"
   ]
  },
  {
   "cell_type": "code",
   "execution_count": 14,
   "metadata": {},
   "outputs": [],
   "source": [
    "class A:\n",
    "    def __init__(self, N_participants=3):\n",
    "        self.N = N_participants\n",
    "        self.history_fitness = {}\n",
    "        \n",
    "    def set_params(self,maximize, history):\n",
    "        self.maximize = maximize\n",
    "        self.history_fitness = history\n",
    "        \n",
    "    def eval_individual(self, chrom):\n",
    "        gen = chrom.__repr__()\n",
    "        if gen not in self.history_fitness.keys():\n",
    "            self.history_fitness[gen] = chrom.fitness()\n",
    "        elif chrom.fit is None:\n",
    "            chrom.fit = self.history_fitness[gen]\n",
    "        return chrom.fit\n",
    "    \n",
    "    def get_one_offspring(self, population):\n",
    "        idxs = np.linspace(0, len(population) - 1, len(population)).astype(np.int32)\n",
    "        idxs_perm = np.random.permutation(idxs)\n",
    "        participants_1 = [population[idxs_perm[i]] for i in range(self.N)]\n",
    "        participants_2 = [population[idxs_perm[-i]] for i in range(1, self.N + 1)]\n",
    "        win_1 = np.argmax([self.eval_individual(chrom) for chrom in participants_1])\n",
    "        win_2 = np.argmax([self.eval_individual(chrom) for chrom in participants_2])\n",
    "        parent1 = participants_1[win_1]\n",
    "        parent2 = participants_2[win_2]\n",
    "        offspring = parent1.cross(parent2)\n",
    "        offspring.mutate()\n",
    "        self.eval_individual(offspring)\n",
    "        return offspring, (parent1, parent2)\n",
    "        \n",
    "    def next_gen(self, population, num_offspring=1):\n",
    "        next_generation = []\n",
    "        all_parents = []\n",
    "        for n in range(num_offspring):\n",
    "            print(len(population))\n",
    "            offspring, parents = self.get_one_offspring(population)\n",
    "            next_generation.append(offspring)\n",
    "            all_parents.append(parents)\n",
    "        return next_generation, all_parents\n",
    "    \n",
    "class B:\n",
    "    def __init__(self, n):\n",
    "        self.n = n\n",
    "        self.fit = self.n\n",
    "        \n",
    "    def __repr__(self):\n",
    "        return str(self.n)\n",
    "\n",
    "    def fitness(self):\n",
    "        return self.n\n",
    "    \n",
    "    def cross(self, aB):\n",
    "        return B(np.mean([self.n, aB.n]))\n",
    "    \n",
    "    def mutate(self):\n",
    "        self.n += np.random.rand()*0\n",
    "        \n",
    "a = [0,1,2,3,4,5,6,7,8,9,10]\n",
    "b = [B(aux) for aux in a]\n",
    "a_ = LinealOrder()\n",
    "next_generation, all_parents = a_.next_gen(b, 10000)"
   ]
  },
  {
   "cell_type": "code",
   "execution_count": 84,
   "metadata": {},
   "outputs": [
    {
     "name": "stdout",
     "output_type": "stream",
     "text": [
      "-64 -65 -49 -63 -63 -63 -38 -52 -25 -50 \n",
      " 0 - U:30|A:prelu|D:0.300 \n",
      "1 - U:20|A:elu|D:0.200 \n",
      "2 - U:10|A:relu|D:0.100 \n",
      "\n",
      "0\n"
     ]
    }
   ],
   "source": [
    "l1 = Layer(10, 'relu', 0.1)\n",
    "l2 = Layer(20, 'elu', 0.2)\n",
    "l3 = Layer(30, 'prelu', 0.3)\n",
    "\n",
    "c1 = Cromosome([l1])\n",
    "c2 = Cromosome([l2])\n",
    "c3 = Cromosome([l3])\n",
    "c12 = Cromosome([l1, l2])\n",
    "c21 = Cromosome([l2, l1])\n",
    "c13 = Cromosome([l1, l3])\n",
    "c31 = Cromosome([l3, l1])\n",
    "c23 = Cromosome([l2, l3])\n",
    "c32 = Cromosome([l3, l2])\n",
    "c123 = Cromosome([l1, l2, l3])\n",
    "c132 = Cromosome([l1, l3, l2])\n",
    "c213 = Cromosome([l2, l1, l3])\n",
    "c231 = Cromosome([l2, l3, l1])\n",
    "c312 = Cromosome([l3, l1, l2])\n",
    "c321 = Cromosome([l3, l2, l1])\n",
    "\n",
    "F = Fitness_str(c321)\n",
    "\n",
    "population = [c1, c2, c3, c12, c21, c13, c31, c23, c32, c123, c132, c213, c231, c312, c321]\n",
    "for c in population:\n",
    "    c.set_fitness(F)\n",
    "    \n",
    "population = population[:10]\n",
    "_=[print(a.fitness(), end=' ') for a in population]\n",
    "print('\\n', F.crom)\n",
    "print(c321.fitness())"
   ]
  },
  {
   "cell_type": "code",
   "execution_count": 85,
   "metadata": {},
   "outputs": [],
   "source": [
    "r = RandomParentSelector(num_offspring=3, history_fitness={}, maximize_fit=True)\n",
    "next_generation, all_parents = r.next_gen(population)"
   ]
  },
  {
   "cell_type": "code",
   "execution_count": 86,
   "metadata": {},
   "outputs": [
    {
     "name": "stdout",
     "output_type": "stream",
     "text": [
      "<class 'list'> 3 <class 'list'> 3\n",
      "0 - U:10|A:relu|D:0.100 \n",
      "1 - U:77|A:elu|D:0.023 \n",
      " -30\n",
      "0 - U:10|A:relu|D:0.100 \n",
      "1 - U:30|A:prelu|D:0.300 \n",
      " -63\n",
      "0 - U:20|A:elu|D:0.200 \n",
      "1 - U:30|A:prelu|D:0.300 \n",
      " -52\n"
     ]
    }
   ],
   "source": [
    "print(type(next_generation), len(next_generation), type(all_parents), len(all_parents))\n",
    "print(next_generation[0], next_generation[0].fitness())\n",
    "print(all_parents[0][0], all_parents[0][0].fitness())\n",
    "print(all_parents[0][1], all_parents[0][1].fitness())"
   ]
  },
  {
   "cell_type": "code",
   "execution_count": 87,
   "metadata": {},
   "outputs": [],
   "source": [
    "new_pop = r.replace(population, next_generation, all_parents)"
   ]
  },
  {
   "cell_type": "code",
   "execution_count": 99,
   "metadata": {},
   "outputs": [
    {
     "name": "stdout",
     "output_type": "stream",
     "text": [
      "0 - U:10|A:relu|D:0.100 \n",
      "\n",
      "0 - U:20|A:elu|D:0.200 \n",
      "\n",
      "0 - U:30|A:prelu|D:0.300 \n",
      "\n",
      "0 - U:10|A:relu|D:0.100 \n",
      "1 - U:20|A:elu|D:0.200 \n",
      "\n",
      "0 - U:20|A:elu|D:0.200 \n",
      "1 - U:10|A:relu|D:0.100 \n",
      "\n",
      "0 - U:10|A:relu|D:0.100 \n",
      "1 - U:30|A:prelu|D:0.300 \n",
      "\n",
      "0 - U:30|A:prelu|D:0.300 \n",
      "1 - U:10|A:relu|D:0.100 \n",
      "\n",
      "0 - U:20|A:elu|D:0.200 \n",
      "1 - U:30|A:prelu|D:0.300 \n",
      "\n",
      "0 - U:30|A:prelu|D:0.300 \n",
      "1 - U:20|A:elu|D:0.200 \n",
      "\n",
      "0 - U:10|A:relu|D:0.100 \n",
      "1 - U:20|A:elu|D:0.200 \n",
      "2 - U:30|A:prelu|D:0.300 \n",
      "\n"
     ]
    }
   ],
   "source": [
    "for a , b in zip(new_pop, population):\n",
    "    print(b)"
   ]
  },
  {
   "cell_type": "code",
   "execution_count": 11,
   "metadata": {},
   "outputs": [],
   "source": [
    "class printer:\n",
    "    def prt(self, objecto):\n",
    "        print(objecto)\n",
    "        return\n",
    "        \n",
    "class A(object):\n",
    "    def __init__(self, name, printer):\n",
    "        self.printer = printer\n",
    "        self.name = name\n",
    "        \n",
    "    def self_print(self):\n",
    "        self.printer.prt(self)\n",
    "        \n",
    "    def __repr__(self):\n",
    "        return self.name"
   ]
  },
  {
   "cell_type": "code",
   "execution_count": 12,
   "metadata": {},
   "outputs": [
    {
     "name": "stdout",
     "output_type": "stream",
     "text": [
      "hi\n"
     ]
    }
   ],
   "source": [
    "p = printer()\n",
    "p.prt('hi')\n",
    "\n",
    "a = A('wolo', p)"
   ]
  },
  {
   "cell_type": "code",
   "execution_count": 13,
   "metadata": {},
   "outputs": [
    {
     "name": "stdout",
     "output_type": "stream",
     "text": [
      "wolo\n"
     ]
    }
   ],
   "source": [
    "a.self_print()"
   ]
  },
  {
   "cell_type": "code",
   "execution_count": 53,
   "metadata": {},
   "outputs": [],
   "source": [
    "\n",
    "\n",
    "\n",
    "class chrom:\n",
    "    def __init__(self, x=0, y=0):\n",
    "        self.x = x\n",
    "        self.y = y\n",
    "        self.mut_prob = 0.2\n",
    "        self.fit = None\n",
    "    \n",
    "    def set_fitness(self, fit):\n",
    "        self.evaluator = fit\n",
    "        \n",
    "    def random_indiv(self):\n",
    "        x = 10 * np.random.rand()\n",
    "        y = 10 * np.random.rand()\n",
    "        return chrom(x, y)\n",
    "    \n",
    "    def simple_indiv(self):\n",
    "        return chrom(0, 0)\n",
    "        \n",
    "    def cross(self, other_cromosome):\n",
    "        bx = np.random.rand()\n",
    "        by = np.random.rand()\n",
    "        x = bx * self.x + (1 - bx) * other_cromosome.x\n",
    "        y = by * self.y + (1 - by) * other_cromosome.y\n",
    "        return chrom(x, y)\n",
    "        \n",
    "    \n",
    "    def mutate(self):\n",
    "        if np.random.rand() < self.mut_prob:\n",
    "            self.x = 10 * np.random.rand()\n",
    "        if np.random.rand() < self.mut_prob:\n",
    "            self.y = 10 * np.random.rand()\n",
    "            \n",
    "    def equals(self, other_cromosome):\n",
    "        return (self.x == other_cromosome.x) and (self.y == other_cromosome.y)\n",
    "    \n",
    "    def __repr__(self):\n",
    "        return \"(%0.3f, %0.3f)\" % (self.x, self.y)\n",
    "    \n",
    "    def fitness(self):\n",
    "        self.fit = self.x * np.sin(4 * self.x) + 1.1 * self.y * np.sin(2 * self.y)\n",
    "        return self.fit"
   ]
  },
  {
   "cell_type": "code",
   "execution_count": 66,
   "metadata": {},
   "outputs": [
    {
     "name": "stdout",
     "output_type": "stream",
     "text": [
      "Generic algorith params:\n",
      "Number of generations: 1000\n",
      "Population size: 12\n",
      "num parents: 6\n",
      "offspring size: 6\n",
      "1) best fit: -8.898\n",
      "101) best fit: -18.555\n",
      "201) best fit: -18.555\n",
      "301) best fit: -18.555\n",
      "401) best fit: -18.555\n",
      "501) best fit: -18.555\n",
      "601) best fit: -18.555\n",
      "701) best fit: -18.555\n",
      "801) best fit: -18.555\n",
      "901) best fit: -18.555\n",
      "1001) best fit: -18.555\n",
      "Best Gen ->  (9.039, 8.668)\n",
      "With Fitness: -18.555\n"
     ]
    },
    {
     "data": {
      "image/png": "[encoded data removed]",
      "text/plain": [
       "<Figure size 432x288 with 1 Axes>"
      ]
     },
     "metadata": {
      "needs_background": "light"
     },
     "output_type": "display_data"
    },
    {
     "name": "stdout",
     "output_type": "stream",
     "text": [
      "-18.554709647834812\n"
     ]
    }
   ],
   "source": [
    "pop_size = 12\n",
    "mut_prob = 0.2\n",
    "generations = 1000\n",
    "num_parents = 0.5\n",
    "\n",
    "c = chrom()\n",
    "ps = [RandomParentSelector(), LinealOrder(), LinealOrderII(), WheelSelection(), TournamentSelection(5)]\n",
    "p = ps[2]\n",
    "generational = GenerationalGA(num_parents=num_parents, chromosome=c, parent_selector=p, generations=generations,\n",
    "                              num_population=pop_size, crossover_prob=0.5,\n",
    "                              mutation_prob=0.7, maximize_fitness=False)\n",
    "\n",
    "winner, best_fit, ranking = generational.evolve()\n",
    "print(best_fit)"
   ]
  },
  {
   "cell_type": "code",
   "execution_count": 57,
   "metadata": {},
   "outputs": [
    {
     "name": "stdout",
     "output_type": "stream",
     "text": [
      "-18.554716504097726 19.861786404025292\n"
     ]
    },
    {
     "data": {
      "image/png": "[encoded data removed]",
      "text/plain": [
       "<Figure size 432x288 with 2 Axes>"
      ]
     },
     "metadata": {
      "needs_background": "light"
     },
     "output_type": "display_data"
    }
   ],
   "source": [
    "import matplotlib.pyplot as plt\n",
    "import numpy as np\n",
    "from numpy import ma\n",
    "from matplotlib import ticker, cm\n",
    "\n",
    "N = 1000\n",
    "x = np.linspace(0, 10.0, N)\n",
    "y = np.linspace(0, 10.0, N)\n",
    "\n",
    "X, Y = np.meshgrid(x, y)\n",
    "z = X * np.sin(4 * X) + 1.1 * Y * np.sin(2 * Y) \n",
    "print(np.min(z), np.max(z))\n",
    "z += np.abs(np.min(z))\n",
    "min_z = np.min(z)\n",
    "max_z = np.max(z)\n",
    "max_idxs = []\n",
    "min_idxs = []\n",
    "for i in range(N):\n",
    "    for k in range(N):\n",
    "        if z[i, k] == min_z:\n",
    "            min_idxs.append((i, k))\n",
    "        elif z[i, k] == max_z:\n",
    "            max_idxs.append((i, k))\n",
    "\n",
    "# The following is not strictly essential, but it will eliminate\n",
    "# a warning.  Comment it out to see the warning.\n",
    "#z = ma.masked_where(z <= 0, z)\n",
    "\n",
    "\n",
    "# Automatic selection of levels works; setting the\n",
    "# log locator tells contourf to use a log scale:\n",
    "fig, ax = plt.subplots()\n",
    "cs = ax.contourf(X, Y, z, cmap=cm.PuBu_r, alpha = 0.7)\n",
    "for i, k in max_idxs:\n",
    "    plt.scatter(x[k], y[i], c='r', label='max', s=20)\n",
    "for i, k in min_idxs:\n",
    "    plt.scatter(x[k], y[i], c='g', label='min', s=20)\n",
    "# Alternatively, you can manually set the levels\n",
    "# and the norm:\n",
    "# lev_exp = np.arange(np.floor(np.log10(z.min())-1),\n",
    "#                    np.ceil(np.log10(z.max())+1))\n",
    "# levs = np.power(10, lev_exp)\n",
    "# cs = ax.contourf(X, Y, z, levs, norm=colors.LogNorm())\n",
    "\n",
    "cbar = fig.colorbar(cs)\n",
    "\n",
    "plt.show()"
   ]
  },
  {
   "cell_type": "code",
   "execution_count": 41,
   "metadata": {},
   "outputs": [
    {
     "name": "stdout",
     "output_type": "stream",
     "text": [
      "(100, 100) (100, 100)\n"
     ]
    }
   ],
   "source": [
    "min_z = np.argmin(z)\n",
    "print(X.shape, z.shape)"
   ]
  },
  {
   "cell_type": "code",
   "execution_count": 42,
   "metadata": {},
   "outputs": [
    {
     "ename": "IndexError",
     "evalue": "index 8689 is out of bounds for axis 0 with size 100",
     "output_type": "error",
     "traceback": [
      "\u001b[0;31m---------------------------------------------------------------------------\u001b[0m",
      "\u001b[0;31mIndexError\u001b[0m                                Traceback (most recent call last)",
      "\u001b[0;32m<ipython-input-42-1425460fdf38>\u001b[0m in \u001b[0;36m<module>\u001b[0;34m\u001b[0m\n\u001b[0;32m----> 1\u001b[0;31m \u001b[0mz\u001b[0m\u001b[0;34m[\u001b[0m\u001b[0mmin_z\u001b[0m\u001b[0;34m]\u001b[0m\u001b[0;34m\u001b[0m\u001b[0m\n\u001b[0m",
      "\u001b[0;31mIndexError\u001b[0m: index 8689 is out of bounds for axis 0 with size 100"
     ]
    }
   ],
   "source": [
    "z[min_z]"
   ]
  },
  {
   "cell_type": "code",
   "execution_count": 43,
   "metadata": {},
   "outputs": [
    {
     "name": "stdout",
     "output_type": "stream",
     "text": [
      "1 2\n",
      "2 3\n",
      "3 4\n"
     ]
    }
   ],
   "source": [
    "a= [(1,2), (2,3), (3,4)]\n",
    "for i,k in a:\n",
    "    print(i,k)"
   ]
  },
  {
   "cell_type": "code",
   "execution_count": null,
   "metadata": {},
   "outputs": [],
   "source": []
  }
 ],
 "metadata": {
  "kernelspec": {
   "display_name": "Python 3",
   "language": "python",
   "name": "python3"
  },
  "language_info": {
   "codemirror_mode": {
    "name": "ipython",
    "version": 3
   },
   "file_extension": ".py",
   "mimetype": "text/x-python",
   "name": "python",
   "nbconvert_exporter": "python",
   "pygments_lexer": "ipython3",
   "version": "3.6.6"
  }
 },
 "nbformat": 4,
 "nbformat_minor": 2
}
