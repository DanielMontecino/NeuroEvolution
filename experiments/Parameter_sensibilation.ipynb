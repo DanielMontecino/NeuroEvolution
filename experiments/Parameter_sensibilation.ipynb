{
 "cells": [
  {
   "cell_type": "code",
   "execution_count": 1,
   "metadata": {},
   "outputs": [
    {
     "name": "stderr",
     "output_type": "stream",
     "text": [
      "Using TensorFlow backend.\n"
     ]
    }
   ],
   "source": [
    "import os\n",
    "from time import time\n",
    "import numpy as np\n",
    "import sys\n",
    "sys.path.append('../')\n",
    "\n",
    "from utils.codification_cnn import CNNLayer, NNLayer, ChromosomeCNN, FitnessCNN, FitnessCNNParallel\n",
    "from utils.datamanager import DataManager\n",
    "from utils.codification_skipc import ChromosomeSkip, FitnessSkip, Connections\n",
    "from GA.parentSelector.parentSelector import RandomParentSelector, TournamentSelection, LinealOrder, WheelSelection\n",
    "from GA.geneticAlgorithm import GenerationalGA"
   ]
  },
  {
   "cell_type": "code",
   "execution_count": 2,
   "metadata": {},
   "outputs": [],
   "source": [
    "# Chromosome parameters\n",
    "NNLayer.possible_activations = ['relu', 'sigmoid', 'tanh', 'elu', 'prelu', 'leakyreLu']\n",
    "NNLayer.units_lim = 1024\n",
    "\n",
    "CNNLayer.possible_activations = ['relu', 'sigmoid', 'tanh', 'elu', 'prelu', 'leakyreLu']\n",
    "CNNLayer.possible_k = [1, 3, 5, 7]\n",
    "CNNLayer.filters_lim = 128\n",
    "\n",
    "ChromosomeSkip.max_layers = {'CNN': 10, 'NN': 3}\n",
    "\n",
    "\n",
    "if os.cpu_count() == 8:\n",
    "    data_folder = '/home/daniel/datasets/MNIST_variations'\n",
    "    command = 'python ./../train_gen.py'\n",
    "    verbose = 1\n",
    "    gpus = 1\n",
    "else:\n",
    "    data_folder = '../../datasets'\n",
    "    command = 'python3 ./train_gen.py'\n",
    "    verbose = 0\n",
    "    gpus = 2\n",
    "\n"
   ]
  },
  {
   "cell_type": "code",
   "execution_count": 3,
   "metadata": {},
   "outputs": [],
   "source": [
    "# Set some params\n",
    "\n",
    "# general parameters\n",
    "skip = False\n",
    "experiments_folder = '../../param_sens'\n",
    "\n",
    "\n",
    "# Fitness params\n",
    "epochs = 15\n",
    "batch_size = 128\n",
    "verbose = verbose\n",
    "redu_plat = False\n",
    "early_stop = 15\n",
    "warm_up_epochs= 0\n",
    "base_lr = 0.001\n",
    "smooth = 0.1\n",
    "cosine_dec = True\n",
    "lr_find = False\n",
    "precise_eps = 75\n",
    "\n",
    "dataset = 'MRDBI'"
   ]
  },
  {
   "cell_type": "code",
   "execution_count": 4,
   "metadata": {},
   "outputs": [
    {
     "name": "stdout",
     "output_type": "stream",
     "text": [
      "(9600, 28, 28, 1) train samples\n",
      "(2400, 28, 28, 1) validation samples\n",
      "(50000, 28, 28, 1) test samples\n"
     ]
    }
   ],
   "source": [
    "experiments_folder = experiments_folder\n",
    "os.makedirs(experiments_folder, exist_ok=True)\n",
    "\n",
    "if skip:\n",
    "    fitness_cnn = FitnessSkip()\n",
    "else:\n",
    "    fitness_cnn = FitnessCNN()\n",
    "\n",
    "# dataset params:\n",
    "data_folder = data_folder\n",
    "classes = []\n",
    "\n",
    "exp_folder = os.path.join(experiments_folder, dataset)\n",
    "fitness_folder = exp_folder\n",
    "fitness_file = os.path.join(fitness_folder, 'fitness_example')   \n",
    "os.makedirs(fitness_folder, exist_ok=True)\n",
    "\n",
    "# Load data\n",
    "dm = DataManager(dataset, clases=classes, folder_var_mnist=data_folder)\n",
    "data = dm.load_data()"
   ]
  },
  {
   "cell_type": "code",
   "execution_count": 94,
   "metadata": {},
   "outputs": [],
   "source": [
    "fitness_cnn.set_params(data=data, verbose=verbose, batch_size=batch_size, reduce_plateau=redu_plat,\n",
    "                   epochs=epochs, cosine_decay=cosine_dec, early_stop=early_stop, \n",
    "                   warm_epochs=warm_up_epochs, base_lr=base_lr, smooth_label=smooth, find_lr=lr_find,\n",
    "                   precise_epochs=precise_eps)\n",
    "\n",
    "fitness_cnn.save(fitness_file)"
   ]
  },
  {
   "cell_type": "code",
   "execution_count": 95,
   "metadata": {},
   "outputs": [],
   "source": [
    "fitness = FitnessCNNParallel()\n",
    "fitness.set_params(chrom_files_folder=fitness_folder, fitness_file=fitness_file, max_gpus=gpus,\n",
    "                   fp=32, main_line=command)"
   ]
  },
  {
   "cell_type": "code",
   "execution_count": 96,
   "metadata": {},
   "outputs": [],
   "source": [
    "# Model definition\n",
    "\n",
    "l1_2 = CNNLayer(86, (3,5), 'leakyreLu', 0.262, 1)\n",
    "l2_2 = CNNLayer(84, (5,3), 'leakyreLu', 0.319, 1)\n",
    "l3_2 = CNNLayer(243, (1,3), 'prelu', 0.322, 0)\n",
    "l4_2 = NNLayer(948, 'sigmoid', 0.467)\n",
    "l5_2 = NNLayer(780, 'sigmoid', 0.441)\n",
    "model_gen = ChromosomeCNN([l1_2, l2_2, l3_2], [l4_2, l5_2], fitness)"
   ]
  },
  {
   "cell_type": "code",
   "execution_count": 109,
   "metadata": {},
   "outputs": [],
   "source": [
    "def force_mutation(chromosome, cnn_activation=None, nn_activation=None, k_size=None, k_mode='same'):\n",
    "    assert cnn_activation in ['relu', 'sigmoid', 'tanh', 'elu', 'prelu', 'leakyreLu', None]\n",
    "    assert nn_activation in ['relu', 'sigmoid', 'tanh', 'elu', 'prelu', 'leakyreLu', None]\n",
    "    assert k_size in [1, 3, 5, 7, None]\n",
    "    assert k_mode in ['min', 'max', 'same']\n",
    "\n",
    "    new_chromosome = chromosome.self_copy()\n",
    "    if cnn_activation is not None:\n",
    "        for layer in new_chromosome.cnn_layers:\n",
    "            layer.activation = cnn_activation\n",
    "            \n",
    "    if nn_activation is not None:\n",
    "        for layer in new_chromosome.nn_layers:\n",
    "            layer.activation = nn_activation\n",
    "        \n",
    "    if k_size is not None:\n",
    "        for layer in new_chromosome.cnn_layers:\n",
    "            layer.k_size = (k_size, k_size)\n",
    "            \n",
    "    if k_mode != 'same':\n",
    "        for layer in new_chromosome.cnn_layers:\n",
    "            size_h, size_w = layer.k_size\n",
    "            new_size = [min(size_h, size_w), max(size_h, size_w)][k_mode == 'max']\n",
    "            layer.k_size = (new_size, new_size)\n",
    "            \n",
    "    return new_chromosome\n",
    "    \n",
    "def eval_model(chromosome, N, fitness_function):\n",
    "    #return [np.random.rand(), np.random.rand()+1, np.random.rand()+2, np.random.rand()+3, np.random.rand()+4]\n",
    "    ti = time()\n",
    "    evaluated_fitness = fitness_function.eval_list([chromosome for\n",
    "                                                    i in range(N)], precise_mode=True, test=True)\n",
    "    data_val = [data[0] for data in evaluated_fitness]\n",
    "    data_test = [data[1] for data in evaluated_fitness]\n",
    "    \n",
    "    val_mean, val_std, val_best = np.mean(data_val), np.std(data_val), np.min(data_val)\n",
    "    test_mean, test_std, test_best = np.mean(data_test), np.std(data_test), np.min(data_test)\n",
    "    tf = (time() - ti) / (gpus * 60)\n",
    "    return [val_mean, val_std, val_best, test_mean, test_std, test_best, tf]"
   ]
  },
  {
   "cell_type": "code",
   "execution_count": 110,
   "metadata": {},
   "outputs": [],
   "source": [
    "N_evaluations = 4\n",
    "print(model_gen)\n"
   ]
  },
  {
   "cell_type": "code",
   "execution_count": 111,
   "metadata": {},
   "outputs": [
    {
     "name": "stdout",
     "output_type": "stream",
     "text": [
      "CNN|F:86|K:(3,5)|A:leakyreLu|D:0.262|M:1\n",
      "CNN|F:84|K:(5,3)|A:leakyreLu|D:0.319|M:1\n",
      "CNN|F:243|K:(1,3)|A:prelu|D:0.322|M:0\n",
      "NN|U:948|A:sigmoid|D:0.467\n",
      "NN|U:780|A:sigmoid|D:0.441\n",
      "\n"
     ]
    }
   ],
   "source": []
  },
  {
   "cell_type": "code",
   "execution_count": 114,
   "metadata": {},
   "outputs": [],
   "source": [
    "cnn_relu = force_mutation(model_gen, cnn_activation='relu')\n",
    "cnn_prelu = force_mutation(model_gen, cnn_activation='prelu')\n",
    "nn_relu = force_mutation(model_gen, nn_activation='relu')\n",
    "nn_sigmoid = force_mutation(model_gen, nn_activation='sigmoid')\n",
    "min_k = force_mutation(model_gen, k_mode='min')\n",
    "max_k = force_mutation(model_gen, k_mode='max')\n",
    "k3 = force_mutation(model_gen, k_size=3)\n",
    "\n",
    "all_models = {'original':model_gen, 'CNN ReLU':cnn_relu, 'CNN PReLU':cnn_prelu,\n",
    "              'NN ReLU':nn_relu, 'NN sigmoid':nn_sigmoid, 'Min k size':min_k,\n",
    "              'Max k size':max_k, 'Kernel size 3':k3}\n",
    "\n",
    "cols = ['Model', 'val mean', 'val_std', 'val best', 'test mean', 'test_std', 'test best', 'time (min)']\n",
    "results = np.empty(shape=(len(all_models.keys()) + 1, len(cols)), dtype='U20')\n",
    "\n",
    "for i in range(len(cols)):\n",
    "    results[0, i] = cols[i]\n"
   ]
  },
  {
   "cell_type": "code",
   "execution_count": 115,
   "metadata": {},
   "outputs": [
    {
     "name": "stdout",
     "output_type": "stream",
     "text": [
      "0 original\n",
      "CNN|F:86|K:(3,5)|A:leakyreLu|D:0.262|M:1\n",
      "CNN|F:84|K:(5,3)|A:leakyreLu|D:0.319|M:1\n",
      "CNN|F:243|K:(1,3)|A:prelu|D:0.322|M:0\n",
      "NN|U:948|A:sigmoid|D:0.467\n",
      "NN|U:780|A:sigmoid|D:0.441\n",
      "\n"
     ]
    },
    {
     "ename": "KeyboardInterrupt",
     "evalue": "",
     "output_type": "error",
     "traceback": [
      "\u001b[0;31m---------------------------------------------------------------------------\u001b[0m",
      "\u001b[0;31mKeyboardInterrupt\u001b[0m                         Traceback (most recent call last)",
      "\u001b[0;32m<ipython-input-115-90ca01bf7f24>\u001b[0m in \u001b[0;36m<module>\u001b[0;34m\u001b[0m\n\u001b[1;32m      2\u001b[0m     \u001b[0mprint\u001b[0m\u001b[0;34m(\u001b[0m\u001b[0mk\u001b[0m\u001b[0;34m,\u001b[0m \u001b[0mmodel_name\u001b[0m\u001b[0;34m)\u001b[0m\u001b[0;34m\u001b[0m\u001b[0;34m\u001b[0m\u001b[0m\n\u001b[1;32m      3\u001b[0m     \u001b[0mprint\u001b[0m\u001b[0;34m(\u001b[0m\u001b[0mmodel\u001b[0m\u001b[0;34m)\u001b[0m\u001b[0;34m\u001b[0m\u001b[0;34m\u001b[0m\u001b[0m\n\u001b[0;32m----> 4\u001b[0;31m     \u001b[0mpartial_results\u001b[0m \u001b[0;34m=\u001b[0m \u001b[0;34m[\u001b[0m\u001b[0mmodel_name\u001b[0m\u001b[0;34m]\u001b[0m \u001b[0;34m+\u001b[0m \u001b[0meval_model\u001b[0m\u001b[0;34m(\u001b[0m\u001b[0mmodel\u001b[0m\u001b[0;34m,\u001b[0m \u001b[0mN_evaluations\u001b[0m\u001b[0;34m,\u001b[0m \u001b[0mfitness\u001b[0m\u001b[0;34m)\u001b[0m\u001b[0;34m\u001b[0m\u001b[0;34m\u001b[0m\u001b[0m\n\u001b[0m\u001b[1;32m      5\u001b[0m     \u001b[0;32mfor\u001b[0m \u001b[0mj\u001b[0m \u001b[0;32min\u001b[0m \u001b[0mrange\u001b[0m\u001b[0;34m(\u001b[0m\u001b[0mlen\u001b[0m\u001b[0;34m(\u001b[0m\u001b[0mpartial_results\u001b[0m\u001b[0;34m)\u001b[0m\u001b[0;34m)\u001b[0m\u001b[0;34m:\u001b[0m\u001b[0;34m\u001b[0m\u001b[0;34m\u001b[0m\u001b[0m\n\u001b[1;32m      6\u001b[0m         \u001b[0mresults\u001b[0m\u001b[0;34m[\u001b[0m\u001b[0mk\u001b[0m \u001b[0;34m+\u001b[0m \u001b[0;36m1\u001b[0m\u001b[0;34m,\u001b[0m \u001b[0mj\u001b[0m\u001b[0;34m]\u001b[0m \u001b[0;34m=\u001b[0m \u001b[0mpartial_results\u001b[0m\u001b[0;34m[\u001b[0m\u001b[0mj\u001b[0m\u001b[0;34m]\u001b[0m\u001b[0;34m\u001b[0m\u001b[0;34m\u001b[0m\u001b[0m\n",
      "\u001b[0;32m<ipython-input-109-d265f3cea0b3>\u001b[0m in \u001b[0;36meval_model\u001b[0;34m(chromosome, N, fitness_function)\u001b[0m\n\u001b[1;32m     30\u001b[0m     \u001b[0mti\u001b[0m \u001b[0;34m=\u001b[0m \u001b[0mtime\u001b[0m\u001b[0;34m(\u001b[0m\u001b[0;34m)\u001b[0m\u001b[0;34m\u001b[0m\u001b[0;34m\u001b[0m\u001b[0m\n\u001b[1;32m     31\u001b[0m     evaluated_fitness = fitness_function.eval_list([chromosome for\n\u001b[0;32m---> 32\u001b[0;31m                                                     i in range(N)], precise_mode=True, test=True)\n\u001b[0m\u001b[1;32m     33\u001b[0m     \u001b[0mdata_val\u001b[0m \u001b[0;34m=\u001b[0m \u001b[0;34m[\u001b[0m\u001b[0mdata\u001b[0m\u001b[0;34m[\u001b[0m\u001b[0;36m0\u001b[0m\u001b[0;34m]\u001b[0m \u001b[0;32mfor\u001b[0m \u001b[0mdata\u001b[0m \u001b[0;32min\u001b[0m \u001b[0mevaluated_fitness\u001b[0m\u001b[0;34m]\u001b[0m\u001b[0;34m\u001b[0m\u001b[0;34m\u001b[0m\u001b[0m\n\u001b[1;32m     34\u001b[0m     \u001b[0mdata_test\u001b[0m \u001b[0;34m=\u001b[0m \u001b[0;34m[\u001b[0m\u001b[0mdata\u001b[0m\u001b[0;34m[\u001b[0m\u001b[0;36m1\u001b[0m\u001b[0;34m]\u001b[0m \u001b[0;32mfor\u001b[0m \u001b[0mdata\u001b[0m \u001b[0;32min\u001b[0m \u001b[0mevaluated_fitness\u001b[0m\u001b[0;34m]\u001b[0m\u001b[0;34m\u001b[0m\u001b[0;34m\u001b[0m\u001b[0m\n",
      "\u001b[0;32m~/proyectos/Tesis/project/GA/NeuroEvolution/utils/codification_cnn.py\u001b[0m in \u001b[0;36meval_list\u001b[0;34m(self, chromosome_list, test, precise_mode, **kwargs)\u001b[0m\n\u001b[1;32m    565\u001b[0m         \u001b[0mthreads_waiting\u001b[0m \u001b[0;34m=\u001b[0m \u001b[0;34m[\u001b[0m\u001b[0mthreading\u001b[0m\u001b[0;34m.\u001b[0m\u001b[0mThread\u001b[0m\u001b[0;34m(\u001b[0m\u001b[0mtarget\u001b[0m\u001b[0;34m=\u001b[0m\u001b[0mf\u001b[0m\u001b[0;34m)\u001b[0m \u001b[0;32mfor\u001b[0m \u001b[0mf\u001b[0m \u001b[0;32min\u001b[0m \u001b[0mfunctions\u001b[0m\u001b[0;34m]\u001b[0m\u001b[0;34m\u001b[0m\u001b[0;34m\u001b[0m\u001b[0m\n\u001b[1;32m    566\u001b[0m         \u001b[0mthreads_running\u001b[0m \u001b[0;34m=\u001b[0m \u001b[0;34m[\u001b[0m\u001b[0;34m]\u001b[0m\u001b[0;34m\u001b[0m\u001b[0;34m\u001b[0m\u001b[0m\n\u001b[0;32m--> 567\u001b[0;31m         \u001b[0mthreads_finished\u001b[0m \u001b[0;34m=\u001b[0m \u001b[0;34m[\u001b[0m\u001b[0;34m]\u001b[0m\u001b[0;34m\u001b[0m\u001b[0;34m\u001b[0m\u001b[0m\n\u001b[0m\u001b[1;32m    568\u001b[0m         \u001b[0msimultaneous_threads\u001b[0m \u001b[0;34m=\u001b[0m \u001b[0mself\u001b[0m\u001b[0;34m.\u001b[0m\u001b[0mmax_gpus\u001b[0m\u001b[0;34m\u001b[0m\u001b[0;34m\u001b[0m\u001b[0m\n\u001b[1;32m    569\u001b[0m \u001b[0;34m\u001b[0m\u001b[0m\n",
      "\u001b[0;31mKeyboardInterrupt\u001b[0m: "
     ]
    }
   ],
   "source": [
    "for k, (model_name, model) in enumerate(all_models.items()):\n",
    "    print(k, model_name)\n",
    "    print(model)\n",
    "    partial_results = [model_name] + eval_model(model, N_evaluations, fitness)\n",
    "    for j in range(len(partial_results)):\n",
    "        results[k + 1, j] = partial_results[j]\n"
   ]
  },
  {
   "cell_type": "code",
   "execution_count": 103,
   "metadata": {},
   "outputs": [
    {
     "name": "stdout",
     "output_type": "stream",
     "text": [
      "|Model|val mean|val_std|test mean|test_std|time (min)|\n",
      "|-|-|-|-|-|-|\n",
      "|original|0.0956|1.3351|2.8524|3.3542|4.6840|\n",
      "|CNN ReLU|0.6788|1.0949|2.4032|3.9795|4.6815|\n",
      "|CNN PReLU|0.7750|1.8662|2.5808|3.5690|4.0972|\n",
      "|NN ReLU|0.7308|1.6096|2.1075|3.2418|4.3219|\n",
      "|NN sigmoid|0.5799|1.5035|2.0006|3.5963|4.7283|\n",
      "|Min k size|0.6603|1.8726|2.8220|3.6206|4.2646|\n",
      "|Max k size|0.9324|1.9131|2.7651|3.6264|4.3868|\n",
      "|Kernel size 3|0.4361|1.1645|2.4259|3.6228|4.4336|\n",
      "\n"
     ]
    }
   ],
   "source": [
    "def plot_table(matrix):\n",
    "    s = \"\"\n",
    "    first = True\n",
    "    for row in matrix:\n",
    "        s += \"|\"\n",
    "        for element in row:\n",
    "            try:\n",
    "                s += \"%0.4f\"% float(element) + \"|\"\n",
    "            except ValueError:\n",
    "                s += element + \"|\"\n",
    "        s += \"\\n\"\n",
    "        if first:\n",
    "            mid_line = \"|\"\n",
    "            for element in row:\n",
    "                mid_line += \"-|\"\n",
    "            mid_line += \"\\n\"\n",
    "            s += mid_line\n",
    "            first = False\n",
    "    return s\n",
    "\n",
    "print(plot_table(results))"
   ]
  },
  {
   "cell_type": "markdown",
   "metadata": {},
   "source": [
    "|Model|val mean|val_std|test mean|test_std|time (min)|\n",
    "|-|-|-|-|-|-|\n",
    "|original|0.0956|1.3351|2.8524|3.3542|4.6840|\n",
    "|CNN ReLU|0.6788|1.0949|2.4032|3.9795|4.6815|\n",
    "|CNN PReLU|0.7750|1.8662|2.5808|3.5690|4.0972|\n",
    "|NN ReLU|0.7308|1.6096|2.1075|3.2418|4.3219|\n",
    "|NN sigmoid|0.5799|1.5035|2.0006|3.5963|4.7283|\n",
    "|Min k size|0.6603|1.8726|2.8220|3.6206|4.2646|\n",
    "|Max k size|0.9324|1.9131|2.7651|3.6264|4.3868|\n",
    "|Kernel size 3|0.4361|1.1645|2.4259|3.6228|4.4336|\n",
    "\n",
    "\n"
   ]
  },
  {
   "cell_type": "code",
   "execution_count": 6,
   "metadata": {},
   "outputs": [
    {
     "data": {
      "image/png": "[encoded data removed]",
      "text/plain": [
       "<Figure size 432x288 with 1 Axes>"
      ]
     },
     "metadata": {
      "needs_background": "light"
     },
     "output_type": "display_data"
    }
   ],
   "source": [
    "import numpy as np\n",
    "import matplotlib.pyplot as plt\n",
    "%matplotlib inline\n",
    "\n",
    "x = np.linspace(0,1,1000)\n",
    "linear = np.linspace(1, 0, len(x))\n",
    "cos = np.cos(np.pi * x / 2)\n",
    "cos2 = cos**2\n",
    "cos3 = cos**3\n",
    "\n",
    "plt.plot(x, cos, label='cos', c='r')\n",
    "plt.plot(x, cos2, label='cos2', c='b')\n",
    "plt.plot(x, cos3, label='cos3', c='g')\n",
    "plt.plot(x, linear, label='linear', c='k')\n",
    "plt.legend()\n",
    "plt.show()"
   ]
  },
  {
   "cell_type": "code",
   "execution_count": 13,
   "metadata": {},
   "outputs": [
    {
     "data": {
      "text/plain": [
       "[]"
      ]
     },
     "execution_count": 13,
     "metadata": {},
     "output_type": "execute_result"
    },
    {
     "data": {
      "image/png": "[encoded data removed]",
      "text/plain": [
       "<Figure size 432x288 with 1 Axes>"
      ]
     },
     "metadata": {
      "needs_background": "light"
     },
     "output_type": "display_data"
    }
   ],
   "source": [
    "cos_hight = 0.3 * np.cos(np.pi * x * 10)**2\n",
    "t = linear * cos_hight + linear\n",
    "plt.plot(x, t, label='cos', c='r')\n",
    "plt.plot()"
   ]
  },
  {
   "cell_type": "code",
   "execution_count": null,
   "metadata": {},
   "outputs": [],
   "source": []
  }
 ],
 "metadata": {
  "kernelspec": {
   "display_name": "Python 3",
   "language": "python",
   "name": "python3"
  },
  "language_info": {
   "codemirror_mode": {
    "name": "ipython",
    "version": 3
   },
   "file_extension": ".py",
   "mimetype": "text/x-python",
   "name": "python",
   "nbconvert_exporter": "python",
   "pygments_lexer": "ipython3",
   "version": "3.6.7"
  }
 },
 "nbformat": 4,
 "nbformat_minor": 2
}
