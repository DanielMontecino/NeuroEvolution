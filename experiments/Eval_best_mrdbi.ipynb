{
 "cells": [
  {
   "cell_type": "code",
   "execution_count": 1,
   "metadata": {},
   "outputs": [
    {
     "name": "stderr",
     "output_type": "stream",
     "text": [
      "Using TensorFlow backend.\n"
     ]
    }
   ],
   "source": [
    "from time import time\n",
    "import os\n",
    "import sys\n",
    "sys.path.append('../')\n",
    "\n",
    "from utils.codification_cnn import CNNLayer, NNLayer, ChromosomeCNN, FitnessCNN, FitnessCNNParallel\n",
    "from utils.datamanager import DataManager\n",
    "from time import time\n",
    "import numpy as np"
   ]
  },
  {
   "cell_type": "code",
   "execution_count": 3,
   "metadata": {},
   "outputs": [
    {
     "name": "stdout",
     "output_type": "stream",
     "text": [
      "(9600, 28, 28, 1) train samples\n",
      "(2400, 28, 28, 1) validation samples\n",
      "(50000, 28, 28, 1) test samples\n",
      "(9600, 28, 28, 1)\n"
     ]
    }
   ],
   "source": [
    "fitness_cnn = FitnessCNN()\n",
    "\n",
    "# dataset params:\n",
    "data_folder = '../../../../../../datasets/MNIST_variations'\n",
    "classes = []\n",
    "\n",
    "# Fitness params\n",
    "epochs = 10\n",
    "batch_size = 128\n",
    "verbose = 1\n",
    "redu_plat = False\n",
    "early_stop = 15\n",
    "warm_up_epochs= 5\n",
    "base_lr = 0.001\n",
    "smooth = 0.1\n",
    "cosine_dec = False\n",
    "lr_find = True\n",
    "\n",
    "dataset = 'MRDBI'\n",
    "dm = DataManager(dataset, clases=classes, folder_var_mnist=data_folder)\n",
    "data = dm.load_data()\n",
    "print(data[0][0].shape)\n",
    "fitness_cnn.set_params(data, verbose=verbose, batch_size=batch_size, reduce_plateau=redu_plat,\n",
    "                   epochs=epochs, cosine_decay=cosine_dec, early_stop=early_stop, \n",
    "                   warm_epochs=warm_up_epochs, base_lr=base_lr, smooth_label=smooth, find_lr=lr_find)\n",
    "\n",
    "fitness_folder = '../../delete'\n",
    "fitness_file = '../../delete/fitness_example' \n",
    "fitness_cnn.save(fitness_file)\n",
    "\n",
    "fitness = FitnessCNNParallel()\n"
   ]
  },
  {
   "cell_type": "code",
   "execution_count": 6,
   "metadata": {},
   "outputs": [],
   "source": [
    "l1 = CNNLayer(99, (7,3), 'leakyreLu', 0.307, 0)\n",
    "l2 = CNNLayer(192, (5,6), 'relu', 0.271, 0)\n",
    "l3 = CNNLayer(96, (1,7), 'leakyreLu', 0.041, 1)\n",
    "l4 = CNNLayer(177, (1,3), 'elu', 0.161, 1)\n",
    "l5 = CNNLayer(177, (7,4), 'relu', 0.656, 0)\n",
    "l6 = NNLayer(286, 'elu', 0.432)\n",
    "l7 = NNLayer(411, 'sigmoid', 0.527)\n",
    "l8 = NNLayer(621, 'elu', 0.491)\n",
    "best_mrdbi_v1 = ChromosomeCNN([l1,l2,l3,l4,l5], [l6, l7, l8], fitness)\n",
    "\n",
    "\n",
    "l1_2 = CNNLayer(86, (3,5), 'leakyreLu', 0.262, 1)\n",
    "l2_2 = CNNLayer(84, (5,3), 'leakyreLu', 0.319, 1)\n",
    "l3_2 = CNNLayer(243, (1,3), 'prelu', 0.322, 0)\n",
    "l4_2 = NNLayer(948, 'sigmoid', 0.467)\n",
    "l5_2 = NNLayer(780, 'sigmoid', 0.441)\n",
    "best_mrdbi_v2 = ChromosomeCNN([l1_2, l2_2, l3_2], [l4_2, l5_2], fitness)"
   ]
  },
  {
   "cell_type": "markdown",
   "metadata": {},
   "source": [
    "### Eval the model with different FP configurations"
   ]
  },
  {
   "cell_type": "code",
   "execution_count": null,
   "metadata": {},
   "outputs": [],
   "source": [
    "FPS = {16:'FP16 + BN16', 32:'FP32 + BN32', 160:'FP16', 320:'FP32', 3216:'FP32 + BN16'}\n",
    "cosine_decs = [True, False]\n",
    "\n",
    "for cos in cosine_decs:\n",
    "    fitness_cnn.cosine_decay = cos\n",
    "    fitness_cnn.save(fitness_file)\n",
    "    for fp in FPS.keys():\n",
    "        print(\"\\n%s\\n\" % FPS[fp])\n",
    "        fitness.set_params(chrom_files_folder=fitness_folder, fitness_file=fitness_file, max_gpus=1,\n",
    "                   fp=fp, main_line='python /home/daniel/proyectos/Tesis/project/GA/NeuroEvolution/train_gen.py')\n",
    "        \n",
    "\n",
    "        ti = time()\n",
    "        print(\"Evaluationg First model with FP%d, cosine_decay %s\" %(fp, str(cos)) )\n",
    "        score = fitness.calc(best_mrdbi_v1)\n",
    "        print(\"Score: %0.3f\" % score)\n",
    "        print(\"Elapsed time: %0.3f \" % (time() - ti))\n",
    "\n",
    "        ti = time()\n",
    "        print(\"Evaluationg Second model with FP%d, cosine_decay %s\" %(fp, str(cos)) )\n",
    "        score = fitness.calc(best_mrdbi_v2)\n",
    "        print(\"Score: %0.3f\" % score)\n",
    "        print(\"Elapsed time: %0.3f \" % (time() - ti))\n"
   ]
  },
  {
   "cell_type": "markdown",
   "metadata": {},
   "source": [
    "### Eval the model with different trainin parameters"
   ]
  },
  {
   "cell_type": "code",
   "execution_count": null,
   "metadata": {},
   "outputs": [],
   "source": [
    "# Fitness params\n",
    "epochs = 75\n",
    "verbose = 1\n",
    "early_stop = 15\n",
    "smooth = 0.1\n",
    "cosine_dec = True\n",
    "lr_find = False\n",
    "\n",
    "batch_sizes = [128, 256, 512]\n",
    "warm_up_epochs= [0, 5, 10]\n",
    "base_lr = [0.001, 0.002, 0.01]\n",
    "for batch_size in batch_sizes:\n",
    "    for warm in warm_up_epochs:\n",
    "        for lr in base_lr:\n",
    "            print(\"BATCH SIZE %d, LR %0.3f, WARM UP %s\" % (batch_size, lr, str(warm)))\n",
    "            fitness_cnn.set_params(data, verbose=verbose, batch_size=batch_size, reduce_plateau=redu_plat,\n",
    "                   epochs=epochs, cosine_decay=cosine_dec, early_stop=early_stop, \n",
    "                   warm_epochs=warm, base_lr=lr, smooth_label=smooth, find_lr=lr_find)\n",
    "\n",
    "            fitness_cnn.save(fitness_file)\n",
    "            \n",
    "            fitness.set_params(chrom_files_folder=fitness_folder, fitness_file=fitness_file, max_gpus=1,\n",
    "                   fp=32, main_line='python /home/daniel/proyectos/Tesis/project/GA/NeuroEvolution/train_gen.py')\n",
    "            ti = time()\n",
    "            score = fitness.calc(best_mrdbi_v1)\n",
    "            print(\"Score: %0.3f\" % score)\n",
    "            print(\"Elapsed time: %0.3f \" % (time() - ti))"
   ]
  },
  {
   "cell_type": "markdown",
   "metadata": {},
   "source": [
    "### Eval the model with Dropout after maxpool and before"
   ]
  },
  {
   "cell_type": "markdown",
   "metadata": {},
   "source": [
    "### Dont forgett to changue the precision mode to eval with maxpool after or before"
   ]
  },
  {
   "cell_type": "code",
   "execution_count": 9,
   "metadata": {},
   "outputs": [
    {
     "name": "stdout",
     "output_type": "stream",
     "text": [
      "Score: 0.350\n",
      "Elapsed time: 504.332 \n"
     ]
    }
   ],
   "source": [
    "# Fitness params\n",
    "epochs = 10\n",
    "batch_size = 128\n",
    "verbose = 1\n",
    "redu_plat = False\n",
    "early_stop = 15\n",
    "warm_up_epochs= 5\n",
    "base_lr = 0.001\n",
    "smooth = 0.1\n",
    "cosine_dec = False\n",
    "lr_find = False\n",
    "\n",
    "fitness_cnn.set_params(data, verbose=verbose, batch_size=batch_size, reduce_plateau=redu_plat,\n",
    "                   epochs=epochs, cosine_decay=cosine_dec, early_stop=early_stop, \n",
    "                   warm_epochs=warm_up_epochs, base_lr=base_lr, smooth_label=smooth, find_lr=lr_find)\n",
    "\n",
    "fitness_folder = '../../delete'\n",
    "fitness_file = '../../delete/fitness_example' \n",
    "fitness_cnn.save(fitness_file)\n",
    "\n",
    "fitness.set_params(chrom_files_folder=fitness_folder, fitness_file=fitness_file, max_gpus=1,\n",
    "                   fp=32, main_line='python /home/daniel/proyectos/Tesis/project/GA/NeuroEvolution/train_gen.py')\n",
    "ti = time()\n",
    "score = fitness.calc(best_mrdbi_v1)\n",
    "print(\"Score: %0.3f\" % score)\n",
    "print(\"Elapsed time: %0.3f \" % (time() - ti))"
   ]
  },
  {
   "cell_type": "code",
   "execution_count": null,
   "metadata": {},
   "outputs": [],
   "source": []
  }
 ],
 "metadata": {
  "kernelspec": {
   "display_name": "Python 3",
   "language": "python",
   "name": "python3"
  },
  "language_info": {
   "codemirror_mode": {
    "name": "ipython",
    "version": 3
   },
   "file_extension": ".py",
   "mimetype": "text/x-python",
   "name": "python",
   "nbconvert_exporter": "python",
   "pygments_lexer": "ipython3",
   "version": "3.6.7"
  }
 },
 "nbformat": 4,
 "nbformat_minor": 2
}
