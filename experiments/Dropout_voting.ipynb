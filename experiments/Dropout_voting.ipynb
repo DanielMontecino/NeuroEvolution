{
 "cells": [
  {
   "cell_type": "code",
   "execution_count": 1,
   "metadata": {},
   "outputs": [
    {
     "name": "stderr",
     "output_type": "stream",
     "text": [
      "Using TensorFlow backend.\n"
     ]
    }
   ],
   "source": [
    "from time import time\n",
    "import keras\n",
    "import os\n",
    "import sys\n",
    "sys.path.append('../')\n",
    "from utils.utils import smooth_labels, CLRScheduler, LinearDecayScheduler, WarmUpCosineDecayScheduler\n",
    "from utils.codification_cnn import CNNLayer, NNLayer, ChromosomeCNN, FitnessCNN, FitnessCNNParallel\n",
    "\n",
    "from utils.codification_skipc import FitnessSkip, Connections, ChromosomeSkip\n",
    "from utils.datamanager import DataManager\n",
    "import numpy as np\n",
    "from ast import literal_eval\n",
    "import matplotlib.pyplot as plt\n",
    "%matplotlib inline\n",
    "\n",
    "\n",
    "def get_chromosome_from_file(filename):\n",
    "    cnn_layers = []\n",
    "    nn_layers = []\n",
    "    connections = []\n",
    "    with open(filename, 'r') as f:\n",
    "        for line in f:\n",
    "            params = line.split('|')            \n",
    "            if 'CNN' == params[0]:\n",
    "                filters = int(params[1].split(':')[1])\n",
    "                kernel = literal_eval(params[2].split(':')[1])\n",
    "                activation = params[3].split(':')[1]\n",
    "                dropout = float(params[4].split(':')[1])\n",
    "                maxpool = bool(int(params[5].split(':')[1]))\n",
    "                cnn_layers.append(CNNLayer(filters, kernel, activation, dropout, maxpool))\n",
    "            elif 'NN' == params[0]:\n",
    "                units = int(params[1].split(':')[1])\n",
    "                activation = params[2].split(':')[1]\n",
    "                dropout = float(params[3].split(':')[1])\n",
    "                nn_layers.append(NNLayer(units, activation, dropout))\n",
    "            else:\n",
    "                try:\n",
    "                    local_connections = [int(el) for el in params[0].split(\"\\n\")[0]]\n",
    "                    if len(local_connections) > 0:\n",
    "                        connections.append(local_connections)\n",
    "                except ValueError:\n",
    "                    pass\n",
    "        max_len = np.max([len(e) for e in connections])\n",
    "        matrix = np.array([el + [0] * (max_len - len(el)) for el in connections])\n",
    "        connections = Connections(matrix)\n",
    "    return ChromosomeSkip(cnn_layers, nn_layers, connections)\n",
    "\n",
    "\n",
    "def show_result(history, metric='acc'):\n",
    "        color = np.array([[31, 119, 180], [255, 127, 14]]) / 255.\n",
    "        try:\n",
    "            epochs = np.linspace(0, len(history.history['acc']) - 1, len(history.history['acc']))\n",
    "            argmax_val = np.argmax(history.history['val_%s' % metric])\n",
    "            plt.plot(epochs, history.history['val_%s' % metric], label='validation', color=color[0], alpha=0.5)\n",
    "            plt.plot(epochs, median_filter(history.history['val_%s' % metric]), color=color[0])\n",
    "            plt.scatter(epochs[argmax_val], history.history['val_%s' % metric][argmax_val],\n",
    "            label='max val_%s %0.4f' % (metric, history.history['val_%s' % metric][argmax_val]), c='r')\n",
    "        except KeyError:\n",
    "            pass\n",
    "        plt.plot(epochs, history.history[metric], label='train', color=color[1], alpha=0.5)\n",
    "        plt.plot(epochs, median_filter(history.history[metric]), color=color[1])\n",
    "\n",
    "\n",
    "        plt.legend()\n",
    "        plt.xlabel('Epochs')\n",
    "        #plt.xticks([20, 40, 60, 80, 120, 160, 180])\n",
    "        plt.grid()\n",
    "        plt.ylabel(metric)\n",
    "        plt.show()\n",
    "        \n",
    "def median_filter(v, size=5):\n",
    "    stride = (size - 1) // 2\n",
    "    filtered_v = []\n",
    "    for i in range(len(v)):\n",
    "        if i < stride or i + stride == len(v):\n",
    "            filtered_v.append(v[i])\n",
    "        else:\n",
    "            filtered_v.append(np.mean(v[i-stride:i + stride + 1]))\n",
    "    return filtered_v\n",
    "\n",
    "\n",
    "data_folder = '/home/daniel/datasets/MNIST_variations'\n",
    "command = 'python ./train_gen.py'\n",
    "verbose = 1\n",
    "experiments_folder = '../super_conv'\n",
    "gpus = 1"
   ]
  },
  {
   "cell_type": "code",
   "execution_count": 2,
   "metadata": {},
   "outputs": [
    {
     "name": "stdout",
     "output_type": "stream",
     "text": [
      "(9600, 28, 28, 1) train samples\n",
      "(2400, 28, 28, 1) validation samples\n",
      "(50000, 28, 28, 1) test samples\n"
     ]
    }
   ],
   "source": [
    "# dataset params:\n",
    "data_folder = data_folder\n",
    "smooth = 0.1\n",
    "classes = []\n",
    "\n",
    "dataset = 'MRDBI'\n",
    "dm = DataManager(dataset, clases=classes, folder_var_mnist=data_folder)\n",
    "(x_train, y_train), (x_test, y_test), (x_val, y_val) = dm.load_data()\n",
    "\n",
    "\n",
    "if smooth > 0:\n",
    "    y_train = smooth_labels(y_train, smooth)"
   ]
  },
  {
   "cell_type": "code",
   "execution_count": 3,
   "metadata": {},
   "outputs": [],
   "source": [
    "# Fitness params\n",
    "epochs = 15\n",
    "batch_size = 128\n",
    "base_lr = 0.001\n",
    "smooth = 0.1"
   ]
  },
  {
   "cell_type": "code",
   "execution_count": 4,
   "metadata": {},
   "outputs": [
    {
     "name": "stdout",
     "output_type": "stream",
     "text": [
      "WARNING:tensorflow:From /home/daniel/anaconda3/envs/python3/lib/python3.7/site-packages/tensorflow/python/framework/op_def_library.py:263: colocate_with (from tensorflow.python.framework.ops) is deprecated and will be removed in a future version.\n",
      "Instructions for updating:\n",
      "Colocations handled automatically by placer.\n",
      "WARNING:tensorflow:From /home/daniel/anaconda3/envs/python3/lib/python3.7/site-packages/keras/backend/tensorflow_backend.py:3445: calling dropout (from tensorflow.python.ops.nn_ops) with keep_prob is deprecated and will be removed in a future version.\n",
      "Instructions for updating:\n",
      "Please use `rate` instead of `keep_prob`. Rate should be set to `rate = 1 - keep_prob`.\n",
      "Input connections: 2\n",
      "Maxpool times: 1\n",
      "Maxpool times: 1\n",
      "Input connections: 2\n",
      "Maxpool times: 1\n",
      "Maxpool times: 1\n",
      "Input connections: 2\n",
      "Maxpool times: 1\n",
      "Maxpool times: 1\n",
      "__________________________________________________________________________________________________\n",
      "Layer (type)                    Output Shape         Param #     Connected to                     \n",
      "==================================================================================================\n",
      "input_1 (InputLayer)            (None, 28, 28, 1)    0                                            \n",
      "__________________________________________________________________________________________________\n",
      "batch_normalization_1 (BatchNor (None, 28, 28, 1)    4           input_1[0][0]                    \n",
      "__________________________________________________________________________________________________\n",
      "conv2d_1 (Conv2D)               (None, 28, 28, 57)   570         batch_normalization_1[0][0]      \n",
      "__________________________________________________________________________________________________\n",
      "p_re_lu_1 (PReLU)               (None, 28, 28, 57)   44688       conv2d_1[0][0]                   \n",
      "__________________________________________________________________________________________________\n",
      "batch_normalization_2 (BatchNor (None, 28, 28, 57)   228         p_re_lu_1[0][0]                  \n",
      "__________________________________________________________________________________________________\n",
      "dropout_1 (Dropout)             (None, 28, 28, 57)   0           batch_normalization_2[0][0]      \n",
      "__________________________________________________________________________________________________\n",
      "conv2d_2 (Conv2D)               (None, 28, 28, 79)   67624       dropout_1[0][0]                  \n",
      "__________________________________________________________________________________________________\n",
      "p_re_lu_2 (PReLU)               (None, 28, 28, 79)   61936       conv2d_2[0][0]                   \n",
      "__________________________________________________________________________________________________\n",
      "batch_normalization_3 (BatchNor (None, 28, 28, 79)   316         p_re_lu_2[0][0]                  \n",
      "__________________________________________________________________________________________________\n",
      "dropout_2 (Dropout)             (None, 28, 28, 79)   0           batch_normalization_3[0][0]      \n",
      "__________________________________________________________________________________________________\n",
      "concatenate_1 (Concatenate)     (None, 28, 28, 136)  0           dropout_1[0][0]                  \n",
      "                                                                 dropout_2[0][0]                  \n",
      "__________________________________________________________________________________________________\n",
      "conv2d_3 (Conv2D)               (None, 28, 28, 66)   439890      concatenate_1[0][0]              \n",
      "__________________________________________________________________________________________________\n",
      "batch_normalization_4 (BatchNor (None, 28, 28, 66)   264         conv2d_3[0][0]                   \n",
      "__________________________________________________________________________________________________\n",
      "dropout_3 (Dropout)             (None, 28, 28, 66)   0           batch_normalization_4[0][0]      \n",
      "__________________________________________________________________________________________________\n",
      "concatenate_2 (Concatenate)     (None, 28, 28, 123)  0           dropout_1[0][0]                  \n",
      "                                                                 dropout_3[0][0]                  \n",
      "__________________________________________________________________________________________________\n",
      "conv2d_4 (Conv2D)               (None, 28, 28, 67)   8308        concatenate_2[0][0]              \n",
      "__________________________________________________________________________________________________\n",
      "batch_normalization_5 (BatchNor (None, 28, 28, 67)   268         conv2d_4[0][0]                   \n",
      "__________________________________________________________________________________________________\n",
      "dropout_4 (Dropout)             (None, 28, 28, 67)   0           batch_normalization_5[0][0]      \n",
      "__________________________________________________________________________________________________\n",
      "concatenate_3 (Concatenate)     (None, 28, 28, 124)  0           dropout_1[0][0]                  \n",
      "                                                                 dropout_4[0][0]                  \n",
      "__________________________________________________________________________________________________\n",
      "conv2d_5 (Conv2D)               (None, 28, 28, 71)   431467      concatenate_3[0][0]              \n",
      "__________________________________________________________________________________________________\n",
      "p_re_lu_3 (PReLU)               (None, 28, 28, 71)   55664       conv2d_5[0][0]                   \n",
      "__________________________________________________________________________________________________\n",
      "batch_normalization_6 (BatchNor (None, 28, 28, 71)   284         p_re_lu_3[0][0]                  \n",
      "__________________________________________________________________________________________________\n",
      "max_pooling2d_1 (MaxPooling2D)  (None, 14, 14, 71)   0           batch_normalization_6[0][0]      \n",
      "__________________________________________________________________________________________________\n",
      "dropout_5 (Dropout)             (None, 14, 14, 71)   0           max_pooling2d_1[0][0]            \n",
      "__________________________________________________________________________________________________\n",
      "conv2d_6 (Conv2D)               (None, 14, 14, 72)   250560      dropout_5[0][0]                  \n",
      "__________________________________________________________________________________________________\n",
      "leaky_re_lu_1 (LeakyReLU)       (None, 14, 14, 72)   0           conv2d_6[0][0]                   \n",
      "__________________________________________________________________________________________________\n",
      "batch_normalization_7 (BatchNor (None, 14, 14, 72)   288         leaky_re_lu_1[0][0]              \n",
      "__________________________________________________________________________________________________\n",
      "max_pooling2d_2 (MaxPooling2D)  (None, 7, 7, 72)     0           batch_normalization_7[0][0]      \n",
      "__________________________________________________________________________________________________\n",
      "dropout_6 (Dropout)             (None, 7, 7, 72)     0           max_pooling2d_2[0][0]            \n",
      "__________________________________________________________________________________________________\n",
      "conv2d_7 (Conv2D)               (None, 7, 7, 73)     257617      dropout_6[0][0]                  \n",
      "__________________________________________________________________________________________________\n",
      "p_re_lu_4 (PReLU)               (None, 7, 7, 73)     3577        conv2d_7[0][0]                   \n",
      "__________________________________________________________________________________________________\n",
      "batch_normalization_8 (BatchNor (None, 7, 7, 73)     292         p_re_lu_4[0][0]                  \n",
      "__________________________________________________________________________________________________\n",
      "max_pooling2d_3 (MaxPooling2D)  (None, 3, 3, 73)     0           batch_normalization_8[0][0]      \n",
      "__________________________________________________________________________________________________\n",
      "dropout_7 (Dropout)             (None, 3, 3, 73)     0           max_pooling2d_3[0][0]            \n",
      "__________________________________________________________________________________________________\n",
      "flatten_1 (Flatten)             (None, 657)          0           dropout_7[0][0]                  \n",
      "__________________________________________________________________________________________________\n",
      "dense_1 (Dense)                 (None, 10)           6580        flatten_1[0][0]                  \n",
      "==================================================================================================\n",
      "Total params: 1,630,425\n",
      "Trainable params: 1,629,453\n",
      "Non-trainable params: 972\n",
      "__________________________________________________________________________________________________\n"
     ]
    }
   ],
   "source": [
    "keras.backend.clear_session()\n",
    "\n",
    "f = FitnessSkip()\n",
    "f.input_shape = (28, 28, 1)\n",
    "f.num_clases = 10\n",
    "f.verb = 1\n",
    "\n",
    "c = get_chromosome_from_file('./models/%s' % dataset)\n",
    "model = f.decode(c, dropout_voting=False)"
   ]
  },
  {
   "cell_type": "code",
   "execution_count": 5,
   "metadata": {},
   "outputs": [],
   "source": [
    "# Create the Learning rate scheduler.\n",
    "total_steps = int(epochs * y_train.shape[0] / batch_size)\n",
    "\n",
    "clr = CLRScheduler(min_lr=0.00003,\n",
    "                   max_lr=0.03,\n",
    "                   total_steps=total_steps,\n",
    "                   cycles=epochs//5)\n",
    "\n",
    "callbacks = [clr]"
   ]
  },
  {
   "cell_type": "code",
   "execution_count": 6,
   "metadata": {},
   "outputs": [
    {
     "name": "stdout",
     "output_type": "stream",
     "text": [
      "WARNING:tensorflow:From /home/daniel/anaconda3/envs/python3/lib/python3.7/site-packages/tensorflow/python/ops/math_ops.py:3066: to_int32 (from tensorflow.python.ops.math_ops) is deprecated and will be removed in a future version.\n",
      "Instructions for updating:\n",
      "Use tf.cast instead.\n",
      "Train on 9600 samples, validate on 2400 samples\n",
      "Epoch 1/15\n",
      "9600/9600 [==============================] - 34s 4ms/step - loss: 2.4748 - acc: 0.2550 - val_loss: 1.4353 - val_acc: 0.5108\n",
      "Epoch 2/15\n",
      "9600/9600 [==============================] - 28s 3ms/step - loss: 1.4981 - acc: 0.5770 - val_loss: 1.2209 - val_acc: 0.6400\n",
      "Epoch 3/15\n",
      "9600/9600 [==============================] - 28s 3ms/step - loss: 1.1964 - acc: 0.7234 - val_loss: 0.7223 - val_acc: 0.7733\n",
      "Epoch 4/15\n",
      "9600/9600 [==============================] - 28s 3ms/step - loss: 0.9605 - acc: 0.8322 - val_loss: 0.5389 - val_acc: 0.8379\n",
      "Epoch 5/15\n",
      "9600/9600 [==============================] - 28s 3ms/step - loss: 0.8389 - acc: 0.8873 - val_loss: 0.4945 - val_acc: 0.8638\n",
      "Epoch 6/15\n",
      "9600/9600 [==============================] - 28s 3ms/step - loss: 0.7992 - acc: 0.9106 - val_loss: 0.5237 - val_acc: 0.8496\n",
      "Epoch 7/15\n",
      "9600/9600 [==============================] - 28s 3ms/step - loss: 0.8558 - acc: 0.8820 - val_loss: 0.5927 - val_acc: 0.8208\n",
      "Epoch 8/15\n",
      "9600/9600 [==============================] - 29s 3ms/step - loss: 0.9096 - acc: 0.8564 - val_loss: 0.7873 - val_acc: 0.7567\n",
      "Epoch 9/15\n",
      "9600/9600 [==============================] - 29s 3ms/step - loss: 0.7941 - acc: 0.9108 - val_loss: 0.5715 - val_acc: 0.8621\n",
      "Epoch 10/15\n",
      "9600/9600 [==============================] - 29s 3ms/step - loss: 0.6961 - acc: 0.9557 - val_loss: 0.4297 - val_acc: 0.8862\n",
      "Epoch 11/15\n",
      "9600/9600 [==============================] - 29s 3ms/step - loss: 0.6670 - acc: 0.9726 - val_loss: 0.4354 - val_acc: 0.8779\n",
      "Epoch 12/15\n",
      "9600/9600 [==============================] - 29s 3ms/step - loss: 0.6996 - acc: 0.9564 - val_loss: 0.5023 - val_acc: 0.8537\n",
      "Epoch 13/15\n",
      "9600/9600 [==============================] - 29s 3ms/step - loss: 0.7827 - acc: 0.9153 - val_loss: 0.5777 - val_acc: 0.8308\n",
      "Epoch 14/15\n",
      "9600/9600 [==============================] - 30s 3ms/step - loss: 0.7227 - acc: 0.9445 - val_loss: 0.4605 - val_acc: 0.8762\n",
      "Epoch 15/15\n",
      "9600/9600 [==============================] - 28s 3ms/step - loss: 0.6400 - acc: 0.9808 - val_loss: 0.4205 - val_acc: 0.8913\n",
      "50000/50000 [==============================] - 44s 882us/step\n",
      "Test loss: 0.4232112903547287\n",
      "Test accuracy: 0.88734\n",
      "Elapsed time: 7.96\n"
     ]
    }
   ],
   "source": [
    "ti = time()\n",
    "\n",
    "h = model.fit(x_train, y_train,\n",
    "          batch_size=batch_size,\n",
    "          epochs=epochs,\n",
    "          validation_data=(x_val, y_val),\n",
    "          shuffle=True,\n",
    "          callbacks=callbacks,\n",
    "          verbose=1)\n",
    "    \n",
    "# score trained model\n",
    "scores = model.evaluate(x_test, y_test, verbose=1)\n",
    "print('Test loss:', scores[0])\n",
    "print('Test accuracy:', scores[1])\n",
    "print(\"Elapsed time: %0.2f\" % ((time() - ti) / 60.))"
   ]
  },
  {
   "cell_type": "code",
   "execution_count": 7,
   "metadata": {},
   "outputs": [
    {
     "data": {
      "image/png": "[encoded data removed]",
      "text/plain": [
       "<Figure size 432x288 with 1 Axes>"
      ]
     },
     "metadata": {
      "needs_background": "light"
     },
     "output_type": "display_data"
    }
   ],
   "source": [
    "show_result(h)\n"
   ]
  },
  {
   "cell_type": "code",
   "execution_count": 8,
   "metadata": {},
   "outputs": [
    {
     "data": {
      "image/png": "[encoded data removed]",
      "text/plain": [
       "<Figure size 432x288 with 1 Axes>"
      ]
     },
     "metadata": {
      "needs_background": "light"
     },
     "output_type": "display_data"
    }
   ],
   "source": [
    "plt.plot(callbacks[0].learning_rates)\n",
    "plt.grid()\n",
    "plt.show()"
   ]
  },
  {
   "cell_type": "code",
   "execution_count": 9,
   "metadata": {},
   "outputs": [
    {
     "data": {
      "image/png": "[encoded data removed]",
      "text/plain": [
       "<Figure size 432x288 with 1 Axes>"
      ]
     },
     "metadata": {
      "needs_background": "light"
     },
     "output_type": "display_data"
    },
    {
     "data": {
      "image/png": "[encoded data removed]",
      "text/plain": [
       "<Figure size 432x288 with 1 Axes>"
      ]
     },
     "metadata": {
      "needs_background": "light"
     },
     "output_type": "display_data"
    }
   ],
   "source": [
    "plt.plot(callbacks[0].accs, label='acc')\n",
    "plt.legend()\n",
    "plt.grid()\n",
    "plt.show()\n",
    "plt.plot(callbacks[0].losses, label='loss')\n",
    "plt.legend()\n",
    "plt.grid()\n",
    "plt.show()"
   ]
  },
  {
   "cell_type": "code",
   "execution_count": 11,
   "metadata": {},
   "outputs": [],
   "source": [
    "def eval_predictions(preds, y_true):\n",
    "    return np.sum(np.argmax(preds, axis=1) == np.argmax(y_true, axis=1))/y_true.shape[0]\n"
   ]
  },
  {
   "cell_type": "code",
   "execution_count": 23,
   "metadata": {},
   "outputs": [],
   "source": [
    "def eval_voting(model, x, y, n_votes):\n",
    "    predictions = [model.predict(x) for _ in range(n_votes)]\n",
    "    singles_accs = [eval_predictions(pred, y) for pred in predictions]\n",
    "    predictions = np.array(predictions)\n",
    "    voting_predictions = [eval_predictions(np.mean(predictions[0:n], axis=0), y)\n",
    "                      for n in range(1, n_votes + 1)]\n",
    "    singles_mean = [np.mean(singles_accs[0:n]) for n in range(1,n_votes + 1)]\n",
    "    print(\"Single accuracies:\", singles_accs)\n",
    "    print(\"N votes\\t\\tvoting\\t\\tsingles mean\")\n",
    "    for i in range(n_votes):\n",
    "        print(\"%d\\t\\t%0.2f\\t\\t%0.2f\" % (i+1, voting_predictions[i]*100, singles_mean[i]*100))"
   ]
  },
  {
   "cell_type": "code",
   "execution_count": 12,
   "metadata": {},
   "outputs": [
    {
     "name": "stdout",
     "output_type": "stream",
     "text": [
      "Single accuracies: [0.89125, 0.89125, 0.89125, 0.89125, 0.89125]\n",
      "N votes\t\tvoting\t\tsingles mean\n",
      "1\t\t89.12\t\t89.12\n",
      "2\t\t89.12\t\t89.12\n",
      "3\t\t89.12\t\t89.12\n",
      "4\t\t89.12\t\t89.12\n",
      "5\t\t89.12\t\t89.12\n"
     ]
    }
   ],
   "source": [
    "eval_voting(model, x_val, y_val, 5)"
   ]
  },
  {
   "cell_type": "code",
   "execution_count": 13,
   "metadata": {},
   "outputs": [],
   "source": [
    "model.save_weights('model')"
   ]
  },
  {
   "cell_type": "code",
   "execution_count": 14,
   "metadata": {},
   "outputs": [
    {
     "name": "stdout",
     "output_type": "stream",
     "text": [
      "Input connections: 2\n",
      "Maxpool times: 1\n",
      "Maxpool times: 1\n",
      "Input connections: 2\n",
      "Maxpool times: 1\n",
      "Maxpool times: 1\n",
      "Input connections: 2\n",
      "Maxpool times: 1\n",
      "Maxpool times: 1\n",
      "__________________________________________________________________________________________________\n",
      "Layer (type)                    Output Shape         Param #     Connected to                     \n",
      "==================================================================================================\n",
      "input_2 (InputLayer)            (None, 28, 28, 1)    0                                            \n",
      "__________________________________________________________________________________________________\n",
      "batch_normalization_9 (BatchNor (None, 28, 28, 1)    4           input_2[0][0]                    \n",
      "__________________________________________________________________________________________________\n",
      "conv2d_8 (Conv2D)               (None, 28, 28, 57)   570         batch_normalization_9[0][0]      \n",
      "__________________________________________________________________________________________________\n",
      "p_re_lu_5 (PReLU)               (None, 28, 28, 57)   44688       conv2d_8[0][0]                   \n",
      "__________________________________________________________________________________________________\n",
      "batch_normalization_10 (BatchNo (None, 28, 28, 57)   228         p_re_lu_5[0][0]                  \n",
      "__________________________________________________________________________________________________\n",
      "dropout_voting_1 (Dropout_votin (None, 28, 28, 57)   0           batch_normalization_10[0][0]     \n",
      "__________________________________________________________________________________________________\n",
      "conv2d_9 (Conv2D)               (None, 28, 28, 79)   67624       dropout_voting_1[0][0]           \n",
      "__________________________________________________________________________________________________\n",
      "p_re_lu_6 (PReLU)               (None, 28, 28, 79)   61936       conv2d_9[0][0]                   \n",
      "__________________________________________________________________________________________________\n",
      "batch_normalization_11 (BatchNo (None, 28, 28, 79)   316         p_re_lu_6[0][0]                  \n",
      "__________________________________________________________________________________________________\n",
      "dropout_voting_2 (Dropout_votin (None, 28, 28, 79)   0           batch_normalization_11[0][0]     \n",
      "__________________________________________________________________________________________________\n",
      "concatenate_4 (Concatenate)     (None, 28, 28, 136)  0           dropout_voting_1[0][0]           \n",
      "                                                                 dropout_voting_2[0][0]           \n",
      "__________________________________________________________________________________________________\n",
      "conv2d_10 (Conv2D)              (None, 28, 28, 66)   439890      concatenate_4[0][0]              \n",
      "__________________________________________________________________________________________________\n",
      "batch_normalization_12 (BatchNo (None, 28, 28, 66)   264         conv2d_10[0][0]                  \n",
      "__________________________________________________________________________________________________\n",
      "dropout_voting_3 (Dropout_votin (None, 28, 28, 66)   0           batch_normalization_12[0][0]     \n",
      "__________________________________________________________________________________________________\n",
      "concatenate_5 (Concatenate)     (None, 28, 28, 123)  0           dropout_voting_1[0][0]           \n",
      "                                                                 dropout_voting_3[0][0]           \n",
      "__________________________________________________________________________________________________\n",
      "conv2d_11 (Conv2D)              (None, 28, 28, 67)   8308        concatenate_5[0][0]              \n",
      "__________________________________________________________________________________________________\n",
      "batch_normalization_13 (BatchNo (None, 28, 28, 67)   268         conv2d_11[0][0]                  \n",
      "__________________________________________________________________________________________________\n",
      "dropout_voting_4 (Dropout_votin (None, 28, 28, 67)   0           batch_normalization_13[0][0]     \n",
      "__________________________________________________________________________________________________\n",
      "concatenate_6 (Concatenate)     (None, 28, 28, 124)  0           dropout_voting_1[0][0]           \n",
      "                                                                 dropout_voting_4[0][0]           \n",
      "__________________________________________________________________________________________________\n",
      "conv2d_12 (Conv2D)              (None, 28, 28, 71)   431467      concatenate_6[0][0]              \n",
      "__________________________________________________________________________________________________\n",
      "p_re_lu_7 (PReLU)               (None, 28, 28, 71)   55664       conv2d_12[0][0]                  \n",
      "__________________________________________________________________________________________________\n",
      "batch_normalization_14 (BatchNo (None, 28, 28, 71)   284         p_re_lu_7[0][0]                  \n",
      "__________________________________________________________________________________________________\n",
      "max_pooling2d_4 (MaxPooling2D)  (None, 14, 14, 71)   0           batch_normalization_14[0][0]     \n",
      "__________________________________________________________________________________________________\n",
      "dropout_voting_5 (Dropout_votin (None, 14, 14, 71)   0           max_pooling2d_4[0][0]            \n",
      "__________________________________________________________________________________________________\n",
      "conv2d_13 (Conv2D)              (None, 14, 14, 72)   250560      dropout_voting_5[0][0]           \n",
      "__________________________________________________________________________________________________\n",
      "leaky_re_lu_2 (LeakyReLU)       (None, 14, 14, 72)   0           conv2d_13[0][0]                  \n",
      "__________________________________________________________________________________________________\n",
      "batch_normalization_15 (BatchNo (None, 14, 14, 72)   288         leaky_re_lu_2[0][0]              \n",
      "__________________________________________________________________________________________________\n",
      "max_pooling2d_5 (MaxPooling2D)  (None, 7, 7, 72)     0           batch_normalization_15[0][0]     \n",
      "__________________________________________________________________________________________________\n",
      "dropout_voting_6 (Dropout_votin (None, 7, 7, 72)     0           max_pooling2d_5[0][0]            \n",
      "__________________________________________________________________________________________________\n",
      "conv2d_14 (Conv2D)              (None, 7, 7, 73)     257617      dropout_voting_6[0][0]           \n",
      "__________________________________________________________________________________________________\n",
      "p_re_lu_8 (PReLU)               (None, 7, 7, 73)     3577        conv2d_14[0][0]                  \n",
      "__________________________________________________________________________________________________\n",
      "batch_normalization_16 (BatchNo (None, 7, 7, 73)     292         p_re_lu_8[0][0]                  \n",
      "__________________________________________________________________________________________________\n",
      "max_pooling2d_6 (MaxPooling2D)  (None, 3, 3, 73)     0           batch_normalization_16[0][0]     \n",
      "__________________________________________________________________________________________________\n",
      "dropout_voting_7 (Dropout_votin (None, 3, 3, 73)     0           max_pooling2d_6[0][0]            \n",
      "__________________________________________________________________________________________________\n",
      "flatten_2 (Flatten)             (None, 657)          0           dropout_voting_7[0][0]           \n",
      "__________________________________________________________________________________________________\n",
      "dense_2 (Dense)                 (None, 10)           6580        flatten_2[0][0]                  \n",
      "==================================================================================================\n",
      "Total params: 1,630,425\n",
      "Trainable params: 1,629,453\n",
      "Non-trainable params: 972\n",
      "__________________________________________________________________________________________________\n"
     ]
    }
   ],
   "source": [
    "del model\n",
    "model = f.decode(c, dropout_voting=True)\n",
    "model.load_weights('model')"
   ]
  },
  {
   "cell_type": "code",
   "execution_count": 16,
   "metadata": {},
   "outputs": [
    {
     "name": "stdout",
     "output_type": "stream",
     "text": [
      "Single accuracies: [0.8629166666666667, 0.8679166666666667, 0.8620833333333333, 0.8645833333333334, 0.8654166666666666, 0.86, 0.85625, 0.8641666666666666, 0.8558333333333333, 0.8708333333333333, 0.8633333333333333, 0.8620833333333333, 0.8654166666666666, 0.86375, 0.8645833333333334]\n",
      "N votes\t\tvoting\t\tsingles mean\n",
      "1\t\t86.29\t\t86.29\n",
      "2\t\t87.58\t\t86.54\n",
      "3\t\t88.29\t\t86.43\n",
      "4\t\t88.50\t\t86.44\n",
      "5\t\t88.67\t\t86.46\n",
      "6\t\t88.58\t\t86.38\n",
      "7\t\t88.62\t\t86.27\n",
      "8\t\t88.71\t\t86.29\n",
      "9\t\t88.46\t\t86.21\n",
      "10\t\t88.79\t\t86.30\n",
      "11\t\t88.88\t\t86.30\n",
      "12\t\t88.92\t\t86.30\n",
      "13\t\t88.79\t\t86.31\n",
      "14\t\t88.79\t\t86.32\n",
      "15\t\t88.92\t\t86.33\n"
     ]
    }
   ],
   "source": [
    "eval_voting(model, x_val, y_val, 15)"
   ]
  },
  {
   "cell_type": "markdown",
   "metadata": {},
   "source": [
    "#### Eval test set"
   ]
  },
  {
   "cell_type": "code",
   "execution_count": 25,
   "metadata": {},
   "outputs": [
    {
     "name": "stdout",
     "output_type": "stream",
     "text": [
      "Input connections: 2\n",
      "Maxpool times: 1\n",
      "Maxpool times: 1\n",
      "Input connections: 2\n",
      "Maxpool times: 1\n",
      "Maxpool times: 1\n",
      "Input connections: 2\n",
      "Maxpool times: 1\n",
      "Maxpool times: 1\n",
      "__________________________________________________________________________________________________\n",
      "Layer (type)                    Output Shape         Param #     Connected to                     \n",
      "==================================================================================================\n",
      "input_5 (InputLayer)            (None, 28, 28, 1)    0                                            \n",
      "__________________________________________________________________________________________________\n",
      "batch_normalization_33 (BatchNo (None, 28, 28, 1)    4           input_5[0][0]                    \n",
      "__________________________________________________________________________________________________\n",
      "conv2d_29 (Conv2D)              (None, 28, 28, 57)   570         batch_normalization_33[0][0]     \n",
      "__________________________________________________________________________________________________\n",
      "p_re_lu_17 (PReLU)              (None, 28, 28, 57)   44688       conv2d_29[0][0]                  \n",
      "__________________________________________________________________________________________________\n",
      "batch_normalization_34 (BatchNo (None, 28, 28, 57)   228         p_re_lu_17[0][0]                 \n",
      "__________________________________________________________________________________________________\n",
      "dropout_15 (Dropout)            (None, 28, 28, 57)   0           batch_normalization_34[0][0]     \n",
      "__________________________________________________________________________________________________\n",
      "conv2d_30 (Conv2D)              (None, 28, 28, 79)   67624       dropout_15[0][0]                 \n",
      "__________________________________________________________________________________________________\n",
      "p_re_lu_18 (PReLU)              (None, 28, 28, 79)   61936       conv2d_30[0][0]                  \n",
      "__________________________________________________________________________________________________\n",
      "batch_normalization_35 (BatchNo (None, 28, 28, 79)   316         p_re_lu_18[0][0]                 \n",
      "__________________________________________________________________________________________________\n",
      "dropout_16 (Dropout)            (None, 28, 28, 79)   0           batch_normalization_35[0][0]     \n",
      "__________________________________________________________________________________________________\n",
      "concatenate_13 (Concatenate)    (None, 28, 28, 136)  0           dropout_15[0][0]                 \n",
      "                                                                 dropout_16[0][0]                 \n",
      "__________________________________________________________________________________________________\n",
      "conv2d_31 (Conv2D)              (None, 28, 28, 66)   439890      concatenate_13[0][0]             \n",
      "__________________________________________________________________________________________________\n",
      "batch_normalization_36 (BatchNo (None, 28, 28, 66)   264         conv2d_31[0][0]                  \n",
      "__________________________________________________________________________________________________\n",
      "dropout_17 (Dropout)            (None, 28, 28, 66)   0           batch_normalization_36[0][0]     \n",
      "__________________________________________________________________________________________________\n",
      "concatenate_14 (Concatenate)    (None, 28, 28, 123)  0           dropout_15[0][0]                 \n",
      "                                                                 dropout_17[0][0]                 \n",
      "__________________________________________________________________________________________________\n",
      "conv2d_32 (Conv2D)              (None, 28, 28, 67)   8308        concatenate_14[0][0]             \n",
      "__________________________________________________________________________________________________\n",
      "batch_normalization_37 (BatchNo (None, 28, 28, 67)   268         conv2d_32[0][0]                  \n",
      "__________________________________________________________________________________________________\n",
      "dropout_18 (Dropout)            (None, 28, 28, 67)   0           batch_normalization_37[0][0]     \n",
      "__________________________________________________________________________________________________\n",
      "concatenate_15 (Concatenate)    (None, 28, 28, 124)  0           dropout_15[0][0]                 \n",
      "                                                                 dropout_18[0][0]                 \n",
      "__________________________________________________________________________________________________\n",
      "conv2d_33 (Conv2D)              (None, 28, 28, 71)   431467      concatenate_15[0][0]             \n",
      "__________________________________________________________________________________________________\n",
      "p_re_lu_19 (PReLU)              (None, 28, 28, 71)   55664       conv2d_33[0][0]                  \n",
      "__________________________________________________________________________________________________\n",
      "batch_normalization_38 (BatchNo (None, 28, 28, 71)   284         p_re_lu_19[0][0]                 \n",
      "__________________________________________________________________________________________________\n",
      "max_pooling2d_13 (MaxPooling2D) (None, 14, 14, 71)   0           batch_normalization_38[0][0]     \n",
      "__________________________________________________________________________________________________\n",
      "dropout_19 (Dropout)            (None, 14, 14, 71)   0           max_pooling2d_13[0][0]           \n",
      "__________________________________________________________________________________________________\n",
      "conv2d_34 (Conv2D)              (None, 14, 14, 72)   250560      dropout_19[0][0]                 \n",
      "__________________________________________________________________________________________________\n",
      "leaky_re_lu_5 (LeakyReLU)       (None, 14, 14, 72)   0           conv2d_34[0][0]                  \n",
      "__________________________________________________________________________________________________\n",
      "batch_normalization_39 (BatchNo (None, 14, 14, 72)   288         leaky_re_lu_5[0][0]              \n",
      "__________________________________________________________________________________________________\n",
      "max_pooling2d_14 (MaxPooling2D) (None, 7, 7, 72)     0           batch_normalization_39[0][0]     \n",
      "__________________________________________________________________________________________________\n",
      "dropout_20 (Dropout)            (None, 7, 7, 72)     0           max_pooling2d_14[0][0]           \n",
      "__________________________________________________________________________________________________\n",
      "conv2d_35 (Conv2D)              (None, 7, 7, 73)     257617      dropout_20[0][0]                 \n",
      "__________________________________________________________________________________________________\n",
      "p_re_lu_20 (PReLU)              (None, 7, 7, 73)     3577        conv2d_35[0][0]                  \n",
      "__________________________________________________________________________________________________\n",
      "batch_normalization_40 (BatchNo (None, 7, 7, 73)     292         p_re_lu_20[0][0]                 \n",
      "__________________________________________________________________________________________________\n",
      "max_pooling2d_15 (MaxPooling2D) (None, 3, 3, 73)     0           batch_normalization_40[0][0]     \n",
      "__________________________________________________________________________________________________\n",
      "dropout_21 (Dropout)            (None, 3, 3, 73)     0           max_pooling2d_15[0][0]           \n",
      "__________________________________________________________________________________________________\n",
      "flatten_5 (Flatten)             (None, 657)          0           dropout_21[0][0]                 \n",
      "__________________________________________________________________________________________________\n",
      "dense_5 (Dense)                 (None, 10)           6580        flatten_5[0][0]                  \n",
      "==================================================================================================\n",
      "Total params: 1,630,425\n",
      "Trainable params: 1,629,453\n",
      "Non-trainable params: 972\n",
      "__________________________________________________________________________________________________\n"
     ]
    }
   ],
   "source": [
    "del model\n",
    "model = f.decode(c, dropout_voting=False)\n",
    "model.load_weights('model')"
   ]
  },
  {
   "cell_type": "code",
   "execution_count": 26,
   "metadata": {},
   "outputs": [
    {
     "name": "stdout",
     "output_type": "stream",
     "text": [
      "Single accuracies: [0.88734]\n",
      "N votes\t\tvoting\t\tsingles mean\n",
      "1\t\t88.73\t\t88.73\n"
     ]
    }
   ],
   "source": [
    "eval_voting(model, x_test, y_test, 1)"
   ]
  },
  {
   "cell_type": "code",
   "execution_count": 20,
   "metadata": {},
   "outputs": [
    {
     "name": "stdout",
     "output_type": "stream",
     "text": [
      "Input connections: 2\n",
      "Maxpool times: 1\n",
      "Maxpool times: 1\n",
      "Input connections: 2\n",
      "Maxpool times: 1\n",
      "Maxpool times: 1\n",
      "Input connections: 2\n",
      "Maxpool times: 1\n",
      "Maxpool times: 1\n",
      "__________________________________________________________________________________________________\n",
      "Layer (type)                    Output Shape         Param #     Connected to                     \n",
      "==================================================================================================\n",
      "input_4 (InputLayer)            (None, 28, 28, 1)    0                                            \n",
      "__________________________________________________________________________________________________\n",
      "batch_normalization_25 (BatchNo (None, 28, 28, 1)    4           input_4[0][0]                    \n",
      "__________________________________________________________________________________________________\n",
      "conv2d_22 (Conv2D)              (None, 28, 28, 57)   570         batch_normalization_25[0][0]     \n",
      "__________________________________________________________________________________________________\n",
      "p_re_lu_13 (PReLU)              (None, 28, 28, 57)   44688       conv2d_22[0][0]                  \n",
      "__________________________________________________________________________________________________\n",
      "batch_normalization_26 (BatchNo (None, 28, 28, 57)   228         p_re_lu_13[0][0]                 \n",
      "__________________________________________________________________________________________________\n",
      "dropout_voting_8 (Dropout_votin (None, 28, 28, 57)   0           batch_normalization_26[0][0]     \n",
      "__________________________________________________________________________________________________\n",
      "conv2d_23 (Conv2D)              (None, 28, 28, 79)   67624       dropout_voting_8[0][0]           \n",
      "__________________________________________________________________________________________________\n",
      "p_re_lu_14 (PReLU)              (None, 28, 28, 79)   61936       conv2d_23[0][0]                  \n",
      "__________________________________________________________________________________________________\n",
      "batch_normalization_27 (BatchNo (None, 28, 28, 79)   316         p_re_lu_14[0][0]                 \n",
      "__________________________________________________________________________________________________\n",
      "dropout_voting_9 (Dropout_votin (None, 28, 28, 79)   0           batch_normalization_27[0][0]     \n",
      "__________________________________________________________________________________________________\n",
      "concatenate_10 (Concatenate)    (None, 28, 28, 136)  0           dropout_voting_8[0][0]           \n",
      "                                                                 dropout_voting_9[0][0]           \n",
      "__________________________________________________________________________________________________\n",
      "conv2d_24 (Conv2D)              (None, 28, 28, 66)   439890      concatenate_10[0][0]             \n",
      "__________________________________________________________________________________________________\n",
      "batch_normalization_28 (BatchNo (None, 28, 28, 66)   264         conv2d_24[0][0]                  \n",
      "__________________________________________________________________________________________________\n",
      "dropout_voting_10 (Dropout_voti (None, 28, 28, 66)   0           batch_normalization_28[0][0]     \n",
      "__________________________________________________________________________________________________\n",
      "concatenate_11 (Concatenate)    (None, 28, 28, 123)  0           dropout_voting_8[0][0]           \n",
      "                                                                 dropout_voting_10[0][0]          \n",
      "__________________________________________________________________________________________________\n",
      "conv2d_25 (Conv2D)              (None, 28, 28, 67)   8308        concatenate_11[0][0]             \n",
      "__________________________________________________________________________________________________\n",
      "batch_normalization_29 (BatchNo (None, 28, 28, 67)   268         conv2d_25[0][0]                  \n",
      "__________________________________________________________________________________________________\n",
      "dropout_voting_11 (Dropout_voti (None, 28, 28, 67)   0           batch_normalization_29[0][0]     \n",
      "__________________________________________________________________________________________________\n",
      "concatenate_12 (Concatenate)    (None, 28, 28, 124)  0           dropout_voting_8[0][0]           \n",
      "                                                                 dropout_voting_11[0][0]          \n",
      "__________________________________________________________________________________________________\n",
      "conv2d_26 (Conv2D)              (None, 28, 28, 71)   431467      concatenate_12[0][0]             \n",
      "__________________________________________________________________________________________________\n",
      "p_re_lu_15 (PReLU)              (None, 28, 28, 71)   55664       conv2d_26[0][0]                  \n",
      "__________________________________________________________________________________________________\n",
      "batch_normalization_30 (BatchNo (None, 28, 28, 71)   284         p_re_lu_15[0][0]                 \n",
      "__________________________________________________________________________________________________\n",
      "max_pooling2d_10 (MaxPooling2D) (None, 14, 14, 71)   0           batch_normalization_30[0][0]     \n",
      "__________________________________________________________________________________________________\n",
      "dropout_voting_12 (Dropout_voti (None, 14, 14, 71)   0           max_pooling2d_10[0][0]           \n",
      "__________________________________________________________________________________________________\n",
      "conv2d_27 (Conv2D)              (None, 14, 14, 72)   250560      dropout_voting_12[0][0]          \n",
      "__________________________________________________________________________________________________\n",
      "leaky_re_lu_4 (LeakyReLU)       (None, 14, 14, 72)   0           conv2d_27[0][0]                  \n",
      "__________________________________________________________________________________________________\n",
      "batch_normalization_31 (BatchNo (None, 14, 14, 72)   288         leaky_re_lu_4[0][0]              \n",
      "__________________________________________________________________________________________________\n",
      "max_pooling2d_11 (MaxPooling2D) (None, 7, 7, 72)     0           batch_normalization_31[0][0]     \n",
      "__________________________________________________________________________________________________\n",
      "dropout_voting_13 (Dropout_voti (None, 7, 7, 72)     0           max_pooling2d_11[0][0]           \n",
      "__________________________________________________________________________________________________\n",
      "conv2d_28 (Conv2D)              (None, 7, 7, 73)     257617      dropout_voting_13[0][0]          \n",
      "__________________________________________________________________________________________________\n",
      "p_re_lu_16 (PReLU)              (None, 7, 7, 73)     3577        conv2d_28[0][0]                  \n",
      "__________________________________________________________________________________________________\n",
      "batch_normalization_32 (BatchNo (None, 7, 7, 73)     292         p_re_lu_16[0][0]                 \n",
      "__________________________________________________________________________________________________\n",
      "max_pooling2d_12 (MaxPooling2D) (None, 3, 3, 73)     0           batch_normalization_32[0][0]     \n",
      "__________________________________________________________________________________________________\n",
      "dropout_voting_14 (Dropout_voti (None, 3, 3, 73)     0           max_pooling2d_12[0][0]           \n",
      "__________________________________________________________________________________________________\n",
      "flatten_4 (Flatten)             (None, 657)          0           dropout_voting_14[0][0]          \n",
      "__________________________________________________________________________________________________\n",
      "dense_4 (Dense)                 (None, 10)           6580        flatten_4[0][0]                  \n",
      "==================================================================================================\n",
      "Total params: 1,630,425\n",
      "Trainable params: 1,629,453\n",
      "Non-trainable params: 972\n",
      "__________________________________________________________________________________________________\n"
     ]
    }
   ],
   "source": [
    "del model\n",
    "model = f.decode(c, dropout_voting=True)\n",
    "model.load_weights('model')"
   ]
  },
  {
   "cell_type": "code",
   "execution_count": 24,
   "metadata": {},
   "outputs": [
    {
     "name": "stdout",
     "output_type": "stream",
     "text": [
      "Single accuracies: [0.85924, 0.85944, 0.85986, 0.8594, 0.86018]\n",
      "N votes\t\tvoting\t\tsingles mean\n",
      "1\t\t85.92\t\t85.92\n",
      "2\t\t87.17\t\t85.93\n",
      "3\t\t87.72\t\t85.95\n",
      "4\t\t88.04\t\t85.95\n",
      "5\t\t88.11\t\t85.96\n"
     ]
    }
   ],
   "source": [
    "eval_voting(model, x_test, y_test, 5)"
   ]
  },
  {
   "cell_type": "code",
   "execution_count": null,
   "metadata": {},
   "outputs": [],
   "source": []
  }
 ],
 "metadata": {
  "kernelspec": {
   "display_name": "Python 3",
   "language": "python",
   "name": "python3"
  },
  "language_info": {
   "codemirror_mode": {
    "name": "ipython",
    "version": 3
   },
   "file_extension": ".py",
   "mimetype": "text/x-python",
   "name": "python",
   "nbconvert_exporter": "python",
   "pygments_lexer": "ipython3",
   "version": "3.7.3"
  }
 },
 "nbformat": 4,
 "nbformat_minor": 2
}
