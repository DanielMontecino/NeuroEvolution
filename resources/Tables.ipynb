{
 "cells": [
  {
   "cell_type": "markdown",
   "metadata": {},
   "source": [
    "### Presentation 15"
   ]
  },
  {
   "cell_type": "markdown",
   "metadata": {},
   "source": [
    "| épocas |      MB       |      MBI      |      MRB      |      MRD      |     MRDBI     |\n",
    "|--------|---------------|---------------|---------------|---------------|---------------|\n",
    "| 25     | 99.29 / 99.21 | 98.12 / 98.09 | 98.50 / 98.39 | 96.58 / 97.00 | 90.08 / 89.75 |\n",
    "| 75     | 99.25 / 99.19 | 98.46 / 98.18 | 98.38 / 98.38 | 96.42 / 96.87 | 90.12 / 90.05 |"
   ]
  },
  {
   "cell_type": "markdown",
   "metadata": {},
   "source": [
    "| épocas |      MB       |      MBI      |      MRB      |      MRD      |     MRDBI     |\n",
    "|--------|---------------|---------------|---------------|---------------|---------------|\n",
    "| 25     |  0.71 / 0.79  |  1.88 / 1.91  |  1.50 / 1.61  |  3.42 / 3.00  |  9.92 / 10.25 |\n",
    "| 75     |  0.75 / 0.81  |  1.54 / 1.82  |  1.62 / 1.62  |  3.58 / 3.13  |  9.88 / 9.95  |"
   ]
  },
  {
   "cell_type": "code",
   "execution_count": null,
   "metadata": {},
   "outputs": [],
   "source": []
  }
 ],
 "metadata": {
  "kernelspec": {
   "display_name": "Python 3",
   "language": "python",
   "name": "python3"
  },
  "language_info": {
   "codemirror_mode": {
    "name": "ipython",
    "version": 3
   },
   "file_extension": ".py",
   "mimetype": "text/x-python",
   "name": "python",
   "nbconvert_exporter": "python",
   "pygments_lexer": "ipython3",
   "version": "3.7.3"
  }
 },
 "nbformat": 4,
 "nbformat_minor": 2
}
