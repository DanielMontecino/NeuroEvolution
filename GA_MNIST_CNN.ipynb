{
 "cells": [
  {
   "cell_type": "code",
   "execution_count": null,
   "metadata": {},
   "outputs": [],
   "source": [
    "from time import time\n",
    "\n",
    "from utils.codification_cnn import CNNLayer, NNLayer, ChromosomeCNN, FitnessCNN, FitnessCNNParallel\n",
    "from utils.datamanager import DataManager\n",
    "from GA.parentSelector.parentSelector import RandomParentSelector, TournamentSelection, LinealOrder, WheelSelection\n",
    "from GA.geneticAlgorithm import GenerationalGA\n",
    "from time import time\n",
    "import numpy as np"
   ]
  },
  {
   "cell_type": "code",
   "execution_count": null,
   "metadata": {},
   "outputs": [],
   "source": [
    "mutation_rate = 0.05\n",
    "mutation_rate_1 = mutation_rate * 2\n",
    "ChromosomeCNN.grow_prob = mutation_rate\n",
    "ChromosomeCNN.decrease_prob = mutation_rate\n",
    "\n",
    "CNNLayer.k_prob = mutation_rate\n",
    "CNNLayer.filter_prob = mutation_rate_1\n",
    "CNNLayer.act_prob = mutation_rate\n",
    "CNNLayer.drop_prob = mutation_rate_1\n",
    "CNNLayer.maxpool_prob = mutation_rate\n",
    "\n",
    "NNLayer.units_prob = mutation_rate_1\n",
    "NNLayer.act_prob = mutation_rate\n",
    "NNLayer.drop_prob = mutation_rate_1\n",
    "\n",
    "l = CNNLayer(32, (3,3), 'relu', 0, False)\n",
    "l2 = CNNLayer(64, (3,3), 'relu', 0.25, True)\n",
    "l3 = NNLayer(128, 'relu', 0.5)\n",
    "c = ChromosomeCNN([l, l2], [l3], fitness)\n",
    "\n",
    "# genetic algorithm params:\n",
    "parents_selector_key = 'tournament'\n",
    "num_parents = 0.25\n",
    "generations = 30\n",
    "population = 20\n",
    "train_time = 8\n",
    "maximize_fit = False\n",
    "stat_val=True\n",
    "folder = \"../delete\"\n",
    "save_progress = False\n",
    "age_survivors_rate = 0.2\n",
    "\n",
    "fitness = FitnessCNN()\n",
    "# Fitness params\n",
    "epochs = 75\n",
    "batch_size = 128\n",
    "verbose = 1\n",
    "redu_plat = False\n",
    "early_stop = 15\n",
    "warm_up_epochs= 3\n",
    "base_lr = 0.001\n",
    "smooth = 0.1\n",
    "cosine_dec = True\n",
    "fitness_file = '../delete/fitness_example'    \n",
    "\n",
    "# dataset params:\n",
    "dataset = 'MBI'\n",
    "data_folder = '../../../../../datasets'\n",
    "classes = []\n",
    "\n",
    "# Load data\n",
    "dm = DataManager(dataset, clases=classes, folder_var_mnist=data_folder)\n",
    "data = dm.load_data()\n",
    "fitness.set_params(data, verbose=verbose, batch_size=batch_size, reduce_plateau=redu_plat,\n",
    "                   epochs=epochs, cosine_decay=cosine_dec, early_stop=early_stop, \n",
    "                   warm_epochs=warm_up_epochs, base_lr=base_lr, smooth_label=smooth)\n",
    "\n",
    "fitness.save(fitness_file)\n",
    "\n",
    "del dm, data, fitness\n",
    "\n",
    "fitness_folder = '../tmp'\n",
    "\n",
    "fitness = FitnessCNNParallel()\n",
    "fitness.set_params(chrom_files_folder=fitness_folder, fitness_file=fitness_file, max_gpus=2,\n",
    "                   fp=16, main_line='python3 /home/fondef/daniel/NeuroEvolution/train_gen.py')"
   ]
  },
  {
   "cell_type": "code",
   "execution_count": null,
   "metadata": {},
   "outputs": [],
   "source": [
    "generational = GenerationalGA(fitness=fitness, num_parents=num_parents, chromosome=c, parent_selector=p,\n",
    "                              generations=generations, num_population=population, maximize_fitness=maximize_fit, \n",
    "                              training_hours=train_time, folder=folder, statistical_validation=stat_val,\n",
    "                             save_progress=save_progress, age_survivors_rate=age_survivors_rate)"
   ]
  },
  {
   "cell_type": "code",
   "execution_count": null,
   "metadata": {},
   "outputs": [],
   "source": [
    "ti_all = time()\n",
    "winner, best_fit, ranking = generational.evolve()\n",
    "print(\"Total elapsed time: %0.3f\" % (time() - ti_all))"
   ]
  },
  {
   "cell_type": "code",
   "execution_count": null,
   "metadata": {},
   "outputs": [],
   "source": [
    "ti_all = time()\n",
    "winner, best_fit, ranking = generational.evolve()\n",
    "print(\"Total elapsed time: %0.3f\" % (time() - ti_all))\n",
    "print(\"Total training time: %0.3f\" % fitness.time)\n"
   ]
  },
  {
   "cell_type": "code",
   "execution_count": null,
   "metadata": {},
   "outputs": [],
   "source": [
    "generational = GenerationalGA.load_genetic_algorithm(folder=folder)"
   ]
  },
  {
   "cell_type": "code",
   "execution_count": null,
   "metadata": {},
   "outputs": [],
   "source": [
    "ti_all = time()\n",
    "winner, best_fit, ranking = generational.evolve()\n",
    "print(\"Total elapsed time: %0.3f\" % (time() - ti_all))\n"
   ]
  },
  {
   "cell_type": "code",
   "execution_count": null,
   "metadata": {},
   "outputs": [],
   "source": [
    "l1 = CNNLayer(104, (5,3), 'prelu', 0.046, True)\n",
    "l2 = CNNLayer(132, (1,1), 'leakyreLu', 0.597, 0)\n",
    "l3 = CNNLayer(127, (5,5), 'prelu', 0.286, 1)\n",
    "l4 = CNNLayer(104, (3,4), 'relu', 0.346, 1)\n",
    "l5 = CNNLayer(160, (5,1), 'sigmoid', 0.413, 1)\n",
    "l6 = NNLayer(118, 'elu', 0.354)\n",
    "best = Cromosome([l1,l2,l3,l4,l5], [l6])\n",
    "\n",
    "l1_ = CNNLayer(32, (3,3), 'relu', 0.2, False)\n",
    "l2_ = CNNLayer(64, (3,3), 'relu', 0.2, True)\n",
    "l3_ = NNLayer(128, 'relu', 0.5)\n",
    "base = Cromosome([l1_, l2_], [l3_])\n",
    "\n",
    "nn = Cromosome([],[NNLayer(830, 'prelu', 0.654), NNLayer(782, 'tanh', 0.166), NNLayer(28, 'elu', 0.062)])"
   ]
  },
  {
   "cell_type": "code",
   "execution_count": null,
   "metadata": {},
   "outputs": [],
   "source": [
    "s = fitness.calc(base, lr=0.001, test=True)"
   ]
  }
 ],
 "metadata": {
  "kernelspec": {
   "display_name": "Python 3",
   "language": "python",
   "name": "python3"
  },
  "language_info": {
   "codemirror_mode": {
    "name": "ipython",
    "version": 3
   },
   "file_extension": ".py",
   "mimetype": "text/x-python",
   "name": "python",
   "nbconvert_exporter": "python",
   "pygments_lexer": "ipython3",
   "version": "3.6.7"
  },
  "pycharm": {
   "stem_cell": {
    "cell_type": "raw",
    "metadata": {
     "collapsed": false
    },
    "source": []
   }
  }
 },
 "nbformat": 4,
 "nbformat_minor": 2
}
