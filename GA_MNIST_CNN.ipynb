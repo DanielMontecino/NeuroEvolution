{
 "cells": [
  {
   "cell_type": "code",
   "execution_count": 1,
   "metadata": {},
   "outputs": [
    {
     "name": "stderr",
     "output_type": "stream",
     "text": [
      "Using TensorFlow backend.\n"
     ]
    }
   ],
   "source": [
    "from time import time\n",
    "import os\n",
    "from utils.codification_cnn import CNNLayer, NNLayer, ChromosomeCNN, FitnessCNN, FitnessCNNParallel\n",
    "from utils.datamanager import DataManager\n",
    "from GA.parentSelector.parentSelector import RandomParentSelector, TournamentSelection, LinealOrder, WheelSelection\n",
    "from GA.geneticAlgorithm import GenerationalGA\n",
    "from time import time\n",
    "import numpy as np"
   ]
  },
  {
   "cell_type": "code",
   "execution_count": 2,
   "metadata": {},
   "outputs": [],
   "source": [
    "# Chromosome parameters\n",
    "mutation_rate = 0.05\n",
    "mutation_rate_1 = mutation_rate * 2\n",
    "ChromosomeCNN.grow_prob = mutation_rate\n",
    "ChromosomeCNN.decrease_prob = mutation_rate\n",
    "\n",
    "CNNLayer.k_prob = mutation_rate\n",
    "CNNLayer.filter_prob = mutation_rate_1\n",
    "CNNLayer.act_prob = mutation_rate\n",
    "CNNLayer.drop_prob = mutation_rate_1\n",
    "CNNLayer.maxpool_prob = mutation_rate\n",
    "\n",
    "NNLayer.units_prob = mutation_rate_1\n",
    "NNLayer.act_prob = mutation_rate\n",
    "NNLayer.drop_prob = mutation_rate_1\n",
    "\n"
   ]
  },
  {
   "cell_type": "code",
   "execution_count": 5,
   "metadata": {},
   "outputs": [
    {
     "name": "stdout",
     "output_type": "stream",
     "text": [
      "(9600, 28, 28, 1) train samples\n",
      "(2400, 28, 28, 1) validation samples\n",
      "(50000, 28, 28, 1) test samples\n"
     ]
    }
   ],
   "source": [
    "fitness = FitnessCNN()\n",
    "\n",
    "l = CNNLayer(32, (3,3), 'relu', 0, False)\n",
    "l2 = CNNLayer(64, (3,3), 'relu', 0.25, True)\n",
    "l3 = NNLayer(128, 'relu', 0.5)\n",
    "c = ChromosomeCNN([l, l2], [l3], fitness)\n",
    "\n",
    "# genetic algorithm params:\n",
    "parents_selector_key = 'tournament'\n",
    "num_parents = 0.25\n",
    "generations = 30\n",
    "population = 20\n",
    "train_time = 8\n",
    "maximize_fit = False\n",
    "stat_val=True\n",
    "folder = \"../delete\"\n",
    "save_progress = True\n",
    "age_survivors_rate = 0.2\n",
    "\n",
    "ps = {'random':RandomParentSelector(), 'lineal':LinealOrder(), 'wheel':WheelSelection(), \n",
    "      'tournament':TournamentSelection(population//4)}\n",
    "p = ps[parents_selector_key]\n",
    "\n",
    "# Fitness params\n",
    "epochs = 75\n",
    "batch_size = 128\n",
    "verbose = 0\n",
    "redu_plat = False\n",
    "early_stop = 15\n",
    "warm_up_epochs= 3\n",
    "base_lr = 0.001\n",
    "smooth = 0.1\n",
    "cosine_dec = True\n",
    "fitness_folder = '../tmp'\n",
    "fitness_file = os.path.join(fitness_folder, 'fitness_example')    \n",
    "\n",
    "# dataset params:\n",
    "dataset = 'MBI'\n",
    "data_folder = '../datasets'\n",
    "classes = []\n",
    "\n",
    "# Load data\n",
    "dm = DataManager(dataset, clases=classes, folder_var_mnist=data_folder)\n",
    "data = dm.load_data()\n",
    "fitness.set_params(data, verbose=verbose, batch_size=batch_size, reduce_plateau=redu_plat,\n",
    "                   epochs=epochs, cosine_decay=cosine_dec, early_stop=early_stop, \n",
    "                   warm_epochs=warm_up_epochs, base_lr=base_lr, smooth_label=smooth)\n",
    "\n",
    "fitness.save(fitness_file)\n",
    "\n",
    "del dm, data, fitness"
   ]
  },
  {
   "cell_type": "code",
   "execution_count": 6,
   "metadata": {},
   "outputs": [],
   "source": [
    "fitness = FitnessCNNParallel()\n",
    "fitness.set_params(chrom_files_folder=fitness_folder, fitness_file=fitness_file, max_gpus=2,\n",
    "                   fp=16, main_line='python3 /home/fondef/daniel/NeuroEvolution/train_gen.py')"
   ]
  },
  {
   "cell_type": "code",
   "execution_count": 7,
   "metadata": {},
   "outputs": [
    {
     "name": "stdout",
     "output_type": "stream",
     "text": [
      "Number of individuals eliminated by age: 0\n",
      "Genetic algorithm params\n",
      "Number of generations: 30\n",
      "Population size: 20\n",
      "Folder to save: ../delete/10_2019-05-31-01:43/GA_experiment\n",
      "num parents: 5\n",
      "offspring size: 15\n",
      "\n"
     ]
    }
   ],
   "source": [
    "generational = GenerationalGA(fitness=fitness, num_parents=num_parents, chromosome=c, parent_selector=p,\n",
    "                              generations=generations, num_population=population, maximize_fitness=maximize_fit, \n",
    "                              training_hours=train_time, folder=folder, statistical_validation=stat_val,\n",
    "                             save_progress=save_progress, age_survivors_rate=age_survivors_rate)"
   ]
  },
  {
   "cell_type": "code",
   "execution_count": 8,
   "metadata": {},
   "outputs": [
    {
     "name": "stdout",
     "output_type": "stream",
     "text": [
      "Creating Initial population\n",
      "\n",
      "Start evolution process...\n",
      "\n",
      "1) best fit: 0.061 in batch time: 7.87 mins\n",
      "Current winner:\n",
      "CNN|F:106|K:(7,3)|A:relu|D:0.816|M:1\n",
      "CNN|F:148|K:(3,5)|A:relu|D:0.152|M:0\n",
      "\n",
      "Saving... Elapsed saved time: 0.229\n",
      "Saving... Elapsed saved time: 0.462\n",
      "Saving... Elapsed saved time: 0.485\n",
      "4) best fit: 0.047 in batch time: 27.36 mins\n",
      "Current winner:\n",
      "CNN|F:106|K:(7,3)|A:relu|D:0.654|M:1\n",
      "CNN|F:116|K:(3,3)|A:relu|D:0.615|M:1\n",
      "\n",
      "Saving... Elapsed saved time: 0.455\n",
      "Saving... Elapsed saved time: 0.451\n",
      "Saving... Elapsed saved time: 0.613\n",
      "7) best fit: 0.047 in batch time: 54.41 mins\n",
      "Current winner:\n",
      "CNN|F:106|K:(7,3)|A:relu|D:0.654|M:1\n",
      "CNN|F:116|K:(3,3)|A:relu|D:0.615|M:1\n",
      "\n",
      "Saving... Elapsed saved time: 0.577\n",
      "Saving... Elapsed saved time: 0.591\n",
      "Saving... Elapsed saved time: 0.570\n",
      "10) best fit: 0.039 in batch time: 90.56 mins\n",
      "Current winner:\n",
      "CNN|F:114|K:(3,3)|A:relu|D:0.623|M:1\n",
      "CNN|F:92|K:(3,3)|A:relu|D:0.624|M:0\n",
      "NN|U:154|A:relu|D:0.827\n",
      "\n",
      "Saving... Elapsed saved time: 0.550\n",
      "Saving... Elapsed saved time: 0.493\n",
      "Saving... Elapsed saved time: 0.492\n",
      "13) best fit: 0.032 in batch time: 123.95 mins\n",
      "Current winner:\n",
      "CNN|F:99|K:(3,3)|A:relu|D:0.377|M:1\n",
      "CNN|F:119|K:(3,3)|A:relu|D:0.620|M:1\n",
      "NN|U:510|A:relu|D:0.659\n",
      "\n",
      "Saving... Elapsed saved time: 0.462\n",
      "Saving... Elapsed saved time: 0.461\n",
      "Saving... Elapsed saved time: 0.686\n",
      "16) best fit: 0.032 in batch time: 168.89 mins\n",
      "Current winner:\n",
      "CNN|F:106|K:(3,3)|A:relu|D:0.370|M:1\n",
      "CNN|F:123|K:(3,3)|A:relu|D:0.619|M:1\n",
      "NN|U:427|A:relu|D:0.720\n",
      "\n",
      "Saving... Elapsed saved time: 0.781\n",
      "Saving... Elapsed saved time: 0.765\n",
      "Saving... Elapsed saved time: 0.781\n",
      "19) best fit: 0.030 in batch time: 211.59 mins\n",
      "Current winner:\n",
      "CNN|F:116|K:(3,3)|A:relu|D:0.599|M:1\n",
      "CNN|F:119|K:(3,3)|A:relu|D:0.455|M:1\n",
      "CNN|F:146|K:(3,5)|A:relu|D:0.521|M:1\n",
      "NN|U:498|A:relu|D:0.669\n",
      "\n",
      "Saving... Elapsed saved time: 0.808\n",
      "Saving... Elapsed saved time: 0.773\n",
      "Saving... Elapsed saved time: 0.804\n",
      "22) best fit: 0.029 in batch time: 266.89 mins\n",
      "Current winner:\n",
      "CNN|F:116|K:(3,3)|A:relu|D:0.443|M:1\n",
      "CNN|F:118|K:(3,5)|A:relu|D:0.470|M:1\n",
      "CNN|F:146|K:(3,5)|A:relu|D:0.521|M:1\n",
      "NN|U:497|A:relu|D:0.669\n",
      "\n",
      "Saving... Elapsed saved time: 0.788\n",
      "Saving... Elapsed saved time: 0.794\n",
      "Saving... Elapsed saved time: 0.520\n",
      "25) best fit: 0.028 in batch time: 306.12 mins\n",
      "Current winner:\n",
      "CNN|F:101|K:(3,3)|A:relu|D:0.441|M:1\n",
      "CNN|F:135|K:(3,5)|A:relu|D:0.546|M:1\n",
      "CNN|F:143|K:(3,5)|A:relu|D:0.509|M:1\n",
      "NN|U:465|A:relu|D:0.669\n",
      "\n",
      "Saving... Elapsed saved time: 0.669\n",
      "Saving... Elapsed saved time: 0.674\n",
      "Saving... Elapsed saved time: 0.674\n",
      "28) best fit: 0.028 in batch time: 347.61 mins\n",
      "Current winner:\n",
      "CNN|F:101|K:(3,3)|A:relu|D:0.441|M:1\n",
      "CNN|F:135|K:(3,5)|A:relu|D:0.546|M:1\n",
      "CNN|F:143|K:(3,5)|A:relu|D:0.509|M:1\n",
      "NN|U:465|A:relu|D:0.669\n",
      "\n",
      "Saving... Elapsed saved time: 0.997\n",
      "Saving... Elapsed saved time: 0.992\n",
      "Saving... Elapsed saved time: 1.021\n",
      "Making statistical validation\n",
      "Benchmark Val score: 0.0452. Winner Val score: 0.0277\n",
      "t = -11.1074, p = 0.0000\n",
      "Benchmark Test score: 0.0506. Winner Test score: 0.0345\n",
      "t = -19.7045, p = 0.0000\n",
      "Best Gen -> \n",
      "CNN|F:101|K:(3,3)|A:relu|D:0.441|M:1\n",
      "CNN|F:135|K:(3,5)|A:relu|D:0.546|M:1\n",
      "CNN|F:143|K:(3,5)|A:relu|D:0.509|M:1\n",
      "NN|U:465|A:relu|D:0.669\n",
      "\n",
      "With Fitness (val): 0.0277 and (test): 0.0345\n"
     ]
    },
    {
     "data": {
      "image/png": "[encoded data removed]",
      "text/plain": [
       "<Figure size 720x360 with 1 Axes>"
      ]
     },
     "metadata": {},
     "output_type": "display_data"
    },
    {
     "data": {
      "image/png": "[encoded data removed]",
      "text/plain": [
       "<Figure size 720x360 with 1 Axes>"
      ]
     },
     "metadata": {},
     "output_type": "display_data"
    },
    {
     "name": "stdout",
     "output_type": "stream",
     "text": [
      "Total elapsed time: 24339.651\n"
     ]
    }
   ],
   "source": [
    "ti_all = time()\n",
    "winner, best_fit, ranking = generational.evolve()\n",
    "print(\"Total elapsed time: %0.3f\" % (time() - ti_all))"
   ]
  },
  {
   "cell_type": "code",
   "execution_count": null,
   "metadata": {},
   "outputs": [],
   "source": [
    "generational = GenerationalGA.load_genetic_algorithm(folder=folder)"
   ]
  },
  {
   "cell_type": "code",
   "execution_count": null,
   "metadata": {},
   "outputs": [],
   "source": [
    "ti_all = time()\n",
    "winner, best_fit, ranking = generational.evolve()\n",
    "print(\"Total elapsed time: %0.3f\" % (time() - ti_all))\n"
   ]
  },
  {
   "cell_type": "code",
   "execution_count": null,
   "metadata": {},
   "outputs": [],
   "source": [
    "l1 = CNNLayer(104, (5,3), 'prelu', 0.046, True)\n",
    "l2 = CNNLayer(132, (1,1), 'leakyreLu', 0.597, 0)\n",
    "l3 = CNNLayer(127, (5,5), 'prelu', 0.286, 1)\n",
    "l4 = CNNLayer(104, (3,4), 'relu', 0.346, 1)\n",
    "l5 = CNNLayer(160, (5,1), 'sigmoid', 0.413, 1)\n",
    "l6 = NNLayer(118, 'elu', 0.354)\n",
    "best = Cromosome([l1,l2,l3,l4,l5], [l6])\n",
    "\n",
    "l1_ = CNNLayer(32, (3,3), 'relu', 0.2, False)\n",
    "l2_ = CNNLayer(64, (3,3), 'relu', 0.2, True)\n",
    "l3_ = NNLayer(128, 'relu', 0.5)\n",
    "base = Cromosome([l1_, l2_], [l3_])\n",
    "\n",
    "nn = Cromosome([],[NNLayer(830, 'prelu', 0.654), NNLayer(782, 'tanh', 0.166), NNLayer(28, 'elu', 0.062)])"
   ]
  },
  {
   "cell_type": "code",
   "execution_count": null,
   "metadata": {},
   "outputs": [],
   "source": [
    "s = fitness.calc(base, lr=0.001, test=True)"
   ]
  }
 ],
 "metadata": {
  "kernelspec": {
   "display_name": "Python 3",
   "language": "python",
   "name": "python3"
  },
  "language_info": {
   "codemirror_mode": {
    "name": "ipython",
    "version": 3
   },
   "file_extension": ".py",
   "mimetype": "text/x-python",
   "name": "python",
   "nbconvert_exporter": "python",
   "pygments_lexer": "ipython3",
   "version": "3.6.7"
  },
  "pycharm": {
   "stem_cell": {
    "cell_type": "raw",
    "metadata": {
     "collapsed": false
    },
    "source": []
   }
  }
 },
 "nbformat": 4,
 "nbformat_minor": 2
}
