{
 "cells": [
  {
   "cell_type": "markdown",
   "metadata": {},
   "source": [
    "### Training two models in the same graph"
   ]
  },
  {
   "cell_type": "code",
   "execution_count": 2,
   "metadata": {},
   "outputs": [],
   "source": [
    "from keras.layers import Conv2D, MaxPooling2D\n",
    "\n",
    "import keras\n",
    "from keras.models import Model, load_model\n",
    "from keras.layers import Dense, Dropout, Input, Flatten, PReLU, LeakyReLU, BatchNormalization\n",
    "from keras.optimizers import Adam, Adadelta\n",
    "from time import time\n",
    "\n",
    "import time as T\n",
    "import numpy as np\n",
    "import matplotlib.pyplot as plt\n",
    "\n",
    "from utils.codifications import Fitness\n",
    "from utils.codification_cnn import CNNLayer, ChromosomeCNN, NNLayer\n",
    "from utils.utils import WarmUpCosineDecayScheduler, smooth_labels\n",
    "\n",
    "class FitnessCNN_real_but_ommited(Fitness):\n",
    "\n",
    "    def set_params(self, data, batch_size=128, epochs=100, early_stop=True, reduce_plateau=True, verbose=1,\n",
    "                   reset=True, test=False, warm_epochs=0, base_lr=0.001, smooth_label=False, cosine_decay=True):\n",
    "        self.smooth = smooth_label\n",
    "        self.warmup_epochs = warm_epochs\n",
    "        self.learning_rate_base = base_lr\n",
    "        self.reset = reset\n",
    "        self.test = test\n",
    "        self.time = 0\n",
    "        self.batch_size = batch_size\n",
    "        self.epochs = epochs\n",
    "        self.early_stop = early_stop\n",
    "        self.reduce_plateu = reduce_plateau\n",
    "        self.verb = verbose\n",
    "        (self.x_train, self.y_train), (self.x_test, self.y_test), (self.x_val, self.y_val) = data\n",
    "        self.input_shape = self.x_train[0].shape\n",
    "        self.num_clases = self.y_train.shape[1]\n",
    "        self.cosine_decay = cosine_decay\n",
    "        if self.smooth > 0:\n",
    "            self.y_train = smooth_labels(self.y_train, self.smooth)\n",
    "        return self\n",
    "\n",
    "    def set_callbacks(self):\n",
    "        callbacks = []\n",
    "        # Create the Learning rate scheduler.\n",
    "        total_steps = int(self.epochs * self.y_train.shape[0] / self.batch_size)\n",
    "        warm_up_steps = int(self.warmup_epochs * self.y_train.shape[0] / self.batch_size)\n",
    "        base_steps = self.epochs * (not self.cosine_decay)\n",
    "        warm_up_lr = WarmUpCosineDecayScheduler(learning_rate_base=self.learning_rate_base,\n",
    "                                                total_steps=total_steps,\n",
    "                                                warmup_learning_rate=0.0,\n",
    "                                                warmup_steps=warm_up_steps,\n",
    "                                                hold_base_rate_steps=base_steps)\n",
    "        callbacks.append(warm_up_lr)\n",
    "\n",
    "        checkpoint_last = ModelCheckpoint('./tmp/model_last.hdf5')\n",
    "        checkpoint_acc = ModelCheckpoint('./tmp/model_acc.hdf5', monitor='val_acc', save_best_only=True)\n",
    "        checkpoint_loss = ModelCheckpoint('./tmp/model_loss.hdf5', monitor='val_loss', save_best_only=True)\n",
    "        callbacks.append(checkpoint_acc)\n",
    "        callbacks.append(checkpoint_loss)\n",
    "        callbacks.append(checkpoint_last)\n",
    "\n",
    "        if self.early_stop and keras.__version__ == '2.2.4':\n",
    "            callbacks.append(EarlyStopping(monitor='val_acc', patience=10, restore_best_weights=True))\n",
    "        elif self.early_stop:\n",
    "            callbacks.append(EarlyStopping(monitor='val_acc', patience=10))\n",
    "        if self.reduce_plateu:\n",
    "            callbacks.append(ReduceLROnPlateau(monitor='val_acc', factor=0.2,\n",
    "                                               patience=5, verbose=self.verb))\n",
    "        return []\n",
    "\n",
    "    def calc(self, chromosome, test=False, lr=0.001):\n",
    "        print(chromosome, end=\"\")\n",
    "        print(\"Training...\", end=\" \")\n",
    "        try:\n",
    "            ti = T.time()\n",
    "            keras.backend.clear_session()\n",
    "            callbacks = self.set_callbacks()\n",
    "            model = self.decode(chromosome, lr=lr)\n",
    "            h = model.fit(self.x_train, self.y_train,\n",
    "                          batch_size=self.batch_size,\n",
    "                          epochs=self.epochs,\n",
    "                          verbose=self.verb,\n",
    "                          validation_data=(self.x_val, self.y_val),\n",
    "                          callbacks=callbacks)\n",
    "            return h\n",
    "            if test:\n",
    "                score = 1 - model.evaluate(self.x_test, self.y_test, verbose=0)[1]\n",
    "            else:\n",
    "                score = 1 - np.max(h.history['val_acc'])\n",
    "        except Exception as e:\n",
    "            score = [1 / self.num_clases, 1. / self.num_clases]\n",
    "            if isinstance(e, ResourceExhaustedError):\n",
    "                print(\"ResourceExhaustedError\\n\")\n",
    "            else:\n",
    "                print(\"Some Error!\")\n",
    "                print(e, \"\\n\")\n",
    "            keras.backend.clear_session()\n",
    "            T.sleep(5)\n",
    "            return 1 - score[1]\n",
    "        if self.verb:\n",
    "            model = load_model('./tmp/model_last.hdf5')\n",
    "            score_test = 1 - model.evaluate(self.x_test, self.y_test, verbose=0)[1]\n",
    "            score_val = 1 - h.history['val_acc'][-1]\n",
    "            print('Last -> Val acc: %0.4f,Test acc: %0.4f' % (score_val, score_test))\n",
    "\n",
    "            model = load_model('./tmp/model_acc.hdf5')\n",
    "            score_test = 1 - model.evaluate(self.x_test, self.y_test, verbose=0)[1]\n",
    "            score_val = 1 - np.max(h.history['val_acc'])\n",
    "            print('Acc -> Val acc: %0.4f,Test acc: %0.4f' % (score_val, score_test))\n",
    "\n",
    "            model = load_model('./tmp/model_loss.hdf5')\n",
    "            score_test = 1 - model.evaluate(self.x_test, self.y_test, verbose=0)[1]\n",
    "            score_val = 1 - h.history['val_acc'][int(np.argmin(h.history['val_loss']))]\n",
    "            print('Loss -> Val acc: %0.4f,Test acc: %0.4f' % (score_val, score_test))\n",
    "\n",
    "            #dataset = ['Val', 'Test'][test]\n",
    "            #print('%s loss: %0.4f,%s acc: %0.4f' % (dataset, score[0], dataset, score[1]))\n",
    "            self.show_result(h, 'acc')\n",
    "            self.show_result(h, 'loss')\n",
    "        self.time += T.time() - ti\n",
    "        print(\"%0.4f in %0.1f min\\n\" % (score, (T.time() - ti) / 60))\n",
    "        return score\n",
    "    \n",
    "    def decode_c(self, chromosome, inp, name='c'):\n",
    "        x = inp\n",
    "        for i in range(chromosome.n_cnn):\n",
    "            act = chromosome.cnn_layers[i].activation\n",
    "            filters = chromosome.cnn_layers[i].filters\n",
    "            ksize = chromosome.cnn_layers[i].k_size\n",
    "            if act in ['relu', 'sigmoid', 'tanh', 'elu']:\n",
    "                x = Conv2D(filters, ksize, activation=act, padding='same')(x)\n",
    "            elif act == 'prelu':\n",
    "                x = Conv2D(filters, ksize, padding='same')(x)\n",
    "                x = PReLU()(x)\n",
    "            else:\n",
    "                x = Conv2D(filters, ksize, padding='same')(x)\n",
    "                x = LeakyReLU()(x)\n",
    "            x = BatchNormalization()(x)\n",
    "            x = Dropout(chromosome.cnn_layers[i].dropout)(x)\n",
    "            if chromosome.cnn_layers[i].maxpool:\n",
    "                x = MaxPooling2D()(x)\n",
    "\n",
    "        x = Flatten()(x)\n",
    "\n",
    "        for i in range(chromosome.n_nn):\n",
    "            act = chromosome.nn_layers[i].activation\n",
    "            if act in ['relu', 'sigmoid', 'tanh', 'elu']:\n",
    "                x = Dense(chromosome.nn_layers[i].units, activation=act)(x)\n",
    "            elif act == 'prelu':\n",
    "                x = Dense(chromosome.nn_layers[i].units)(x)\n",
    "                x = PReLU()(x)\n",
    "            else:\n",
    "                x = Dense(chromosome.nn_layers[i].units)(x)\n",
    "                x = LeakyReLU()(x)\n",
    "            x = Dropout(chromosome.nn_layers[i].dropout)(x)\n",
    "        x = Dense(self.num_clases, activation='softmax', name=name)(x)\n",
    "        return x\n",
    "    \n",
    "    def decode(self, chromosome, lr=0.001):\n",
    "        inputs = Input(shape=self.input_shape)\n",
    "        model = Model(inputs=inputs, outputs= self.decode_c(chromosome, inputs, 'x1'), name=\"all_net\")\n",
    "        if self.verb:\n",
    "            model.summary()\n",
    "        model.compile(loss='categorical_crossentropy',\n",
    "                      optimizer=Adam(lr),\n",
    "                      metrics=['accuracy'])\n",
    "        return model\n",
    "    \n",
    "    def decode_(self, chromosome, lr=0.001):\n",
    "        inp = Input(shape=self.input_shape)\n",
    "        x = inp\n",
    "\n",
    "        for i in range(chromosome.n_cnn):\n",
    "            act = chromosome.cnn_layers[i].activation\n",
    "            filters = chromosome.cnn_layers[i].filters\n",
    "            ksize = chromosome.cnn_layers[i].k_size\n",
    "            if act in ['relu', 'sigmoid', 'tanh', 'elu']:\n",
    "                x = Conv2D(filters, ksize, activation=act, padding='same')(x)\n",
    "            elif act == 'prelu':\n",
    "                x = Conv2D(filters, ksize, padding='same')(x)\n",
    "                x = PReLU()(x)\n",
    "            else:\n",
    "                x = Conv2D(filters, ksize, padding='same')(x)\n",
    "                x = LeakyReLU()(x)\n",
    "            x = BatchNormalization()(x)\n",
    "            x = Dropout(chromosome.cnn_layers[i].dropout)(x)\n",
    "            if chromosome.cnn_layers[i].maxpool:\n",
    "                x = MaxPooling2D()(x)\n",
    "\n",
    "        x = Flatten()(x)\n",
    "\n",
    "        for i in range(chromosome.n_nn):\n",
    "            act = chromosome.nn_layers[i].activation\n",
    "            if act in ['relu', 'sigmoid', 'tanh', 'elu']:\n",
    "                x = Dense(chromosome.nn_layers[i].units, activation=act)(x)\n",
    "            elif act == 'prelu':\n",
    "                x = Dense(chromosome.nn_layers[i].units)(x)\n",
    "                x = PReLU()(x)\n",
    "            else:\n",
    "                x = Dense(chromosome.nn_layers[i].units)(x)\n",
    "                x = LeakyReLU()(x)\n",
    "            x = Dropout(chromosome.nn_layers[i].dropout)(x)\n",
    "        x = Dense(self.num_clases, activation='softmax')(x)\n",
    "\n",
    "        model = Model(inputs=inp, outputs=x)\n",
    "        if self.verb:\n",
    "            model.summary()\n",
    "        model.compile(loss='categorical_crossentropy',\n",
    "                      optimizer=Adam(lr),\n",
    "                      metrics=['accuracy'])\n",
    "        return model\n",
    "\n",
    "    @staticmethod\n",
    "    def show_result(history, metric='acc'):\n",
    "        epochs = np.linspace(0, len(history.history['acc']) - 1, len(history.history['acc']))\n",
    "        plt.plot(epochs, history.history['val_%s' % metric], label='validation')\n",
    "        plt.plot(epochs, history.history[metric], label='train')\n",
    "        plt.legend()\n",
    "        plt.xlabel('Epochs')\n",
    "        plt.ylabel(metric)\n",
    "        plt.show()\n",
    "\n",
    "    def fitness_n_models(self, c1, c2):\n",
    "        inputs = Input(shape=self.input_shape)\n",
    "        model = Model(inputs=inputs, outputs=[self.decode_c(c1, inputs, 'x1'), self.decode_c(c2, inputs, 'x2')],\n",
    "                      name=\"all_net\")\n",
    "        losses = {'x1': \"categorical_crossentropy\", 'x2': \"categorical_crossentropy\"}\n",
    "        metrics = {'x1': 'accuracy',\n",
    "                   'x2': 'accuracy'}\n",
    "        model.compile(optimizer=Adam(), loss=losses, metrics=metrics)\n",
    "        if self.verb:\n",
    "            model.summary()\n",
    "        h = model.fit(self.x_train, [self.y_train, self.y_train],\n",
    "                  batch_size=self.batch_size,\n",
    "                  epochs=self.epochs,\n",
    "                  verbose=self.verb,\n",
    "                  validation_data=(self.x_val, [self.y_val, self.y_val]))\n",
    "        # callbacks=self.callbacks)\n",
    "        return h"
   ]
  },
  {
   "cell_type": "code",
   "execution_count": 3,
   "metadata": {},
   "outputs": [],
   "source": [
    "import tensorflow as tf\n",
    "from keras import backend as K\n",
    "from keras.datasets import mnist\n",
    "\n",
    "class FitnessCNN(Fitness):\n",
    "    \n",
    "    def __init__(self):\n",
    "        config = tf.ConfigProto()\n",
    "        config.gpu_options.allow_growth = True  # dynamically grow the memory used on the GPU\n",
    "        config.log_device_placement = True  # to log device placement (on which device the operation ran)\n",
    "\n",
    "        sess = tf.Session(config=config)\n",
    "        keras.backend.set_session(sess)\n",
    "\n",
    "        self.batch_size = 128\n",
    "        self.num_classes = 10\n",
    "        self.epochs = 5\n",
    "        self.verb = 1\n",
    "\n",
    "        # input image dimensions\n",
    "        img_rows, img_cols = 28, 28\n",
    "\n",
    "        # the data, split between train and test sets\n",
    "        (x_train, y_train), (x_test, y_test) = mnist.load_data()\n",
    "\n",
    "        if K.image_data_format() == 'channels_first':\n",
    "            x_train = x_train.reshape(x_train.shape[0], 1, img_rows, img_cols)\n",
    "            x_test = x_test.reshape(x_test.shape[0], 1, img_rows, img_cols)\n",
    "            input_shape = (1, img_rows, img_cols)\n",
    "        else:\n",
    "            x_train = x_train.reshape(x_train.shape[0], img_rows, img_cols, 1)\n",
    "            x_test = x_test.reshape(x_test.shape[0], img_rows, img_cols, 1)\n",
    "            input_shape = (img_rows, img_cols, 1)\n",
    "\n",
    "        self.x_train = x_train.astype('float32')\n",
    "        self.x_test = x_test.astype('float32')\n",
    "        self.x_train /= 255\n",
    "        self.x_test /= 255\n",
    "\n",
    "        # convert class vectors to binary class matrices\n",
    "        self.y_train = keras.utils.to_categorical(y_train, self.num_classes)\n",
    "        self.y_test = keras.utils.to_categorical(y_test, self.num_classes)\n",
    "        self.input_shape = self.x_train[0].shape\n",
    "\n",
    "    def calc(self, chromosome, test=False, lr=0.001, fp=32):\n",
    "        K.set_floatx(\"float%d\" % fp)\n",
    "\n",
    "        model = self.decode(chromosome, lr=lr)\n",
    "        ti = time()\n",
    "        h = model.fit(self.x_train, self.y_train,\n",
    "                      batch_size=self.batch_size,\n",
    "                      epochs=self.epochs,\n",
    "                      verbose=self.verb,\n",
    "                      validation_data=(self.x_test, self.y_test))\n",
    "        \n",
    "        score = model.evaluate(self.x_test, self.y_test, verbose=0)\n",
    "        print(\"Training time: %0.4f\" % (time() - ti))\n",
    "        return score\n",
    "    \n",
    "    def decode_c(self, chromosome, inp, name='c'):\n",
    "        x = inp\n",
    "        for i in range(chromosome.n_cnn):\n",
    "            act = chromosome.cnn_layers[i].activation\n",
    "            filters = chromosome.cnn_layers[i].filters\n",
    "            ksize = chromosome.cnn_layers[i].k_size\n",
    "            if act in ['relu', 'sigmoid', 'tanh', 'elu']:\n",
    "                x = Conv2D(filters, ksize, activation=act)(x)\n",
    "            elif act == 'prelu':\n",
    "                x = Conv2D(filters, ksize)(x)\n",
    "                x = PReLU()(x)\n",
    "            else:\n",
    "                x = Conv2D(filters, ksize)(x)\n",
    "                x = LeakyReLU()(x)\n",
    "            x = Dropout(chromosome.cnn_layers[i].dropout)(x)\n",
    "            if chromosome.cnn_layers[i].maxpool:\n",
    "                x = MaxPooling2D()(x)\n",
    "\n",
    "        x = Flatten()(x)\n",
    "\n",
    "        for i in range(chromosome.n_nn):\n",
    "            act = chromosome.nn_layers[i].activation\n",
    "            if act in ['relu', 'sigmoid', 'tanh', 'elu']:\n",
    "                x = Dense(chromosome.nn_layers[i].units, activation=act)(x)\n",
    "            elif act == 'prelu':\n",
    "                x = Dense(chromosome.nn_layers[i].units)(x)\n",
    "                x = PReLU()(x)\n",
    "            else:\n",
    "                x = Dense(chromosome.nn_layers[i].units)(x)\n",
    "                x = LeakyReLU()(x)\n",
    "            x = Dropout(chromosome.nn_layers[i].dropout)(x)\n",
    "        x = Dense(self.num_classes, activation='softmax', name=name)(x)\n",
    "        return x\n",
    "    \n",
    "    def decode(self, chromosome, lr=0.001):\n",
    "        inputs = Input(shape=self.input_shape)\n",
    "        model = Model(inputs=inputs, outputs= self.decode_c(chromosome, inputs, 'x1'), name=\"all_net\")\n",
    "        \n",
    "        model.compile(loss='categorical_crossentropy',\n",
    "                      optimizer=Adadelta(),\n",
    "                      metrics=['accuracy'])\n",
    "        model.summary()\n",
    "        return model\n",
    "    \n",
    "    def fitness_n_models(self, c1, c2):\n",
    "        inputs = Input(shape=self.input_shape)\n",
    "        model = Model(inputs=inputs, outputs=[self.decode_c(c1, inputs, 'x1'), self.decode_c(c2, inputs, 'x2')],\n",
    "                      name=\"all_net\")\n",
    "        losses = {'x1': \"categorical_crossentropy\", 'x2': \"categorical_crossentropy\"}\n",
    "        metrics = {'x1': 'accuracy',\n",
    "                   'x2': 'accuracy'}\n",
    "        model.compile(optimizer=Adadelta(), loss=losses, metrics=metrics)\n",
    "        model.summary()\n",
    "        ti = time()\n",
    "        h = model.fit(self.x_train, [self.y_train, self.y_train],\n",
    "                  batch_size=self.batch_size,\n",
    "                  epochs=self.epochs,\n",
    "                  verbose=self.verb,\n",
    "                  validation_data=(self.x_test, [self.y_test, self.y_test]))\n",
    "        score = model.evaluate(self.x_test, [self.y_test, self.y_test], verbose=0)\n",
    "        print(\"Training time: %0.4f\" % (time() - ti))\n",
    "        return h"
   ]
  },
  {
   "cell_type": "code",
   "execution_count": 4,
   "metadata": {},
   "outputs": [],
   "source": [
    "\n",
    "fitness = FitnessCNN()\n",
    "l = CNNLayer(32, (3,3), 'relu', 0, False)\n",
    "l2 = CNNLayer(64, (3,3), 'relu', 0.25, True)\n",
    "l3 = NNLayer(128, 'relu', 0.5)\n",
    "c = ChromosomeCNN([l, l2], [l3], fitness)\n",
    "\n",
    "\n"
   ]
  },
  {
   "cell_type": "markdown",
   "metadata": {},
   "source": [
    "###### Train a single CNN model take ~69.5 seconds"
   ]
  },
  {
   "cell_type": "code",
   "execution_count": 9,
   "metadata": {},
   "outputs": [
    {
     "name": "stdout",
     "output_type": "stream",
     "text": [
      "_________________________________________________________________\n",
      "Layer (type)                 Output Shape              Param #   \n",
      "=================================================================\n",
      "input_5 (InputLayer)         (None, 28, 28, 1)         0         \n",
      "_________________________________________________________________\n",
      "conv2d_9 (Conv2D)            (None, 26, 26, 32)        320       \n",
      "_________________________________________________________________\n",
      "dropout_13 (Dropout)         (None, 26, 26, 32)        0         \n",
      "_________________________________________________________________\n",
      "conv2d_10 (Conv2D)           (None, 24, 24, 64)        18496     \n",
      "_________________________________________________________________\n",
      "dropout_14 (Dropout)         (None, 24, 24, 64)        0         \n",
      "_________________________________________________________________\n",
      "max_pooling2d_5 (MaxPooling2 (None, 12, 12, 64)        0         \n",
      "_________________________________________________________________\n",
      "flatten_5 (Flatten)          (None, 9216)              0         \n",
      "_________________________________________________________________\n",
      "dense_5 (Dense)              (None, 128)               1179776   \n",
      "_________________________________________________________________\n",
      "dropout_15 (Dropout)         (None, 128)               0         \n",
      "_________________________________________________________________\n",
      "x1 (Dense)                   (None, 10)                1290      \n",
      "=================================================================\n",
      "Total params: 1,199,882\n",
      "Trainable params: 1,199,882\n",
      "Non-trainable params: 0\n",
      "_________________________________________________________________\n",
      "Train on 60000 samples, validate on 10000 samples\n",
      "Epoch 1/5\n",
      "60000/60000 [==============================] - 12s 207us/step - loss: 0.0484 - acc: 0.1076 - val_loss: 0.0000e+00 - val_acc: 0.0980\n",
      "Epoch 2/5\n",
      "60000/60000 [==============================] - 12s 200us/step - loss: 0.0000e+00 - acc: 0.0987 - val_loss: 0.0000e+00 - val_acc: 0.0980\n",
      "Epoch 3/5\n",
      "60000/60000 [==============================] - 12s 200us/step - loss: 0.0000e+00 - acc: 0.0987 - val_loss: 0.0000e+00 - val_acc: 0.0980\n",
      "Epoch 4/5\n",
      "60000/60000 [==============================] - 12s 199us/step - loss: 0.0000e+00 - acc: 0.0987 - val_loss: 0.0000e+00 - val_acc: 0.0980\n",
      "Epoch 5/5\n",
      "60000/60000 [==============================] - 12s 200us/step - loss: 0.0000e+00 - acc: 0.0987 - val_loss: 0.0000e+00 - val_acc: 0.0980\n",
      "Training time: 61.7101\n",
      "Total elapsed time: 61.787\n"
     ]
    }
   ],
   "source": [
    "ti = time()\n",
    "h1 = fitness.calc(c, fp=16)\n",
    "print(\"Total elapsed time: %0.3f\" % (time() - ti))"
   ]
  },
  {
   "cell_type": "markdown",
   "metadata": {},
   "source": [
    "###### Train two identical models in the same graph take about 136 seconds.\n",
    " That is a 97.8 % of train 2 serial models."
   ]
  },
  {
   "cell_type": "code",
   "execution_count": 5,
   "metadata": {},
   "outputs": [
    {
     "name": "stdout",
     "output_type": "stream",
     "text": [
      "__________________________________________________________________________________________________\n",
      "Layer (type)                    Output Shape         Param #     Connected to                     \n",
      "==================================================================================================\n",
      "input_2 (InputLayer)            (None, 28, 28, 1)    0                                            \n",
      "__________________________________________________________________________________________________\n",
      "conv2d_3 (Conv2D)               (None, 26, 26, 32)   320         input_2[0][0]                    \n",
      "__________________________________________________________________________________________________\n",
      "conv2d_5 (Conv2D)               (None, 26, 26, 32)   320         input_2[0][0]                    \n",
      "__________________________________________________________________________________________________\n",
      "dropout_4 (Dropout)             (None, 26, 26, 32)   0           conv2d_3[0][0]                   \n",
      "__________________________________________________________________________________________________\n",
      "dropout_7 (Dropout)             (None, 26, 26, 32)   0           conv2d_5[0][0]                   \n",
      "__________________________________________________________________________________________________\n",
      "conv2d_4 (Conv2D)               (None, 24, 24, 64)   18496       dropout_4[0][0]                  \n",
      "__________________________________________________________________________________________________\n",
      "conv2d_6 (Conv2D)               (None, 24, 24, 64)   18496       dropout_7[0][0]                  \n",
      "__________________________________________________________________________________________________\n",
      "dropout_5 (Dropout)             (None, 24, 24, 64)   0           conv2d_4[0][0]                   \n",
      "__________________________________________________________________________________________________\n",
      "dropout_8 (Dropout)             (None, 24, 24, 64)   0           conv2d_6[0][0]                   \n",
      "__________________________________________________________________________________________________\n",
      "max_pooling2d_2 (MaxPooling2D)  (None, 12, 12, 64)   0           dropout_5[0][0]                  \n",
      "__________________________________________________________________________________________________\n",
      "max_pooling2d_3 (MaxPooling2D)  (None, 12, 12, 64)   0           dropout_8[0][0]                  \n",
      "__________________________________________________________________________________________________\n",
      "flatten_2 (Flatten)             (None, 9216)         0           max_pooling2d_2[0][0]            \n",
      "__________________________________________________________________________________________________\n",
      "flatten_3 (Flatten)             (None, 9216)         0           max_pooling2d_3[0][0]            \n",
      "__________________________________________________________________________________________________\n",
      "dense_2 (Dense)                 (None, 128)          1179776     flatten_2[0][0]                  \n",
      "__________________________________________________________________________________________________\n",
      "dense_3 (Dense)                 (None, 128)          1179776     flatten_3[0][0]                  \n",
      "__________________________________________________________________________________________________\n",
      "dropout_6 (Dropout)             (None, 128)          0           dense_2[0][0]                    \n",
      "__________________________________________________________________________________________________\n",
      "dropout_9 (Dropout)             (None, 128)          0           dense_3[0][0]                    \n",
      "__________________________________________________________________________________________________\n",
      "x1 (Dense)                      (None, 10)           1290        dropout_6[0][0]                  \n",
      "__________________________________________________________________________________________________\n",
      "x2 (Dense)                      (None, 10)           1290        dropout_9[0][0]                  \n",
      "==================================================================================================\n",
      "Total params: 2,399,764\n",
      "Trainable params: 2,399,764\n",
      "Non-trainable params: 0\n",
      "__________________________________________________________________________________________________\n",
      "Train on 60000 samples, validate on 10000 samples\n",
      "Epoch 1/5\n",
      "60000/60000 [==============================] - 31s 522us/step - loss: 0.5261 - x1_loss: 0.2642 - x2_loss: 0.2620 - x1_acc: 0.9190 - x2_acc: 0.9200 - val_loss: 0.1205 - val_x1_loss: 0.0606 - val_x2_loss: 0.0599 - val_x1_acc: 0.9817 - val_x2_acc: 0.9830\n",
      "Epoch 2/5\n",
      "60000/60000 [==============================] - 31s 514us/step - loss: 0.1707 - x1_loss: 0.0835 - x2_loss: 0.0872 - x1_acc: 0.9759 - x2_acc: 0.9741 - val_loss: 0.0891 - val_x1_loss: 0.0451 - val_x2_loss: 0.0440 - val_x1_acc: 0.9860 - val_x2_acc: 0.9878\n",
      "Epoch 3/5\n",
      "60000/60000 [==============================] - 31s 513us/step - loss: 0.1236 - x1_loss: 0.0621 - x2_loss: 0.0615 - x1_acc: 0.9817 - x2_acc: 0.9823 - val_loss: 0.0708 - val_x1_loss: 0.0347 - val_x2_loss: 0.0361 - val_x1_acc: 0.9887 - val_x2_acc: 0.9883\n",
      "Epoch 4/5\n",
      "60000/60000 [==============================] - 31s 513us/step - loss: 0.0998 - x1_loss: 0.0506 - x2_loss: 0.0492 - x1_acc: 0.9850 - x2_acc: 0.9852 - val_loss: 0.0608 - val_x1_loss: 0.0301 - val_x2_loss: 0.0307 - val_x1_acc: 0.9895 - val_x2_acc: 0.9895\n",
      "Epoch 5/5\n",
      "60000/60000 [==============================] - 31s 513us/step - loss: 0.0845 - x1_loss: 0.0417 - x2_loss: 0.0428 - x1_acc: 0.9869 - x2_acc: 0.9872 - val_loss: 0.0606 - val_x1_loss: 0.0316 - val_x2_loss: 0.0290 - val_x1_acc: 0.9889 - val_x2_acc: 0.9898\n",
      "Training time: 156.6529\n",
      "Total elapsed time: 156.791\n"
     ]
    }
   ],
   "source": [
    "ti = time()\n",
    "h2 = fitness.fitness_n_models(c,c)\n",
    "print(\"Total elapsed time: %0.3f\" % (time() - ti))"
   ]
  },
  {
   "cell_type": "code",
   "execution_count": 2,
   "metadata": {},
   "outputs": [],
   "source": [
    "import shlex, subprocess\n",
    "import os\n",
    "from time import time\n",
    "import threading\n",
    "import multiprocessing\n",
    "\n",
    "class TEST:\n",
    "    def __init__(self, com_line):\n",
    "        self.com_line = com_line\n",
    "        \n",
    "    def tests(self):\n",
    "        args = shlex.split(self.com_line)\n",
    "        subprocess.call(args)\n",
    "    \n",
    "cl_base = 'python /home/daniel/repositories/keras/examples/mnist_cnn.py'\n",
    "cl = [cl_base for _ in range(2)]\n",
    "\n",
    "funcs = []\n",
    "for c in cl:\n",
    "    a = TEST(c)\n",
    "    funcs.append(a.tests)"
   ]
  },
  {
   "cell_type": "code",
   "execution_count": 4,
   "metadata": {},
   "outputs": [
    {
     "name": "stdout",
     "output_type": "stream",
     "text": [
      "Single time= 67.85601210594177\n",
      "Threads time= 130.66771245002747\n"
     ]
    }
   ],
   "source": [
    "start_time = time()\n",
    "funcs[0]()\n",
    "end_time = time()\n",
    "print(\"Single time=\", end_time - start_time)\n",
    " \n",
    "start_time = time()\n",
    "threads = [threading.Thread(target=f) for f in funcs]\n",
    "[thread.start() for thread in threads]\n",
    "[thread.join() for thread in threads]\n",
    "end_time = time()\n",
    " \n",
    "print(\"Threads time=\", end_time - start_time)"
   ]
  },
  {
   "cell_type": "code",
   "execution_count": 1,
   "metadata": {},
   "outputs": [
    {
     "name": "stderr",
     "output_type": "stream",
     "text": [
      "Using TensorFlow backend.\n"
     ]
    },
    {
     "name": "stdout",
     "output_type": "stream",
     "text": [
      "Number of individuals eliminated by age: 0\n",
      "Genetic algorithm params\n",
      "Number of generations: 100\n",
      "Population size: 1000\n",
      "num parents: 250\n",
      "offspring size: 750\n",
      "\n"
     ]
    }
   ],
   "source": [
    "from utils.codification_cnn import CNNLayer, NNLayer, ChromosomeCNN, FitnessCNN\n",
    "from utils.codifications import Fitness\n",
    "from utils.datamanager import DataManager\n",
    "from GA.parentSelector.parentSelector import RandomParentSelector, TournamentSelection, LinealOrder, WheelSelection\n",
    "from GA.geneticAlgorithm import GenerationalGA\n",
    "from time import time\n",
    "\n",
    "class Fitness_str(Fitness):\n",
    "    def set_params(self, c, **args):\n",
    "        self.c = c\n",
    "        self.str = c.__repr__()\n",
    "        self.time = 0\n",
    "        \n",
    "    def calc(self, c, test=False):\n",
    "        ti = time()\n",
    "        c_str = c.__repr__()\n",
    "        f = max(len(self.str), len(c_str)) - min(len(self.str), len(c_str))\n",
    "        for i in range(min(len(self.str), len(c_str))):\n",
    "            f += self.str[i]!= c_str[i]\n",
    "        self.time += time() - ti\n",
    "        return f\n",
    "    \n",
    "mutation_rate = 0.05\n",
    "mutation_rate_1 = mutation_rate * 2\n",
    "ChromosomeCNN.grow_prob = mutation_rate\n",
    "ChromosomeCNN.decrease_prob = mutation_rate\n",
    "\n",
    "CNNLayer.k_prob = mutation_rate\n",
    "CNNLayer.filter_prob = mutation_rate_1\n",
    "CNNLayer.act_prob = mutation_rate\n",
    "CNNLayer.drop_prob = mutation_rate_1\n",
    "CNNLayer.maxpool_prob = mutation_rate\n",
    "\n",
    "NNLayer.units_prob = mutation_rate_1\n",
    "NNLayer.act_prob = mutation_rate\n",
    "NNLayer.drop_prob = mutation_rate_1\n",
    "    \n",
    "fitness = Fitness_str()\n",
    "l = CNNLayer(32, (3,3), 'relu', 0, False)\n",
    "l2 = CNNLayer(64, (3,3), 'relu', 0.25, True)\n",
    "l3 = NNLayer(128, 'relu', 0.5)\n",
    "c = ChromosomeCNN([l, l2], [l3], fitness)\n",
    "fitness.set_params(c)\n",
    "\n",
    "\n",
    "\n",
    "\n",
    "# genetic algorithm params:\n",
    "parents_selector_key = 'tournament'\n",
    "num_parents = 0.25\n",
    "generations = 100\n",
    "population = 1000\n",
    "train_time = 60\n",
    "maximize_fit = False\n",
    "stat_val=False\n",
    "folder = \"../delete\"\n",
    "save_progress = False\n",
    "age_survivors_rate = 0.2\n",
    "\n",
    "ps = {'random':RandomParentSelector(), 'lineal':LinealOrder(), 'wheel':WheelSelection(), \n",
    "      'tournament':TournamentSelection(population//4)}\n",
    "p = ps[parents_selector_key]\n",
    "\n",
    "\n",
    "\n",
    "generational = GenerationalGA(fitness=fitness, num_parents=num_parents, chromosome=c, parent_selector=p, generations=generations,\n",
    "                              num_population=population, maximize_fitness=maximize_fit, \n",
    "                              training_hours=train_time, folder=folder, statistical_validation=stat_val,\n",
    "                             save_progress=save_progress, age_survivors_rate=age_survivors_rate)"
   ]
  },
  {
   "cell_type": "code",
   "execution_count": 2,
   "metadata": {
    "scrolled": true
   },
   "outputs": [
    {
     "name": "stdout",
     "output_type": "stream",
     "text": [
      "Creating Initial population\n",
      "\n",
      "Start evolution process...\n",
      "\n",
      "1) best fit: 46.000 in batch time: 0.00 mins\n",
      "Current winner:\n",
      "CNN|F:60|K:(7,7)|A:tanh|D:0.108|M:0\n",
      "CNN|F:127|K:(1,3)|A:elu|D:0.443|M:0\n",
      "NN|U:255|A:sigmoid|D:0.410\n",
      "\n",
      "11) best fit: 14.000 in batch time: 0.05 mins\n",
      "Current winner:\n",
      "CNN|F:88|K:(5,5)|A:relu|D:0.444|M:0\n",
      "CNN|F:65|K:(5,3)|A:relu|D:0.610|M:1\n",
      "NN|U:528|A:relu|D:0.513\n",
      "\n",
      "21) best fit: 9.000 in batch time: 0.10 mins\n",
      "Current winner:\n",
      "CNN|F:65|K:(3,3)|A:relu|D:0.485|M:0\n",
      "CNN|F:84|K:(1,3)|A:relu|D:0.250|M:1\n",
      "NN|U:526|A:relu|D:0.500\n",
      "\n",
      "31) best fit: 8.000 in batch time: 0.16 mins\n",
      "Current winner:\n",
      "CNN|F:38|K:(3,3)|A:relu|D:0.405|M:0\n",
      "CNN|F:62|K:(3,3)|A:relu|D:0.256|M:1\n",
      "NN|U:750|A:relu|D:0.500\n",
      "\n",
      "41) best fit: 6.000 in batch time: 0.21 mins\n",
      "Current winner:\n",
      "CNN|F:38|K:(3,3)|A:relu|D:0.384|M:0\n",
      "CNN|F:64|K:(3,3)|A:relu|D:0.250|M:1\n",
      "NN|U:578|A:relu|D:0.500\n",
      "\n",
      "51) best fit: 5.000 in batch time: 0.26 mins\n",
      "Current winner:\n",
      "CNN|F:59|K:(3,3)|A:relu|D:0.400|M:0\n",
      "CNN|F:64|K:(3,3)|A:relu|D:0.250|M:1\n",
      "NN|U:598|A:relu|D:0.500\n",
      "\n",
      "61) best fit: 5.000 in batch time: 0.31 mins\n",
      "Current winner:\n",
      "CNN|F:82|K:(3,3)|A:relu|D:0.400|M:0\n",
      "CNN|F:64|K:(3,3)|A:relu|D:0.250|M:1\n",
      "NN|U:610|A:relu|D:0.500\n",
      "\n",
      "71) best fit: 4.000 in batch time: 0.36 mins\n",
      "Current winner:\n",
      "CNN|F:62|K:(3,3)|A:relu|D:0.300|M:0\n",
      "CNN|F:64|K:(3,3)|A:relu|D:0.250|M:1\n",
      "NN|U:621|A:relu|D:0.500\n",
      "\n",
      "81) best fit: 3.000 in batch time: 0.41 mins\n",
      "Current winner:\n",
      "CNN|F:35|K:(3,3)|A:relu|D:0.300|M:0\n",
      "CNN|F:64|K:(3,3)|A:relu|D:0.250|M:1\n",
      "NN|U:628|A:relu|D:0.500\n",
      "\n",
      "91) best fit: 3.000 in batch time: 0.46 mins\n",
      "Current winner:\n",
      "CNN|F:35|K:(3,3)|A:relu|D:0.300|M:0\n",
      "CNN|F:64|K:(3,3)|A:relu|D:0.250|M:1\n",
      "NN|U:628|A:relu|D:0.500\n",
      "\n",
      "Best Gen -> \n",
      "CNN|F:32|K:(3,3)|A:relu|D:0.300|M:0\n",
      "CNN|F:64|K:(3,3)|A:relu|D:0.250|M:1\n",
      "NN|U:628|A:relu|D:0.500\n",
      "\n",
      "With Fitness (val): 2.0000 and (test): 2.0000\n"
     ]
    },
    {
     "data": {
      "image/png": "[encoded data removed]",
      "text/plain": [
       "<Figure size 720x360 with 1 Axes>"
      ]
     },
     "metadata": {
      "needs_background": "light"
     },
     "output_type": "display_data"
    },
    {
     "data": {
      "image/png": "[encoded data removed]",
      "text/plain": [
       "<Figure size 720x360 with 1 Axes>"
      ]
     },
     "metadata": {
      "needs_background": "light"
     },
     "output_type": "display_data"
    },
    {
     "name": "stdout",
     "output_type": "stream",
     "text": [
      "Total elapsed time: 37.000\n",
      "Total training time: 0.939\n"
     ]
    }
   ],
   "source": [
    "ti_all = time()\n",
    "winner, best_fit, ranking = generational.evolve()\n",
    "print(\"Total elapsed time: %0.3f\" % (time() - ti_all))\n",
    "print(\"Total training time: %0.3f\" % fitness.time)"
   ]
  },
  {
   "cell_type": "code",
   "execution_count": 3,
   "metadata": {},
   "outputs": [
    {
     "name": "stdout",
     "output_type": "stream",
     "text": [
      "CNN|F:32|K:(3,3)|A:relu|D:0.000|M:0\n",
      "CNN|F:64|K:(3,3)|A:relu|D:0.250|M:1\n",
      "NN|U:128|A:relu|D:0.500\n",
      "\n",
      "(9600, 28, 28, 1) train samples\n",
      "(2400, 28, 28, 1) validation samples\n",
      "(50000, 28, 28, 1) test samples\n"
     ]
    }
   ],
   "source": [
    "import os\n",
    "\n",
    "s = c.__repr__()\n",
    "print(s)\n",
    "\n",
    "filename = '../delete/gen_example.txt'\n",
    "with open(filename, 'w') as f:\n",
    "    f.write(s)\n",
    "    f.write(\"Score: 1322\")\n",
    "    \n",
    "fitness = FitnessCNN()\n",
    "# Fitness params\n",
    "epochs = 5\n",
    "batch_size = 128\n",
    "verbose = 1\n",
    "redu_plat = False\n",
    "early_stop = 15\n",
    "warm_up_epochs= 1\n",
    "base_lr = 0.001\n",
    "smooth = 0.1\n",
    "cosine_dec = False\n",
    "fitnes_file = '../delete/fitness_example'    \n",
    "\n",
    "# dataset params:\n",
    "dataset = 'MRD'\n",
    "data_folder = '../../../../../datasets/MNIST_variations'\n",
    "classes = []\n",
    "\n",
    "# Load data\n",
    "dm = DataManager(dataset, clases=classes, folder_var_mnist=data_folder)\n",
    "data = dm.load_data()\n",
    "fitness.set_params(data, verbose=verbose, batch_size=batch_size, reduce_plateau=redu_plat,\n",
    "                   epochs=epochs, cosine_decay=cosine_dec, early_stop=early_stop, \n",
    "                   warm_epochs=warm_up_epochs, base_lr=base_lr, smooth_label=smooth)\n",
    "\n",
    "fitness.save(fitnes_file)"
   ]
  },
  {
   "cell_type": "code",
   "execution_count": 4,
   "metadata": {},
   "outputs": [],
   "source": [
    "\n",
    "fit = FitnessCNN.load(fitnes_file)"
   ]
  },
  {
   "cell_type": "code",
   "execution_count": 5,
   "metadata": {},
   "outputs": [
    {
     "name": "stdout",
     "output_type": "stream",
     "text": [
      "Training... _________________________________________________________________\n",
      "Layer (type)                 Output Shape              Param #   \n",
      "=================================================================\n",
      "input_1 (InputLayer)         (None, 28, 28, 1)         0         \n",
      "_________________________________________________________________\n",
      "conv2d_1 (Conv2D)            (None, 28, 28, 32)        320       \n",
      "_________________________________________________________________\n",
      "batch_normalization_1 (Batch (None, 28, 28, 32)        128       \n",
      "_________________________________________________________________\n",
      "dropout_1 (Dropout)          (None, 28, 28, 32)        0         \n",
      "_________________________________________________________________\n",
      "conv2d_2 (Conv2D)            (None, 28, 28, 64)        18496     \n",
      "_________________________________________________________________\n",
      "batch_normalization_2 (Batch (None, 28, 28, 64)        256       \n",
      "_________________________________________________________________\n",
      "dropout_2 (Dropout)          (None, 28, 28, 64)        0         \n",
      "_________________________________________________________________\n",
      "max_pooling2d_1 (MaxPooling2 (None, 14, 14, 64)        0         \n",
      "_________________________________________________________________\n",
      "flatten_1 (Flatten)          (None, 12544)             0         \n",
      "_________________________________________________________________\n",
      "dense_1 (Dense)              (None, 128)               1605760   \n",
      "_________________________________________________________________\n",
      "dropout_3 (Dropout)          (None, 128)               0         \n",
      "_________________________________________________________________\n",
      "dense_2 (Dense)              (None, 10)                1290      \n",
      "=================================================================\n",
      "Total params: 1,626,250\n",
      "Trainable params: 1,626,058\n",
      "Non-trainable params: 192\n",
      "_________________________________________________________________\n",
      "Train on 9600 samples, validate on 2400 samples\n",
      "Epoch 1/5\n",
      "9600/9600 [==============================] - 67s 7ms/step - loss: 1.8455 - acc: 0.3939 - val_loss: 2.6976 - val_acc: 0.1842\n",
      "Epoch 2/5\n",
      "9600/9600 [==============================] - 4s 468us/step - loss: 1.2577 - acc: 0.6952 - val_loss: 2.6202 - val_acc: 0.3258\n",
      "Epoch 3/5\n",
      "9600/9600 [==============================] - 5s 470us/step - loss: 1.0490 - acc: 0.8011 - val_loss: 1.1212 - val_acc: 0.5821\n",
      "Epoch 4/5\n",
      "9600/9600 [==============================] - 5s 471us/step - loss: 0.9450 - acc: 0.8569 - val_loss: 0.7853 - val_acc: 0.7458\n",
      "Epoch 5/5\n",
      "9600/9600 [==============================] - 5s 473us/step - loss: 0.8881 - acc: 0.8799 - val_loss: 1.1294 - val_acc: 0.6454\n",
      "Acc -> Val acc: 0.2542,Test (last) acc: 0.3565\n"
     ]
    },
    {
     "data": {
      "image/png": "[encoded data removed]",
      "text/plain": [
       "<Figure size 432x288 with 1 Axes>"
      ]
     },
     "metadata": {
      "needs_background": "light"
     },
     "output_type": "display_data"
    },
    {
     "data": {
      "image/png": "[encoded data removed]",
      "text/plain": [
       "<Figure size 432x288 with 1 Axes>"
      ]
     },
     "metadata": {
      "needs_background": "light"
     },
     "output_type": "display_data"
    },
    {
     "name": "stdout",
     "output_type": "stream",
     "text": [
      "0.2542 in 2.1 min\n",
      "\n",
      "Total elapsed time: 126.842\n"
     ]
    }
   ],
   "source": [
    "ti = time()\n",
    "h1 = fit.calc(c)\n",
    "print(\"Total elapsed time: %0.3f\" % (time() - ti))"
   ]
  },
  {
   "cell_type": "code",
   "execution_count": 79,
   "metadata": {},
   "outputs": [
    {
     "name": "stdout",
     "output_type": "stream",
     "text": [
      "0 6.434050977480822\n"
     ]
    }
   ],
   "source": [
    "import subprocess, re\n",
    "\n",
    "# Nvidia-smi GPU memory parsing.\n",
    "# Tested on nvidia-smi 370.23\n",
    "\n",
    "def run_command(cmd):\n",
    "    \"\"\"Run command, return output as string.\"\"\"\n",
    "    output = subprocess.Popen(cmd, stdout=subprocess.PIPE, shell=True).communicate()[0]\n",
    "    return output.decode(\"ascii\")\n",
    "\n",
    "def list_available_gpus():\n",
    "    \"\"\"Returns list of available GPU ids.\"\"\"\n",
    "    output = run_command(\"nvidia-smi -L\")\n",
    "    # lines of the form GPU 0: TITAN X\n",
    "    gpu_regex = re.compile(r\"GPU (?P<gpu_id>\\d+):\")\n",
    "    result = []\n",
    "    for line in output.strip().split(\"\\n\"):\n",
    "        m = gpu_regex.match(line)\n",
    "        assert m, \"Couldnt parse \"+line\n",
    "        result.append(int(m.group(\"gpu_id\")))\n",
    "    return result\n",
    "\n",
    "def gpu_memory_map():\n",
    "    \"\"\"Returns map of GPU id to memory allocated on that GPU.\"\"\"\n",
    "\n",
    "    output = run_command(\"nvidia-smi\")\n",
    "    print(output)\n",
    "    gpu_output = output[output.find(\"GPU Memory\"):]\n",
    "    # lines of the form\n",
    "    # |    0      8734    C   python                                       11705MiB |\n",
    "    memory_regex = re.compile(r\"[|]\\s+?(?P<gpu_id>\\d+)\\D+?(?P<pid>\\d+).+[ ](?P<gpu_memory>\\d+)MiB\")\n",
    "    rows = gpu_output.split(\"\\n\")\n",
    "    result = {gpu_id: 0 for gpu_id in list_available_gpus()}\n",
    "    for row in gpu_output.split(\"\\n\"):\n",
    "        print(row)\n",
    "        m = memory_regex.search(row)\n",
    "        if not m:\n",
    "            continue\n",
    "        gpu_id = int(m.group(\"gpu_id\"))\n",
    "        gpu_memory = int(m.group(\"gpu_memory\"))\n",
    "        \n",
    "        result[gpu_id] += gpu_memory\n",
    "    return result\n",
    "\n",
    "def gpu_memory_maps():\n",
    "    \"\"\"Returns map of GPU id to memory allocated on that GPU.\"\"\"\n",
    "\n",
    "    output = run_command(\"nvidia-smi -q  -d MEMORY\")\n",
    "    atacched_gpus = 0\n",
    "    for row in output.split('\\n'):\n",
    "        if 'Attached GPUs' in row:\n",
    "            atacched_gpus = int(row.split(':')[1])\n",
    "    info_gpu = output.split('GPU ')[1:]\n",
    "    assert len(info_gpu) == atacched_gpus\n",
    "    gpu_dict_free_memory = {}\n",
    "    for gpu_id, info in enumerate(info_gpu):\n",
    "        gpu_dict = {}\n",
    "        line = info.split('BAR')[0].split('FB')[1].split('\\n')\n",
    "        line = [l.replace(\" \",\"\") for l in line if ':' in l]\n",
    "        for sub_line in line:\n",
    "            key, val = sub_line.split(':')\n",
    "            gpu_dict[key] = int(val.split('MiB')[0])\n",
    "        gpu_dict_free_memory[gpu_id] = gpu_dict['Free'] * 100. / gpu_dict['Total']\n",
    "    return gpu_dict_free_memory\n",
    "                \n",
    "def pick_gpu_lowest_memory():\n",
    "    \"\"\"Returns GPU with the least allocated memory\"\"\"\n",
    "\n",
    "    memory_gpu_map = [(memory, gpu_id) for (gpu_id, memory) in gpu_memory_map().items()]\n",
    "    best_memory, best_gpu = sorted(memory_gpu_map)[0]\n",
    "    return best_gpu\n",
    "\n",
    "\n",
    "a = gpu_memory_maps()\n",
    "\n",
    "for k,v in a.items():\n",
    "    print(k,v)"
   ]
  },
  {
   "cell_type": "code",
   "execution_count": 85,
   "metadata": {},
   "outputs": [],
   "source": [
    "output = run_command('python /home/daniel/repositories/keras/examples/mnist_siamese.py')\n"
   ]
  },
  {
   "cell_type": "code",
   "execution_count": 10,
   "metadata": {},
   "outputs": [
    {
     "name": "stdout",
     "output_type": "stream",
     "text": [
      "GPU Memory |\n",
      "|  GPU       PID   Type   Process name                             Usage      |\n",
      "|=============================================================================|\n",
      "|    0      1196      G   /usr/lib/xorg/Xorg                           271MiB |\n",
      "|    0      2140      G   compiz                                       115MiB |\n",
      "|    0      3649      G   /opt/teamviewer/tv_bin/TeamViewer             24MiB |\n",
      "|    0      4249      G   ...pycharm-professional/132/jre64/bin/java     2MiB |\n",
      "+-----------------------------------------------------------------------------+\n",
      "\n"
     ]
    }
   ],
   "source": [
    "gpu_output = output[output.find(\"GPU Memory\"):]\n",
    "print(gpu_output)"
   ]
  },
  {
   "cell_type": "code",
   "execution_count": 1,
   "metadata": {},
   "outputs": [
    {
     "name": "stderr",
     "output_type": "stream",
     "text": [
      "Using TensorFlow backend.\n"
     ]
    }
   ],
   "source": [
    "from utils.codification_cnn import CNNLayer, NNLayer, ChromosomeCNN, FitnessCNN, FitnessCNNParallel\n",
    "from utils.datamanager import DataManager\n",
    "from GA.parentSelector.parentSelector import RandomParentSelector, TournamentSelection, LinealOrder, WheelSelection\n",
    "from GA.geneticAlgorithm import GenerationalGA\n",
    "from time import time\n",
    "import numpy as np"
   ]
  },
  {
   "cell_type": "code",
   "execution_count": 11,
   "metadata": {},
   "outputs": [
    {
     "name": "stdout",
     "output_type": "stream",
     "text": [
      "(9600, 28, 28, 1) train samples\n",
      "(2400, 28, 28, 1) validation samples\n",
      "(50000, 28, 28, 1) test samples\n"
     ]
    }
   ],
   "source": [
    "fitness = FitnessCNN()\n",
    "# Fitness params\n",
    "epochs = 75\n",
    "batch_size = 128\n",
    "verbose = 1\n",
    "redu_plat = False\n",
    "early_stop = 15\n",
    "warm_up_epochs= 1\n",
    "base_lr = 0.001\n",
    "smooth = 0.1\n",
    "cosine_dec = True\n",
    "fitness_file = '../delete/fitness_example'    \n",
    "\n",
    "# dataset params:\n",
    "dataset = 'MBI'\n",
    "data_folder = '../../../../../datasets/MNIST_variations'\n",
    "classes = []\n",
    "\n",
    "# Load data\n",
    "dm = DataManager(dataset, clases=classes, folder_var_mnist=data_folder)\n",
    "data = dm.load_data()\n",
    "fitness.set_params(data, verbose=verbose, batch_size=batch_size, reduce_plateau=redu_plat,\n",
    "                   epochs=epochs, cosine_decay=cosine_dec, early_stop=early_stop, \n",
    "                   warm_epochs=warm_up_epochs, base_lr=base_lr, smooth_label=smooth)\n",
    "\n",
    "fitness.save(fitness_file)\n",
    "\n",
    "del dm, data, fitness"
   ]
  },
  {
   "cell_type": "code",
   "execution_count": 12,
   "metadata": {},
   "outputs": [],
   "source": [
    "fitness_folder = '../delete'\n",
    "fitness_file = '../delete/fitness_example'    \n",
    "\n",
    "fitness = FitnessCNNParallel()\n",
    "fitness.set_params(chrom_files_folder=fitness_folder, fitness_file=fitness_file, max_gpus=1,\n",
    "                   fp=16, main_line='python /home/daniel/proyectos/Tesis/project/GA/NeuroEvolution/train_gen.py')"
   ]
  },
  {
   "cell_type": "code",
   "execution_count": 13,
   "metadata": {},
   "outputs": [],
   "source": [
    "l = CNNLayer(32, (3,3), 'relu', 0, False)\n",
    "l2 = CNNLayer(64, (3,3), 'relu', 0.25, True)\n",
    "l3 = NNLayer(128, 'relu', 0.5)\n",
    "c1 = ChromosomeCNN([l, l2], [l3], fitness)\n",
    "c2 = ChromosomeCNN([], [], fitness)\n",
    "c3 = ChromosomeCNN([CNNLayer(32, (3,3), 'relu', 0, True)], [NNLayer(512, 'relu', 0.5)], fitness)\n",
    "\n",
    "c_list = [c1, c1, c1, c1, c1]"
   ]
  },
  {
   "cell_type": "code",
   "execution_count": 15,
   "metadata": {},
   "outputs": [
    {
     "name": "stdout",
     "output_type": "stream",
     "text": [
      "0.05158\n",
      "Elapsed time: 72.5177\n"
     ]
    }
   ],
   "source": [
    "ti = time()\n",
    "s = fitness.calc(c1, test=True)\n",
    "print(s)\n",
    "print(\"Elapsed time: %0.4f\" % (time() - ti))"
   ]
  },
  {
   "cell_type": "code",
   "execution_count": 31,
   "metadata": {},
   "outputs": [
    {
     "name": "stdout",
     "output_type": "stream",
     "text": [
      "0.22466\n",
      "Elapsed time: 79.1630\n"
     ]
    }
   ],
   "source": [
    "ti = time()\n",
    "s = fitness.calc(c1, test=True)\n",
    "print(s)\n",
    "print(\"Elapsed time: %0.4f\" % (time() - ti))"
   ]
  },
  {
   "cell_type": "code",
   "execution_count": 26,
   "metadata": {},
   "outputs": [
    {
     "ename": "KeyboardInterrupt",
     "evalue": "",
     "output_type": "error",
     "traceback": [
      "\u001b[0;31m---------------------------------------------------------------------------\u001b[0m",
      "\u001b[0;31mKeyboardInterrupt\u001b[0m                         Traceback (most recent call last)",
      "\u001b[0;32m<ipython-input-26-a056fb8c1a55>\u001b[0m in \u001b[0;36m<module>\u001b[0;34m\u001b[0m\n\u001b[1;32m      1\u001b[0m \u001b[0mti\u001b[0m \u001b[0;34m=\u001b[0m \u001b[0mtime\u001b[0m\u001b[0;34m(\u001b[0m\u001b[0;34m)\u001b[0m\u001b[0;34m\u001b[0m\u001b[0;34m\u001b[0m\u001b[0m\n\u001b[1;32m      2\u001b[0m \u001b[0;34m\u001b[0m\u001b[0m\n\u001b[0;32m----> 3\u001b[0;31m \u001b[0mscores\u001b[0m \u001b[0;34m=\u001b[0m \u001b[0mfitness\u001b[0m\u001b[0;34m.\u001b[0m\u001b[0meval_list\u001b[0m\u001b[0;34m(\u001b[0m\u001b[0mc_list\u001b[0m\u001b[0;34m)\u001b[0m\u001b[0;34m\u001b[0m\u001b[0;34m\u001b[0m\u001b[0m\n\u001b[0m\u001b[1;32m      4\u001b[0m \u001b[0mprint\u001b[0m\u001b[0;34m(\u001b[0m\u001b[0mscores\u001b[0m\u001b[0;34m)\u001b[0m\u001b[0;34m\u001b[0m\u001b[0;34m\u001b[0m\u001b[0m\n\u001b[1;32m      5\u001b[0m \u001b[0mprint\u001b[0m\u001b[0;34m(\u001b[0m\u001b[0;34m\"Elapsed time: %0.4f\"\u001b[0m \u001b[0;34m%\u001b[0m \u001b[0;34m(\u001b[0m\u001b[0mtime\u001b[0m\u001b[0;34m(\u001b[0m\u001b[0;34m)\u001b[0m \u001b[0;34m-\u001b[0m \u001b[0mti\u001b[0m\u001b[0;34m)\u001b[0m\u001b[0;34m)\u001b[0m\u001b[0;34m\u001b[0m\u001b[0;34m\u001b[0m\u001b[0m\n",
      "\u001b[0;32m~/proyectos/Tesis/project/GA/NeuroEvolution/utils/codification_cnn.py\u001b[0m in \u001b[0;36meval_list\u001b[0;34m(self, chromosome_list, test, **kwargs)\u001b[0m\n\u001b[1;32m    493\u001b[0m \u001b[0;34m\u001b[0m\u001b[0m\n\u001b[1;32m    494\u001b[0m         \u001b[0;32mreturn\u001b[0m \u001b[0;34m[\u001b[0m\u001b[0mself\u001b[0m\u001b[0;34m.\u001b[0m\u001b[0mread_score\u001b[0m\u001b[0;34m(\u001b[0m\u001b[0mf\u001b[0m\u001b[0;34m)\u001b[0m \u001b[0;32mfor\u001b[0m \u001b[0mf\u001b[0m \u001b[0;32min\u001b[0m \u001b[0mfilenames\u001b[0m\u001b[0;34m]\u001b[0m\u001b[0;34m\u001b[0m\u001b[0;34m\u001b[0m\u001b[0m\n\u001b[0;32m--> 495\u001b[0;31m \u001b[0;34m\u001b[0m\u001b[0m\n\u001b[0m\u001b[1;32m    496\u001b[0m     \u001b[0;32mdef\u001b[0m \u001b[0mwrite_chromosome\u001b[0m\u001b[0;34m(\u001b[0m\u001b[0mself\u001b[0m\u001b[0;34m,\u001b[0m \u001b[0mchromosome\u001b[0m\u001b[0;34m,\u001b[0m \u001b[0mid_\u001b[0m\u001b[0;34m)\u001b[0m\u001b[0;34m:\u001b[0m\u001b[0;34m\u001b[0m\u001b[0;34m\u001b[0m\u001b[0m\n\u001b[1;32m    497\u001b[0m         \u001b[0mfilename\u001b[0m \u001b[0;34m=\u001b[0m \u001b[0mos\u001b[0m\u001b[0;34m.\u001b[0m\u001b[0mpath\u001b[0m\u001b[0;34m.\u001b[0m\u001b[0mjoin\u001b[0m\u001b[0;34m(\u001b[0m\u001b[0mself\u001b[0m\u001b[0;34m.\u001b[0m\u001b[0mchrom_folder\u001b[0m\u001b[0;34m,\u001b[0m \u001b[0;34m\"gen_%d.txt\"\u001b[0m \u001b[0;34m%\u001b[0m \u001b[0mid_\u001b[0m\u001b[0;34m)\u001b[0m\u001b[0;34m\u001b[0m\u001b[0;34m\u001b[0m\u001b[0m\n",
      "\u001b[0;32m~/proyectos/Tesis/project/GA/NeuroEvolution/utils/codification_cnn.py\u001b[0m in \u001b[0;36m<listcomp>\u001b[0;34m(.0)\u001b[0m\n\u001b[1;32m    493\u001b[0m \u001b[0;34m\u001b[0m\u001b[0m\n\u001b[1;32m    494\u001b[0m         \u001b[0;32mreturn\u001b[0m \u001b[0;34m[\u001b[0m\u001b[0mself\u001b[0m\u001b[0;34m.\u001b[0m\u001b[0mread_score\u001b[0m\u001b[0;34m(\u001b[0m\u001b[0mf\u001b[0m\u001b[0;34m)\u001b[0m \u001b[0;32mfor\u001b[0m \u001b[0mf\u001b[0m \u001b[0;32min\u001b[0m \u001b[0mfilenames\u001b[0m\u001b[0;34m]\u001b[0m\u001b[0;34m\u001b[0m\u001b[0;34m\u001b[0m\u001b[0m\n\u001b[0;32m--> 495\u001b[0;31m \u001b[0;34m\u001b[0m\u001b[0m\n\u001b[0m\u001b[1;32m    496\u001b[0m     \u001b[0;32mdef\u001b[0m \u001b[0mwrite_chromosome\u001b[0m\u001b[0;34m(\u001b[0m\u001b[0mself\u001b[0m\u001b[0;34m,\u001b[0m \u001b[0mchromosome\u001b[0m\u001b[0;34m,\u001b[0m \u001b[0mid_\u001b[0m\u001b[0;34m)\u001b[0m\u001b[0;34m:\u001b[0m\u001b[0;34m\u001b[0m\u001b[0;34m\u001b[0m\u001b[0m\n\u001b[1;32m    497\u001b[0m         \u001b[0mfilename\u001b[0m \u001b[0;34m=\u001b[0m \u001b[0mos\u001b[0m\u001b[0;34m.\u001b[0m\u001b[0mpath\u001b[0m\u001b[0;34m.\u001b[0m\u001b[0mjoin\u001b[0m\u001b[0;34m(\u001b[0m\u001b[0mself\u001b[0m\u001b[0;34m.\u001b[0m\u001b[0mchrom_folder\u001b[0m\u001b[0;34m,\u001b[0m \u001b[0;34m\"gen_%d.txt\"\u001b[0m \u001b[0;34m%\u001b[0m \u001b[0mid_\u001b[0m\u001b[0;34m)\u001b[0m\u001b[0;34m\u001b[0m\u001b[0;34m\u001b[0m\u001b[0m\n",
      "\u001b[0;32m~/anaconda3/envs/python3/lib/python3.6/threading.py\u001b[0m in \u001b[0;36mis_alive\u001b[0;34m(self)\u001b[0m\n\u001b[1;32m   1114\u001b[0m             \u001b[0;32mreturn\u001b[0m \u001b[0;32mFalse\u001b[0m\u001b[0;34m\u001b[0m\u001b[0;34m\u001b[0m\u001b[0m\n\u001b[1;32m   1115\u001b[0m         \u001b[0mself\u001b[0m\u001b[0;34m.\u001b[0m\u001b[0m_wait_for_tstate_lock\u001b[0m\u001b[0;34m(\u001b[0m\u001b[0;32mFalse\u001b[0m\u001b[0;34m)\u001b[0m\u001b[0;34m\u001b[0m\u001b[0;34m\u001b[0m\u001b[0m\n\u001b[0;32m-> 1116\u001b[0;31m         \u001b[0;32mreturn\u001b[0m \u001b[0;32mnot\u001b[0m \u001b[0mself\u001b[0m\u001b[0;34m.\u001b[0m\u001b[0m_is_stopped\u001b[0m\u001b[0;34m\u001b[0m\u001b[0;34m\u001b[0m\u001b[0m\n\u001b[0m\u001b[1;32m   1117\u001b[0m \u001b[0;34m\u001b[0m\u001b[0m\n\u001b[1;32m   1118\u001b[0m     \u001b[0misAlive\u001b[0m \u001b[0;34m=\u001b[0m \u001b[0mis_alive\u001b[0m\u001b[0;34m\u001b[0m\u001b[0;34m\u001b[0m\u001b[0m\n",
      "\u001b[0;31mKeyboardInterrupt\u001b[0m: "
     ]
    }
   ],
   "source": [
    "ti = time()\n",
    "\n",
    "scores = fitness.eval_list(c_list)\n",
    "print(scores)\n",
    "print(\"Elapsed time: %0.4f\" % (time() - ti))"
   ]
  },
  {
   "cell_type": "code",
   "execution_count": null,
   "metadata": {},
   "outputs": [],
   "source": [
    "scores"
   ]
  },
  {
   "cell_type": "code",
   "execution_count": 21,
   "metadata": {},
   "outputs": [
    {
     "name": "stdout",
     "output_type": "stream",
     "text": [
      "[0.9, 0.20264, 0.23244, 0.23744, 0.23886]\n",
      "mean 0.3623, std 04\n",
      "Elapsed time: 157.1789\n"
     ]
    }
   ],
   "source": [
    "import numpy as np\n",
    "\n",
    "scores32_BN32 = scores\n",
    "print(scores32_BN32)\n",
    "print(\"mean %0.4f, std %0.f4\" % (np.mean(scores32_BN32), np.std(scores32_BN32)))\n",
    "print(\"Elapsed time: %0.4f\" % (time() - ti))"
   ]
  },
  {
   "cell_type": "code",
   "execution_count": 43,
   "metadata": {},
   "outputs": [],
   "source": [
    "import numpy as np"
   ]
  },
  {
   "cell_type": "code",
   "execution_count": 47,
   "metadata": {},
   "outputs": [],
   "source": [
    "a = np.array([1])"
   ]
  },
  {
   "cell_type": "code",
   "execution_count": 48,
   "metadata": {},
   "outputs": [
    {
     "data": {
      "text/plain": [
       "dtype('int64')"
      ]
     },
     "execution_count": 48,
     "metadata": {},
     "output_type": "execute_result"
    }
   ],
   "source": [
    "a.dtype\n"
   ]
  },
  {
   "cell_type": "code",
   "execution_count": null,
   "metadata": {},
   "outputs": [],
   "source": []
  }
 ],
 "metadata": {
  "kernelspec": {
   "display_name": "Python 3",
   "language": "python",
   "name": "python3"
  },
  "language_info": {
   "codemirror_mode": {
    "name": "ipython",
    "version": 3
   },
   "file_extension": ".py",
   "mimetype": "text/x-python",
   "name": "python",
   "nbconvert_exporter": "python",
   "pygments_lexer": "ipython3",
   "version": "3.6.7"
  }
 },
 "nbformat": 4,
 "nbformat_minor": 2
}
