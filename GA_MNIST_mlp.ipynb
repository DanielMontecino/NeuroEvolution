{
  "cells": [
    {
      "cell_type": "code",
      "execution_count": null,
      "outputs": [],
      "source": "%matplotlib inline       ",
      "metadata": {
        "pycharm": {
          "metadata": false,
          "name": "#%%z\n"
        }
      }
    },
    {
      "cell_type": "code",
      "execution_count": null,
      "outputs": [],
      "source": "\nclass Layer(object):\n    def __init__(self, units\u003d128, activation \u003d \u0027relu\u0027, dropout \u003d 0):\n        self.units \u003d units\n        self.posible_activations \u003d [\u0027relu\u0027, \u0027sigmoid\u0027, \u0027tanh\u0027, \u0027elu\u0027, \u0027prelu\u0027, \u0027leakyreLu\u0027]\n        assert activation in self.posible_activations\n        self.activation \u003d activation\n        self.dropout \u003d dropout\n        self.units_lim \u003d 1024\n        self.units_prob \u003d 0.2\n        self.act_prob \u003d 0.2\n        self.drop_prob \u003d 0.2\n        \n    def cross(self, other_layer):\n        new_units \u003d self.cross_units(other_layer.units)\n        new_activation \u003d self.cross_activation(other_layer.activation)\n        new_dropout \u003d self.cross_dropout(other_layer.dropout)\n        return Layer(new_units, new_activation, new_dropout)\n    \n    def cross_activation(self, other_activation):\n        if np.random.rand() \u003e 0.5:\n            return self.activation\n        return other_activation\n    \n    def cross_dropout(self, other_dropout):\n        b \u003d np.random.rand()\n        return self.dropout * (1 - b) + b * other_dropout\n    \n    def cross_units(self, other_units):\n        b \u003d np.random.rand()\n        return int(self.units * (1 - b) + other_units * b)\n    \n    def mutate(self):\n        aleatory \u003d np.random.rand(4)\n        if aleatory[0] \u003c self.units_prob:\n            self.units \u003d np.random.randint(0, self.units_lim)\n        if aleatory[1] \u003c self.act_prob:\n            self.activation \u003d random.choice(self.posible_activations)\n        if aleatory[2] \u003c self.drop_prob:\n            self.dropout \u003d np.random.rand()\n            \n    def compare(self, other_layer):\n        if self.units !\u003d other_layer.units:\n            return False\n        if self.activation !\u003d other_layer.activation:\n            return False\n        if self.dropout !\u003d other_layer.dropout:\n            return False\n        return True\n    \n    def self_copy(self):\n        return Layer(self.units, self.activation, self.dropout)\n    \n    def random_layer(self):\n        units \u003d np.random.randint(0, self.units_lim)\n        act \u003d random.choice(self.posible_activations)\n        drop \u003d np.random.rand()\n        return Layer(units, act, drop)\n    \n    def __repr__(self):\n        return \"U:%d|A:%s|D:%0.3f\" % (self.units,self.activation, self.dropout)\n\n            \nclass Cromosome(object):\n    \n    def __init__(self, layers \u003d []):\n        assert type(layers)\u003d\u003dlist\n        self.n_layers \u003d len(layers)\n        self.layers \u003d layers\n        self.max_layers \u003d 10\n        self.layer_prob \u003d 0.1\n        \n    def cross(self, other_cromosome):\n        new_layers \u003d []\n        \n        if self.n_layers\u003d\u003d0:\n            return other_cromosome\n        \u0027\u0027\u0027\n        elif other_cromosome.n_layers\u003d\u003d0:\n            return self\n        \u0027\u0027\u0027\n        \n        n_intersection \u003d np.random.randint(0, self.n_layers)\n        for i in range(self.n_layers):\n            if i\u003cn_intersection or i\u003e\u003dother_cromosome.n_layers:\n                new_layers.append(self.layers[i].self_copy())\n            else:\n                try:\n                    new_layers.append(self.layers[i].cross(other_cromosome.layers[i - n_intersection]))\n                except IndexError:\n                    print(\"Problem with index %d\" % i)\n                    print(\"Intersection point at %d\" % n_intersection)\n                    print(len(self.layers), self.layers)\n                    print(len(other_cromosome.layers), other_cromosome.layers)\n                    print(len(new_layers), new_layers)\n                    raise IndexError\n        return Cromosome(new_layers)\n    \n    def mutate(self):\n        for i in range(self.n_layers):\n            self.layers[i].mutate()\n        if np.random.rand() \u003c self.layer_prob and self.n_layers\u003cself.max_layers:\n            self.layers.append(Layer().random_layer())\n            self.n_layers \u003d len(self.layers)\n            \n    def compare(self, other_cromosome):\n        if self.n_layers !\u003d other_cromosome.n_layers:\n            return False\n        for i in range(self.n_layers):\n            if not self.layers[i].compare(other_cromosome.layers[i]):\n                return False\n        return True\n    \n    def __repr__(self):\n        rep \u003d \"\"\n        for i in range(self.n_layers):\n            rep +\u003d \"%d - %s \\n\" % (i, self.layers[i])\n        return rep\n    \n\nclass GeneticAlgorithm(object):\n    \n    def __init__(self,fitness_obj, generations\u003d70, num_population\u003d20, num_parents\u003d0.3, mutation_prob\u003d0.7):\n        self.num_generations \u003d generations\n        self.pop_size \u003d num_population\n        self.prob_muta \u003d mutation_prob\n        if type(num_parents)\u003d\u003dint:\n            self.num_parents \u003d num_parents\n        else:\n            self.num_parents \u003d int(self.pop_size * num_parents)\n        self.posible_activations \u003d [\u0027relu\u0027, \u0027sigmoid\u0027, \u0027tanh\u0027, \u0027elu\u0027, \u0027prelu\u0027, \u0027leakyreLu\u0027]\n        self.Fitness \u003d fitness_obj\n        self.offspring_size \u003d self.pop_size - self.num_parents\n        self.history \u003d np.empty((self.pop_size, self.num_generations + 1))\n        self.history_fitness \u003d {}\n        self.fitness_reutilization \u003d 0\n        \n    def create_random_indiv(self):\n        n_layers \u003d np.random.randint(0,2)\n        layers \u003d []\n        for i in range(n_layers):\n            units \u003d np.random.randint(0,512)\n            act \u003d random.choice(self.posible_activations)\n            drop \u003d np.random.rand()\n            layers.append(Layer(units, act, drop))\n        return Cromosome(layers)\n    \n    def create_simple_indiv(self):\n        return Cromosome([])\n    \n    def initial_population(self):\n        population \u003d []\n        for i in range(0, self.pop_size):\n            population.append(self.create_simple_indiv())\n        return population\n    \n    def rank(self, population):\n        fitness_result \u003d {}\n        for i in range(self.pop_size):\n            gen \u003d \"%s\" % population[i]\n            if not gen in self.history_fitness.keys():\n                self.history_fitness[gen] \u003d self.Fitness.calc(population[i])\n            else:\n                self.fitness_reutilization +\u003d 1\n            fitness_result[i] \u003d self.history_fitness[gen]\n        return sorted(fitness_result.items(), key \u003d operator.itemgetter(1), reverse \u003d True)\n    \n    def select_mating_pool(self, population, rank):\n        parents \u003d []\n        for i in range(self.num_parents):\n            parent_num \u003d rank[i][0]\n            parents.append(population[parent_num])\n        return parents\n    \n    def crossover(self, parents, offspring_size):\n        offspring \u003d []\n        for k in range(offspring_size):\n            p1 \u003d np.random.randint(0, len(parents) - 1)\n            p2 \u003d np.random.randint(p1 + 1, len(parents))\n            parent1 \u003d parents[p1]\n            parent2 \u003d parents[p2]\n            #parent1 \u003d random.choice(parents)\n            #parent2 \u003d random.choice(parents)\n            offspring.append(parent1.cross(parent2))\n        return offspring\n    \n    def mutation(self, offspring_crossover):\n        for crom in offspring_crossover:\n            crom.mutate()\n        return offspring_crossover\n    \n    def actualize_history(self, generation, rank):\n        for i in range(len(rank)):\n            self.history[i, generation] \u003d rank[i][1]\n    \n    def show_history(self):\n        x \u003d np.linspace(0, self.num_generations, self.num_generations + 1)\n        mean \u003d np.mean(self.history, axis\u003d0)\n        max_ \u003d np.max(self.history, axis\u003d0)\n        min_ \u003d np.min(self.history, axis\u003d0)\n        plt.plot(x, mean, label\u003d\"mean\", color\u003d\u0027r\u0027, lw\u003d1)\n        plt.plot(x, max_, label\u003d\u0027max\u0027, color\u003d\u0027b\u0027, lw\u003d1)\n        plt.plot(x, min_, label\u003d\u0027min\u0027, color\u003d\u0027g\u0027, lw\u003d1)\n        plt.legend()\n        plt.xlabel(\"num generation\")\n        plt.ylabel(\u0027Fitness\u0027)\n        plt.show()\n    \n    def evolve(self, show\u003dTrue):\n        population \u003d self.initial_population()\n        for generation in range(self.num_generations + 1):\n            ranking \u003d self.rank(population)\n            self.actualize_history(generation, ranking)\n            if self.num_generations\u003c\u003d10 and show:\n                print(\"%d) best fit: %0.3f\" % (generation + 1, ranking[0][1]))\n            elif show and (generation % int(self.num_generations / 10) \u003d\u003d 0):\n                print(\"%d) best fit: %0.3f\" % (generation + 1, ranking[0][1]))\n            if generation \u003d\u003d self.num_generations:\n                break\n\n            # Selecting the best parents in the population for mating.\n            parents \u003d self.select_mating_pool(population, ranking)\n\n            # Generating next generation using crossover.\n            offspring_crossover \u003d self.crossover(parents, self.offspring_size)\n\n            # Adding some variations to the offsrping using mutation.\n            offspring_mutation \u003d self.mutation(offspring_crossover)\n\n            # Creating the new population based on the parents and offspring.\n            population[0:self.num_parents] \u003d parents\n            population[self.num_parents:] \u003d offspring_mutation\n            \n        ranking \u003d self.rank(population)\n        win_idx \u003d ranking[0][0]\n        best_fit \u003d ranking[0][1]\n        winner \u003d population[win_idx]\n        if show:\n            print(\"Best Gen -\u003e \", winner)\n            print(\"With Fitness: %0.3f\" % best_fit)\n            print(\"Number of reutilization fitness: %d\" % self.fitness_reutilization)\n            self.show_history()\n        return winner, best_fit, ranking\n    \n\nclass ParentSelection(object):\n    def __init__(self, mode):\n        self.mode \u003d mode\n        \n    def linear_order(self, rank, ):\n        rank \u003d dict(rank)\n        idxs \u003d list(rank.keys())\n        fitness \u003d list(rank.values())\n        probs \u003d np.linspace(len(idxs), 1, len(idxs))\n        probs /\u003d np.sum(probs)\n        \n        winner_idx \u003d self.wheel_selection(probs)\n        \n    def wheel_selection(self, probs, num_selections\u003d1):\n        if np.sum(probs) !\u003d 1:\n            print(\"normalizing probs\")\n            probs /\u003d np.sum(probs)\n            \n        cumsum \u003d np.cumsum(probs)\n        bullets \u003d np.random.rand(num_selections)\n        winners \u003d [np.argmax(cumsum\u003ebullets[i]) for i in range(num_selections)]\n        return winners\n    \ndef parent_selction(rank, num_parents, selection_type):\n    rank \u003d dict(rank)\n    idxs \u003d list(rank.keys())\n    fitness \u003d list(rank.values())\n    \n    def rank_probs(idxs):\n        probs \u003d np.linspace(len(idxs), 1, len(idxs))\n        probs /\u003d np.sum(probs)\n        return probs\n    \n    def fitness_probs(fitness):\n        probs \u003d fitness / np.sum(fitness)\n        return probs\n    \ndef linear_selection_without_probs(rank, num_parents):\n    rank \u003d dict(rank)\n    idxs \u003d list(rank.keys())\n    fitness \u003d list(rank.values())\n    valid_idxs \u003d idxs[:num_parents]\n    num_offspring \u003d len(idxs) - len(valid_idxs)\n    parents \u003d []\n    for i in range(num_offspring):\n        parent_1 \u003d random.choice(valid_idxs)\n        parent_2 \u003d random.choice(valid_idxs)\n        while parent_1 \u003d\u003d parent_2:\n            parent_2 \u003d random.choice(valid_idxs)\n        parents.append((parent_1, parent_2))\n    \ndef linear_order_with_probs(rank, num_parents):\n    rank \u003d dict(rank)\n    idxs \u003d list(rank.keys())\n    fitness \u003d list(rank.values())\n    \n    probs \u003d np.linspace(len(idxs), 1, len(idxs))\n    num_offspring \u003d len(idxs) - num_parents\n    parents_1 \u003d random.choices(idxs, weights\u003dprobs, k\u003dnum_parents)\n    parents_2 \u003d random.choices(idxs, weights\u003dprobs, k\u003dnum_parents)\n    parents \u003d []\n    for i in range(num_offspring):\n        while parents_1[i] \u003d\u003d parents_2[i]:\n            parents_2[i] \u003d random.choice(idxs)\n        parents.append((parents_1[i], parents_2[i]))\n    return parents\n        \n\n    \nclass Fitness_str():\n    \n    def __init__(self, crom_objective):\n        self.crom \u003d crom_objective\n        self.str \u003d \"%s\" % self.crom\n        \n    def calc(self, crom):\n        C_str \u003d \"%s\" % crom\n        min_lenght \u003d min(len(C_str), len(self.str))\n        max_lenght \u003d max(len(C_str), len(self.str))\n        f \u003d max_lenght - min_lenght\n        for i in range(min_lenght):\n            f +\u003d self.str[i] !\u003d C_str[i]\n        return -f\n    \n\n        ",
      "metadata": {
        "pycharm": {
          "metadata": false,
          "name": "#%%\n"
        }
      }
    },
    {
      "cell_type": "code",
      "execution_count": 69,
      "metadata": {
        "pycharm": {}
      },
      "outputs": [
        {
          "name": "stdout",
          "output_type": "stream",
          "text": [
            "[7. 1. 9. 0. 4. 2. 3. 6. 8. 5.]\n",
            "[0.18181818 0.16363636 0.14545455 0.12727273 0.10909091 0.09090909\n",
            " 0.07272727 0.05454545 0.03636364 0.01818182]\n"
          ]
        }
      ],
      "source": "\n        \ndef wheel_selection(probs, num_selections\u003d1):\n    cumsum \u003d np.cumsum(probs)\n    bullets \u003d np.random.rand(num_selections)\n    winners \u003d [np.argmax(cumsum\u003eb) for b in bullets]\n    return winners\n    \n\n\nn_samples \u003d 10\nidxs \u003d np.random.permutation(np.linspace(0, n_samples -1, n_samples))\nfitness \u003d np.linspace(n_samples, 1, n_samples)\nfitness /\u003d np.sum(fitness)\n\nprint(idxs)\nprint(fitness)\n"
    },
    {
      "cell_type": "code",
      "execution_count": 70,
      "metadata": {
        "pycharm": {}
      },
      "outputs": [
        {
          "ename": "NameError",
          "evalue": "name \u0027valid_idxs\u0027 is not defined",
          "output_type": "error",
          "traceback": [
            "\u001b[0;31m---------------------------------------------------------------------------\u001b[0m",
            "\u001b[0;31mNameError\u001b[0m                                 Traceback (most recent call last)",
            "\u001b[0;32m\u003cipython-input-70-10194b64f918\u003e\u001b[0m in \u001b[0;36m\u003cmodule\u003e\u001b[0;34m\u001b[0m\n\u001b[1;32m      1\u001b[0m \u001b[0mprobs\u001b[0m \u001b[0;34m\u003d\u001b[0m \u001b[0mnp\u001b[0m\u001b[0;34m.\u001b[0m\u001b[0mlinspace\u001b[0m\u001b[0;34m(\u001b[0m\u001b[0mlen\u001b[0m\u001b[0;34m(\u001b[0m\u001b[0midxs\u001b[0m\u001b[0;34m)\u001b[0m\u001b[0;34m,\u001b[0m \u001b[0;36m1\u001b[0m\u001b[0;34m,\u001b[0m \u001b[0mlen\u001b[0m\u001b[0;34m(\u001b[0m\u001b[0midxs\u001b[0m\u001b[0;34m)\u001b[0m\u001b[0;34m)\u001b[0m\u001b[0;34m\u001b[0m\u001b[0m\n\u001b[0;32m----\u003e 2\u001b[0;31m \u001b[0mnum_offspring\u001b[0m \u001b[0;34m\u003d\u001b[0m \u001b[0mlen\u001b[0m\u001b[0;34m(\u001b[0m\u001b[0midxs\u001b[0m\u001b[0;34m)\u001b[0m \u001b[0;34m-\u001b[0m \u001b[0mlen\u001b[0m\u001b[0;34m(\u001b[0m\u001b[0mvalid_idxs\u001b[0m\u001b[0;34m)\u001b[0m\u001b[0;34m\u001b[0m\u001b[0m\n\u001b[0m\u001b[1;32m      3\u001b[0m \u001b[0mparents_1\u001b[0m \u001b[0;34m\u003d\u001b[0m \u001b[0mrandom\u001b[0m\u001b[0;34m.\u001b[0m\u001b[0mchoices\u001b[0m\u001b[0;34m(\u001b[0m\u001b[0midxs\u001b[0m\u001b[0;34m,\u001b[0m \u001b[0mweights\u001b[0m\u001b[0;34m\u003d\u001b[0m\u001b[0mprobs\u001b[0m\u001b[0;34m,\u001b[0m \u001b[0mk\u001b[0m\u001b[0;34m\u003d\u001b[0m\u001b[0mnum_parents\u001b[0m\u001b[0;34m)\u001b[0m\u001b[0;34m\u001b[0m\u001b[0m\n\u001b[1;32m      4\u001b[0m \u001b[0mparents_2\u001b[0m \u001b[0;34m\u003d\u001b[0m \u001b[0mrandom\u001b[0m\u001b[0;34m.\u001b[0m\u001b[0mchoices\u001b[0m\u001b[0;34m(\u001b[0m\u001b[0midxs\u001b[0m\u001b[0;34m,\u001b[0m \u001b[0mweights\u001b[0m\u001b[0;34m\u003d\u001b[0m\u001b[0mprobs\u001b[0m\u001b[0;34m,\u001b[0m \u001b[0mk\u001b[0m\u001b[0;34m\u003d\u001b[0m\u001b[0mnum_parents\u001b[0m\u001b[0;34m)\u001b[0m\u001b[0;34m\u001b[0m\u001b[0m\n\u001b[1;32m      5\u001b[0m \u001b[0mparents\u001b[0m \u001b[0;34m\u003d\u001b[0m \u001b[0;34m[\u001b[0m\u001b[0;34m]\u001b[0m\u001b[0;34m\u001b[0m\u001b[0m\n",
            "\u001b[0;31mNameError\u001b[0m: name \u0027valid_idxs\u0027 is not defined"
          ]
        }
      ],
      "source": [
        "probs \u003d np.linspace(len(idxs), 1, len(idxs))\n",
        "num_offspring \u003d len(idxs) - len(valid_idxs)\n",
        "parents_1 \u003d random.choices(idxs, weights\u003dprobs, k\u003dnum_parents)\n",
        "parents_2 \u003d random.choices(idxs, weights\u003dprobs, k\u003dnum_parents)\n",
        "parents \u003d []\n",
        "for i in range(num_offspring):\n",
        "    while parents_1[i] \u003d\u003d parents_2[i]:\n",
        "        parents_2[i] \u003d random.choice(idxs)\n",
        "    parents.append((parents_1[i], parents_2[i]))"
      ]
    },
    {
      "cell_type": "code",
      "execution_count": 59,
      "metadata": {
        "pycharm": {}
      },
      "outputs": [
        {
          "data": {
            "text/plain": [
              "\u003czip at 0x7fc9cd5870c8\u003e"
            ]
          },
          "execution_count": 59,
          "metadata": {},
          "output_type": "execute_result"
        }
      ],
      "source": [
        "b"
      ]
    },
    {
      "cell_type": "code",
      "execution_count": 55,
      "metadata": {
        "pycharm": {}
      },
      "outputs": [
        {
          "name": "stdout",
          "output_type": "stream",
          "text": [
            "tiempo de calentamiento: 0.358\n",
            "tiempo the rial: 0.354\n"
          ]
        }
      ],
      "source": [
        "n_samples \u003d 10\n",
        "idxs \u003d np.random.permutation(np.linspace(0, n_samples -1, n_samples))\n",
        "fitness \u003d np.linspace(n_samples, 1, n_samples)\n",
        "\n",
        "ti \u003d time()\n",
        "for i in range(N_iters):\n",
        "    s2 \u003d random.choices(idxs, weights\u003dfitness, k\u003dN_samples)\n",
        "print(\"tiempo de calentamiento: %0.3f\" % (time()- ti))\n",
        "ti \u003d time()\n",
        "for i in range(N_iters):\n",
        "    s2 \u003d random.choices(idxs, weights\u003dfitness, k\u003dN_samples)\n",
        "print(\"tiempo the rial: %0.3f\" % (time()- ti))"
      ]
    },
    {
      "cell_type": "code",
      "execution_count": 56,
      "metadata": {
        "pycharm": {}
      },
      "outputs": [
        {
          "name": "stdout",
          "output_type": "stream",
          "text": [
            "[0.17897 0.16338 0.14785 0.12763 0.10828 0.091   0.07376 0.05426 0.03728\n",
            " 0.01759]\n"
          ]
        }
      ],
      "source": [
        "frecs2 \u003d np.array([np.sum(s2 \u003d\u003d idx) for idx in idxs])\n",
        "print(frecs2/N)"
      ]
    },
    {
      "cell_type": "code",
      "execution_count": 41,
      "metadata": {
        "pycharm": {}
      },
      "outputs": [
        {
          "data": {
            "text/plain": [
              "(0.0, 2240.0)"
            ]
          },
          "execution_count": 41,
          "metadata": {},
          "output_type": "execute_result"
        },
        {
          "data": {
            "image/png": "[encoded data removed]",
            "text/plain": [
              "\u003cFigure size 432x288 with 1 Axes\u003e"
            ]
          },
          "metadata": {
            "needs_background": "light"
          },
          "output_type": "display_data"
        }
      ],
      "source": [
        "import matplotlib.pyplot as plt\n",
        "\n",
        "# An \"interface\" to matplotlib.axes.Axes.hist() method\n",
        "d \u003d np.random.rand(100000)\n",
        "n, bins, patches \u003d plt.hist(x\u003dd, bins\u003d\u0027auto\u0027, color\u003d\u0027#0504aa\u0027,\n",
        "                            alpha\u003d0.7, rwidth\u003d0.85)\n",
        "plt.grid(axis\u003d\u0027y\u0027, alpha\u003d0.75)\n",
        "plt.xlabel(\u0027Value\u0027)\n",
        "plt.ylabel(\u0027Frequency\u0027)\n",
        "plt.title(\u0027My Very Own Histogram\u0027)\n",
        "maxfreq \u003d n.max()\n",
        "# Set a clean upper y-axis limit.\n",
        "plt.ylim(ymax\u003dnp.ceil(maxfreq / 10) * 10 if maxfreq % 10 else maxfreq + 10)"
      ]
    },
    {
      "cell_type": "code",
      "execution_count": 71,
      "metadata": {
        "pycharm": {}
      },
      "outputs": [],
      "source": [
        "l \u003d Layer(758, \u0027elu\u0027, 0.86)\n",
        "l2 \u003d Layer(32, \u0027prelu\u0027, 0.32)\n",
        "l3 \u003d Layer(128, \u0027relu\u0027, 0.5)\n",
        "c \u003d Cromosome([l,l2, l3])"
      ]
    },
    {
      "cell_type": "code",
      "execution_count": 75,
      "metadata": {
        "pycharm": {}
      },
      "outputs": [
        {
          "data": {
            "text/plain": [
              "\u00270 - U:758|A:elu|D:0.860 \\n1 - U:32|A:prelu|D:0.320 \\n2 - U:128|A:relu|D:0.500 \\n\u0027"
            ]
          },
          "execution_count": 75,
          "metadata": {},
          "output_type": "execute_result"
        }
      ],
      "source": [
        "c.__repr__()"
      ]
    },
    {
      "cell_type": "code",
      "execution_count": 58,
      "metadata": {
        "pycharm": {}
      },
      "outputs": [
        {
          "name": "stdout",
          "output_type": "stream",
          "text": [
            "1) best fit: -77.000\n",
            "501) best fit: -3.000\n",
            "1001) best fit: -2.000\n",
            "1501) best fit: -1.000\n",
            "2001) best fit: -1.000\n",
            "2501) best fit: -1.000\n",
            "3001) best fit: -1.000\n",
            "3501) best fit: -1.000\n",
            "4001) best fit: -1.000\n",
            "4501) best fit: 0.000\n",
            "5001) best fit: 0.000\n",
            "Best Gen -\u003e  0 - U:758|A:elu|D:0.860 \n",
            "1 - U:32|A:prelu|D:0.320 \n",
            "2 - U:128|A:relu|D:0.500 \n",
            "\n",
            "With Fitness: 0.000\n",
            "Number of reutilization fitness: 175098\n"
          ]
        },
        {
          "data": {
            "image/png": "[encoded data removed]",
            "text/plain": [
              "\u003cFigure size 432x288 with 1 Axes\u003e"
            ]
          },
          "metadata": {
            "needs_background": "light"
          },
          "output_type": "display_data"
        }
      ],
      "source": [
        "ga \u003d GeneticAlgorithm(Fitness_str(c), generations\u003d5000, num_population\u003d100, num_parents\u003d0.3)\n",
        "\n",
        "win, fit, rank_l \u003d ga.evolve()"
      ]
    },
    {
      "cell_type": "code",
      "execution_count": 32,
      "metadata": {
        "pycharm": {}
      },
      "outputs": [
        {
          "name": "stdout",
          "output_type": "stream",
          "text": [
            "\u003cclass \u0027list\u0027\u003e\n",
            "(9, -34)\n",
            "(0, -39)\n",
            "(3, -39)\n",
            "(4, -42)\n",
            "(1, -43)\n",
            "(8, -43)\n",
            "(5, -44)\n",
            "(2, -48)\n",
            "(7, -50)\n",
            "(6, -67)\n"
          ]
        }
      ],
      "source": [
        "print(type(rank_l))\n",
        "\n",
        "for b in rank_l:\n",
        "    print(b)"
      ]
    },
    {
      "cell_type": "code",
      "execution_count": 37,
      "metadata": {
        "pycharm": {}
      },
      "outputs": [
        {
          "name": "stdout",
          "output_type": "stream",
          "text": [
            "\u003cclass \u0027dict\u0027\u003e\n",
            "9 -34\n",
            "0 -39\n",
            "3 -39\n",
            "4 -42\n",
            "1 -43\n",
            "8 -43\n",
            "5 -44\n",
            "2 -48\n",
            "7 -50\n",
            "6 -67\n"
          ]
        }
      ],
      "source": [
        "rank \u003d dict(rank_l)\n",
        "print(type(rank))\n",
        "for k,v in rank.items():\n",
        "    print(k, v)\n",
        "    \n",
        "idxs \u003d list(rank.keys())\n",
        "fitness \u003d list(rank.values())\n",
        "probs \u003d fitness / np.sum(fitness)\n",
        "\n",
        "print(idxs)\n",
        "print(fitness)\n",
        "p \u003d fitness / np.sum(fitness)\n",
        "print(p)\n",
        "cumsum \u003d np.cumsum(p)\n",
        "print(cumsum)\n",
        "\n",
        "bullet \u003d np.random.rand()\n",
        "print(bullet)\n",
        "\n",
        "stair \u003d cumsum \u003e bullet\n",
        "print(stair)\n",
        "winner \u003d np.argmax(stair)\n",
        "print(winner)\n",
        "winner_idx \u003d idxs[winner]\n",
        "print(winner_idx)"
      ]
    },
    {
      "cell_type": "code",
      "execution_count": 49,
      "metadata": {
        "pycharm": {}
      },
      "outputs": [
        {
          "name": "stdout",
          "output_type": "stream",
          "text": [
            "[]\n"
          ]
        }
      ],
      "source": [
        "a \u003d np.random.rand?\n",
        "print(a)"
      ]
    },
    {
      "cell_type": "code",
      "execution_count": null,
      "metadata": {
        "pycharm": {}
      },
      "outputs": [],
      "source": []
    },
    {
      "cell_type": "code",
      "execution_count": null,
      "metadata": {
        "pycharm": {}
      },
      "outputs": [],
      "source": [
        "print(c)\n",
        "print(win)"
      ]
    },
    {
      "cell_type": "markdown",
      "metadata": {
        "pycharm": {}
      },
      "source": [
        "### Data Manager"
      ]
    },
    {
      "cell_type": "markdown",
      "metadata": {
        "pycharm": {}
      },
      "source": [
        "This database administrator allows to use a subset of the complete database, that is, to select a more limited number of training examples or a smaller number of classes."
      ]
    },
    {
      "cell_type": "code",
      "execution_count": 3,
      "metadata": {
        "pycharm": {}
      },
      "outputs": [],
      "source": [
        "\n",
        "class DataManager(object):\n",
        "    \n",
        "    def __init__(self, name\u003d\u0027mnist\u0027, max_examples\u003dNone, clases\u003d[],  num_clases\u003d10, train_split\u003d0.8):\n",
        "        assert name in [\u0027mnist\u0027, \u0027fashion_mnist\u0027, \u0027cifar10\u0027, \u0027cifar100\u0027]\n",
        "        self.name \u003d name\n",
        "        if len(clases) \u003e 0:\n",
        "            self.num_clases \u003d len(clases)\n",
        "        else: \n",
        "            self.num_clases \u003d num_clases\n",
        "        self.max_examples \u003d max_examples\n",
        "        self.clases \u003d clases\n",
        "        self.train_split \u003d train_split\n",
        "        \n",
        "    def load_data(self):\n",
        "        if self.name \u003d\u003d \u0027mnist\u0027:\n",
        "            data \u003d mnist.load_data()\n",
        "        elif self.name \u003d\u003d \u0027fashion_mnist\u0027:\n",
        "            data \u003d fashion_mnist.load_data()\n",
        "        elif self.name \u003d\u003d \u0027cifar10\u0027:\n",
        "            data \u003d cifar10.load_data()\n",
        "        else:\n",
        "            data \u003d cifar100.load_data()\n",
        "            \n",
        "        train_data, test_data \u003d self.select_clases(data) \n",
        "        x_train, y_train \u003d self.limit_examples(train_data)\n",
        "        x_test, y_test \u003d test_data\n",
        "\n",
        "        del data, test_data, train_data\n",
        "        \n",
        "        x_train \u003d x_train.reshape(-1, 28, 28, 1).astype(\u0027float32\u0027) / 255.\n",
        "        x_test \u003d x_test.reshape(-1, 28, 28, 1).astype(\u0027float32\u0027) / 255.\n",
        "\n",
        "        y_train, y_test \u003d self.encode(y_train, y_test)        \n",
        "        y_train \u003d to_categorical(y_train, self.num_clases)\n",
        "        y_test \u003d to_categorical(y_test, self.num_clases)\n",
        "        \n",
        "        (x_train, y_train), (x_val, y_val) \u003d self.split(x_train, y_train, self.train_split)\n",
        "        self.x_train \u003d x_train\n",
        "        self.x_test \u003d x_test\n",
        "        self.x_val \u003d x_val\n",
        "        self.y_train \u003d y_train\n",
        "        self.y_test \u003d y_test\n",
        "        self.y_val \u003d y_val\n",
        "        print(x_train.shape, \u0027train samples\u0027)\n",
        "        print(x_val.shape, \u0027validation samples\u0027)\n",
        "        print(x_test.shape, \u0027test samples\u0027)\n",
        "        return (self.x_train, self.y_train), (self.x_test, self.y_test), (self.x_val, self.y_val)\n",
        "        \n",
        "    def encode(self, y_train, y_test):\n",
        "        self.encoder \u003d {}\n",
        "        self.decoder \u003d {}\n",
        "        clases \u003d sorted(self.count_clases(y_train))\n",
        "        for i in range(len(clases)):\n",
        "            self.encoder[clases[i]] \u003d i\n",
        "            self.decoder[i] \u003d clases[i]\n",
        "            \n",
        "        y_train \u003d [self.encoder[l] for l in y_train]\n",
        "        y_test \u003d [self.encoder[l] for l in y_test]\n",
        "        return y_train, y_test\n",
        "            \n",
        "        \n",
        "    def limit_examples(self, data):\n",
        "        examples \u003d len(data[1])\n",
        "        if self.max_examples is None or examples \u003c self.max_examples:\n",
        "            return data\n",
        "        ids \u003d np.random.permutation(examples)\n",
        "        return (data[0][ids[:self.max_examples]], data[1][ids[:self.max_examples]])\n",
        "        \n",
        "    \n",
        "    def select_clases(self, data):\n",
        "        data_clases \u003d self.count_clases(data[0][1])\n",
        "        if len(data_clases) \u003c\u003d self.num_clases:\n",
        "            self.num_clases \u003d len(data_clases)\n",
        "            return data\n",
        "        if len(self.clases) \u003d\u003d 0:\n",
        "            all_clases \u003d np.random.permutation(len(data_clases))\n",
        "            sel_id \u003d all_clases[:self.num_clases]\n",
        "            sel \u003d data_clases[sel_id]\n",
        "        else:\n",
        "            sel \u003d self.clases\n",
        "        idx_train \u003d np.array([i for i in range(len(data[0][1])) if data[0][1][i] in sel])\n",
        "        idx_test \u003d np.array([i for i in range(len(data[1][1])) if data[1][1][i] in sel])\n",
        "        return (data[0][0][idx_train], data[0][1][idx_train]), (data[1][0][idx_test], data[1][1][idx_test])\n",
        "            \n",
        "        \n",
        "    def count_clases(self, labels):\n",
        "        classes \u003d []\n",
        "        for label in labels:\n",
        "            if not label in classes:\n",
        "                classes.append(label)\n",
        "        return np.array(classes)\n",
        "        \n",
        "    def decode(self, onehot_labels):\n",
        "        decoded_labels \u003d []\n",
        "        if onehot_labels.ndim \u003d\u003d 2:\n",
        "            n_ex, n_clases \u003d onehot_labels.shape\n",
        "            for i in range(n_ex):\n",
        "                decoded_labels.append(self.decoder[np.argmax(onehot_labels[i])])\n",
        "        else:\n",
        "            decoded_labels.append(self.decoder[np.argmax(onehot_labels)])\n",
        "        return np.array(decoded_labels)\n",
        "    \n",
        "    def split(self, data, labels, train_split):\n",
        "        idx \u003d np.random.permutation(data.shape[0])\n",
        "        s \u003d int(train_split * data.shape[0])\n",
        "        return (data[:s], labels[:s]), (data[s:], labels[s:])\n"
      ]
    },
    {
      "cell_type": "code",
      "execution_count": 4,
      "metadata": {
        "pycharm": {}
      },
      "outputs": [
        {
          "name": "stdout",
          "output_type": "stream",
          "text": [
            "(9432, 28, 28, 1) train samples\n",
            "(2359, 28, 28, 1) validation samples\n",
            "(1991, 28, 28, 1) test samples\n"
          ]
        }
      ],
      "source": [
        "dm \u003d DataManager(\u0027mnist\u0027, clases\u003d[4,9])\n",
        "(x_train, y_train), (x_test, y_test), (x_val, y_val) \u003d dm.load_data()"
      ]
    },
    {
      "cell_type": "code",
      "execution_count": 7,
      "metadata": {
        "pycharm": {}
      },
      "outputs": [
        {
          "name": "stdout",
          "output_type": "stream",
          "text": [
            "(14400, 28, 28, 1) (3000, 28, 28, 1) (3600, 28, 28, 1)\n",
            "(14400, 3) (3000, 3) (3600, 3)\n"
          ]
        }
      ],
      "source": [
        "print(x_train.shape, x_test.shape, x_val.shape)\n",
        "\n",
        "print(y_train.shape, y_test.shape, y_val.shape)"
      ]
    },
    {
      "cell_type": "code",
      "execution_count": 8,
      "metadata": {
        "pycharm": {}
      },
      "outputs": [
        {
          "data": {
            "image/png": "[encoded data removed]",
            "text/plain": [
              "\u003cFigure size 432x288 with 1 Axes\u003e"
            ]
          },
          "metadata": {
            "needs_background": "light"
          },
          "output_type": "display_data"
        },
        {
          "data": {
            "image/png": "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\u003d\n",
            "text/plain": [
              "\u003cFigure size 432x288 with 1 Axes\u003e"
            ]
          },
          "metadata": {
            "needs_background": "light"
          },
          "output_type": "display_data"
        },
        {
          "data": {
            "image/png": "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\u003d\u003d\n",
            "text/plain": [
              "\u003cFigure size 432x288 with 1 Axes\u003e"
            ]
          },
          "metadata": {
            "needs_background": "light"
          },
          "output_type": "display_data"
        },
        {
          "data": {
            "image/png": "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\u003d\n",
            "text/plain": [
              "\u003cFigure size 432x288 with 1 Axes\u003e"
            ]
          },
          "metadata": {
            "needs_background": "light"
          },
          "output_type": "display_data"
        },
        {
          "data": {
            "image/png": "[encoded data removed]",
            "text/plain": [
              "\u003cFigure size 432x288 with 1 Axes\u003e"
            ]
          },
          "metadata": {
            "needs_background": "light"
          },
          "output_type": "display_data"
        },
        {
          "data": {
            "image/png": "iVBORw0KGgoAAAANSUhEUgAAAP8AAAEICAYAAACQ6CLfAAAABHNCSVQICAgIfAhkiAAAAAlwSFlzAAALEgAACxIB0t1+/AAAADl0RVh0U29mdHdhcmUAbWF0cGxvdGxpYiB2ZXJzaW9uIDMuMC4yLCBodHRwOi8vbWF0cGxvdGxpYi5vcmcvOIA7rQAAD9hJREFUeJzt3V+MXOV5x/Hfj8X2GtvYXtY2K5vWIeUCVCmkshAqVeQqakRyY3JBFF9EToXqSA2ikYJURC+wVEVCpUmKRBRpUxBGSkiRCIUL1GKhVDQ3EQa5wRibGLM4xiuv8T/wf6/36cXOoo3Zec8w/5fn+5GsnT3PvDsPw/72zMx7znkdEQKQz1W9bgBAbxB+ICnCDyRF+IGkCD+QFOEHkiL8QFKEPznbYfuM7R80eP97bJ+ujfuzTveHziH8kKQvRMQ/zXxje9T2PttTtr89+44R8XhELO16h2g7wo+5/J+kv5f0eq8bQedc3esG0H8i4ieSZPt8r3tB57DnB5Ii/EBShB9IivADSfGBHz7B9kJN7xgsaYHtQUkXI2Kqt52hndjzYy4vSTon6S8ljdZuf6mnHaHtCD8uSHrN9j/PbIiIjRHhK/79jyTZ/lvbJ2vjeCUwj5nLeAE5secHkiL8QFJd/bTfNu8x5jA8PFysDw4OFuuXL1+uW5ua6uzb8quuan7/UfWWc8GCBcX6xMREsX7hwoVP3dNnQUS4kfu1FH7bd0p6VNKApH+PiIdb+XlZbdq0qVi/5ZZbivUTJ07UrV28eLE4tiqAVfWqP0wDAwN1a1W9rVmzplh/7LHHivX9+/cX69k1/Wfb9oCkn0j6qqRbJG22Xf4tBdA3WnnPf5uk/RFxICIuSvqlpPIuDEDfaCX8ayX9Ydb3h2rb/ojtrbZ32t7ZwmMBaLNW3vPP9aHCJ94gRsSopo8S4wM/oI+0suc/JOmGWd+vk3S4tXYAdEsr4X9V0k22P1c7EeSbkl5oT1sAOq3pl/0RMWn7Xkn/rempvici4s22dZbItm3bivV169Z1p5F55v333y/WH3nkkS51Mj+1NM8fES9KerFNvQDoIg7vBZIi/EBShB9IivADSRF+ICnCDyTF1Xv7wJEjR4r10mmxVfVWz5mvOif+6qvLv0J2/VPLP/jgg+LYkZGRYn1sbKxYRxl7fiApwg8kRfiBpAg/kBThB5Ii/EBSTPX1gRtvvLFYr5rqK6ma6itNxUnSmTNnWhpfmkocGhoqjl2+fHmxXnVVY5Sx5weSIvxAUoQfSIrwA0kRfiApwg8kRfiBpJjn7wNVc+V79+4t1kur3VZd9nvlypXF+pIlS4r1qiW6z507V7e2b9++4thrrrmmWL/22muLdZSx5weSIvxAUoQfSIrwA0kRfiApwg8kRfiBpJjn7wOluXBJOnHiRLF+/PjxurWqefiqefzFixcX61NTU8X65ORk3dr58+eLY8fHx4v1Q4cOFesoayn8tsckfSTpsqTJiNjQjqYAdF479vx/HRHl1RcA9B3e8wNJtRr+kPSS7ddsb53rDra32t5pe2eLjwWgjVp92X9HRBy2vVrSDtt7I+KV2XeIiFFJo5Jku3w1SQBd09KePyIO175OSHpO0m3taApA5zUdfttLbC+buS3pK5J2t6sxAJ3Vysv+NZKeq52LfrWkX0TEf7Wlq2ROnTpVrK9YsaJYL83lL1y4sDh20aJFLdWrlJbhPn36dHFs1fLfy5Yta6onTGs6/BFxQNIX2tgLgC5iqg9IivADSRF+ICnCDyRF+IGkOKW3D1Sdulp1ee3SKcGrV68ujj179myxft999xXrTz75ZLF+7NixurWqqbzBwcFifWxsrFhHGXt+ICnCDyRF+IGkCD+QFOEHkiL8QFKEH0iKef4+UHUJ6ttvv71YL83VV126u+ry2e+8806xXqXU2/DwcHHsyMhIsV66ZDmqsecHkiL8QFKEH0iK8ANJEX4gKcIPJEX4gaSY5+8D7777brFetUx26fLaVUtwV51Tf/jw4WK9Sunxq87Xr3Lw4MGWxmfHnh9IivADSRF+ICnCDyRF+IGkCD+QFOEHkmKevw/s2bOnpfGrVq2qWxsaGiqOPXnyZLF+4MCBpnqacf3119etVa0ZUKXV5y27yj2/7SdsT9jePWvbkO0dtn9f+1peVQJA32nkZf+Tku68YtsDkl6OiJskvVz7HsA8Uhn+iHhF0pXXS9okaXvt9nZJd7W5LwAd1ux7/jURMS5JETFuu+6CcLa3Stra5OMA6JCOf+AXEaOSRiXJdnT68QA0ptmpviO2RySp9nWifS0B6IZmw/+CpC2121skPd+edgB0S+XLfttPS9ooadj2IUkPSXpY0jO275F0UNLdnWzys27Xrl0tjY+o/25qYGCgOHZycrKlx65Sul7AwoULW/rZne79s64y/BGxuU7py23uBUAXcXgvkBThB5Ii/EBShB9IivADSXFKbx9odRnsy5cv1619+OGHxbHnzp1r6bGrtDINOTU11e52MAt7fiApwg8kRfiBpAg/kBThB5Ii/EBShB9Iinn+PtDqqaml8WvWrCmO3bdvX0uPXaV0DMLFixeLY0+cONHudjALe34gKcIPJEX4gaQIP5AU4QeSIvxAUoQfSIp5/nmgdE68JI2NjdWtLV68uDj26NGjzbT0sapz7s+fP1+39t577xXHlpYeR+vY8wNJEX4gKcIPJEX4gaQIP5AU4QeSIvxAUszzzwNnzpwp1kvX3j916lRxbKvXxq9aF+DSpUtNj122bFlTPaExlXt+20/YnrC9e9a2bbbft72r9u9rnW0TQLs18rL/SUl3zrH9xxFxa+3fi+1tC0CnVYY/Il6RdLwLvQDoolY+8LvX9u9qbwtW1ruT7a22d9re2cJjAWizZsP/U0mfl3SrpHFJP6x3x4gYjYgNEbGhyccC0AFNhT8ijkTE5YiYkvQzSbe1ty0AndZU+G2PzPr265J217svgP5UOc9v+2lJGyUN2z4k6SFJG23fKikkjUn6Tgd7TK9qLn5oaKhubWBgoDh2eHi4qZ4aVXr85cuXd/SxUVYZ/ojYPMfmxzvQC4Au4vBeICnCDyRF+IGkCD+QFOEHkuKU3nng9OnTxfrg4GDd2oULF4pjS0toN2LRokXFeqm3qsuK226qJzSGPT+QFOEHkiL8QFKEH0iK8ANJEX4gKcIPJMU8/zxw9uzZYr10Ceyqefyqn13l2LFjxXrpOIPDhw8Xxy5YsKCpntAY9vxAUoQfSIrwA0kRfiApwg8kRfiBpAg/kBTz/PNA1Vz86tWr69aq5vmPHj3aVE8zjh8vL+N47bXX1q1Vnc9fdS0CtIY9P5AU4QeSIvxAUoQfSIrwA0kRfiApwg8k1cgS3TdIekrS9ZKmJI1GxKO2hyT9h6T1ml6m+xsRcaJzreZ18uTJYv3mm2+uW5ucnCyOrTofv8r58+eL9XXr1tWtrV+/vjj27bffbqYlNKiRPf+kpO9HxM2Sbpf0Xdu3SHpA0ssRcZOkl2vfA5gnKsMfEeMR8Xrt9keS3pK0VtImSdtrd9su6a5ONQmg/T7Ve37b6yV9UdJvJa2JiHFp+g+EpPrHmALoOw0f2297qaRnJX0vIj5sdB0121slbW2uPQCd0tCe3/YCTQf/5xHxq9rmI7ZHavURSRNzjY2I0YjYEBEb2tEwgPaoDL+nd/GPS3orIn40q/SCpC2121skPd/+9gB0SiMv+++Q9C1Jb9jeVdv2oKSHJT1j+x5JByXd3ZkWUbVEd+nU2KpTeltdBvvixYvFeqm3tWvXFsfu3bu3qZ7QmMrwR8RvJNX7Dflye9sB0C0c4QckRfiBpAg/kBThB5Ii/EBShB9Iikt3zwNVl9e+6qr6f8MvXbpUHFt1+ewqVfP8JVXHGFSdyozWsOcHkiL8QFKEH0iK8ANJEX4gKcIPJEX4gaSY558HJibmvEjSx0rz/BFRHLty5cqmeppRdenuUm+tXksArWHPDyRF+IGkCD+QFOEHkiL8QFKEH0iK8ANJMc8/D5w4UV75vDSXPjU1VRzb6Xn+0nEGVfP8VccooDXs+YGkCD+QFOEHkiL8QFKEH0iK8ANJEX4gqcp5fts3SHpK0vWSpiSNRsSjtrdJ+jtJMxeVfzAiXuxUo5lVXbe/NB8+OTlZHNvqOfVnz54t1qsev+TYsWNNj0W1Rg7ymZT0/Yh43fYySa/Z3lGr/Tgi/rVz7QHolMrwR8S4pPHa7Y9svyVpbacbA9BZn+o9v+31kr4o6be1Tffa/p3tJ2zPeZyo7a22d9re2VKnANqq4fDbXirpWUnfi4gPJf1U0ucl3arpVwY/nGtcRIxGxIaI2NCGfgG0SUPht71A08H/eUT8SpIi4khEXI6IKUk/k3Rb59oE0G6V4ff0x8GPS3orIn40a/vIrLt9XdLu9rcHoFMa+bT/DknfkvSG7V21bQ9K2mz7VkkhaUzSdzrSISqn4xYtWlS3tmLFiuLYwcHBpnqasWrVqmJ96dKlTf9sLu3dWY182v8bSXP9X2BOH5jHOMIPSIrwA0kRfiApwg8kRfiBpAg/kBSX7p4HduzYUaw/++yzdWvnzp0rjt2zZ09TPc24//77i/U333yzbu26664rji39d6F17PmBpAg/kBThB5Ii/EBShB9IivADSRF+ICl3cxlk20clvTdr07CkD7rWwKfTr731a18SvTWrnb39aUSUL7JQ09Xwf+LB7Z39em2/fu2tX/uS6K1ZveqNl/1AUoQfSKrX4R/t8eOX9Gtv/dqXRG/N6klvPX3PD6B3er3nB9AjhB9Iqifht32n7X2299t+oBc91GN7zPYbtnf1en3B2hqIE7Z3z9o2ZHuH7d/Xvs65RmKPettm+/3ac7fL9td61NsNtn9t+y3bb9r+h9r2nj53hb568rx1/T2/7QFJb0v6G0mHJL0qaXNEtHZViTaxPSZpQ0T0/IAQ21+SdFrSUxHx57Vt/yLpeEQ8XPvDuTIi/rFPetsm6XSvl22vrSY1MntZeUl3Sfq2evjcFfr6hnrwvPViz3+bpP0RcSAiLkr6paRNPeij70XEK5KOX7F5k6TttdvbNf3L03V1eusLETEeEa/Xbn8kaWZZ+Z4+d4W+eqIX4V8r6Q+zvj+kHj4BcwhJL9l+zfbWXjczhzURMS5N/zJJWt3jfq5UuWx7N12xrHzfPHfNLHffbr0I/1xLf/XTfOMdEfEXkr4q6bu1l7doTEPLtnfLHMvK94Vml7tvt16E/5CkG2Z9v07S4R70MaeIOFz7OiHpOfXf0uNHZlZIrn2d6HE/H+unZdvnWlZeffDc9dNy970I/6uSbrL9OdsLJX1T0gs96OMTbC+pfRAj20skfUX9t/T4C5K21G5vkfR8D3v5I/2ybHu9ZeXV4+eu35a778kRfrWpjH+TNCDpiYj4QdebmIPtGzW9t5emL2v+i172ZvtpSRs1fcrnEUkPSfpPSc9I+hNJByXdHRFd/+CtTm8bNf3S9eNl22feY3e5t7+S9L+S3pA0Vdv8oKbfX/fsuSv0tVk9eN44vBdIiiP8gKQIP5AU4QeSIvxAUoQfSIrwA0kRfiCp/wctcq8OsXeX0gAAAABJRU5ErkJggg\u003d\u003d\n",
            "text/plain": [
              "\u003cFigure size 432x288 with 1 Axes\u003e"
            ]
          },
          "metadata": {
            "needs_background": "light"
          },
          "output_type": "display_data"
        },
        {
          "data": {
            "image/png": "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\u003d\u003d\n",
            "text/plain": [
              "\u003cFigure size 432x288 with 1 Axes\u003e"
            ]
          },
          "metadata": {
            "needs_background": "light"
          },
          "output_type": "display_data"
        },
        {
          "data": {
            "image/png": "iVBORw0KGgoAAAANSUhEUgAAAP8AAAEICAYAAACQ6CLfAAAABHNCSVQICAgIfAhkiAAAAAlwSFlzAAALEgAACxIB0t1+/AAAADl0RVh0U29mdHdhcmUAbWF0cGxvdGxpYiB2ZXJzaW9uIDMuMC4yLCBodHRwOi8vbWF0cGxvdGxpYi5vcmcvOIA7rQAAErtJREFUeJzt3X2MleWZx/HvJTC8Mw5xQUS7FMUXxC7dEGPCZgXrVus/WhMbSeyy2Wappkbr+scak43uHyZqtNXGTRNcTTFrbdX6QozRGnfVrTEVRKIUXCWsLygZqrw4gIgM1/4xj2YY51z3YZ7znOcw9++TkJl5rvPMueeZ+XFe7jdzd0QkP8fU3QARqYfCL5IphV8kUwq/SKYUfpFMKfwimVL4RTKl8GfOzNzM9prZLU3e/t+K27uZja26fVId0yCfvJmZA/PcffOgYwuB+4AzgE3Aj9x9/aD6HOD/gHHufrCtDZaW0SO/HMbMuoAngf8EeoBVwJPFcRlFFH4ZagkwFrjL3T93918ABpxXa6uk5RR+GepM4A0//PXgG8VxGUUUfhlqCrB7yLHdwNQa2iIVUvhlqD3AtCHHpgF9NbRFKqTwy1B/Ar5lZjbo2LeK4zKKKPwy1AtAP3CNmY03s6uL4/9VX5OkCgq/HMbdDwCXAH8P7AL+EbikOC6jiAb5ZM7M9gOfA79w939t4vY3Af8MjAcmu3t/xU2Uiij8IpnS036RTCn8Iplq66ysYhLJqNPd3R3Wx40bF9Y//vjjVjYnG5MmTQrrEyZMaFjbsWNHq5vTMdzd0rcqGX4zuxC4GxgD/Ie731rm+x2tzj333LA+c+bMsH7vvfe2sjnZmD9/flg/7bTTGtYefPDBVjfnqDPip/1mNgb4d+B7wHxgmZnFvw0R6RhlXvOfDWx29y1FH/BvgItb0ywRqVqZ8M8GPhj09dbi2GHMbIWZrTWztSXuS0RarMxr/uHeVPjaG3ruvhJYCaP3DT+Ro1GZR/6twEmDvj4R+Khcc0SkXcqEfw0wz8y+WSzxdDmwujXNEpGqlRrea2YXAXcx0NV3v7uHK8BW+bR/zJgxYb2/Px6CPn369LD+8ssvN6x1dcXL2+3bty+sn3XWWWG9jMNn5n7d0Ty8+4UXXgjrJ5xwQsNaX1+8PMHSpUvD+qeffhrW69SWfn53fxp4usz3EJF6aHivSKYUfpFMKfwimVL4RTKl8ItkSuEXyVRbl/Gqc3jv2LFxr+arr74a1qO543v27AnP7enpCetr1qwJ65dffnlYH60effTRsJ4aHxGtk5Aa17F///6wfv7554f1Tz75JKxXqdl+fj3yi2RK4RfJlMIvkimFXyRTCr9IphR+kUxl09WX6k6bMWNGWN+5c2fD2vjx48NzU1N6U91O1113XVh/4oknwnqnSv1cV155ZViPficAEydObFg7cCDeenDKlClhfe/evWF90aJFYb1K6uoTkZDCL5IphV8kUwq/SKYUfpFMKfwimVL4RTLV1i26q7Rw4cKwnupL37VrV1iP+vJTW3Afc0z8f+zu3bvD+iOPPBLWo91ot2zZEp5btSuuuKJh7bbbbgvPff3118N6apr2wYMHG9ZS/fipsRmp7cEXLFgQ1jds2BDW20GP/CKZUvhFMqXwi2RK4RfJlMIvkimFXyRTCr9IpkbNfP5nn302rM+bNy+sp5bfjvr5U/P5U8s4p8YBpPqzTz311Ia11LLfjz/+eFhPufPOO8P6Nddc07C2bt268NzUdUmNr4jm7Kf6+VNLd5944olhfePGjWF9yZIlYb2MtmzRbWbvAn1AP3DQ3etbwUBEjkgrRvgtdffGuyOISEfSa36RTJUNvwO/N7PXzGzFcDcwsxVmttbM1pa8LxFpobJP+xe7+0dmNgN4zszecveXBt/A3VcCK6HeBTxF5HClHvnd/aPi43bgceDsVjRKRKo34vCb2WQzm/rl58B3gfrnKYpIU0bcz29mcxl4tIeBlw+/dvdbEudU9rR/7ty5Yf2ZZ54J61988UVYj/qcU3O7U/P1U7+DQ4cOhfWobWeeeWZ47mOPPRbWozEEAKeffnpYj+bkjxkzJjy3bD2az9/d3R2e29XVFdZfeeWVsL58+fKw/vnnn4f1Mirv53f3LcBfjfR8EamXuvpEMqXwi2RK4RfJlMIvkimFXyRTo2ZKb0q0hDTA7bffHtajrsBUN+Fnn30W1lPbRae6tMqcm1rSPDXVefv27WE96jIzi3ukUvXUzxadP2fOnPDcZcuWhfVU13GdtEW3iIQUfpFMKfwimVL4RTKl8ItkSuEXyZTCL5KpbPr5U0455ZSw/tZbbzWsbd26NTw3tXR3agnq1JTeqL87dW5/f39YT41RmDhxYliPptWW7cdPTYudOXNmw9r1118fnlt2SfM6qZ9fREIKv0imFH6RTCn8IplS+EUypfCLZErhF8lUKzbqHBU2b94c1qP53ffcc094btl562WU3eY6tVZBSrS9eOrnTo1BSS2vHY1xuOCCC8Jzj+Z+/mbpkV8kUwq/SKYUfpFMKfwimVL4RTKl8ItkSuEXyVQ2/fyp/u7UvPcXX3yxYW3GjBnhuam17aM57wATJkwI61F/eaqvPHXfqfPL9NWPHz8+PDc1xmD//v1hPfqdPvXUU+G5KWXHKHSC5CO/md1vZtvNbMOgY9PN7Dkze6f42FNtM0Wk1Zp52v8r4MIhx24Annf3ecDzxdcichRJht/dXwJ2DDl8MbCq+HwVcEmL2yUiFRvpa/6Z7r4NwN23mVnDF71mtgJYMcL7EZGKVP6Gn7uvBFZCZy/gKZKbkXb19ZrZLIDiY/x2toh0nJGGfzWwvPh8OfBka5ojIu2SXLffzB4ClgDHAb3ATcATwMPAN4D3gcvcfeibgsN9r9qe9lfZL3vttdeG9auuuiqsp/qrU/PWozEMZdft37t3b1hP9dVHbUuNX9i9e3ep+16wYEHDWuqapq5Lak+B1PlVanbd/uRrfndvtIrFd46oRSLSUTS8VyRTCr9IphR+kUwp/CKZUvhFMqUtutsgNTX1gw8+COupragjZX+/qS26U11ekcmTJ4f1VHdZ6mc744wzjrhNo4G26BaRkMIvkimFXyRTCr9IphR+kUwp/CKZUvhFMpXN0t0pdS7FXHZ57e7u7oa1vr6+Ut87NcYgtSR61Jd/4MCB8NxJkyaF9d7e3rAuMT3yi2RK4RfJlMIvkimFXyRTCr9IphR+kUwp/CKZUj9/oUw//7Rp08Jz33vvvbCeWh471Ze+Z8+ehrWenngD5dRaA8cee2xYT40TiPryU+emlu6eM2dOWJeYHvlFMqXwi2RK4RfJlMIvkimFXyRTCr9IphR+kUypn7+Q6uePLF68OKyn1qdPzbkfN25cWI/66nfu3Bmem1p3PzXGILUFeLQeQGqL7dSeAdH4BoC5c+c2rG3ZsiU8d+zYOBqpMQpHg+Qjv5ndb2bbzWzDoGM3m9mHZra++HdRtc0UkVZr5mn/r4ALhzn+c3dfWPx7urXNEpGqJcPv7i8BO9rQFhFpozJv+F1tZm8ULwsaDiA3sxVmttbM1pa4LxFpsZGG/5fAycBCYBtwZ6MbuvtKd1/k7otGeF8iUoERhd/de929390PAfcCZ7e2WSJStRGF38xmDfry+8CGRrcVkc6U7Oc3s4eAJcBxZrYVuAlYYmYLAQfeBX5cYRvbItVfHVm6dGlYT40hKLtnQNQXn/q5+vv7w3qqPzs1DiCqp37uVF97V1dXWL/00ksb1u64447w3DLjPo4WyfC7+7JhDt9XQVtEpI00vFckUwq/SKYUfpFMKfwimVL4RTJlVW49/bU7M2vfnX39vsN6meuwbt26sJ5a/jo1NTU17Tbqzkt1xaWuS9mpq9F1TbUtJTXVedeuXQ1r55xzTqn77mTu3lQ/pR75RTKl8ItkSuEXyZTCL5IphV8kUwq/SKYUfpFMZbN0d5X9/KltrqNtqiE97bZM21Pfu+w4gJTo/NT4hdQYg2hZcEhPVy6j7JLmnUCP/CKZUvhFMqXwi2RK4RfJlMIvkimFXyRTCr9IprLp5y8zJx6gp6fhjmR0d3eH56b6m8tuk11Gqh+/yv7sVD9+2bUGpkyZ0rA2f/788NyNGzeG9dSy4qmxHZ1Aj/wimVL4RTKl8ItkSuEXyZTCL5IphV8kUwq/SKaa2aL7JOAB4HjgELDS3e82s+nAb4E5DGzT/QN331ldU8spuz/B7NmzG9YmTJgQntvX1xfWy/bjl9miO6XsOgjR+VWusZASjQFoxtEwXz+lmb+6g8D17n4GcA7wEzObD9wAPO/u84Dni69F5CiRDL+7b3P3dcXnfcAmYDZwMbCquNkq4JKqGikirXdEzzfNbA7wbeCPwEx33wYD/0EAM1rdOBGpTtNj+81sCvA74Kfu/mmza7uZ2QpgxciaJyJVaeqR38zGMRD8B939seJwr5nNKuqzgO3DnevuK919kbsvakWDRaQ1kuG3gYf4+4BN7v6zQaXVwPLi8+XAk61vnohUpZmn/YuBHwJvmtn64tiNwK3Aw2b2I+B94LJqmtgZJk+e3LCW6qpr5zbonSa6NqmpzqnrVmYqdNkpt6Phd5oMv7v/AWj0Av87rW2OiLSLRviJZErhF8mUwi+SKYVfJFMKv0imFH6RTGWzdHdZkyZNalgru411apxAaonqKpf2LqvM1Neurq6wntqiO1peO/W9U8r+zjtB5/7ViEilFH6RTCn8IplS+EUypfCLZErhF8mUwi+SKfXzN2ncuHENa6l+9lSfcJV9xmW3Jk+dn5qTX2YMQmp8Q5llw6Ol2JsxGubz65FfJFMKv0imFH6RTCn8IplS+EUypfCLZErhF8lUNv38ZftlTz755Ia1VF95qp7qCy/TV152DEHquqXq0c9edh2C1BiEaD5/alv1HOiRXyRTCr9IphR+kUwp/CKZUvhFMqXwi2RK4RfJVLKf38xOAh4AjgcOASvd/W4zuxn4J+DPxU1vdPenq2poWWX7+adPn96wlprTnqqn1p9PKdNfXnaMQZlxAKlzy17XaA2Gsn8Po2E+fzODfA4C17v7OjObCrxmZs8VtZ+7+x3VNU9EqpIMv7tvA7YVn/eZ2Sag3DIoIlK7I3q+aGZzgG8DfywOXW1mb5jZ/WbW0+CcFWa21szWlmqpiLRU0+E3synA74CfuvunwC+Bk4GFDDwzuHO489x9pbsvcvdFLWiviLRIU+E3s3EMBP9Bd38MwN173b3f3Q8B9wJnV9dMEWm1ZPhtYFrYfcAmd//ZoOOzBt3s+8CG1jdPRKrSzLv9i4EfAm+a2fri2I3AMjNbCDjwLvDjSlrYIWbMmNGw1tMz7NsdXzlw4EBYnzZtWljfv3//iL9/qksqNS02VZ84ceKIz0/93OPHjw/rvb29YX3KlCkNa8cff3x4bkrUjQjlu2/boZl3+/8ADDcpvGP79EUkTSP8RDKl8ItkSuEXyZTCL5IphV8kUwq/SKasnVMTzeyonQe5YMGChrXzzjsvPDfVp3zWWWeF9Wg6McDUqVMb1qLlq6H8FtupMQi7d+9uWPvwww/Dc99+++2w/s4774T1yOrVq8P6vn37wnrquqa2F6+Suze1Xrse+UUypfCLZErhF8mUwi+SKYVfJFMKv0imFH6RTLW7n//PwHuDDh0HfNy2BhyZTm1bp7YL1LaRamXb/tLd/6KZG7Y1/F+7c7O1nbq2X6e2rVPbBWrbSNXVNj3tF8mUwi+SqbrDv7Lm+490ats6tV2gto1ULW2r9TW/iNSn7kd+EamJwi+SqVrCb2YXmtn/mtlmM7uhjjY0YmbvmtmbZra+7v0Fiz0Qt5vZhkHHppvZc2b2TvEx3jSgvW272cw+LK7dejO7qKa2nWRm/21mm8zsT2Z2bXG81msXtKuW69b21/xmNgZ4G/g7YCuwBljm7hvb2pAGzOxdYJG71z4gxMz+FtgDPODuC4pjtwM73P3W4j/OHnf/lw5p283Anrq3bS92k5o1eFt54BLgH6jx2gXt+gE1XLc6HvnPBja7+xZ3PwD8Bri4hnZ0PHd/Cdgx5PDFwKri81UM/PG0XYO2dQR33+bu64rP+4Avt5Wv9doF7apFHeGfDXww6Out1HgBhuHA783sNTNbUXdjhjHT3bfBwB8T0HgfsXokt21vpyHbynfMtRvJdvetVkf4h1tfrJP6Gxe7+18D3wN+Ujy9leY0tW17uwyzrXxHGOl2961WR/i3AicN+vpE4KMa2jEsd/+o+LgdeJzO23q898sdkouP22tuz1c6adv24baVpwOuXSdtd19H+NcA88zsm2bWBVwOxEuptomZTS7eiMHMJgPfpfO2Hl8NLC8+Xw48WWNbDtMp27Y32laemq9dp213X8sIv6Ir4y5gDHC/u9/S9kYMw8zmMvBoDwM7GP+6zraZ2UPAEgamfPYCNwFPAA8D3wDeBy5z97a/8dagbUsYeOr61bbtX77GbnPb/gb4H+BN4FBx+EYGXl/Xdu2Cdi2jhuum4b0imdIIP5FMKfwimVL4RTKl8ItkSuEXyZTCL5IphV8kU/8PVkwECQPOEVcAAAAASUVORK5CYII\u003d\n",
            "text/plain": [
              "\u003cFigure size 432x288 with 1 Axes\u003e"
            ]
          },
          "metadata": {
            "needs_background": "light"
          },
          "output_type": "display_data"
        },
        {
          "data": {
            "image/png": "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\u003d\u003d\n",
            "text/plain": [
              "\u003cFigure size 432x288 with 1 Axes\u003e"
            ]
          },
          "metadata": {
            "needs_background": "light"
          },
          "output_type": "display_data"
        },
        {
          "data": {
            "image/png": "[encoded data removed]",
            "text/plain": [
              "\u003cFigure size 432x288 with 1 Axes\u003e"
            ]
          },
          "metadata": {
            "needs_background": "light"
          },
          "output_type": "display_data"
        },
        {
          "data": {
            "image/png": "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\u003d\n",
            "text/plain": [
              "\u003cFigure size 432x288 with 1 Axes\u003e"
            ]
          },
          "metadata": {
            "needs_background": "light"
          },
          "output_type": "display_data"
        },
        {
          "data": {
            "image/png": "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\u003d\u003d\n",
            "text/plain": [
              "\u003cFigure size 432x288 with 1 Axes\u003e"
            ]
          },
          "metadata": {
            "needs_background": "light"
          },
          "output_type": "display_data"
        },
        {
          "data": {
            "image/png": "[encoded data removed]",
            "text/plain": [
              "\u003cFigure size 432x288 with 1 Axes\u003e"
            ]
          },
          "metadata": {
            "needs_background": "light"
          },
          "output_type": "display_data"
        },
        {
          "data": {
            "image/png": "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\u003d\u003d\n",
            "text/plain": [
              "\u003cFigure size 432x288 with 1 Axes\u003e"
            ]
          },
          "metadata": {
            "needs_background": "light"
          },
          "output_type": "display_data"
        },
        {
          "data": {
            "image/png": "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\u003d\n",
            "text/plain": [
              "\u003cFigure size 432x288 with 1 Axes\u003e"
            ]
          },
          "metadata": {
            "needs_background": "light"
          },
          "output_type": "display_data"
        },
        {
          "data": {
            "image/png": "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\u003d\u003d\n",
            "text/plain": [
              "\u003cFigure size 432x288 with 1 Axes\u003e"
            ]
          },
          "metadata": {
            "needs_background": "light"
          },
          "output_type": "display_data"
        },
        {
          "data": {
            "image/png": "[encoded data removed]",
            "text/plain": [
              "\u003cFigure size 432x288 with 1 Axes\u003e"
            ]
          },
          "metadata": {
            "needs_background": "light"
          },
          "output_type": "display_data"
        },
        {
          "data": {
            "image/png": "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\u003d\u003d\n",
            "text/plain": [
              "\u003cFigure size 432x288 with 1 Axes\u003e"
            ]
          },
          "metadata": {
            "needs_background": "light"
          },
          "output_type": "display_data"
        },
        {
          "data": {
            "image/png": "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\u003d\n",
            "text/plain": [
              "\u003cFigure size 432x288 with 1 Axes\u003e"
            ]
          },
          "metadata": {
            "needs_background": "light"
          },
          "output_type": "display_data"
        },
        {
          "data": {
            "image/png": "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\u003d\u003d\n",
            "text/plain": [
              "\u003cFigure size 432x288 with 1 Axes\u003e"
            ]
          },
          "metadata": {
            "needs_background": "light"
          },
          "output_type": "display_data"
        }
      ],
      "source": [
        "for i in range(20):\n",
        "    plt.imshow(x_val[i].reshape(28,28), cmap\u003d\u0027gray\u0027)\n",
        "    plt.title(dm.decode(y_val[i,:]))\n",
        "    plt.show()"
      ]
    },
    {
      "cell_type": "markdown",
      "metadata": {
        "pycharm": {}
      },
      "source": [
        "### Training a single Net"
      ]
    },
    {
      "cell_type": "code",
      "execution_count": 63,
      "metadata": {
        "pycharm": {}
      },
      "outputs": [],
      "source": [
        "class Fitness():\n",
        "    \n",
        "    def __init__(self, data, batch_size\u003d128, epochs\u003d100, early_stop\u003dTrue, reduce_plateu\u003dTrue, verbose\u003d1):\n",
        "        self.batch_size \u003d batch_size\n",
        "        self.epochs \u003d epochs\n",
        "        self.early_stop \u003d early_stop\n",
        "        self.reduce_plateu \u003d reduce_plateu\n",
        "        self.verb \u003d verbose\n",
        "        (self.x_train, self.y_train), (self.x_test, self.y_test), (self.x_val, self.y_val) \u003d data\n",
        "        self.num_clases \u003d self.y_train.shape[1]\n",
        "        self.callbacks \u003d []\n",
        "        if self.early_stop:\n",
        "            self.callbacks.append(EarlyStopping(monitor\u003d\u0027val_acc\u0027, patience\u003d10, restore_best_weights\u003dTrue))\n",
        "        if self.reduce_plateu:\n",
        "            self.callbacks.append(ReduceLROnPlateau(monitor\u003d\u0027val_acc\u0027, factor\u003d0.2, patience\u003d5, verbose\u003dself.verb))\n",
        "        \n",
        "    def calc(self, chromosome):\n",
        "        model \u003d self.decode(chromosome)\n",
        "        h \u003d model.fit(self.x_train, self.y_train,\n",
        "                    batch_size\u003dself.batch_size,\n",
        "                    epochs\u003dself.epochs,\n",
        "                    verbose\u003dself.verb,\n",
        "                    validation_data\u003d(self.x_val, self.y_val),\n",
        "                    callbacks \u003d self.callbacks)\n",
        "        score \u003d model.evaluate(self.x_val, self.y_val, verbose\u003d0)\n",
        "        score_t \u003d model.evaluate(self.x_test, self.y_test, verbose\u003d0)\n",
        "        if self.verb:\n",
        "            print(\u0027Val loss: %0.4f, Test loss: %0.4f\u0027 % (score[0], score_t[0]))\n",
        "            print(\u0027Val accuracy: %0.4f, Test accuracy: %0.4f\u0027 % (score[1], score_t[1]))\n",
        "            self.show_result(h, \u0027acc\u0027)\n",
        "            self.show_result(h, \u0027loss\u0027)\n",
        "        return score[1]\n",
        "    \n",
        "        \n",
        "    def decode(self, chromosome):\n",
        "        \n",
        "        inp \u003d Input(shape\u003d(28,28,1))\n",
        "        x \u003d Flatten()(inp)\n",
        "        for i in range(chromosome.n_layers):\n",
        "            act \u003d chromosome.layers[i].activation\n",
        "            if act in [\u0027relu\u0027, \u0027sigmoid\u0027, \u0027tanh\u0027, \u0027elu\u0027]:\n",
        "                x \u003d Dense(chromosome.layers[i].units, activation\u003dact)(x)\n",
        "            elif act \u003d\u003d \u0027prelu\u0027:\n",
        "                x \u003d Dense(chromosome.layers[i].units)(x)\n",
        "                x \u003d PReLU()(x)\n",
        "            else:\n",
        "                x \u003d Dense(chromosome.layers[i].units)(x)\n",
        "                x \u003d LeakyReLU()(x)\n",
        "            x \u003d Dropout(chromosome.layers[i].dropout)(x)\n",
        "        x \u003d Dense(self.num_clases, activation\u003d\u0027softmax\u0027)(x)\n",
        "        \n",
        "        model \u003d Model(inputs\u003dinp, outputs\u003dx)\n",
        "        if self.verb:\n",
        "            model.summary()\n",
        "        model.compile(loss\u003d\u0027categorical_crossentropy\u0027,\n",
        "              optimizer\u003dAdam(),\n",
        "              metrics\u003d[\u0027accuracy\u0027])\n",
        "        return model\n",
        "    \n",
        "    def show_result(self, history, metric\u003d\u0027acc\u0027):\n",
        "        epochs \u003d np.linspace(0, len(history.history[\u0027acc\u0027]) - 1, len(history.history[\u0027acc\u0027]))\n",
        "        plt.plot(epochs, history.history[\u0027val_%s\u0027%metric], label\u003d\u0027validation\u0027)\n",
        "        plt.plot(epochs, history.history[metric], label\u003d\u0027train\u0027)\n",
        "        plt.legend()\n",
        "        plt.xlabel(\u0027Epochs\u0027)\n",
        "        plt.ylabel(metric)\n",
        "        plt.show()\n",
        "            \n",
        "    def calc_mean(self, chromosome, iters\u003d5):\n",
        "        f \u003d []\n",
        "        ti \u003d time()\n",
        "        for i in range(iters):\n",
        "            f.append(self.calc(chromosome))\n",
        "        print(\"Acc: %0.3f\" % np.mean(f), np.std(f), np.max(f))\n",
        "        print(\"Time elapsed: %0.3f\" % (time() - ti))"
      ]
    },
    {
      "cell_type": "code",
      "execution_count": 66,
      "metadata": {
        "pycharm": {}
      },
      "outputs": [
        {
          "name": "stdout",
          "output_type": "stream",
          "text": [
            "(9432, 28, 28, 1) train samples\n",
            "(2359, 28, 28, 1) validation samples\n",
            "(1991, 28, 28, 1) test samples\n"
          ]
        }
      ],
      "source": [
        "l \u003d Layer(516, \u0027relu\u0027, 0.2)\n",
        "l2 \u003d Layer(516, \u0027relu\u0027, 0.2)\n",
        "l3 \u003d Layer(128, \u0027relu\u0027, 0.2)\n",
        "c \u003d Cromosome([l,l2, l3])\n",
        "c \u003d Cromosome([l, l2])\n",
        "clases \u003d [4,9]\n",
        "dm \u003d DataManager(clases\u003dclases)\n",
        "data \u003d dm.load_data()\n",
        "fitness \u003d Fitness(data, verbose\u003d0, reduce_plateu\u003dFalse)"
      ]
    },
    {
      "cell_type": "code",
      "execution_count": 67,
      "metadata": {
        "pycharm": {}
      },
      "outputs": [
        {
          "name": "stdout",
          "output_type": "stream",
          "text": [
            "Acc: 0.991 0.000758310462907942 0.9919457398212881\n",
            "Time elapsed: 287.443\n"
          ]
        }
      ],
      "source": [
        "fitness.calc_mean(c)"
      ]
    },
    {
      "cell_type": "code",
      "execution_count": 51,
      "metadata": {
        "pycharm": {}
      },
      "outputs": [
        {
          "name": "stdout",
          "output_type": "stream",
          "text": [
            "Acc: 0.972 0.000494357939367995 0.9728698602112839\n",
            "Time elapsed: 160.356\n"
          ]
        }
      ],
      "source": [
        "fitness.calc_mean(Cromosome([]))"
      ]
    },
    {
      "cell_type": "code",
      "execution_count": 68,
      "metadata": {
        "pycharm": {}
      },
      "outputs": [
        {
          "name": "stdout",
          "output_type": "stream",
          "text": [
            "Acc: 0.990 0.001180872257497582 0.9915218313855102\n",
            "Time elapsed: 214.332\n"
          ]
        }
      ],
      "source": [
        "l \u003d Layer(512, \u0027relu\u0027, 0.2)\n",
        "l1 \u003d Layer(128, \u0027relu\u0027, 0.346)\n",
        "l2 \u003d Layer(178, \u0027relu\u0027, 0.018)\n",
        "c \u003d Cromosome([l, l1, l2])\n",
        "fitness.calc_mean(c)"
      ]
    },
    {
      "cell_type": "code",
      "execution_count": 68,
      "metadata": {
        "pycharm": {}
      },
      "outputs": [
        {
          "name": "stdout",
          "output_type": "stream",
          "text": [
            "(14444, 28, 28, 1) train samples\n",
            "(3612, 28, 28, 1) validation samples\n",
            "(3019, 28, 28, 1) test samples\n",
            "1) best fit: 0.957\n",
            "5) best fit: 0.991\n",
            "9) best fit: 0.991\n",
            "13) best fit: 0.991\n",
            "17) best fit: 0.991\n",
            "21) best fit: 0.991\n",
            "25) best fit: 0.991\n",
            "29) best fit: 0.991\n",
            "33) best fit: 0.991\n"
          ]
        },
        {
          "ename": "AssertionError",
          "evalue": "",
          "output_type": "error",
          "traceback": [
            "\u001b[0;31m---------------------------------------------------------------------------\u001b[0m",
            "\u001b[0;31mAssertionError\u001b[0m                            Traceback (most recent call last)",
            "\u001b[0;32m\u003cipython-input-68-966837bc2d3f\u003e\u001b[0m in \u001b[0;36m\u003cmodule\u003e\u001b[0;34m\u001b[0m\n\u001b[1;32m      5\u001b[0m \u001b[0mga\u001b[0m \u001b[0;34m\u003d\u001b[0m \u001b[0mGeneticAlgorithm\u001b[0m\u001b[0;34m(\u001b[0m\u001b[0mfitness\u001b[0m\u001b[0;34m,\u001b[0m \u001b[0mgenerations\u001b[0m\u001b[0;34m\u003d\u001b[0m\u001b[0;36m40\u001b[0m\u001b[0;34m,\u001b[0m \u001b[0mnum_population\u001b[0m\u001b[0;34m\u003d\u001b[0m\u001b[0;36m10\u001b[0m\u001b[0;34m,\u001b[0m \u001b[0mnum_parents\u001b[0m\u001b[0;34m\u003d\u001b[0m\u001b[0;36m0.4\u001b[0m\u001b[0;34m)\u001b[0m\u001b[0;34m\u001b[0m\u001b[0m\n\u001b[1;32m      6\u001b[0m \u001b[0mti\u001b[0m \u001b[0;34m\u003d\u001b[0m \u001b[0mtime\u001b[0m\u001b[0;34m(\u001b[0m\u001b[0;34m)\u001b[0m\u001b[0;34m\u001b[0m\u001b[0m\n\u001b[0;32m----\u003e 7\u001b[0;31m \u001b[0mwin\u001b[0m\u001b[0;34m,\u001b[0m \u001b[0mfit\u001b[0m \u001b[0;34m\u003d\u001b[0m \u001b[0mga\u001b[0m\u001b[0;34m.\u001b[0m\u001b[0mevolve\u001b[0m\u001b[0;34m(\u001b[0m\u001b[0;34m)\u001b[0m\u001b[0;34m\u001b[0m\u001b[0m\n\u001b[0m\u001b[1;32m      8\u001b[0m \u001b[0mprint\u001b[0m\u001b[0;34m(\u001b[0m\u001b[0;34m\"Time elapsed: %0.2f\"\u001b[0m \u001b[0;34m%\u001b[0m \u001b[0;34m(\u001b[0m\u001b[0mtime\u001b[0m\u001b[0;34m(\u001b[0m\u001b[0;34m)\u001b[0m \u001b[0;34m-\u001b[0m \u001b[0mti\u001b[0m\u001b[0;34m)\u001b[0m\u001b[0;34m)\u001b[0m\u001b[0;34m\u001b[0m\u001b[0m\n",
            "\u001b[0;32m\u003cipython-input-46-0c99805df837\u003e\u001b[0m in \u001b[0;36mevolve\u001b[0;34m(self, show)\u001b[0m\n\u001b[1;32m    210\u001b[0m         \u001b[0mpopulation\u001b[0m \u001b[0;34m\u003d\u001b[0m \u001b[0mself\u001b[0m\u001b[0;34m.\u001b[0m\u001b[0minitial_population\u001b[0m\u001b[0;34m(\u001b[0m\u001b[0;34m)\u001b[0m\u001b[0;34m\u001b[0m\u001b[0m\n\u001b[1;32m    211\u001b[0m         \u001b[0;32mfor\u001b[0m \u001b[0mgeneration\u001b[0m \u001b[0;32min\u001b[0m \u001b[0mrange\u001b[0m\u001b[0;34m(\u001b[0m\u001b[0mself\u001b[0m\u001b[0;34m.\u001b[0m\u001b[0mnum_generations\u001b[0m \u001b[0;34m+\u001b[0m \u001b[0;36m1\u001b[0m\u001b[0;34m)\u001b[0m\u001b[0;34m:\u001b[0m\u001b[0;34m\u001b[0m\u001b[0m\n\u001b[0;32m--\u003e 212\u001b[0;31m             \u001b[0mranking\u001b[0m \u001b[0;34m\u003d\u001b[0m \u001b[0mself\u001b[0m\u001b[0;34m.\u001b[0m\u001b[0mrank\u001b[0m\u001b[0;34m(\u001b[0m\u001b[0mpopulation\u001b[0m\u001b[0;34m)\u001b[0m\u001b[0;34m\u001b[0m\u001b[0m\n\u001b[0m\u001b[1;32m    213\u001b[0m             \u001b[0mself\u001b[0m\u001b[0;34m.\u001b[0m\u001b[0mactualize_history\u001b[0m\u001b[0;34m(\u001b[0m\u001b[0mgeneration\u001b[0m\u001b[0;34m,\u001b[0m \u001b[0mranking\u001b[0m\u001b[0;34m)\u001b[0m\u001b[0;34m\u001b[0m\u001b[0m\n\u001b[1;32m    214\u001b[0m             \u001b[0;32mif\u001b[0m \u001b[0mself\u001b[0m\u001b[0;34m.\u001b[0m\u001b[0mnum_generations\u001b[0m\u001b[0;34m\u003c\u003d\u001b[0m\u001b[0;36m10\u001b[0m \u001b[0;32mand\u001b[0m \u001b[0mshow\u001b[0m\u001b[0;34m:\u001b[0m\u001b[0;34m\u001b[0m\u001b[0m\n",
            "\u001b[0;32m\u003cipython-input-46-0c99805df837\u003e\u001b[0m in \u001b[0;36mrank\u001b[0;34m(self, population)\u001b[0m\n\u001b[1;32m    160\u001b[0m             \u001b[0mgen\u001b[0m \u001b[0;34m\u003d\u001b[0m \u001b[0;34m\"%s\"\u001b[0m \u001b[0;34m%\u001b[0m \u001b[0mpopulation\u001b[0m\u001b[0;34m[\u001b[0m\u001b[0mi\u001b[0m\u001b[0;34m]\u001b[0m\u001b[0;34m\u001b[0m\u001b[0m\n\u001b[1;32m    161\u001b[0m             \u001b[0;32mif\u001b[0m \u001b[0;32mnot\u001b[0m \u001b[0mgen\u001b[0m \u001b[0;32min\u001b[0m \u001b[0mself\u001b[0m\u001b[0;34m.\u001b[0m\u001b[0mhistory_fitness\u001b[0m\u001b[0;34m.\u001b[0m\u001b[0mkeys\u001b[0m\u001b[0;34m(\u001b[0m\u001b[0;34m)\u001b[0m\u001b[0;34m:\u001b[0m\u001b[0;34m\u001b[0m\u001b[0m\n\u001b[0;32m--\u003e 162\u001b[0;31m                 \u001b[0mself\u001b[0m\u001b[0;34m.\u001b[0m\u001b[0mhistory_fitness\u001b[0m\u001b[0;34m[\u001b[0m\u001b[0mgen\u001b[0m\u001b[0;34m]\u001b[0m \u001b[0;34m\u003d\u001b[0m \u001b[0mself\u001b[0m\u001b[0;34m.\u001b[0m\u001b[0mFitness\u001b[0m\u001b[0;34m.\u001b[0m\u001b[0mcalc\u001b[0m\u001b[0;34m(\u001b[0m\u001b[0mpopulation\u001b[0m\u001b[0;34m[\u001b[0m\u001b[0mi\u001b[0m\u001b[0;34m]\u001b[0m\u001b[0;34m)\u001b[0m\u001b[0;34m\u001b[0m\u001b[0m\n\u001b[0m\u001b[1;32m    163\u001b[0m             \u001b[0;32melse\u001b[0m\u001b[0;34m:\u001b[0m\u001b[0;34m\u001b[0m\u001b[0m\n\u001b[1;32m    164\u001b[0m                 \u001b[0mself\u001b[0m\u001b[0;34m.\u001b[0m\u001b[0mfitness_reutilization\u001b[0m \u001b[0;34m+\u003d\u001b[0m \u001b[0;36m1\u001b[0m\u001b[0;34m\u001b[0m\u001b[0m\n",
            "\u001b[0;32m\u003cipython-input-48-065e4afc0c57\u003e\u001b[0m in \u001b[0;36mcalc\u001b[0;34m(self, chromosome)\u001b[0m\n\u001b[1;32m     16\u001b[0m \u001b[0;34m\u001b[0m\u001b[0m\n\u001b[1;32m     17\u001b[0m     \u001b[0;32mdef\u001b[0m \u001b[0mcalc\u001b[0m\u001b[0;34m(\u001b[0m\u001b[0mself\u001b[0m\u001b[0;34m,\u001b[0m \u001b[0mchromosome\u001b[0m\u001b[0;34m)\u001b[0m\u001b[0;34m:\u001b[0m\u001b[0;34m\u001b[0m\u001b[0m\n\u001b[0;32m---\u003e 18\u001b[0;31m         \u001b[0mmodel\u001b[0m \u001b[0;34m\u003d\u001b[0m \u001b[0mself\u001b[0m\u001b[0;34m.\u001b[0m\u001b[0mdecode\u001b[0m\u001b[0;34m(\u001b[0m\u001b[0mchromosome\u001b[0m\u001b[0;34m)\u001b[0m\u001b[0;34m\u001b[0m\u001b[0m\n\u001b[0m\u001b[1;32m     19\u001b[0m         h \u003d model.fit(self.x_train, self.y_train,\n\u001b[1;32m     20\u001b[0m                     \u001b[0mbatch_size\u001b[0m\u001b[0;34m\u003d\u001b[0m\u001b[0mself\u001b[0m\u001b[0;34m.\u001b[0m\u001b[0mbatch_size\u001b[0m\u001b[0;34m,\u001b[0m\u001b[0;34m\u001b[0m\u001b[0m\n",
            "\u001b[0;32m\u003cipython-input-48-065e4afc0c57\u003e\u001b[0m in \u001b[0;36mdecode\u001b[0;34m(self, chromosome)\u001b[0m\n\u001b[1;32m     39\u001b[0m             \u001b[0mact\u001b[0m \u001b[0;34m\u003d\u001b[0m \u001b[0mchromosome\u001b[0m\u001b[0;34m.\u001b[0m\u001b[0mlayers\u001b[0m\u001b[0;34m[\u001b[0m\u001b[0mi\u001b[0m\u001b[0;34m]\u001b[0m\u001b[0;34m.\u001b[0m\u001b[0mactivation\u001b[0m\u001b[0;34m\u001b[0m\u001b[0m\n\u001b[1;32m     40\u001b[0m             \u001b[0;32mif\u001b[0m \u001b[0mact\u001b[0m \u001b[0;32min\u001b[0m \u001b[0;34m[\u001b[0m\u001b[0;34m\u0027relu\u0027\u001b[0m\u001b[0;34m,\u001b[0m \u001b[0;34m\u0027sigmoid\u0027\u001b[0m\u001b[0;34m,\u001b[0m \u001b[0;34m\u0027tanh\u0027\u001b[0m\u001b[0;34m,\u001b[0m \u001b[0;34m\u0027elu\u0027\u001b[0m\u001b[0;34m]\u001b[0m\u001b[0;34m:\u001b[0m\u001b[0;34m\u001b[0m\u001b[0m\n\u001b[0;32m---\u003e 41\u001b[0;31m                 \u001b[0mx\u001b[0m \u001b[0;34m\u003d\u001b[0m \u001b[0mDense\u001b[0m\u001b[0;34m(\u001b[0m\u001b[0mchromosome\u001b[0m\u001b[0;34m.\u001b[0m\u001b[0mlayers\u001b[0m\u001b[0;34m[\u001b[0m\u001b[0mi\u001b[0m\u001b[0;34m]\u001b[0m\u001b[0;34m.\u001b[0m\u001b[0munits\u001b[0m\u001b[0;34m,\u001b[0m \u001b[0mactivation\u001b[0m\u001b[0;34m\u003d\u001b[0m\u001b[0mact\u001b[0m\u001b[0;34m)\u001b[0m\u001b[0;34m(\u001b[0m\u001b[0mx\u001b[0m\u001b[0;34m)\u001b[0m\u001b[0;34m\u001b[0m\u001b[0m\n\u001b[0m\u001b[1;32m     42\u001b[0m             \u001b[0;32melif\u001b[0m \u001b[0mact\u001b[0m \u001b[0;34m\u003d\u003d\u001b[0m \u001b[0;34m\u0027prelu\u0027\u001b[0m\u001b[0;34m:\u001b[0m\u001b[0;34m\u001b[0m\u001b[0m\n\u001b[1;32m     43\u001b[0m                 \u001b[0mx\u001b[0m \u001b[0;34m\u003d\u001b[0m \u001b[0mDense\u001b[0m\u001b[0;34m(\u001b[0m\u001b[0mchromosome\u001b[0m\u001b[0;34m.\u001b[0m\u001b[0mlayers\u001b[0m\u001b[0;34m[\u001b[0m\u001b[0mi\u001b[0m\u001b[0;34m]\u001b[0m\u001b[0;34m.\u001b[0m\u001b[0munits\u001b[0m\u001b[0;34m)\u001b[0m\u001b[0;34m(\u001b[0m\u001b[0mx\u001b[0m\u001b[0;34m)\u001b[0m\u001b[0;34m\u001b[0m\u001b[0m\n",
            "\u001b[0;32m~/anaconda3/envs/python3/lib/python3.6/site-packages/keras/engine/base_layer.py\u001b[0m in \u001b[0;36m__call__\u001b[0;34m(self, inputs, **kwargs)\u001b[0m\n\u001b[1;32m    472\u001b[0m             if all([s is not None\n\u001b[1;32m    473\u001b[0m                     for s in to_list(input_shape)]):\n\u001b[0;32m--\u003e 474\u001b[0;31m                 \u001b[0moutput_shape\u001b[0m \u001b[0;34m\u003d\u001b[0m \u001b[0mself\u001b[0m\u001b[0;34m.\u001b[0m\u001b[0mcompute_output_shape\u001b[0m\u001b[0;34m(\u001b[0m\u001b[0minput_shape\u001b[0m\u001b[0;34m)\u001b[0m\u001b[0;34m\u001b[0m\u001b[0m\n\u001b[0m\u001b[1;32m    475\u001b[0m             \u001b[0;32melse\u001b[0m\u001b[0;34m:\u001b[0m\u001b[0;34m\u001b[0m\u001b[0m\n\u001b[1;32m    476\u001b[0m                 \u001b[0;32mif\u001b[0m \u001b[0misinstance\u001b[0m\u001b[0;34m(\u001b[0m\u001b[0minput_shape\u001b[0m\u001b[0;34m,\u001b[0m \u001b[0mlist\u001b[0m\u001b[0;34m)\u001b[0m\u001b[0;34m:\u001b[0m\u001b[0;34m\u001b[0m\u001b[0m\n",
            "\u001b[0;32m~/anaconda3/envs/python3/lib/python3.6/site-packages/keras/layers/core.py\u001b[0m in \u001b[0;36mcompute_output_shape\u001b[0;34m(self, input_shape)\u001b[0m\n\u001b[1;32m    886\u001b[0m     \u001b[0;32mdef\u001b[0m \u001b[0mcompute_output_shape\u001b[0m\u001b[0;34m(\u001b[0m\u001b[0mself\u001b[0m\u001b[0;34m,\u001b[0m \u001b[0minput_shape\u001b[0m\u001b[0;34m)\u001b[0m\u001b[0;34m:\u001b[0m\u001b[0;34m\u001b[0m\u001b[0m\n\u001b[1;32m    887\u001b[0m         \u001b[0;32massert\u001b[0m \u001b[0minput_shape\u001b[0m \u001b[0;32mand\u001b[0m \u001b[0mlen\u001b[0m\u001b[0;34m(\u001b[0m\u001b[0minput_shape\u001b[0m\u001b[0;34m)\u001b[0m \u001b[0;34m\u003e\u003d\u001b[0m \u001b[0;36m2\u001b[0m\u001b[0;34m\u001b[0m\u001b[0m\n\u001b[0;32m--\u003e 888\u001b[0;31m         \u001b[0;32massert\u001b[0m \u001b[0minput_shape\u001b[0m\u001b[0;34m[\u001b[0m\u001b[0;34m-\u001b[0m\u001b[0;36m1\u001b[0m\u001b[0;34m]\u001b[0m\u001b[0;34m\u001b[0m\u001b[0m\n\u001b[0m\u001b[1;32m    889\u001b[0m         \u001b[0moutput_shape\u001b[0m \u001b[0;34m\u003d\u001b[0m \u001b[0mlist\u001b[0m\u001b[0;34m(\u001b[0m\u001b[0minput_shape\u001b[0m\u001b[0;34m)\u001b[0m\u001b[0;34m\u001b[0m\u001b[0m\n\u001b[1;32m    890\u001b[0m         \u001b[0moutput_shape\u001b[0m\u001b[0;34m[\u001b[0m\u001b[0;34m-\u001b[0m\u001b[0;36m1\u001b[0m\u001b[0;34m]\u001b[0m \u001b[0;34m\u003d\u001b[0m \u001b[0mself\u001b[0m\u001b[0;34m.\u001b[0m\u001b[0munits\u001b[0m\u001b[0;34m\u001b[0m\u001b[0m\n",
            "\u001b[0;31mAssertionError\u001b[0m: "
          ]
        }
      ],
      "source": [
        "clases \u003d [4,7,9]\n",
        "dm \u003d DataManager(clases\u003dclases)\n",
        "data \u003d dm.load_data()\n",
        "fitness \u003d Fitness(data, verbose\u003d0)\n",
        "ga \u003d GeneticAlgorithm(fitness, generations\u003d40, num_population\u003d10, num_parents\u003d0.4)\n",
        "ti \u003d time()\n",
        "win, fit \u003d ga.evolve()\n",
        "print(\"Time elapsed: %0.2f\" % (time() - ti))"
      ]
    },
    {
      "cell_type": "code",
      "execution_count": null,
      "metadata": {
        "pycharm": {}
      },
      "outputs": [],
      "source": [
        "d \u003d ga.history_fitness\n",
        "\n",
        "d2 \u003d dict(sorted(d.items(), key\u003doperator.itemgetter(1), reverse\u003dTrue))\n",
        "for k,v in d2.items():\n",
        "    print(\"Fitness: %0.4f\" % v)\n",
        "    print(\"Model: \\n%s\" % k)"
      ]
    },
    {
      "cell_type": "code",
      "execution_count": 62,
      "metadata": {
        "pycharm": {}
      },
      "outputs": [
        {
          "data": {
            "text/plain": [
              "str"
            ]
          },
          "execution_count": 62,
          "metadata": {},
          "output_type": "execute_result"
        }
      ],
      "source": [
        "v \u003d keras.__version__\n",
        "type(v)"
      ]
    },
    {
      "cell_type": "code",
      "execution_count": 64,
      "metadata": {
        "pycharm": {}
      },
      "outputs": [
        {
          "name": "stdout",
          "output_type": "stream",
          "text": [
            "True\n"
          ]
        }
      ],
      "source": [
        "print(v\u003d\u003d\u00272.2.4\u0027)"
      ]
    },
    {
      "cell_type": "code",
      "execution_count": null,
      "metadata": {
        "pycharm": {}
      },
      "outputs": [],
      "source": []
    }
  ],
  "metadata": {
    "kernelspec": {
      "display_name": "Python 3",
      "language": "python",
      "name": "python3"
    },
    "language_info": {
      "codemirror_mode": {
        "name": "ipython",
        "version": 3
      },
      "file_extension": ".py",
      "mimetype": "text/x-python",
      "name": "python",
      "nbconvert_exporter": "python",
      "pygments_lexer": "ipython3",
      "version": "3.6.6"
    },
    "stem_cell": {
      "cell_type": "raw",
      "source": "",
      "metadata": {
        "pycharm": {
          "metadata": false
        }
      }
    }
  },
  "nbformat": 4,
  "nbformat_minor": 2
}