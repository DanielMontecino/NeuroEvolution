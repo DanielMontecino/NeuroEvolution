{
 "cells": [
  {
   "cell_type": "code",
   "execution_count": 1,
   "metadata": {},
   "outputs": [
    {
     "name": "stderr",
     "output_type": "stream",
     "text": [
      "Using TensorFlow backend.\n"
     ]
    }
   ],
   "source": [
    "from utils.codification_cnn import ChromosomeCNN, CNNLayer, NNLayer, FitnessCNN\n",
    "from utils.codifications import Fitness\n",
    "from GA.geneticAlgorithm import GenerationalGA\n",
    "from GA.parentSelector.parentSelector import RandomParentSelector, LinealOrder, TournamentSelection\n",
    "from GA.parentSelector.parentSelector import WheelSelection, LinealOrderII\n",
    "from utils.datamanager import DataManager\n",
    "\n",
    "from time import time"
   ]
  },
  {
   "cell_type": "code",
   "execution_count": 5,
   "metadata": {},
   "outputs": [],
   "source": [
    "import random\n",
    "\n",
    "class Fitness_str:    \n",
    "    instances = 0\n",
    "    \n",
    "    def __init__(self):\n",
    "        Fitness_str.instances += 1\n",
    "    \n",
    "    def set_params(self, chromosome):\n",
    "        self.chrom = chromosome\n",
    "        self.str = chromosome.__repr__()\n",
    "        self.time = 0\n",
    "        \n",
    "    def calc(self, chrom, test=False):\n",
    "        ti  = time()\n",
    "        s = chrom.__repr__()\n",
    "        min_len = min(len(s), len(self.str))\n",
    "        max_len = max(len(s), len(self.str))\n",
    "        c = max_len - min_len\n",
    "        for i in range(min_len):\n",
    "            c += s[i] != self.str[i]\n",
    "        self.time += time() - ti\n",
    "        return c      \n",
    "    \n",
    "\n",
    "class Fitness_EvoCNN(FitnessCNN):\n",
    "    \n",
    "    def decode(self, chromosome, lr=0.001):\n",
    "\n",
    "        inp = Input(shape=self.input_shape)\n",
    "        x = inp\n",
    "        for i in range(chromosome.n_cnn):\n",
    "            act = chromosome.cnn_layers[i].activation\n",
    "            filters = chromosome.cnn_layers[i].filters\n",
    "            ksize = chromosome.cnn_layers[i].k_size\n",
    "            if act in ['relu', 'sigmoid', 'tanh', 'elu']:\n",
    "                x = Conv2D(filters, ksize, activation=act, padding='same')(x)\n",
    "            elif act == 'prelu':\n",
    "                x = Conv2D(filters, ksize, padding='same')(x)\n",
    "                x = PReLU()(x)\n",
    "            else:\n",
    "                x = Conv2D(filters, ksize, padding='same')(x)\n",
    "                x = LeakyReLU()(x)\n",
    "            #x = BatchNormalization()(x)\n",
    "            if chromosome.cnn_layers[i].maxpool:\n",
    "                x = MaxPooling2D()(x)\n",
    "\n",
    "        x = Flatten()(x)\n",
    "\n",
    "        for i in range(chromosome.n_nn):\n",
    "            act = chromosome.nn_layers[i].activation\n",
    "            if act in ['relu', 'sigmoid', 'tanh', 'elu']:\n",
    "                x = Dense(chromosome.nn_layers[i].units, activation=act)(x)\n",
    "            elif act == 'prelu':\n",
    "                x = Dense(chromosome.nn_layers[i].units)(x)\n",
    "                x = PReLU()(x)\n",
    "            else:\n",
    "                x = Dense(chromosome.nn_layers[i].units)(x)\n",
    "                x = LeakyReLU()(x)\n",
    "        x = Dense(self.num_clases, activation='softmax')(x)\n",
    "\n",
    "        model = Model(inputs=inp, outputs=x)\n",
    "        if self.verb:\n",
    "            model.summary()\n",
    "        model.compile(loss='categorical_crossentropy',\n",
    "                      optimizer=Adam(lr),\n",
    "                      metrics=['accuracy'])\n",
    "        return model\n",
    "    \n",
    "class CNNLayer_EvoCNN(CNNLayer):\n",
    "    \n",
    "    possible_activations = ['relu']\n",
    "    possible_k = [1, 3, 5, 7]\n",
    "    \n",
    "    def __init__(self, **kwargs):\n",
    "        super().__init__(**kwargs)\n",
    "        self.k_size = (self.k_size[0], self.k_size[0])\n",
    "        self.dropout = 0.\n",
    "        self.activation = 'relu'\n",
    "    \n",
    "    def mutate(self):\n",
    "        super().mutate()\n",
    "        self.k_size = (self.k_size[0], self.k_size[0])\n",
    "        self.dropout = 0.\n",
    "        self.activation = 'relu'\n",
    "        \n",
    "    def cross_kernel(self, other_kernel):\n",
    "        min_k = min(self.k_size[0], other_kernel[0])\n",
    "        max_k = max(self.k_size[0], other_kernel[0])\n",
    "        k = random.choice([k for k in self.possible_k if (k>=min_k and k<=max_k)])\n",
    "        return k, k\n",
    "        \n",
    "class NNLayer_EvoCNN(NNLayer):\n",
    "    \n",
    "    possible_activations = ['relu']\n",
    "    \n",
    "    def __init__(self, **kwargs):\n",
    "        super().__init__(**kwargs)\n",
    "        self.dropout = 0\n",
    "        self.activation = 'relu'\n",
    "        \n",
    "    def mutate(self):\n",
    "        super().mutate()\n",
    "        self.dropout = 0\n",
    "        self.activation = 'relu'\n",
    "            \n"
   ]
  },
  {
   "cell_type": "code",
   "execution_count": 120,
   "metadata": {},
   "outputs": [
    {
     "name": "stdout",
     "output_type": "stream",
     "text": [
      "Genetic algorithm params\n",
      "Number of generations: 100\n",
      "Population size: 100\n",
      "num parents: 20\n",
      "offspring size: 80\n",
      "\n"
     ]
    }
   ],
   "source": [
    "ps = {'random':RandomParentSelector(), 'lineal':LinealOrder(), 'wheel':WheelSelection(), \n",
    "      'tournament':TournamentSelection(2)}\n",
    "\n",
    "# EvoCNN Params\n",
    "ChromosomeCNN.max_layers['CNN'] = 5\n",
    "ChromosomeCNN.max_layers['NN'] = 5\n",
    "ChromosomeCNN.layers_types['CNN'] = CNNLayer_EvoCNN\n",
    "ChromosomeCNN.layers_types['NN'] = NNLayer_EvoCNN\n",
    "ChromosomeCNN.grow_prob = 1/3.\n",
    "ChromosomeCNN.decrease_prob = 1/3.\n",
    "\n",
    "# genetic algorithm params:\n",
    "parents_selector_key = 'tournament'\n",
    "num_parents = 0.2\n",
    "generations = 100\n",
    "population = 100\n",
    "train_time = 60\n",
    "maximize_fit = False\n",
    "stat_val=False\n",
    "folder = \"../delete\"\n",
    "save_progress = False\n",
    "p = ps[parents_selector_key]\n",
    "\n",
    "\n",
    "fitness = Fitness_str()\n",
    "l = CNNLayer(32, (3,3), 'relu', 0, False)\n",
    "l2 = CNNLayer(64, (3,3), 'relu', 0.25, True)\n",
    "l3 = NNLayer(128, 'relu', 0.5)\n",
    "c = ChromosomeCNN([l, l2], [l3], fitness)\n",
    "\n",
    "fitness.set_params(c)\n",
    "'''\n",
    "# Fitness params\n",
    "epochs = 10\n",
    "batch_size = 128\n",
    "verbose = 0\n",
    "redu_plat = False\n",
    "early_stop = False\n",
    "warm_up_epochs = 0\n",
    "cosine_decay = False\n",
    "base_lr = 0.001\n",
    "smooth = 0\n",
    "\n",
    "# dataset params:\n",
    "dataset = 'MRDBI'\n",
    "data_folder = '../../../../../datasets/MNIST_variations'\n",
    "classes = []\n",
    "\n",
    "# Load data\n",
    "dm = DataManager(dataset, clases=classes, folder_var_mnist=data_folder)\n",
    "data = dm.load_data()\n",
    "fitness.set_params(data, verbose=verbose, reduce_plateau=redu_plat, epochs=epochs,\n",
    "                   early_stop=early_stop, warm_epochs=warm_up_epochs, base_lr=base_lr,\n",
    "                  cosine_decay=cosine_decay)\n",
    "'''\n",
    "\n",
    "\n",
    "generational = GenerationalGA(num_parents=num_parents, chromosome=c, parent_selector=p, generations=generations,\n",
    "                              num_population=population, maximize_fitness=maximize_fit, \n",
    "                              training_hours=train_time, folder=folder, statistical_validation=stat_val,\n",
    "                             save_progress=save_progress)"
   ]
  },
  {
   "cell_type": "code",
   "execution_count": 121,
   "metadata": {},
   "outputs": [
    {
     "name": "stdout",
     "output_type": "stream",
     "text": [
      "Creating Initial population\n",
      "\n",
      "Start evolution process...\n",
      "\n",
      "1) best fit: 58.000 in batch time: 0.00 mins\n",
      "Current winner:\n",
      "CNN|F:59|K:(7,7)|A:relu|D:0.000|M:1\n",
      "CNN|F:198|K:(7,7)|A:relu|D:0.000|M:1\n",
      "\n",
      "11) best fit: 10.000 in batch time: 0.00 mins\n",
      "Current winner:\n",
      "CNN|F:90|K:(3,3)|A:relu|D:0.000|M:1\n",
      "CNN|F:91|K:(3,3)|A:relu|D:0.000|M:1\n",
      "NN|U:527|A:relu|D:0.000\n",
      "\n",
      "21) best fit: 8.000 in batch time: 0.00 mins\n",
      "Current winner:\n",
      "CNN|F:33|K:(3,3)|A:relu|D:0.000|M:0\n",
      "CNN|F:95|K:(3,3)|A:relu|D:0.000|M:1\n",
      "NN|U:508|A:relu|D:0.000\n",
      "\n",
      "31) best fit: 7.000 in batch time: 0.01 mins\n",
      "Current winner:\n",
      "CNN|F:62|K:(3,3)|A:relu|D:0.000|M:0\n",
      "CNN|F:66|K:(3,3)|A:relu|D:0.000|M:1\n",
      "NN|U:827|A:relu|D:0.000\n",
      "\n",
      "41) best fit: 7.000 in batch time: 0.01 mins\n",
      "Current winner:\n",
      "CNN|F:62|K:(3,3)|A:relu|D:0.000|M:0\n",
      "CNN|F:66|K:(3,3)|A:relu|D:0.000|M:1\n",
      "NN|U:827|A:relu|D:0.000\n",
      "\n",
      "51) best fit: 7.000 in batch time: 0.01 mins\n",
      "Current winner:\n",
      "CNN|F:62|K:(3,3)|A:relu|D:0.000|M:0\n",
      "CNN|F:66|K:(3,3)|A:relu|D:0.000|M:1\n",
      "NN|U:827|A:relu|D:0.000\n",
      "\n",
      "61) best fit: 7.000 in batch time: 0.01 mins\n",
      "Current winner:\n",
      "CNN|F:62|K:(3,3)|A:relu|D:0.000|M:0\n",
      "CNN|F:66|K:(3,3)|A:relu|D:0.000|M:1\n",
      "NN|U:827|A:relu|D:0.000\n",
      "\n",
      "71) best fit: 7.000 in batch time: 0.02 mins\n",
      "Current winner:\n",
      "CNN|F:62|K:(3,3)|A:relu|D:0.000|M:0\n",
      "CNN|F:66|K:(3,3)|A:relu|D:0.000|M:1\n",
      "NN|U:827|A:relu|D:0.000\n",
      "\n",
      "81) best fit: 7.000 in batch time: 0.02 mins\n",
      "Current winner:\n",
      "CNN|F:62|K:(3,3)|A:relu|D:0.000|M:0\n",
      "CNN|F:66|K:(3,3)|A:relu|D:0.000|M:1\n",
      "NN|U:827|A:relu|D:0.000\n",
      "\n",
      "91) best fit: 7.000 in batch time: 0.02 mins\n",
      "Current winner:\n",
      "CNN|F:62|K:(3,3)|A:relu|D:0.000|M:0\n",
      "CNN|F:66|K:(3,3)|A:relu|D:0.000|M:1\n",
      "NN|U:827|A:relu|D:0.000\n",
      "\n",
      "101) best fit: 6.000 in batch time: 0.02 mins\n",
      "Current winner:\n",
      "CNN|F:32|K:(3,3)|A:relu|D:0.000|M:0\n",
      "CNN|F:34|K:(3,3)|A:relu|D:0.000|M:1\n",
      "NN|U:157|A:relu|D:0.000\n",
      "\n",
      "Best Gen -> \n",
      "CNN|F:32|K:(3,3)|A:relu|D:0.000|M:0\n",
      "CNN|F:34|K:(3,3)|A:relu|D:0.000|M:1\n",
      "NN|U:157|A:relu|D:0.000\n",
      "\n",
      "With Fitness (val): 6.0000 and (test): 6.0000\n"
     ]
    },
    {
     "data": {
      "image/png": "[encoded data removed]",
      "text/plain": [
       "<Figure size 720x360 with 1 Axes>"
      ]
     },
     "metadata": {
      "needs_background": "light"
     },
     "output_type": "display_data"
    },
    {
     "data": {
      "image/png": "[encoded data removed]",
      "text/plain": [
       "<Figure size 720x360 with 1 Axes>"
      ]
     },
     "metadata": {
      "needs_background": "light"
     },
     "output_type": "display_data"
    },
    {
     "name": "stdout",
     "output_type": "stream",
     "text": [
      "Total elapsed time: 2.515\n",
      "Total training time: 0.101\n"
     ]
    }
   ],
   "source": [
    "ti_all = time()\n",
    "winner, best_fit, ranking = generational.evolve()\n",
    "print(\"Total elapsed time: %0.3f\" % (time() - ti_all))\n",
    "print(\"Total training time: %0.3f\" % fitness.time)"
   ]
  },
  {
   "cell_type": "code",
   "execution_count": null,
   "metadata": {},
   "outputs": [],
   "source": [
    "class A(object):\n",
    "    name = 'A'\n",
    "    \n",
    "    def get_A(self):\n",
    "        return self.get()\n",
    "    \n",
    "    @classmethod\n",
    "    def get(cls, **kwargs):\n",
    "        return cls(**kwargs)\n",
    "    \n",
    "class B(A):\n",
    "    name = 'B'\n",
    "    \n",
    "    def get_B(self):\n",
    "        return self.get(n=10)\n",
    "    \n",
    "    def __init__(self, n, **kwargs):\n",
    "        super().__init__(**kwargs)\n",
    "        self.n = n\n",
    "    \n",
    "a = A()\n",
    "print(a.name)"
   ]
  },
  {
   "cell_type": "code",
   "execution_count": null,
   "metadata": {},
   "outputs": [],
   "source": [
    "b = B(1)\n",
    "print(b.name, b.n)"
   ]
  },
  {
   "cell_type": "code",
   "execution_count": null,
   "metadata": {},
   "outputs": [],
   "source": [
    "a2 = a.get()\n",
    "print(a2.name)"
   ]
  },
  {
   "cell_type": "code",
   "execution_count": null,
   "metadata": {},
   "outputs": [],
   "source": [
    "b2 = b.get(n=2)\n",
    "print(b2.name)"
   ]
  },
  {
   "cell_type": "code",
   "execution_count": null,
   "metadata": {},
   "outputs": [],
   "source": [
    "a3 = a.get_A()\n",
    "print(a3.name)"
   ]
  },
  {
   "cell_type": "code",
   "execution_count": null,
   "metadata": {},
   "outputs": [],
   "source": [
    "class A(object):\n",
    "    \n",
    "    def __init__(self, n=0, **kwargs):\n",
    "        self.n = n\n",
    "        \n",
    "    def __repr__(self):\n",
    "        return \"%d\" % self.n\n",
    "    \n",
    "    def create(self, **kwargs):\n",
    "        return self.__class__(**kwargs)\n",
    "    \n",
    "    @classmethod\n",
    "    def create_class(cls, **kwargs):\n",
    "        return cls(**kwargs)\n",
    "    \n",
    "class B(A):\n",
    "    \n",
    "    def __init__(self, m=1, **kwargs):\n",
    "        super().__init__(**kwargs)\n",
    "        self.m = m\n",
    "        \n",
    "    def __repr__(self):\n",
    "        return \"%d, %d\" % (self.n, self.m)\n",
    "        \n",
    "a = A(1, fake=3)\n",
    "print(a)\n",
    "\n",
    "b = B(m=3, n=4)\n",
    "print(b)"
   ]
  },
  {
   "cell_type": "code",
   "execution_count": null,
   "metadata": {},
   "outputs": [],
   "source": [
    "a2 = a.create(n=10, fake=8)\n",
    "print(a2)"
   ]
  },
  {
   "cell_type": "code",
   "execution_count": null,
   "metadata": {},
   "outputs": [],
   "source": [
    "b2 = b.create(n=20, m=30, fake=40)\n",
    "print(b2)"
   ]
  },
  {
   "cell_type": "code",
   "execution_count": null,
   "metadata": {},
   "outputs": [],
   "source": [
    "a3 = A.create_class(n=10, m=20, fake=40)\n",
    "print(a3)"
   ]
  },
  {
   "cell_type": "code",
   "execution_count": null,
   "metadata": {},
   "outputs": [],
   "source": [
    "b3 = B.create_class()\n",
    "print(b3)"
   ]
  },
  {
   "cell_type": "code",
   "execution_count": null,
   "metadata": {},
   "outputs": [],
   "source": [
    "a = [1,3,5,7]\n",
    "import random\n",
    "\n",
    "\n",
    "def cross_kernel(self, other_kernel):\n",
    "    min_k = min(self, other_kernel)\n",
    "    max_k = max(self, other_kernel)\n",
    "    k = random.choice([k for k in a if (k>=min_k and k<=max_k)])\n",
    "    return k"
   ]
  },
  {
   "cell_type": "code",
   "execution_count": null,
   "metadata": {},
   "outputs": [],
   "source": [
    "a1 = 1\n",
    "b = 7\n",
    "for _ in range(100):\n",
    "    assert cross_kernel(a1,b) in [1,3,5,7]"
   ]
  },
  {
   "cell_type": "code",
   "execution_count": 11,
   "metadata": {},
   "outputs": [
    {
     "name": "stdout",
     "output_type": "stream",
     "text": [
      "[1. 1. 1. 0. 0. 0. 0. 1. 1. 0.]\n",
      "(50000, 10)\n"
     ]
    }
   ],
   "source": [
    "import tensorflow as tf\n",
    "import numpy as np\n",
    "from random import randint, seed\n",
    "\n",
    "n_train_samples = 50000 # number of train samples\n",
    "n_test_samples = 10000 # number of test samples\n",
    "\n",
    "groups = np.append(np.zeros(8),np.ones(8)) # 16 groups\n",
    "np.random.seed(1234)\n",
    "np.random.shuffle(groups)\n",
    "\n",
    "# generate samples\n",
    "seed(1234)\n",
    "def generate_samples(n_samples):\n",
    "    x_data = np.zeros((n_samples, 10)) # inputs\n",
    "    x_int = np.zeros(n_samples) # integers representing the inputs\n",
    "    y_data = np.zeros((n_samples, 2)) # outputs\n",
    "    \n",
    "    for i in range(n_samples):\n",
    "        random_int = randint(0, 1023)\n",
    "        x_data[i,:] = [int(b) for b in list(\"{0:b}\".format(random_int).zfill(10))]\n",
    "        x_int[i] = random_int\n",
    "        y_data[i,0] = groups[random_int % 16]\n",
    "        y_data[i,1] = 1 - y_data[i,0]\n",
    "        \n",
    "    return x_data, y_data, x_int\n",
    "\n",
    "x_train, y_train, x_train_int = generate_samples(n_train_samples) # training dataset\n",
    "x_test, y_test, _ = generate_samples(n_test_samples) # testing dataset\n",
    "\n",
    "print(x_train[0])\n",
    "print(x_train.shape)"
   ]
  },
  {
   "cell_type": "code",
   "execution_count": 87,
   "metadata": {},
   "outputs": [],
   "source": [
    "import tensorflow as tf\n",
    "\n",
    "def fully_conn(tensor, n_outputs, name):\n",
    "    tf.set_random_seed(time())\n",
    "    size = tensor.get_shape().as_list()[1]\n",
    "    \n",
    "    # weight and bias tensor\n",
    "    weight = tf.Variable(tf.truncated_normal([size, n_outputs]))\n",
    "    bias = tf.Variable(tf.zeros([n_outputs]))\n",
    "    \n",
    "    # fully-connected layer\n",
    "    tensor = tf.matmul(tensor, weight)\n",
    "    tensor = tf.nn.bias_add(tensor, bias)\n",
    "    \n",
    "    # hyperbolic tangent activation\n",
    "    tensor = tf.tanh(tensor, name=name)\n",
    "    \n",
    "    return tensor\n",
    "\n",
    "def output(tensor, n_outputs):\n",
    "    size = tensor.get_shape().as_list()[1]\n",
    "    \n",
    "    # weight and bias tensor\n",
    "    weight = tf.Variable(tf.truncated_normal([size, n_outputs]))\n",
    "    bias = tf.Variable(tf.zeros([n_outputs]))\n",
    "    \n",
    "    # fully-connected layer\n",
    "    tensor = tf.matmul(tensor, weight)\n",
    "    tensor = tf.nn.bias_add(tensor, bias)\n",
    "    \n",
    "    return tensor"
   ]
  },
  {
   "cell_type": "code",
   "execution_count": 88,
   "metadata": {},
   "outputs": [],
   "source": [
    "def mlp(x, n_neurons, id_): # x is the input layer    \n",
    "    # hidden layers\n",
    "    hidden = x\n",
    "    for n in range(len(n_neurons)):\n",
    "        hidden = fully_conn(hidden, n_neurons[n], 'hidden%s_%d'% (n+1, id_))\n",
    "    \n",
    "    # output layer\n",
    "    y = output(hidden, 2)\n",
    "    \n",
    "    return y"
   ]
  },
  {
   "cell_type": "code",
   "execution_count": 89,
   "metadata": {},
   "outputs": [],
   "source": [
    "def build_network(hidden_layer_neurons, id_=0):\n",
    "    global x, y, logits, cost, optimizer, accuracy\n",
    "    \n",
    "    tf.reset_default_graph()\n",
    "    x = tf.placeholder(tf.float32, (None, 10), name='x')\n",
    "    y = tf.placeholder(tf.float32, (None, 2), name='y')\n",
    "\n",
    "    tf.set_random_seed(123456)\n",
    "    logits = mlp(x, hidden_layer_neurons, id_)\n",
    "    logits = tf.identity(logits, name='logits_'+str(id_))\n",
    "\n",
    "    # cross-entropy coss function\n",
    "    cost = tf.reduce_mean(tf.nn.sigmoid_cross_entropy_with_logits(logits=logits, labels=y), name='cost_'+str(id_))\n",
    "    \n",
    "    # optimizer\n",
    "    optimizer = tf.train.GradientDescentOptimizer(0.1).minimize(cost)\n",
    "    \n",
    "    # accuracy\n",
    "    correct_predictions = tf.equal(tf.argmax(logits, 1), tf.argmax(y, 1))\n",
    "    accuracy = tf.reduce_mean(tf.cast(correct_predictions, tf.float32), name='accuracy_'+str(id_))\n",
    "    \n",
    "def print_out_summary(sess, epoch):\n",
    "    acc, loss = sess.run([accuracy, cost], feed_dict={x: x_test, y: y_test})\n",
    "    print('Epoch {:>4}:  Testing accuracy {:>.4f} - Testing loss {:>.4f}'.format(epoch, acc, loss))\n",
    "    \n",
    "def build_ensamble(hidden_layer_neurons, ids_=[]):\n",
    "    global x, y, logits, cost, optimizer, accuracy\n",
    "    \n",
    "    tf.reset_default_graph()\n",
    "    x = tf.placeholder(tf.float32, (None, 10), name='x')\n",
    "    y = tf.placeholder(tf.float32, (None, 2), name='y')\n",
    "\n",
    "    tf.set_random_seed(123456)\n",
    "    logits_ensamble = []\n",
    "    for id_ in ids_:\n",
    "        logits = mlp(x, hidden_layer_neurons, id_)\n",
    "        logits = tf.identity(logits, name='logits_'+str(id_))\n",
    "        logits_ensamble.append(logits)\n",
    "    final_logits = tf.stack(logits_ensamble, axis=0)\n",
    "    final_logits = tf.reduce_mean(final_logits, axis=0)\n",
    "    # cross-entropy coss function\n",
    "    cost = tf.reduce_mean(tf.nn.sigmoid_cross_entropy_with_logits(logits=final_logits, labels=y), name='cost_'+str(id_))\n",
    "    \n",
    "    # optimizer\n",
    "    optimizer = tf.train.GradientDescentOptimizer(0.1).minimize(cost)\n",
    "    \n",
    "    # accuracy\n",
    "    correct_predictions = tf.equal(tf.argmax(logits, 1), tf.argmax(y, 1))\n",
    "    accuracy = tf.reduce_mean(tf.cast(correct_predictions, tf.float32), name='accuracy_'+str(id_))"
   ]
  },
  {
   "cell_type": "code",
   "execution_count": 116,
   "metadata": {},
   "outputs": [
    {
     "name": "stdout",
     "output_type": "stream",
     "text": [
      "Epoch    0:  Testing accuracy 0.5381 - Testing loss 0.7088\n",
      "Epoch  100:  Testing accuracy 0.5797 - Testing loss 0.6781\n",
      "Epoch  200:  Testing accuracy 0.6056 - Testing loss 0.6652\n",
      "Test acc: 0.6458\n",
      "Model saved in path: ./tmp_0/model.ckpt\n",
      "Epoch    0:  Testing accuracy 0.4877 - Testing loss 0.7665\n",
      "Epoch  100:  Testing accuracy 0.5544 - Testing loss 0.6845\n",
      "Epoch  200:  Testing accuracy 0.6173 - Testing loss 0.6669\n",
      "Test acc: 0.6820\n",
      "Model saved in path: ./tmp_1/model.ckpt\n",
      "Epoch    0:  Testing accuracy 0.5133 - Testing loss 0.9135\n",
      "Epoch  100:  Testing accuracy 0.5625 - Testing loss 0.6944\n",
      "Epoch  200:  Testing accuracy 0.5757 - Testing loss 0.6837\n",
      "Test acc: 0.5968\n",
      "Model saved in path: ./tmp_2/model.ckpt\n"
     ]
    }
   ],
   "source": [
    "n_epochs = 300\n",
    "for i in range(3):\n",
    "    build_network([12,10,7,5,4,3], i) # 3 hidden layers with 8, 6 and 4 neurons respectively\n",
    "\n",
    "    # Add ops to save and restore all the variables.\n",
    "    saver = tf.train.Saver()\n",
    "\n",
    "    with tf.name_scope(\"my_scope\"):\n",
    "        with tf.Session() as sess:\n",
    "            sess.run(tf.global_variables_initializer()) # initialization\n",
    "\n",
    "            for epoch in range(n_epochs):\n",
    "                sess.run(optimizer, feed_dict={x: x_train, y: y_train})\n",
    "                if epoch % 100 == 0: print_out_summary(sess, epoch)\n",
    "\n",
    "            acc = sess.run(accuracy, feed_dict={x: x_test, y: y_test})\n",
    "            print(\"Test acc: %0.4f\" % acc)\n",
    "            # Save the variables to disk.\n",
    "            save_path = saver.save(sess, \"./tmp_%d/model.ckpt\" %i)\n",
    "            print(\"Model saved in path: %s\" % save_path)"
   ]
  },
  {
   "cell_type": "code",
   "execution_count": 115,
   "metadata": {},
   "outputs": [
    {
     "name": "stdout",
     "output_type": "stream",
     "text": [
      "INFO:tensorflow:Restoring parameters from ./tmp_0/model.ckpt\n",
      "Model restored.\n",
      "Test acc 0: 0.6633\n",
      "INFO:tensorflow:Restoring parameters from ./tmp_1/model.ckpt\n",
      "Model restored.\n",
      "Test acc 1: 0.6010\n",
      "INFO:tensorflow:Restoring parameters from ./tmp_2/model.ckpt\n",
      "Model restored.\n",
      "Test acc 2: 0.6745\n",
      "0.693\n"
     ]
    }
   ],
   "source": [
    "tf.reset_default_graph()\n",
    "\n",
    "build_network([12,10,7,5,4,3], i) # 3 hidden layers with 8, 6 and 4 neurons respectively\n",
    "\n",
    "\n",
    "\n",
    "# Add ops to save and restore all the variables.\n",
    "saver = tf.train.Saver()\n",
    "\n",
    "# Later, launch the model, use the saver to restore variables from disk, and\n",
    "# do some work with the model.\n",
    "with tf.Session() as sess:\n",
    "    # Restore variables from disk.\n",
    "    logits_ensamble = []\n",
    "    for i in range(3):\n",
    "        saver.restore(sess, \"./tmp_%d/model.ckpt\" % i)\n",
    "        print(\"Model restored.\")\n",
    "        # Check the values of the variables\n",
    "        logits_, acc = sess.run([logits, accuracy], feed_dict={x: x_test, y: y_test})\n",
    "        logits_ensamble.append(logits_)\n",
    "        print(\"Test acc %d: %0.4f\" % (i, acc))\n",
    "            \n",
    "    logits_ensamble = np.stack(logits_ensamble, axis=0)\n",
    "    logits_ensamble = np.mean(logits_ensamble, axis=0)\n",
    "\n",
    "    correct_predictions = np.argmax(logits_ensamble, 1) == np.argmax(y_test, 1)\n",
    "    accuracy =np.mean(correct_predictions.astype(np.float32))\n",
    "    print(accuracy)"
   ]
  },
  {
   "cell_type": "code",
   "execution_count": 101,
   "metadata": {},
   "outputs": [
    {
     "data": {
      "text/plain": [
       "(50000, 2)"
      ]
     },
     "execution_count": 101,
     "metadata": {},
     "output_type": "execute_result"
    }
   ],
   "source": [
    "logits_ensamble.shape\n"
   ]
  },
  {
   "cell_type": "code",
   "execution_count": 69,
   "metadata": {},
   "outputs": [
    {
     "name": "stdout",
     "output_type": "stream",
     "text": [
      "Epoch    0:  Testing accuracy 0.4774 - Testing loss 0.7361\n",
      "Epoch  100:  Testing accuracy 0.5638 - Testing loss 0.6604\n",
      "Epoch  200:  Testing accuracy 0.6138 - Testing loss 0.6220\n",
      "Model saved in path: ./tmp_0/model.ckpt\n"
     ]
    }
   ],
   "source": [
    "tf.reset_default_graph()\n",
    "\n",
    "n_epochs = 300\n",
    "build_ensamble([12,10,7,5,4,3], [0,1,2]) # 3 hidden layers with 8, 6 and 4 neurons respectively\n",
    "\n",
    "# Add ops to save and restore all the variables.\n",
    "saver = tf.train.Saver()\n",
    "\n",
    "\n",
    "with tf.Session() as sess:\n",
    "    sess.run(tf.global_variables_initializer()) # initialization\n",
    "\n",
    "    for epoch in range(n_epochs):\n",
    "        sess.run(optimizer, feed_dict={x: x_train, y: y_train})\n",
    "        if epoch % 100 == 0: print_out_summary(sess, epoch)\n",
    "\n",
    "    # Save the variables to disk.\n",
    "    save_path = saver.save(sess, \"./tmp_%d/model.ckpt\" %i)\n",
    "    print(\"Model saved in path: %s\" % save_path)"
   ]
  },
  {
   "cell_type": "code",
   "execution_count": 65,
   "metadata": {},
   "outputs": [],
   "source": [
    "tf.stack?"
   ]
  },
  {
   "cell_type": "code",
   "execution_count": null,
   "metadata": {},
   "outputs": [],
   "source": []
  }
 ],
 "metadata": {
  "kernelspec": {
   "display_name": "Python 3",
   "language": "python",
   "name": "python3"
  },
  "language_info": {
   "codemirror_mode": {
    "name": "ipython",
    "version": 3
   },
   "file_extension": ".py",
   "mimetype": "text/x-python",
   "name": "python",
   "nbconvert_exporter": "python",
   "pygments_lexer": "ipython3",
   "version": "3.6.9"
  }
 },
 "nbformat": 4,
 "nbformat_minor": 2
}
